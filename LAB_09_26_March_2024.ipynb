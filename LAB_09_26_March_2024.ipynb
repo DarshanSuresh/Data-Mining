{
  "cells": [
    {
      "cell_type": "markdown",
      "metadata": {
        "id": "view-in-github",
        "colab_type": "text"
      },
      "source": [
        "<a href=\"https://colab.research.google.com/github/DarshanSuresh/Data-Mining/blob/main/LAB_09_26_March_2024.ipynb\" target=\"_parent\"><img src=\"https://colab.research.google.com/assets/colab-badge.svg\" alt=\"Open In Colab\"/></a>"
      ]
    },
    {
      "cell_type": "markdown",
      "id": "PjNWgPmeKc-t",
      "metadata": {
        "id": "PjNWgPmeKc-t"
      },
      "source": [
        "# LAB 09 - 26 March 2024"
      ]
    },
    {
      "cell_type": "markdown",
      "id": "YL97gKdZKo0j",
      "metadata": {
        "id": "YL97gKdZKo0j"
      },
      "source": [
        "## Linear Regression"
      ]
    },
    {
      "cell_type": "code",
      "execution_count": null,
      "id": "KHzsWSZOKqPJ",
      "metadata": {
        "id": "KHzsWSZOKqPJ"
      },
      "outputs": [],
      "source": [
        "import math\n",
        "import pandas as pd\n",
        "import numpy as np\n",
        "from sklearn.model_selection import train_test_split"
      ]
    },
    {
      "cell_type": "code",
      "execution_count": null,
      "id": "sKGLxJ_bK0Ju",
      "metadata": {
        "colab": {
          "base_uri": "https://localhost:8080/",
          "height": 206
        },
        "id": "sKGLxJ_bK0Ju",
        "outputId": "3907328d-314b-4eb3-887f-e7fbeb65ae0d"
      },
      "outputs": [
        {
          "data": {
            "application/vnd.google.colaboratory.intrinsic+json": {
              "summary": "{\n  \"name\": \"df\",\n  \"rows\": 150,\n  \"fields\": [\n    {\n      \"column\": \"sepal_length\",\n      \"properties\": {\n        \"dtype\": \"number\",\n        \"std\": 0.828066127977863,\n        \"min\": 4.3,\n        \"max\": 7.9,\n        \"num_unique_values\": 35,\n        \"samples\": [\n          6.2,\n          4.5,\n          5.6\n        ],\n        \"semantic_type\": \"\",\n        \"description\": \"\"\n      }\n    },\n    {\n      \"column\": \"sepal_width\",\n      \"properties\": {\n        \"dtype\": \"number\",\n        \"std\": 0.4335943113621737,\n        \"min\": 2.0,\n        \"max\": 4.4,\n        \"num_unique_values\": 23,\n        \"samples\": [\n          2.3,\n          4.0,\n          3.5\n        ],\n        \"semantic_type\": \"\",\n        \"description\": \"\"\n      }\n    },\n    {\n      \"column\": \"petal_length\",\n      \"properties\": {\n        \"dtype\": \"number\",\n        \"std\": 1.7644204199522626,\n        \"min\": 1.0,\n        \"max\": 6.9,\n        \"num_unique_values\": 43,\n        \"samples\": [\n          6.7,\n          3.8,\n          3.7\n        ],\n        \"semantic_type\": \"\",\n        \"description\": \"\"\n      }\n    },\n    {\n      \"column\": \"petal_width\",\n      \"properties\": {\n        \"dtype\": \"number\",\n        \"std\": 0.7631607417008411,\n        \"min\": 0.1,\n        \"max\": 2.5,\n        \"num_unique_values\": 22,\n        \"samples\": [\n          0.2,\n          1.2,\n          1.3\n        ],\n        \"semantic_type\": \"\",\n        \"description\": \"\"\n      }\n    },\n    {\n      \"column\": \"species\",\n      \"properties\": {\n        \"dtype\": \"category\",\n        \"num_unique_values\": 3,\n        \"samples\": [\n          \"setosa\",\n          \"versicolor\",\n          \"virginica\"\n        ],\n        \"semantic_type\": \"\",\n        \"description\": \"\"\n      }\n    }\n  ]\n}",
              "type": "dataframe",
              "variable_name": "df"
            },
            "text/html": [
              "\n",
              "  <div id=\"df-8bba5551-9a36-4474-bc8b-efe709e86491\" class=\"colab-df-container\">\n",
              "    <div>\n",
              "<style scoped>\n",
              "    .dataframe tbody tr th:only-of-type {\n",
              "        vertical-align: middle;\n",
              "    }\n",
              "\n",
              "    .dataframe tbody tr th {\n",
              "        vertical-align: top;\n",
              "    }\n",
              "\n",
              "    .dataframe thead th {\n",
              "        text-align: right;\n",
              "    }\n",
              "</style>\n",
              "<table border=\"1\" class=\"dataframe\">\n",
              "  <thead>\n",
              "    <tr style=\"text-align: right;\">\n",
              "      <th></th>\n",
              "      <th>sepal_length</th>\n",
              "      <th>sepal_width</th>\n",
              "      <th>petal_length</th>\n",
              "      <th>petal_width</th>\n",
              "      <th>species</th>\n",
              "    </tr>\n",
              "  </thead>\n",
              "  <tbody>\n",
              "    <tr>\n",
              "      <th>0</th>\n",
              "      <td>5.1</td>\n",
              "      <td>3.5</td>\n",
              "      <td>1.4</td>\n",
              "      <td>0.2</td>\n",
              "      <td>setosa</td>\n",
              "    </tr>\n",
              "    <tr>\n",
              "      <th>1</th>\n",
              "      <td>4.9</td>\n",
              "      <td>3.0</td>\n",
              "      <td>1.4</td>\n",
              "      <td>0.2</td>\n",
              "      <td>setosa</td>\n",
              "    </tr>\n",
              "    <tr>\n",
              "      <th>2</th>\n",
              "      <td>4.7</td>\n",
              "      <td>3.2</td>\n",
              "      <td>1.3</td>\n",
              "      <td>0.2</td>\n",
              "      <td>setosa</td>\n",
              "    </tr>\n",
              "    <tr>\n",
              "      <th>3</th>\n",
              "      <td>4.6</td>\n",
              "      <td>3.1</td>\n",
              "      <td>1.5</td>\n",
              "      <td>0.2</td>\n",
              "      <td>setosa</td>\n",
              "    </tr>\n",
              "    <tr>\n",
              "      <th>4</th>\n",
              "      <td>5.0</td>\n",
              "      <td>3.6</td>\n",
              "      <td>1.4</td>\n",
              "      <td>0.2</td>\n",
              "      <td>setosa</td>\n",
              "    </tr>\n",
              "  </tbody>\n",
              "</table>\n",
              "</div>\n",
              "    <div class=\"colab-df-buttons\">\n",
              "\n",
              "  <div class=\"colab-df-container\">\n",
              "    <button class=\"colab-df-convert\" onclick=\"convertToInteractive('df-8bba5551-9a36-4474-bc8b-efe709e86491')\"\n",
              "            title=\"Convert this dataframe to an interactive table.\"\n",
              "            style=\"display:none;\">\n",
              "\n",
              "  <svg xmlns=\"http://www.w3.org/2000/svg\" height=\"24px\" viewBox=\"0 -960 960 960\">\n",
              "    <path d=\"M120-120v-720h720v720H120Zm60-500h600v-160H180v160Zm220 220h160v-160H400v160Zm0 220h160v-160H400v160ZM180-400h160v-160H180v160Zm440 0h160v-160H620v160ZM180-180h160v-160H180v160Zm440 0h160v-160H620v160Z\"/>\n",
              "  </svg>\n",
              "    </button>\n",
              "\n",
              "  <style>\n",
              "    .colab-df-container {\n",
              "      display:flex;\n",
              "      gap: 12px;\n",
              "    }\n",
              "\n",
              "    .colab-df-convert {\n",
              "      background-color: #E8F0FE;\n",
              "      border: none;\n",
              "      border-radius: 50%;\n",
              "      cursor: pointer;\n",
              "      display: none;\n",
              "      fill: #1967D2;\n",
              "      height: 32px;\n",
              "      padding: 0 0 0 0;\n",
              "      width: 32px;\n",
              "    }\n",
              "\n",
              "    .colab-df-convert:hover {\n",
              "      background-color: #E2EBFA;\n",
              "      box-shadow: 0px 1px 2px rgba(60, 64, 67, 0.3), 0px 1px 3px 1px rgba(60, 64, 67, 0.15);\n",
              "      fill: #174EA6;\n",
              "    }\n",
              "\n",
              "    .colab-df-buttons div {\n",
              "      margin-bottom: 4px;\n",
              "    }\n",
              "\n",
              "    [theme=dark] .colab-df-convert {\n",
              "      background-color: #3B4455;\n",
              "      fill: #D2E3FC;\n",
              "    }\n",
              "\n",
              "    [theme=dark] .colab-df-convert:hover {\n",
              "      background-color: #434B5C;\n",
              "      box-shadow: 0px 1px 3px 1px rgba(0, 0, 0, 0.15);\n",
              "      filter: drop-shadow(0px 1px 2px rgba(0, 0, 0, 0.3));\n",
              "      fill: #FFFFFF;\n",
              "    }\n",
              "  </style>\n",
              "\n",
              "    <script>\n",
              "      const buttonEl =\n",
              "        document.querySelector('#df-8bba5551-9a36-4474-bc8b-efe709e86491 button.colab-df-convert');\n",
              "      buttonEl.style.display =\n",
              "        google.colab.kernel.accessAllowed ? 'block' : 'none';\n",
              "\n",
              "      async function convertToInteractive(key) {\n",
              "        const element = document.querySelector('#df-8bba5551-9a36-4474-bc8b-efe709e86491');\n",
              "        const dataTable =\n",
              "          await google.colab.kernel.invokeFunction('convertToInteractive',\n",
              "                                                    [key], {});\n",
              "        if (!dataTable) return;\n",
              "\n",
              "        const docLinkHtml = 'Like what you see? Visit the ' +\n",
              "          '<a target=\"_blank\" href=https://colab.research.google.com/notebooks/data_table.ipynb>data table notebook</a>'\n",
              "          + ' to learn more about interactive tables.';\n",
              "        element.innerHTML = '';\n",
              "        dataTable['output_type'] = 'display_data';\n",
              "        await google.colab.output.renderOutput(dataTable, element);\n",
              "        const docLink = document.createElement('div');\n",
              "        docLink.innerHTML = docLinkHtml;\n",
              "        element.appendChild(docLink);\n",
              "      }\n",
              "    </script>\n",
              "  </div>\n",
              "\n",
              "\n",
              "<div id=\"df-708d5a57-f1ff-451c-855b-c3572ff39805\">\n",
              "  <button class=\"colab-df-quickchart\" onclick=\"quickchart('df-708d5a57-f1ff-451c-855b-c3572ff39805')\"\n",
              "            title=\"Suggest charts\"\n",
              "            style=\"display:none;\">\n",
              "\n",
              "<svg xmlns=\"http://www.w3.org/2000/svg\" height=\"24px\"viewBox=\"0 0 24 24\"\n",
              "     width=\"24px\">\n",
              "    <g>\n",
              "        <path d=\"M19 3H5c-1.1 0-2 .9-2 2v14c0 1.1.9 2 2 2h14c1.1 0 2-.9 2-2V5c0-1.1-.9-2-2-2zM9 17H7v-7h2v7zm4 0h-2V7h2v10zm4 0h-2v-4h2v4z\"/>\n",
              "    </g>\n",
              "</svg>\n",
              "  </button>\n",
              "\n",
              "<style>\n",
              "  .colab-df-quickchart {\n",
              "      --bg-color: #E8F0FE;\n",
              "      --fill-color: #1967D2;\n",
              "      --hover-bg-color: #E2EBFA;\n",
              "      --hover-fill-color: #174EA6;\n",
              "      --disabled-fill-color: #AAA;\n",
              "      --disabled-bg-color: #DDD;\n",
              "  }\n",
              "\n",
              "  [theme=dark] .colab-df-quickchart {\n",
              "      --bg-color: #3B4455;\n",
              "      --fill-color: #D2E3FC;\n",
              "      --hover-bg-color: #434B5C;\n",
              "      --hover-fill-color: #FFFFFF;\n",
              "      --disabled-bg-color: #3B4455;\n",
              "      --disabled-fill-color: #666;\n",
              "  }\n",
              "\n",
              "  .colab-df-quickchart {\n",
              "    background-color: var(--bg-color);\n",
              "    border: none;\n",
              "    border-radius: 50%;\n",
              "    cursor: pointer;\n",
              "    display: none;\n",
              "    fill: var(--fill-color);\n",
              "    height: 32px;\n",
              "    padding: 0;\n",
              "    width: 32px;\n",
              "  }\n",
              "\n",
              "  .colab-df-quickchart:hover {\n",
              "    background-color: var(--hover-bg-color);\n",
              "    box-shadow: 0 1px 2px rgba(60, 64, 67, 0.3), 0 1px 3px 1px rgba(60, 64, 67, 0.15);\n",
              "    fill: var(--button-hover-fill-color);\n",
              "  }\n",
              "\n",
              "  .colab-df-quickchart-complete:disabled,\n",
              "  .colab-df-quickchart-complete:disabled:hover {\n",
              "    background-color: var(--disabled-bg-color);\n",
              "    fill: var(--disabled-fill-color);\n",
              "    box-shadow: none;\n",
              "  }\n",
              "\n",
              "  .colab-df-spinner {\n",
              "    border: 2px solid var(--fill-color);\n",
              "    border-color: transparent;\n",
              "    border-bottom-color: var(--fill-color);\n",
              "    animation:\n",
              "      spin 1s steps(1) infinite;\n",
              "  }\n",
              "\n",
              "  @keyframes spin {\n",
              "    0% {\n",
              "      border-color: transparent;\n",
              "      border-bottom-color: var(--fill-color);\n",
              "      border-left-color: var(--fill-color);\n",
              "    }\n",
              "    20% {\n",
              "      border-color: transparent;\n",
              "      border-left-color: var(--fill-color);\n",
              "      border-top-color: var(--fill-color);\n",
              "    }\n",
              "    30% {\n",
              "      border-color: transparent;\n",
              "      border-left-color: var(--fill-color);\n",
              "      border-top-color: var(--fill-color);\n",
              "      border-right-color: var(--fill-color);\n",
              "    }\n",
              "    40% {\n",
              "      border-color: transparent;\n",
              "      border-right-color: var(--fill-color);\n",
              "      border-top-color: var(--fill-color);\n",
              "    }\n",
              "    60% {\n",
              "      border-color: transparent;\n",
              "      border-right-color: var(--fill-color);\n",
              "    }\n",
              "    80% {\n",
              "      border-color: transparent;\n",
              "      border-right-color: var(--fill-color);\n",
              "      border-bottom-color: var(--fill-color);\n",
              "    }\n",
              "    90% {\n",
              "      border-color: transparent;\n",
              "      border-bottom-color: var(--fill-color);\n",
              "    }\n",
              "  }\n",
              "</style>\n",
              "\n",
              "  <script>\n",
              "    async function quickchart(key) {\n",
              "      const quickchartButtonEl =\n",
              "        document.querySelector('#' + key + ' button');\n",
              "      quickchartButtonEl.disabled = true;  // To prevent multiple clicks.\n",
              "      quickchartButtonEl.classList.add('colab-df-spinner');\n",
              "      try {\n",
              "        const charts = await google.colab.kernel.invokeFunction(\n",
              "            'suggestCharts', [key], {});\n",
              "      } catch (error) {\n",
              "        console.error('Error during call to suggestCharts:', error);\n",
              "      }\n",
              "      quickchartButtonEl.classList.remove('colab-df-spinner');\n",
              "      quickchartButtonEl.classList.add('colab-df-quickchart-complete');\n",
              "    }\n",
              "    (() => {\n",
              "      let quickchartButtonEl =\n",
              "        document.querySelector('#df-708d5a57-f1ff-451c-855b-c3572ff39805 button');\n",
              "      quickchartButtonEl.style.display =\n",
              "        google.colab.kernel.accessAllowed ? 'block' : 'none';\n",
              "    })();\n",
              "  </script>\n",
              "</div>\n",
              "\n",
              "    </div>\n",
              "  </div>\n"
            ],
            "text/plain": [
              "   sepal_length  sepal_width  petal_length  petal_width species\n",
              "0           5.1          3.5           1.4          0.2  setosa\n",
              "1           4.9          3.0           1.4          0.2  setosa\n",
              "2           4.7          3.2           1.3          0.2  setosa\n",
              "3           4.6          3.1           1.5          0.2  setosa\n",
              "4           5.0          3.6           1.4          0.2  setosa"
            ]
          },
          "execution_count": 26,
          "metadata": {},
          "output_type": "execute_result"
        }
      ],
      "source": [
        "df = pd.read_excel('iris.xlsx')\n",
        "df.head()"
      ]
    },
    {
      "cell_type": "code",
      "execution_count": null,
      "id": "YCXZNgboLQOb",
      "metadata": {
        "colab": {
          "base_uri": "https://localhost:8080/"
        },
        "id": "YCXZNgboLQOb",
        "outputId": "3f872fba-5b0b-4585-d120-cbaa1f1f86c1"
      },
      "outputs": [
        {
          "name": "stdout",
          "output_type": "stream",
          "text": [
            "<class 'pandas.core.frame.DataFrame'>\n",
            "RangeIndex: 150 entries, 0 to 149\n",
            "Data columns (total 5 columns):\n",
            " #   Column        Non-Null Count  Dtype  \n",
            "---  ------        --------------  -----  \n",
            " 0   sepal_length  150 non-null    float64\n",
            " 1   sepal_width   150 non-null    float64\n",
            " 2   petal_length  150 non-null    float64\n",
            " 3   petal_width   150 non-null    float64\n",
            " 4   species       150 non-null    object \n",
            "dtypes: float64(4), object(1)\n",
            "memory usage: 6.0+ KB\n"
          ]
        }
      ],
      "source": [
        "df.info()"
      ]
    },
    {
      "cell_type": "code",
      "execution_count": null,
      "id": "OTgc-fGGLDOj",
      "metadata": {
        "colab": {
          "base_uri": "https://localhost:8080/"
        },
        "id": "OTgc-fGGLDOj",
        "outputId": "05dcf4e3-f765-438e-ed8a-13fefb014763"
      },
      "outputs": [
        {
          "data": {
            "text/plain": [
              "0      5.1\n",
              "1      4.9\n",
              "2      4.7\n",
              "3      4.6\n",
              "4      5.0\n",
              "      ... \n",
              "145    6.7\n",
              "146    6.3\n",
              "147    6.5\n",
              "148    6.2\n",
              "149    5.9\n",
              "Name: sepal_length, Length: 150, dtype: float64"
            ]
          },
          "execution_count": 6,
          "metadata": {},
          "output_type": "execute_result"
        }
      ],
      "source": [
        "x = df.iloc[:,0]\n",
        "x"
      ]
    },
    {
      "cell_type": "code",
      "execution_count": null,
      "id": "IwvLt2r_LHVD",
      "metadata": {
        "colab": {
          "base_uri": "https://localhost:8080/"
        },
        "id": "IwvLt2r_LHVD",
        "outputId": "b572c3ee-d516-4c12-995e-cefe8a075bba"
      },
      "outputs": [
        {
          "data": {
            "text/plain": [
              "0      3.5\n",
              "1      3.0\n",
              "2      3.2\n",
              "3      3.1\n",
              "4      3.6\n",
              "      ... \n",
              "145    3.0\n",
              "146    2.5\n",
              "147    3.0\n",
              "148    3.4\n",
              "149    3.0\n",
              "Name: sepal_width, Length: 150, dtype: float64"
            ]
          },
          "execution_count": 7,
          "metadata": {},
          "output_type": "execute_result"
        }
      ],
      "source": [
        "y = df.iloc[:,1]\n",
        "y"
      ]
    },
    {
      "cell_type": "code",
      "execution_count": null,
      "id": "n5ivnxIILhAy",
      "metadata": {
        "colab": {
          "base_uri": "https://localhost:8080/",
          "height": 469
        },
        "id": "n5ivnxIILhAy",
        "outputId": "e36c9f76-f4f4-4aea-851f-5e34a8fa9669"
      },
      "outputs": [
        {
          "data": {
            "text/plain": [
              "Text(0, 0.5, 'sepalwidth')"
            ]
          },
          "execution_count": 9,
          "metadata": {},
          "output_type": "execute_result"
        },
        {
          "data": {
            "image/png": "[encoded data removed]",
            "text/plain": [
              "<Figure size 640x480 with 1 Axes>"
            ]
          },
          "metadata": {},
          "output_type": "display_data"
        }
      ],
      "source": [
        "import matplotlib.pyplot as plt\n",
        "plt.scatter(x,y)\n",
        "plt.xlabel('sepallength')\n",
        "plt.ylabel('sepalwidth')"
      ]
    },
    {
      "cell_type": "code",
      "execution_count": null,
      "id": "PiwtetLJLw1C",
      "metadata": {
        "id": "PiwtetLJLw1C"
      },
      "outputs": [],
      "source": [
        "from sklearn.model_selection import train_test_split\n",
        "x_train, x_test, y_train, y_test = train_test_split(x,y,test_size = 0.2,random_state = 1)"
      ]
    },
    {
      "cell_type": "code",
      "execution_count": null,
      "id": "y1TJ074MMglM",
      "metadata": {
        "colab": {
          "base_uri": "https://localhost:8080/"
        },
        "id": "y1TJ074MMglM",
        "outputId": "802b35da-7353-4ce9-9ba8-7a59562569fb"
      },
      "outputs": [
        {
          "data": {
            "text/plain": [
              "array([[6.1],\n",
              "       [7.7],\n",
              "       [5.6],\n",
              "       [6.4],\n",
              "       [5.8],\n",
              "       [5.3],\n",
              "       [5.5],\n",
              "       [5.2],\n",
              "       [6.5],\n",
              "       [6.7],\n",
              "       [6.8],\n",
              "       [5.1],\n",
              "       [6. ],\n",
              "       [6.3],\n",
              "       [6.6],\n",
              "       [7.7],\n",
              "       [5.7],\n",
              "       [5. ],\n",
              "       [4.8],\n",
              "       [5.2],\n",
              "       [5.1],\n",
              "       [5.5],\n",
              "       [7.7],\n",
              "       [6.9],\n",
              "       [7.3],\n",
              "       [6.4],\n",
              "       [6.2],\n",
              "       [6. ],\n",
              "       [7.7],\n",
              "       [5.7],\n",
              "       [4.8],\n",
              "       [5.7],\n",
              "       [6.3],\n",
              "       [4.8],\n",
              "       [4.7],\n",
              "       [6.5],\n",
              "       [4.6],\n",
              "       [6.1],\n",
              "       [6.5],\n",
              "       [6.7],\n",
              "       [5.7],\n",
              "       [6.7],\n",
              "       [6. ],\n",
              "       [5.1],\n",
              "       [6. ],\n",
              "       [6.4],\n",
              "       [6.5],\n",
              "       [5. ],\n",
              "       [6.3],\n",
              "       [5.5],\n",
              "       [5.4],\n",
              "       [4.9],\n",
              "       [5.2],\n",
              "       [6.7],\n",
              "       [4.4],\n",
              "       [6. ],\n",
              "       [6.4],\n",
              "       [5.9],\n",
              "       [5.2],\n",
              "       [5.1],\n",
              "       [5.8],\n",
              "       [4.9],\n",
              "       [7.4],\n",
              "       [6.2],\n",
              "       [7.6],\n",
              "       [6.7],\n",
              "       [6.3],\n",
              "       [6.2],\n",
              "       [7.2],\n",
              "       [5.6],\n",
              "       [5.7],\n",
              "       [5.8],\n",
              "       [4.5],\n",
              "       [5.5],\n",
              "       [6.9],\n",
              "       [5. ],\n",
              "       [6.8],\n",
              "       [5. ],\n",
              "       [4.8],\n",
              "       [6.3],\n",
              "       [5.6],\n",
              "       [6.8],\n",
              "       [5. ],\n",
              "       [5.1],\n",
              "       [5.9],\n",
              "       [4.6],\n",
              "       [5.8],\n",
              "       [4.8],\n",
              "       [6.5],\n",
              "       [4.9],\n",
              "       [4.6],\n",
              "       [6.4],\n",
              "       [4.3],\n",
              "       [5.6],\n",
              "       [4.4],\n",
              "       [5.5],\n",
              "       [5. ],\n",
              "       [5.1],\n",
              "       [4.9],\n",
              "       [4.9],\n",
              "       [4.6],\n",
              "       [5.9],\n",
              "       [6.1],\n",
              "       [5. ],\n",
              "       [6.7],\n",
              "       [5.7],\n",
              "       [6.2],\n",
              "       [7. ],\n",
              "       [5.8],\n",
              "       [5.4],\n",
              "       [5. ],\n",
              "       [6.1],\n",
              "       [6.1],\n",
              "       [7.2],\n",
              "       [5.7],\n",
              "       [6.3],\n",
              "       [6.4],\n",
              "       [6.3],\n",
              "       [6.7],\n",
              "       [4.9]])"
            ]
          },
          "execution_count": 12,
          "metadata": {},
          "output_type": "execute_result"
        }
      ],
      "source": [
        "x_train = np.array(x_train).reshape(-1,1)\n",
        "x_train"
      ]
    },
    {
      "cell_type": "code",
      "execution_count": null,
      "id": "Gj4isNrVMzTQ",
      "metadata": {
        "colab": {
          "base_uri": "https://localhost:8080/"
        },
        "id": "Gj4isNrVMzTQ",
        "outputId": "7d3dcec8-973d-4f60-a711-b794834d8e37"
      },
      "outputs": [
        {
          "data": {
            "text/plain": [
              "array([[5.8],\n",
              "       [5.1],\n",
              "       [6.6],\n",
              "       [5.4],\n",
              "       [7.9],\n",
              "       [6.3],\n",
              "       [6.9],\n",
              "       [5.1],\n",
              "       [4.7],\n",
              "       [6.9],\n",
              "       [5.6],\n",
              "       [5.4],\n",
              "       [7.1],\n",
              "       [6.4],\n",
              "       [6. ],\n",
              "       [4.4],\n",
              "       [5.8],\n",
              "       [5.6],\n",
              "       [5.4],\n",
              "       [5. ],\n",
              "       [5.5],\n",
              "       [5.4],\n",
              "       [6.7],\n",
              "       [5. ],\n",
              "       [7.2],\n",
              "       [5.7],\n",
              "       [5.5],\n",
              "       [5.1],\n",
              "       [6.1],\n",
              "       [6.3]])"
            ]
          },
          "execution_count": 13,
          "metadata": {},
          "output_type": "execute_result"
        }
      ],
      "source": [
        "x_test = np.array(x_test).reshape(-1,1)\n",
        "x_test"
      ]
    },
    {
      "cell_type": "code",
      "execution_count": null,
      "id": "jdY511GWNa3E",
      "metadata": {
        "id": "jdY511GWNa3E"
      },
      "outputs": [],
      "source": [
        "from sklearn.linear_model import LinearRegression"
      ]
    },
    {
      "cell_type": "code",
      "execution_count": null,
      "id": "fXgGFF37N04i",
      "metadata": {
        "colab": {
          "base_uri": "https://localhost:8080/"
        },
        "id": "fXgGFF37N04i",
        "outputId": "6751b14c-f443-4825-bc85-3c37ec66de5a"
      },
      "outputs": [
        {
          "data": {
            "text/plain": [
              "array([-0.05972832])"
            ]
          },
          "execution_count": 17,
          "metadata": {},
          "output_type": "execute_result"
        }
      ],
      "source": [
        "lr = LinearRegression()\n",
        "lr.fit(x_train,y_train)\n",
        "c=lr.intercept_\n",
        "m=lr.coef_\n",
        "m"
      ]
    },
    {
      "cell_type": "code",
      "execution_count": null,
      "id": "Lh_NcJfnSr9v",
      "metadata": {
        "colab": {
          "base_uri": "https://localhost:8080/"
        },
        "id": "Lh_NcJfnSr9v",
        "outputId": "bc6259f8-8c27-4daf-f985-e634ad76595a"
      },
      "outputs": [
        {
          "data": {
            "text/plain": [
              "3.363713843705442"
            ]
          },
          "execution_count": 27,
          "metadata": {},
          "output_type": "execute_result"
        }
      ],
      "source": [
        "c"
      ]
    },
    {
      "cell_type": "code",
      "execution_count": null,
      "id": "ZQ-c4XEYN_Ex",
      "metadata": {
        "colab": {
          "base_uri": "https://localhost:8080/"
        },
        "id": "ZQ-c4XEYN_Ex",
        "outputId": "aaa7a33e-09e2-4a84-bccc-b5e817d967ed"
      },
      "outputs": [
        {
          "data": {
            "text/plain": [
              "array([2.99937109, 2.90380578, 3.02923525, 2.98145259, 3.01728959,\n",
              "       3.04715375, 3.03520808, 3.05312658, 2.97547976, 2.9635341 ,\n",
              "       2.95756127, 3.05909941, 3.00534392, 2.98742543, 2.96950693,\n",
              "       2.90380578, 3.02326242, 3.06507224, 3.07701791, 3.05312658,\n",
              "       3.05909941, 3.03520808, 2.90380578, 2.95158843, 2.92769711,\n",
              "       2.98145259, 2.99339826, 3.00534392, 2.90380578, 3.02326242,\n",
              "       3.07701791, 3.02326242, 2.98742543, 3.07701791, 3.08299074,\n",
              "       2.97547976, 3.08896357, 2.99937109, 2.97547976, 2.9635341 ,\n",
              "       3.02326242, 2.9635341 , 3.00534392, 3.05909941, 3.00534392,\n",
              "       2.98145259, 2.97547976, 3.06507224, 2.98742543, 3.03520808,\n",
              "       3.04118091, 3.07104507, 3.05312658, 2.9635341 , 3.10090923,\n",
              "       3.00534392, 2.98145259, 3.01131675, 3.05312658, 3.05909941,\n",
              "       3.01728959, 3.07104507, 2.92172427, 2.99339826, 2.90977861,\n",
              "       2.9635341 , 2.98742543, 2.99339826, 2.93366994, 3.02923525,\n",
              "       3.02326242, 3.01728959, 3.0949364 , 3.03520808, 2.95158843,\n",
              "       3.06507224, 2.95756127, 3.06507224, 3.07701791, 2.98742543,\n",
              "       3.02923525, 2.95756127, 3.06507224, 3.05909941, 3.01131675,\n",
              "       3.08896357, 3.01728959, 3.07701791, 2.97547976, 3.07104507,\n",
              "       3.08896357, 2.98145259, 3.10688207, 3.02923525, 3.10090923,\n",
              "       3.03520808, 3.06507224, 3.05909941, 3.07104507, 3.07104507,\n",
              "       3.08896357, 3.01131675, 2.99937109, 3.06507224, 2.9635341 ,\n",
              "       3.02326242, 2.99339826, 2.9456156 , 3.01728959, 3.04118091,\n",
              "       3.06507224, 2.99937109, 2.99937109, 2.93366994, 3.02326242,\n",
              "       2.98742543, 2.98145259, 2.98742543, 2.9635341 , 3.07104507])"
            ]
          },
          "execution_count": 18,
          "metadata": {},
          "output_type": "execute_result"
        }
      ],
      "source": [
        "y_pred_train = lr.predict(x_train)\n",
        "y_pred_train"
      ]
    },
    {
      "cell_type": "code",
      "execution_count": null,
      "id": "2_fxD41vOggB",
      "metadata": {
        "colab": {
          "base_uri": "https://localhost:8080/",
          "height": 469
        },
        "id": "2_fxD41vOggB",
        "outputId": "4a9122a4-2b99-4623-febc-d5c5302a4224"
      },
      "outputs": [
        {
          "data": {
            "text/plain": [
              "Text(0, 0.5, 'sepalwidth')"
            ]
          },
          "execution_count": 19,
          "metadata": {},
          "output_type": "execute_result"
        },
        {
          "data": {
            "image/png": "[encoded data removed]",
            "text/plain": [
              "<Figure size 640x480 with 1 Axes>"
            ]
          },
          "metadata": {},
          "output_type": "display_data"
        }
      ],
      "source": [
        "import matplotlib as lib\n",
        "plt.scatter(x_train,y_train)\n",
        "plt.plot(x_train,y_pred_train, color='red')\n",
        "plt.xlabel('sepallength')\n",
        "plt.ylabel('sepalwidth')"
      ]
    },
    {
      "cell_type": "code",
      "execution_count": null,
      "id": "EqL09hlgPxI5",
      "metadata": {
        "colab": {
          "base_uri": "https://localhost:8080/"
        },
        "id": "EqL09hlgPxI5",
        "outputId": "0775332c-85e5-4d11-d6b1-a5ae9d76b555"
      },
      "outputs": [
        {
          "data": {
            "text/plain": [
              "array([3.01728959, 3.05909941, 2.96950693, 3.04118091, 2.89186011,\n",
              "       2.98742543, 2.95158843, 3.05909941, 3.08299074, 2.95158843,\n",
              "       3.02923525, 3.04118091, 2.93964277, 2.98145259, 3.00534392,\n",
              "       3.10090923, 3.01728959, 3.02923525, 3.04118091, 3.06507224,\n",
              "       3.03520808, 3.04118091, 2.9635341 , 3.06507224, 2.93366994,\n",
              "       3.02326242, 3.03520808, 3.05909941, 2.99937109, 2.98742543])"
            ]
          },
          "execution_count": 22,
          "metadata": {},
          "output_type": "execute_result"
        }
      ],
      "source": [
        "y_pred_test = lr.predict(x_test)\n",
        "y_pred_test"
      ]
    },
    {
      "cell_type": "code",
      "execution_count": null,
      "id": "_65JBqOTQMPA",
      "metadata": {
        "colab": {
          "base_uri": "https://localhost:8080/"
        },
        "id": "_65JBqOTQMPA",
        "outputId": "985f2dfb-ba0c-4fe8-e5a0-a3f3a2461b43"
      },
      "outputs": [
        {
          "data": {
            "text/plain": [
              "array([3.0949364])"
            ]
          },
          "execution_count": 43,
          "metadata": {},
          "output_type": "execute_result"
        }
      ],
      "source": [
        "var=np.array(4.5).reshape(-1,1)\n",
        "y_pred_var = lr.predict(var)\n",
        "y_pred_var"
      ]
    }
  ],
  "metadata": {
    "colab": {
      "collapsed_sections": [
        "jNk27lbbpRvM",
        "62o2btp2pjWZ",
        "hiKuJomt0TTS",
        "icr8vZ2KI0WL",
        "cvSP__z9I8x_",
        "vvZvzM1lNiPe",
        "5hWwB0iTN9uh"
      ],
      "provenance": [],
      "toc_visible": true,
      "include_colab_link": true
    },
    "kernelspec": {
      "display_name": "Python 3",
      "name": "python3"
    },
    "language_info": {
      "codemirror_mode": {
        "name": "ipython",
        "version": 3
      },
      "file_extension": ".py",
      "mimetype": "text/x-python",
      "name": "python",
      "nbconvert_exporter": "python",
      "pygments_lexer": "ipython3",
      "version": "3.8.8"
    }
  },
  "nbformat": 4,
  "nbformat_minor": 5
}