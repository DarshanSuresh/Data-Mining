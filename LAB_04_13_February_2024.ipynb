{
  "cells": [
    {
      "cell_type": "markdown",
      "metadata": {
        "id": "view-in-github",
        "colab_type": "text"
      },
      "source": [
        "<a href=\"https://colab.research.google.com/github/DarshanSuresh/Data-Mining/blob/main/LAB_04_13_February_2024.ipynb\" target=\"_parent\"><img src=\"https://colab.research.google.com/assets/colab-badge.svg\" alt=\"Open In Colab\"/></a>"
      ]
    },
    {
      "cell_type": "markdown",
      "id": "hiKuJomt0TTS",
      "metadata": {
        "id": "hiKuJomt0TTS"
      },
      "source": [
        "# LAB 04 - 13 February 2024"
      ]
    },
    {
      "cell_type": "markdown",
      "id": "MDX5cVwyb0NK",
      "metadata": {
        "id": "MDX5cVwyb0NK"
      },
      "source": [
        "## Sorting"
      ]
    },
    {
      "cell_type": "code",
      "execution_count": 1,
      "id": "pXzkuWRb_x85",
      "metadata": {
        "colab": {
          "base_uri": "https://localhost:8080/"
        },
        "id": "pXzkuWRb_x85",
        "outputId": "746fad69-f41c-48b3-a755-9f7aebb8b6cb"
      },
      "outputs": [
        {
          "output_type": "stream",
          "name": "stdout",
          "text": [
            "Original DataFrame:\n",
            "     sepal_length  sepal_width  petal_length  petal_width    species\n",
            "0             5.1          3.5           1.4          0.2     setosa\n",
            "1             4.9          3.0           1.4          0.2     setosa\n",
            "2             4.7          3.2           1.3          0.2     setosa\n",
            "3             4.6          3.1           1.5          0.2     setosa\n",
            "4             5.0          3.6           1.4          0.2     setosa\n",
            "..            ...          ...           ...          ...        ...\n",
            "145           6.7          3.0           5.2          2.3  virginica\n",
            "146           6.3          2.5           5.0          1.9  virginica\n",
            "147           6.5          3.0           5.2          2.0  virginica\n",
            "148           6.2          3.4           5.4          2.3  virginica\n",
            "149           5.9          3.0           5.1          1.8  virginica\n",
            "\n",
            "[150 rows x 5 columns]\n",
            "\n",
            "Sorted column sepal_length :\n",
            "13     4.3\n",
            "42     4.4\n",
            "38     4.4\n",
            "8      4.4\n",
            "41     4.5\n",
            "      ... \n",
            "122    7.7\n",
            "118    7.7\n",
            "117    7.7\n",
            "135    7.7\n",
            "131    7.9\n",
            "Name: sepal_length, Length: 150, dtype: float64\n",
            "\n",
            "Sorted column sepal_width :\n",
            "60     2.0\n",
            "62     2.2\n",
            "119    2.2\n",
            "68     2.2\n",
            "41     2.3\n",
            "      ... \n",
            "16     3.9\n",
            "14     4.0\n",
            "32     4.1\n",
            "33     4.2\n",
            "15     4.4\n",
            "Name: sepal_width, Length: 150, dtype: float64\n",
            "\n",
            "Sorted column petal_length :\n",
            "22     1.0\n",
            "13     1.1\n",
            "14     1.2\n",
            "35     1.2\n",
            "36     1.3\n",
            "      ... \n",
            "131    6.4\n",
            "105    6.6\n",
            "117    6.7\n",
            "122    6.7\n",
            "118    6.9\n",
            "Name: petal_length, Length: 150, dtype: float64\n",
            "\n",
            "Sorted column petal_width :\n",
            "32     0.1\n",
            "13     0.1\n",
            "37     0.1\n",
            "9      0.1\n",
            "12     0.1\n",
            "      ... \n",
            "140    2.4\n",
            "114    2.4\n",
            "100    2.5\n",
            "144    2.5\n",
            "109    2.5\n",
            "Name: petal_width, Length: 150, dtype: float64\n",
            "\n",
            "Sorted column species :\n",
            "0         setosa\n",
            "27        setosa\n",
            "28        setosa\n",
            "29        setosa\n",
            "30        setosa\n",
            "         ...    \n",
            "119    virginica\n",
            "120    virginica\n",
            "121    virginica\n",
            "111    virginica\n",
            "149    virginica\n",
            "Name: species, Length: 150, dtype: object\n"
          ]
        }
      ],
      "source": [
        "import pandas as pd\n",
        "\n",
        "d = pd.read_excel('iris.xlsx')\n",
        "\n",
        "print(\"Original DataFrame:\")\n",
        "print(d)\n",
        "\n",
        "for col in d.columns:\n",
        "    sorted_col = d[col].sort_values()\n",
        "\n",
        "    print(\"\\nSorted column\", col, \":\")\n",
        "    print(sorted_col)"
      ]
    },
    {
      "cell_type": "markdown",
      "id": "pGsGOLbfNsGu",
      "metadata": {
        "id": "pGsGOLbfNsGu"
      },
      "source": [
        "## Bin Mean"
      ]
    },
    {
      "cell_type": "code",
      "execution_count": 2,
      "id": "vf633M8sC8Jc",
      "metadata": {
        "colab": {
          "base_uri": "https://localhost:8080/",
          "height": 382
        },
        "id": "vf633M8sC8Jc",
        "outputId": "f860407c-64a0-459c-e170-759799d944fa"
      },
      "outputs": [
        {
          "output_type": "error",
          "ename": "FileNotFoundError",
          "evalue": "[Errno 2] No such file or directory: 'age.xlsx'",
          "traceback": [
            "\u001b[0;31m---------------------------------------------------------------------------\u001b[0m",
            "\u001b[0;31mFileNotFoundError\u001b[0m                         Traceback (most recent call last)",
            "\u001b[0;32m<ipython-input-2-91659d360e70>\u001b[0m in \u001b[0;36m<cell line: 4>\u001b[0;34m()\u001b[0m\n\u001b[1;32m      2\u001b[0m \u001b[0;32mimport\u001b[0m \u001b[0mpandas\u001b[0m \u001b[0;32mas\u001b[0m \u001b[0mpd\u001b[0m\u001b[0;34m\u001b[0m\u001b[0;34m\u001b[0m\u001b[0m\n\u001b[1;32m      3\u001b[0m \u001b[0;34m\u001b[0m\u001b[0m\n\u001b[0;32m----> 4\u001b[0;31m \u001b[0mdf\u001b[0m \u001b[0;34m=\u001b[0m \u001b[0mpd\u001b[0m\u001b[0;34m.\u001b[0m\u001b[0mread_excel\u001b[0m\u001b[0;34m(\u001b[0m\u001b[0;34m'age.xlsx'\u001b[0m\u001b[0;34m)\u001b[0m\u001b[0;34m\u001b[0m\u001b[0;34m\u001b[0m\u001b[0m\n\u001b[0m\u001b[1;32m      5\u001b[0m \u001b[0mt\u001b[0m \u001b[0;34m=\u001b[0m \u001b[0mdf\u001b[0m\u001b[0;34m.\u001b[0m\u001b[0mto_numpy\u001b[0m\u001b[0;34m(\u001b[0m\u001b[0;34m)\u001b[0m\u001b[0;34m\u001b[0m\u001b[0;34m\u001b[0m\u001b[0m\n\u001b[1;32m      6\u001b[0m \u001b[0;34m\u001b[0m\u001b[0m\n",
            "\u001b[0;32m/usr/local/lib/python3.10/dist-packages/pandas/io/excel/_base.py\u001b[0m in \u001b[0;36mread_excel\u001b[0;34m(io, sheet_name, header, names, index_col, usecols, dtype, engine, converters, true_values, false_values, skiprows, nrows, na_values, keep_default_na, na_filter, verbose, parse_dates, date_parser, date_format, thousands, decimal, comment, skipfooter, storage_options, dtype_backend)\u001b[0m\n\u001b[1;32m    476\u001b[0m     \u001b[0;32mif\u001b[0m \u001b[0;32mnot\u001b[0m \u001b[0misinstance\u001b[0m\u001b[0;34m(\u001b[0m\u001b[0mio\u001b[0m\u001b[0;34m,\u001b[0m \u001b[0mExcelFile\u001b[0m\u001b[0;34m)\u001b[0m\u001b[0;34m:\u001b[0m\u001b[0;34m\u001b[0m\u001b[0;34m\u001b[0m\u001b[0m\n\u001b[1;32m    477\u001b[0m         \u001b[0mshould_close\u001b[0m \u001b[0;34m=\u001b[0m \u001b[0;32mTrue\u001b[0m\u001b[0;34m\u001b[0m\u001b[0;34m\u001b[0m\u001b[0m\n\u001b[0;32m--> 478\u001b[0;31m         \u001b[0mio\u001b[0m \u001b[0;34m=\u001b[0m \u001b[0mExcelFile\u001b[0m\u001b[0;34m(\u001b[0m\u001b[0mio\u001b[0m\u001b[0;34m,\u001b[0m \u001b[0mstorage_options\u001b[0m\u001b[0;34m=\u001b[0m\u001b[0mstorage_options\u001b[0m\u001b[0;34m,\u001b[0m \u001b[0mengine\u001b[0m\u001b[0;34m=\u001b[0m\u001b[0mengine\u001b[0m\u001b[0;34m)\u001b[0m\u001b[0;34m\u001b[0m\u001b[0;34m\u001b[0m\u001b[0m\n\u001b[0m\u001b[1;32m    479\u001b[0m     \u001b[0;32melif\u001b[0m \u001b[0mengine\u001b[0m \u001b[0;32mand\u001b[0m \u001b[0mengine\u001b[0m \u001b[0;34m!=\u001b[0m \u001b[0mio\u001b[0m\u001b[0;34m.\u001b[0m\u001b[0mengine\u001b[0m\u001b[0;34m:\u001b[0m\u001b[0;34m\u001b[0m\u001b[0;34m\u001b[0m\u001b[0m\n\u001b[1;32m    480\u001b[0m         raise ValueError(\n",
            "\u001b[0;32m/usr/local/lib/python3.10/dist-packages/pandas/io/excel/_base.py\u001b[0m in \u001b[0;36m__init__\u001b[0;34m(self, path_or_buffer, engine, storage_options)\u001b[0m\n\u001b[1;32m   1494\u001b[0m                 \u001b[0mext\u001b[0m \u001b[0;34m=\u001b[0m \u001b[0;34m\"xls\"\u001b[0m\u001b[0;34m\u001b[0m\u001b[0;34m\u001b[0m\u001b[0m\n\u001b[1;32m   1495\u001b[0m             \u001b[0;32melse\u001b[0m\u001b[0;34m:\u001b[0m\u001b[0;34m\u001b[0m\u001b[0;34m\u001b[0m\u001b[0m\n\u001b[0;32m-> 1496\u001b[0;31m                 ext = inspect_excel_format(\n\u001b[0m\u001b[1;32m   1497\u001b[0m                     \u001b[0mcontent_or_path\u001b[0m\u001b[0;34m=\u001b[0m\u001b[0mpath_or_buffer\u001b[0m\u001b[0;34m,\u001b[0m \u001b[0mstorage_options\u001b[0m\u001b[0;34m=\u001b[0m\u001b[0mstorage_options\u001b[0m\u001b[0;34m\u001b[0m\u001b[0;34m\u001b[0m\u001b[0m\n\u001b[1;32m   1498\u001b[0m                 )\n",
            "\u001b[0;32m/usr/local/lib/python3.10/dist-packages/pandas/io/excel/_base.py\u001b[0m in \u001b[0;36minspect_excel_format\u001b[0;34m(content_or_path, storage_options)\u001b[0m\n\u001b[1;32m   1369\u001b[0m         \u001b[0mcontent_or_path\u001b[0m \u001b[0;34m=\u001b[0m \u001b[0mBytesIO\u001b[0m\u001b[0;34m(\u001b[0m\u001b[0mcontent_or_path\u001b[0m\u001b[0;34m)\u001b[0m\u001b[0;34m\u001b[0m\u001b[0;34m\u001b[0m\u001b[0m\n\u001b[1;32m   1370\u001b[0m \u001b[0;34m\u001b[0m\u001b[0m\n\u001b[0;32m-> 1371\u001b[0;31m     with get_handle(\n\u001b[0m\u001b[1;32m   1372\u001b[0m         \u001b[0mcontent_or_path\u001b[0m\u001b[0;34m,\u001b[0m \u001b[0;34m\"rb\"\u001b[0m\u001b[0;34m,\u001b[0m \u001b[0mstorage_options\u001b[0m\u001b[0;34m=\u001b[0m\u001b[0mstorage_options\u001b[0m\u001b[0;34m,\u001b[0m \u001b[0mis_text\u001b[0m\u001b[0;34m=\u001b[0m\u001b[0;32mFalse\u001b[0m\u001b[0;34m\u001b[0m\u001b[0;34m\u001b[0m\u001b[0m\n\u001b[1;32m   1373\u001b[0m     ) as handle:\n",
            "\u001b[0;32m/usr/local/lib/python3.10/dist-packages/pandas/io/common.py\u001b[0m in \u001b[0;36mget_handle\u001b[0;34m(path_or_buf, mode, encoding, compression, memory_map, is_text, errors, storage_options)\u001b[0m\n\u001b[1;32m    866\u001b[0m         \u001b[0;32melse\u001b[0m\u001b[0;34m:\u001b[0m\u001b[0;34m\u001b[0m\u001b[0;34m\u001b[0m\u001b[0m\n\u001b[1;32m    867\u001b[0m             \u001b[0;31m# Binary mode\u001b[0m\u001b[0;34m\u001b[0m\u001b[0;34m\u001b[0m\u001b[0m\n\u001b[0;32m--> 868\u001b[0;31m             \u001b[0mhandle\u001b[0m \u001b[0;34m=\u001b[0m \u001b[0mopen\u001b[0m\u001b[0;34m(\u001b[0m\u001b[0mhandle\u001b[0m\u001b[0;34m,\u001b[0m \u001b[0mioargs\u001b[0m\u001b[0;34m.\u001b[0m\u001b[0mmode\u001b[0m\u001b[0;34m)\u001b[0m\u001b[0;34m\u001b[0m\u001b[0;34m\u001b[0m\u001b[0m\n\u001b[0m\u001b[1;32m    869\u001b[0m         \u001b[0mhandles\u001b[0m\u001b[0;34m.\u001b[0m\u001b[0mappend\u001b[0m\u001b[0;34m(\u001b[0m\u001b[0mhandle\u001b[0m\u001b[0;34m)\u001b[0m\u001b[0;34m\u001b[0m\u001b[0;34m\u001b[0m\u001b[0m\n\u001b[1;32m    870\u001b[0m \u001b[0;34m\u001b[0m\u001b[0m\n",
            "\u001b[0;31mFileNotFoundError\u001b[0m: [Errno 2] No such file or directory: 'age.xlsx'"
          ]
        }
      ],
      "source": [
        "import numpy as np\n",
        "import pandas as pd\n",
        "\n",
        "df = pd.read_excel('age.xlsx')\n",
        "t = df.to_numpy()\n",
        "\n",
        "print(\"Length of array t:\", len(t))\n",
        "\n",
        "bin1 = np.zeros((3, 9))\n",
        "bin2 = np.zeros((3, 9))\n",
        "bin3 = np.zeros((3, 9))\n",
        "\n",
        "t_sorted = np.sort(t, axis=None)\n",
        "\n",
        "for i in range(0, len(t_sorted), 9):\n",
        "    k = int(i / 9)\n",
        "    mean = np.mean(t_sorted[i:i+9])\n",
        "    for j in range(9):\n",
        "        bin1[k, j] = mean\n",
        "\n",
        "print(\"bin mean=\", bin1)"
      ]
    },
    {
      "cell_type": "markdown",
      "id": "VRjgNFB8NyzP",
      "metadata": {
        "id": "VRjgNFB8NyzP"
      },
      "source": [
        "## Bin Mean Boundaries"
      ]
    },
    {
      "cell_type": "code",
      "execution_count": 3,
      "id": "Uc44ZQNmGigW",
      "metadata": {
        "colab": {
          "base_uri": "https://localhost:8080/",
          "height": 382
        },
        "id": "Uc44ZQNmGigW",
        "outputId": "be0619b6-ecbe-4d09-a27d-a8fe8c72ec58"
      },
      "outputs": [
        {
          "output_type": "error",
          "ename": "FileNotFoundError",
          "evalue": "[Errno 2] No such file or directory: 'age.xlsx'",
          "traceback": [
            "\u001b[0;31m---------------------------------------------------------------------------\u001b[0m",
            "\u001b[0;31mFileNotFoundError\u001b[0m                         Traceback (most recent call last)",
            "\u001b[0;32m<ipython-input-3-a02b0c13ba03>\u001b[0m in \u001b[0;36m<cell line: 4>\u001b[0;34m()\u001b[0m\n\u001b[1;32m      2\u001b[0m \u001b[0;32mimport\u001b[0m \u001b[0mpandas\u001b[0m \u001b[0;32mas\u001b[0m \u001b[0mpd\u001b[0m\u001b[0;34m\u001b[0m\u001b[0;34m\u001b[0m\u001b[0m\n\u001b[1;32m      3\u001b[0m \u001b[0;34m\u001b[0m\u001b[0m\n\u001b[0;32m----> 4\u001b[0;31m \u001b[0mdf\u001b[0m \u001b[0;34m=\u001b[0m \u001b[0mpd\u001b[0m\u001b[0;34m.\u001b[0m\u001b[0mread_excel\u001b[0m\u001b[0;34m(\u001b[0m\u001b[0;34m'age.xlsx'\u001b[0m\u001b[0;34m)\u001b[0m\u001b[0;34m\u001b[0m\u001b[0;34m\u001b[0m\u001b[0m\n\u001b[0m\u001b[1;32m      5\u001b[0m \u001b[0mt\u001b[0m \u001b[0;34m=\u001b[0m \u001b[0mdf\u001b[0m\u001b[0;34m.\u001b[0m\u001b[0mto_numpy\u001b[0m\u001b[0;34m(\u001b[0m\u001b[0;34m)\u001b[0m\u001b[0;34m\u001b[0m\u001b[0;34m\u001b[0m\u001b[0m\n\u001b[1;32m      6\u001b[0m \u001b[0;34m\u001b[0m\u001b[0m\n",
            "\u001b[0;32m/usr/local/lib/python3.10/dist-packages/pandas/io/excel/_base.py\u001b[0m in \u001b[0;36mread_excel\u001b[0;34m(io, sheet_name, header, names, index_col, usecols, dtype, engine, converters, true_values, false_values, skiprows, nrows, na_values, keep_default_na, na_filter, verbose, parse_dates, date_parser, date_format, thousands, decimal, comment, skipfooter, storage_options, dtype_backend)\u001b[0m\n\u001b[1;32m    476\u001b[0m     \u001b[0;32mif\u001b[0m \u001b[0;32mnot\u001b[0m \u001b[0misinstance\u001b[0m\u001b[0;34m(\u001b[0m\u001b[0mio\u001b[0m\u001b[0;34m,\u001b[0m \u001b[0mExcelFile\u001b[0m\u001b[0;34m)\u001b[0m\u001b[0;34m:\u001b[0m\u001b[0;34m\u001b[0m\u001b[0;34m\u001b[0m\u001b[0m\n\u001b[1;32m    477\u001b[0m         \u001b[0mshould_close\u001b[0m \u001b[0;34m=\u001b[0m \u001b[0;32mTrue\u001b[0m\u001b[0;34m\u001b[0m\u001b[0;34m\u001b[0m\u001b[0m\n\u001b[0;32m--> 478\u001b[0;31m         \u001b[0mio\u001b[0m \u001b[0;34m=\u001b[0m \u001b[0mExcelFile\u001b[0m\u001b[0;34m(\u001b[0m\u001b[0mio\u001b[0m\u001b[0;34m,\u001b[0m \u001b[0mstorage_options\u001b[0m\u001b[0;34m=\u001b[0m\u001b[0mstorage_options\u001b[0m\u001b[0;34m,\u001b[0m \u001b[0mengine\u001b[0m\u001b[0;34m=\u001b[0m\u001b[0mengine\u001b[0m\u001b[0;34m)\u001b[0m\u001b[0;34m\u001b[0m\u001b[0;34m\u001b[0m\u001b[0m\n\u001b[0m\u001b[1;32m    479\u001b[0m     \u001b[0;32melif\u001b[0m \u001b[0mengine\u001b[0m \u001b[0;32mand\u001b[0m \u001b[0mengine\u001b[0m \u001b[0;34m!=\u001b[0m \u001b[0mio\u001b[0m\u001b[0;34m.\u001b[0m\u001b[0mengine\u001b[0m\u001b[0;34m:\u001b[0m\u001b[0;34m\u001b[0m\u001b[0;34m\u001b[0m\u001b[0m\n\u001b[1;32m    480\u001b[0m         raise ValueError(\n",
            "\u001b[0;32m/usr/local/lib/python3.10/dist-packages/pandas/io/excel/_base.py\u001b[0m in \u001b[0;36m__init__\u001b[0;34m(self, path_or_buffer, engine, storage_options)\u001b[0m\n\u001b[1;32m   1494\u001b[0m                 \u001b[0mext\u001b[0m \u001b[0;34m=\u001b[0m \u001b[0;34m\"xls\"\u001b[0m\u001b[0;34m\u001b[0m\u001b[0;34m\u001b[0m\u001b[0m\n\u001b[1;32m   1495\u001b[0m             \u001b[0;32melse\u001b[0m\u001b[0;34m:\u001b[0m\u001b[0;34m\u001b[0m\u001b[0;34m\u001b[0m\u001b[0m\n\u001b[0;32m-> 1496\u001b[0;31m                 ext = inspect_excel_format(\n\u001b[0m\u001b[1;32m   1497\u001b[0m                     \u001b[0mcontent_or_path\u001b[0m\u001b[0;34m=\u001b[0m\u001b[0mpath_or_buffer\u001b[0m\u001b[0;34m,\u001b[0m \u001b[0mstorage_options\u001b[0m\u001b[0;34m=\u001b[0m\u001b[0mstorage_options\u001b[0m\u001b[0;34m\u001b[0m\u001b[0;34m\u001b[0m\u001b[0m\n\u001b[1;32m   1498\u001b[0m                 )\n",
            "\u001b[0;32m/usr/local/lib/python3.10/dist-packages/pandas/io/excel/_base.py\u001b[0m in \u001b[0;36minspect_excel_format\u001b[0;34m(content_or_path, storage_options)\u001b[0m\n\u001b[1;32m   1369\u001b[0m         \u001b[0mcontent_or_path\u001b[0m \u001b[0;34m=\u001b[0m \u001b[0mBytesIO\u001b[0m\u001b[0;34m(\u001b[0m\u001b[0mcontent_or_path\u001b[0m\u001b[0;34m)\u001b[0m\u001b[0;34m\u001b[0m\u001b[0;34m\u001b[0m\u001b[0m\n\u001b[1;32m   1370\u001b[0m \u001b[0;34m\u001b[0m\u001b[0m\n\u001b[0;32m-> 1371\u001b[0;31m     with get_handle(\n\u001b[0m\u001b[1;32m   1372\u001b[0m         \u001b[0mcontent_or_path\u001b[0m\u001b[0;34m,\u001b[0m \u001b[0;34m\"rb\"\u001b[0m\u001b[0;34m,\u001b[0m \u001b[0mstorage_options\u001b[0m\u001b[0;34m=\u001b[0m\u001b[0mstorage_options\u001b[0m\u001b[0;34m,\u001b[0m \u001b[0mis_text\u001b[0m\u001b[0;34m=\u001b[0m\u001b[0;32mFalse\u001b[0m\u001b[0;34m\u001b[0m\u001b[0;34m\u001b[0m\u001b[0m\n\u001b[1;32m   1373\u001b[0m     ) as handle:\n",
            "\u001b[0;32m/usr/local/lib/python3.10/dist-packages/pandas/io/common.py\u001b[0m in \u001b[0;36mget_handle\u001b[0;34m(path_or_buf, mode, encoding, compression, memory_map, is_text, errors, storage_options)\u001b[0m\n\u001b[1;32m    866\u001b[0m         \u001b[0;32melse\u001b[0m\u001b[0;34m:\u001b[0m\u001b[0;34m\u001b[0m\u001b[0;34m\u001b[0m\u001b[0m\n\u001b[1;32m    867\u001b[0m             \u001b[0;31m# Binary mode\u001b[0m\u001b[0;34m\u001b[0m\u001b[0;34m\u001b[0m\u001b[0m\n\u001b[0;32m--> 868\u001b[0;31m             \u001b[0mhandle\u001b[0m \u001b[0;34m=\u001b[0m \u001b[0mopen\u001b[0m\u001b[0;34m(\u001b[0m\u001b[0mhandle\u001b[0m\u001b[0;34m,\u001b[0m \u001b[0mioargs\u001b[0m\u001b[0;34m.\u001b[0m\u001b[0mmode\u001b[0m\u001b[0;34m)\u001b[0m\u001b[0;34m\u001b[0m\u001b[0;34m\u001b[0m\u001b[0m\n\u001b[0m\u001b[1;32m    869\u001b[0m         \u001b[0mhandles\u001b[0m\u001b[0;34m.\u001b[0m\u001b[0mappend\u001b[0m\u001b[0;34m(\u001b[0m\u001b[0mhandle\u001b[0m\u001b[0;34m)\u001b[0m\u001b[0;34m\u001b[0m\u001b[0;34m\u001b[0m\u001b[0m\n\u001b[1;32m    870\u001b[0m \u001b[0;34m\u001b[0m\u001b[0m\n",
            "\u001b[0;31mFileNotFoundError\u001b[0m: [Errno 2] No such file or directory: 'age.xlsx'"
          ]
        }
      ],
      "source": [
        "import numpy as np\n",
        "import pandas as pd\n",
        "\n",
        "df = pd.read_excel('age.xlsx')\n",
        "t = df.to_numpy()\n",
        "\n",
        "print(\"Length of array t:\", len(t))\n",
        "\n",
        "bin1 = np.zeros((3, 9))\n",
        "bin2 = np.zeros((3, 9))\n",
        "bin3 = np.zeros((3, 9))\n",
        "\n",
        "t_sorted = np.sort(t, axis=None)\n",
        "\n",
        "for i in range(0, len(t_sorted), 9):\n",
        "    k = int(i / 9)\n",
        "    median = np.median(t_sorted[i:i+9])\n",
        "    for j in range(9):\n",
        "        bin3[k, j] = median\n",
        "\n",
        "print(\"bin boundaries=\", bin3)\n"
      ]
    },
    {
      "cell_type": "markdown",
      "id": "IdGvHDCSOBQ_",
      "metadata": {
        "id": "IdGvHDCSOBQ_"
      },
      "source": [
        "## Bin Median"
      ]
    },
    {
      "cell_type": "code",
      "execution_count": 4,
      "id": "_p21av3fLCyL",
      "metadata": {
        "colab": {
          "base_uri": "https://localhost:8080/",
          "height": 382
        },
        "id": "_p21av3fLCyL",
        "outputId": "56064824-2676-4035-f093-1c848a4e3703"
      },
      "outputs": [
        {
          "output_type": "error",
          "ename": "FileNotFoundError",
          "evalue": "[Errno 2] No such file or directory: 'age.xlsx'",
          "traceback": [
            "\u001b[0;31m---------------------------------------------------------------------------\u001b[0m",
            "\u001b[0;31mFileNotFoundError\u001b[0m                         Traceback (most recent call last)",
            "\u001b[0;32m<ipython-input-4-a02b0c13ba03>\u001b[0m in \u001b[0;36m<cell line: 4>\u001b[0;34m()\u001b[0m\n\u001b[1;32m      2\u001b[0m \u001b[0;32mimport\u001b[0m \u001b[0mpandas\u001b[0m \u001b[0;32mas\u001b[0m \u001b[0mpd\u001b[0m\u001b[0;34m\u001b[0m\u001b[0;34m\u001b[0m\u001b[0m\n\u001b[1;32m      3\u001b[0m \u001b[0;34m\u001b[0m\u001b[0m\n\u001b[0;32m----> 4\u001b[0;31m \u001b[0mdf\u001b[0m \u001b[0;34m=\u001b[0m \u001b[0mpd\u001b[0m\u001b[0;34m.\u001b[0m\u001b[0mread_excel\u001b[0m\u001b[0;34m(\u001b[0m\u001b[0;34m'age.xlsx'\u001b[0m\u001b[0;34m)\u001b[0m\u001b[0;34m\u001b[0m\u001b[0;34m\u001b[0m\u001b[0m\n\u001b[0m\u001b[1;32m      5\u001b[0m \u001b[0mt\u001b[0m \u001b[0;34m=\u001b[0m \u001b[0mdf\u001b[0m\u001b[0;34m.\u001b[0m\u001b[0mto_numpy\u001b[0m\u001b[0;34m(\u001b[0m\u001b[0;34m)\u001b[0m\u001b[0;34m\u001b[0m\u001b[0;34m\u001b[0m\u001b[0m\n\u001b[1;32m      6\u001b[0m \u001b[0;34m\u001b[0m\u001b[0m\n",
            "\u001b[0;32m/usr/local/lib/python3.10/dist-packages/pandas/io/excel/_base.py\u001b[0m in \u001b[0;36mread_excel\u001b[0;34m(io, sheet_name, header, names, index_col, usecols, dtype, engine, converters, true_values, false_values, skiprows, nrows, na_values, keep_default_na, na_filter, verbose, parse_dates, date_parser, date_format, thousands, decimal, comment, skipfooter, storage_options, dtype_backend)\u001b[0m\n\u001b[1;32m    476\u001b[0m     \u001b[0;32mif\u001b[0m \u001b[0;32mnot\u001b[0m \u001b[0misinstance\u001b[0m\u001b[0;34m(\u001b[0m\u001b[0mio\u001b[0m\u001b[0;34m,\u001b[0m \u001b[0mExcelFile\u001b[0m\u001b[0;34m)\u001b[0m\u001b[0;34m:\u001b[0m\u001b[0;34m\u001b[0m\u001b[0;34m\u001b[0m\u001b[0m\n\u001b[1;32m    477\u001b[0m         \u001b[0mshould_close\u001b[0m \u001b[0;34m=\u001b[0m \u001b[0;32mTrue\u001b[0m\u001b[0;34m\u001b[0m\u001b[0;34m\u001b[0m\u001b[0m\n\u001b[0;32m--> 478\u001b[0;31m         \u001b[0mio\u001b[0m \u001b[0;34m=\u001b[0m \u001b[0mExcelFile\u001b[0m\u001b[0;34m(\u001b[0m\u001b[0mio\u001b[0m\u001b[0;34m,\u001b[0m \u001b[0mstorage_options\u001b[0m\u001b[0;34m=\u001b[0m\u001b[0mstorage_options\u001b[0m\u001b[0;34m,\u001b[0m \u001b[0mengine\u001b[0m\u001b[0;34m=\u001b[0m\u001b[0mengine\u001b[0m\u001b[0;34m)\u001b[0m\u001b[0;34m\u001b[0m\u001b[0;34m\u001b[0m\u001b[0m\n\u001b[0m\u001b[1;32m    479\u001b[0m     \u001b[0;32melif\u001b[0m \u001b[0mengine\u001b[0m \u001b[0;32mand\u001b[0m \u001b[0mengine\u001b[0m \u001b[0;34m!=\u001b[0m \u001b[0mio\u001b[0m\u001b[0;34m.\u001b[0m\u001b[0mengine\u001b[0m\u001b[0;34m:\u001b[0m\u001b[0;34m\u001b[0m\u001b[0;34m\u001b[0m\u001b[0m\n\u001b[1;32m    480\u001b[0m         raise ValueError(\n",
            "\u001b[0;32m/usr/local/lib/python3.10/dist-packages/pandas/io/excel/_base.py\u001b[0m in \u001b[0;36m__init__\u001b[0;34m(self, path_or_buffer, engine, storage_options)\u001b[0m\n\u001b[1;32m   1494\u001b[0m                 \u001b[0mext\u001b[0m \u001b[0;34m=\u001b[0m \u001b[0;34m\"xls\"\u001b[0m\u001b[0;34m\u001b[0m\u001b[0;34m\u001b[0m\u001b[0m\n\u001b[1;32m   1495\u001b[0m             \u001b[0;32melse\u001b[0m\u001b[0;34m:\u001b[0m\u001b[0;34m\u001b[0m\u001b[0;34m\u001b[0m\u001b[0m\n\u001b[0;32m-> 1496\u001b[0;31m                 ext = inspect_excel_format(\n\u001b[0m\u001b[1;32m   1497\u001b[0m                     \u001b[0mcontent_or_path\u001b[0m\u001b[0;34m=\u001b[0m\u001b[0mpath_or_buffer\u001b[0m\u001b[0;34m,\u001b[0m \u001b[0mstorage_options\u001b[0m\u001b[0;34m=\u001b[0m\u001b[0mstorage_options\u001b[0m\u001b[0;34m\u001b[0m\u001b[0;34m\u001b[0m\u001b[0m\n\u001b[1;32m   1498\u001b[0m                 )\n",
            "\u001b[0;32m/usr/local/lib/python3.10/dist-packages/pandas/io/excel/_base.py\u001b[0m in \u001b[0;36minspect_excel_format\u001b[0;34m(content_or_path, storage_options)\u001b[0m\n\u001b[1;32m   1369\u001b[0m         \u001b[0mcontent_or_path\u001b[0m \u001b[0;34m=\u001b[0m \u001b[0mBytesIO\u001b[0m\u001b[0;34m(\u001b[0m\u001b[0mcontent_or_path\u001b[0m\u001b[0;34m)\u001b[0m\u001b[0;34m\u001b[0m\u001b[0;34m\u001b[0m\u001b[0m\n\u001b[1;32m   1370\u001b[0m \u001b[0;34m\u001b[0m\u001b[0m\n\u001b[0;32m-> 1371\u001b[0;31m     with get_handle(\n\u001b[0m\u001b[1;32m   1372\u001b[0m         \u001b[0mcontent_or_path\u001b[0m\u001b[0;34m,\u001b[0m \u001b[0;34m\"rb\"\u001b[0m\u001b[0;34m,\u001b[0m \u001b[0mstorage_options\u001b[0m\u001b[0;34m=\u001b[0m\u001b[0mstorage_options\u001b[0m\u001b[0;34m,\u001b[0m \u001b[0mis_text\u001b[0m\u001b[0;34m=\u001b[0m\u001b[0;32mFalse\u001b[0m\u001b[0;34m\u001b[0m\u001b[0;34m\u001b[0m\u001b[0m\n\u001b[1;32m   1373\u001b[0m     ) as handle:\n",
            "\u001b[0;32m/usr/local/lib/python3.10/dist-packages/pandas/io/common.py\u001b[0m in \u001b[0;36mget_handle\u001b[0;34m(path_or_buf, mode, encoding, compression, memory_map, is_text, errors, storage_options)\u001b[0m\n\u001b[1;32m    866\u001b[0m         \u001b[0;32melse\u001b[0m\u001b[0;34m:\u001b[0m\u001b[0;34m\u001b[0m\u001b[0;34m\u001b[0m\u001b[0m\n\u001b[1;32m    867\u001b[0m             \u001b[0;31m# Binary mode\u001b[0m\u001b[0;34m\u001b[0m\u001b[0;34m\u001b[0m\u001b[0m\n\u001b[0;32m--> 868\u001b[0;31m             \u001b[0mhandle\u001b[0m \u001b[0;34m=\u001b[0m \u001b[0mopen\u001b[0m\u001b[0;34m(\u001b[0m\u001b[0mhandle\u001b[0m\u001b[0;34m,\u001b[0m \u001b[0mioargs\u001b[0m\u001b[0;34m.\u001b[0m\u001b[0mmode\u001b[0m\u001b[0;34m)\u001b[0m\u001b[0;34m\u001b[0m\u001b[0;34m\u001b[0m\u001b[0m\n\u001b[0m\u001b[1;32m    869\u001b[0m         \u001b[0mhandles\u001b[0m\u001b[0;34m.\u001b[0m\u001b[0mappend\u001b[0m\u001b[0;34m(\u001b[0m\u001b[0mhandle\u001b[0m\u001b[0;34m)\u001b[0m\u001b[0;34m\u001b[0m\u001b[0;34m\u001b[0m\u001b[0m\n\u001b[1;32m    870\u001b[0m \u001b[0;34m\u001b[0m\u001b[0m\n",
            "\u001b[0;31mFileNotFoundError\u001b[0m: [Errno 2] No such file or directory: 'age.xlsx'"
          ]
        }
      ],
      "source": [
        "import numpy as np\n",
        "import pandas as pd\n",
        "\n",
        "df = pd.read_excel('age.xlsx')\n",
        "t = df.to_numpy()\n",
        "\n",
        "print(\"Length of array t:\", len(t))\n",
        "\n",
        "bin1 = np.zeros((3, 9))\n",
        "bin2 = np.zeros((3, 9))\n",
        "bin3 = np.zeros((3, 9))\n",
        "\n",
        "t_sorted = np.sort(t, axis=None)\n",
        "\n",
        "for i in range(0, len(t_sorted), 9):\n",
        "    k = int(i / 9)\n",
        "    median = np.median(t_sorted[i:i+9])\n",
        "    for j in range(9):\n",
        "        bin3[k, j] = median\n",
        "\n",
        "print(\"bin boundaries=\", bin3)\n"
      ]
    },
    {
      "cell_type": "markdown",
      "id": "4kkLzYahPXLb",
      "metadata": {
        "id": "4kkLzYahPXLb"
      },
      "source": [
        "## Bin Mean & Median for Iris"
      ]
    },
    {
      "cell_type": "markdown",
      "id": "EW63W4G-UUyq",
      "metadata": {
        "id": "EW63W4G-UUyq"
      },
      "source": [
        "### Bin for Sepal Length"
      ]
    },
    {
      "cell_type": "code",
      "execution_count": 5,
      "id": "7DZX_QkxPcRb",
      "metadata": {
        "colab": {
          "base_uri": "https://localhost:8080/"
        },
        "id": "7DZX_QkxPcRb",
        "outputId": "fe41af62-d10b-49b7-f499-39a4968f5e93"
      },
      "outputs": [
        {
          "output_type": "stream",
          "name": "stdout",
          "text": [
            "Equal frequency binning for sepal_length\n",
            "Means of each bin: [4.859999999999999, 5.21, 5.010000000000001, 5.07, 4.88, 6.1000000000000005, 5.8500000000000005, 6.26, 5.83, 5.640000000000001, 6.57, 6.55, 6.63, 6.74, 6.450000000000001]\n"
          ]
        }
      ],
      "source": [
        "import pandas as pd\n",
        "import numpy as np\n",
        "\n",
        "df = pd.read_excel('iris.xlsx')\n",
        "\n",
        "df_sorted = df.sort_values(by='sepal_length')\n",
        "\n",
        "def equifreq(arr1, m):\n",
        "    a = len(arr1)\n",
        "    n = int(a / m)\n",
        "    bins = []\n",
        "    for i in range(0, m):\n",
        "        arr = []\n",
        "        for j in range(i * n, (i + 1) * n):\n",
        "            if j >= a:\n",
        "                break\n",
        "            arr.append(arr1[j])\n",
        "        bins.append(arr)\n",
        "    return bins\n",
        "\n",
        "print(\"Equal frequency binning for sepal_length\")\n",
        "equi = equifreq(df['sepal_length'], 15)\n",
        "\n",
        "bin_means = []\n",
        "for i in range(len(equi)):\n",
        "    mean = np.mean(equi[i])\n",
        "    bin_means.append(mean)\n",
        "\n",
        "print(\"Means of each bin:\", bin_means)\n"
      ]
    },
    {
      "cell_type": "code",
      "execution_count": 6,
      "id": "uQqMPfZ-Pwly",
      "metadata": {
        "colab": {
          "base_uri": "https://localhost:8080/"
        },
        "id": "uQqMPfZ-Pwly",
        "outputId": "76a251fb-413a-4bef-e38a-000365657a28"
      },
      "outputs": [
        {
          "output_type": "stream",
          "name": "stdout",
          "text": [
            "Equal frequency binning for sepal_length\n",
            "Medians of each bin: [4.9, 5.25, 5.05, 5.05, 5.0, 6.35, 5.85, 6.199999999999999, 5.699999999999999, 5.7, 6.6, 6.45, 6.550000000000001, 6.4, 6.6]\n"
          ]
        }
      ],
      "source": [
        "import pandas as pd\n",
        "import numpy as np\n",
        "\n",
        "df = pd.read_excel('iris.xlsx')\n",
        "\n",
        "df_sorted = df.sort_values(by='sepal_length')\n",
        "\n",
        "def equifreq(arr1, m):\n",
        "    a = len(arr1)\n",
        "    n = int(a / m)\n",
        "    bins = []\n",
        "    for i in range(0, m):\n",
        "        arr = []\n",
        "        for j in range(i * n, (i + 1) * n):\n",
        "            if j >= a:\n",
        "                break\n",
        "            arr.append(arr1[j])\n",
        "        bins.append(arr)\n",
        "    return bins\n",
        "\n",
        "print(\"Equal frequency binning for sepal_length\")\n",
        "equi = equifreq(df_sorted['sepal_length'], 15)\n",
        "\n",
        "bin_medians = []\n",
        "for i in range(len(equi)):\n",
        "    median = np.median(equi[i])\n",
        "    bin_medians.append(median)\n",
        "\n",
        "print(\"Medians of each bin:\", bin_medians)\n"
      ]
    },
    {
      "cell_type": "markdown",
      "id": "xx8yb6EBVDr5",
      "metadata": {
        "id": "xx8yb6EBVDr5"
      },
      "source": [
        "### Bin for Sepal width"
      ]
    },
    {
      "cell_type": "code",
      "execution_count": 7,
      "id": "aoePjdZKUPKJ",
      "metadata": {
        "colab": {
          "base_uri": "https://localhost:8080/"
        },
        "id": "aoePjdZKUPKJ",
        "outputId": "c8f257e6-2160-4ea9-9265-6277e434d16c"
      },
      "outputs": [
        {
          "output_type": "stream",
          "name": "stdout",
          "text": [
            "Equal frequency binning for sepal_width\n",
            "Means of each bin: [3.31, 3.6499999999999995, 3.3899999999999997, 3.41, 3.3299999999999996, 2.87, 2.6499999999999995, 2.85, 2.75, 2.73, 2.9400000000000004, 2.9000000000000004, 2.96, 3.04, 3.0300000000000002]\n"
          ]
        }
      ],
      "source": [
        "import pandas as pd\n",
        "import numpy as np\n",
        "\n",
        "df = pd.read_excel('iris.xlsx')\n",
        "\n",
        "df_sorted = df.sort_values(by='sepal_width')\n",
        "\n",
        "def equifreq(arr1, m):\n",
        "    a = len(arr1)\n",
        "    n = int(a / m)\n",
        "    bins = []\n",
        "    for i in range(0, m):\n",
        "        arr = []\n",
        "        for j in range(i * n, (i + 1) * n):\n",
        "            if j >= a:\n",
        "                break\n",
        "            arr.append(arr1[j])\n",
        "        bins.append(arr)\n",
        "    return bins\n",
        "\n",
        "print(\"Equal frequency binning for sepal_width\")\n",
        "equi = equifreq(df['sepal_width'], 15)\n",
        "\n",
        "bin_means = []\n",
        "for i in range(len(equi)):\n",
        "    mean = np.mean(equi[i])\n",
        "    bin_means.append(mean)\n",
        "\n",
        "print(\"Means of each bin:\", bin_means)\n"
      ]
    },
    {
      "cell_type": "code",
      "execution_count": 8,
      "id": "yY9vTd2xVLk4",
      "metadata": {
        "colab": {
          "base_uri": "https://localhost:8080/"
        },
        "id": "yY9vTd2xVLk4",
        "outputId": "fab77029-b646-421f-d06e-1ad5e466055d"
      },
      "outputs": [
        {
          "output_type": "stream",
          "name": "stdout",
          "text": [
            "Equal frequency binning for sepal_width\n",
            "Medians of each bin: [3.3, 3.75, 3.4, 3.3, 3.4, 2.8499999999999996, 2.8, 2.8499999999999996, 2.7, 2.75, 2.95, 2.9, 2.9, 3.0, 3.05]\n"
          ]
        }
      ],
      "source": [
        "import pandas as pd\n",
        "import numpy as np\n",
        "\n",
        "df = pd.read_excel('iris.xlsx')\n",
        "\n",
        "df_sorted = df.sort_values(by='sepal_width')\n",
        "\n",
        "def equifreq(arr1, m):\n",
        "    a = len(arr1)\n",
        "    n = int(a / m)\n",
        "    bins = []\n",
        "    for i in range(0, m):\n",
        "        arr = []\n",
        "        for j in range(i * n, (i + 1) * n):\n",
        "            if j >= a:\n",
        "                break\n",
        "            arr.append(arr1[j])\n",
        "        bins.append(arr)\n",
        "    return bins\n",
        "\n",
        "print(\"Equal frequency binning for sepal_width\")\n",
        "equi = equifreq(df_sorted['sepal_width'], 15)\n",
        "\n",
        "bin_medians = []\n",
        "for i in range(len(equi)):\n",
        "    median = np.median(equi[i])\n",
        "    bin_medians.append(median)\n",
        "\n",
        "print(\"Medians of each bin:\", bin_medians)\n"
      ]
    },
    {
      "cell_type": "markdown",
      "id": "FD65zK71VV_L",
      "metadata": {
        "id": "FD65zK71VV_L"
      },
      "source": [
        "### Bin for Petal Length"
      ]
    },
    {
      "cell_type": "code",
      "execution_count": 9,
      "id": "oCYRBJcoVShX",
      "metadata": {
        "colab": {
          "base_uri": "https://localhost:8080/"
        },
        "id": "oCYRBJcoVShX",
        "outputId": "6f1def41-2c5d-4613-b25a-a77830577ccd"
      },
      "outputs": [
        {
          "output_type": "stream",
          "name": "stdout",
          "text": [
            "Equal frequency binning for petal_length\n",
            "Means of each bin: [1.45, 1.42, 1.55, 1.4300000000000002, 1.4700000000000002, 4.37, 4.14, 4.49, 4.2700000000000005, 4.03, 5.77, 5.54, 5.5, 5.619999999999999, 5.33]\n"
          ]
        }
      ],
      "source": [
        "import pandas as pd\n",
        "import numpy as np\n",
        "\n",
        "df = pd.read_excel('iris.xlsx')\n",
        "\n",
        "df_sorted = df.sort_values(by='petal_length')\n",
        "\n",
        "def equifreq(arr1, m):\n",
        "    a = len(arr1)\n",
        "    n = int(a / m)\n",
        "    bins = []\n",
        "    for i in range(0, m):\n",
        "        arr = []\n",
        "        for j in range(i * n, (i + 1) * n):\n",
        "            if j >= a:\n",
        "                break\n",
        "            arr.append(arr1[j])\n",
        "        bins.append(arr)\n",
        "    return bins\n",
        "\n",
        "print(\"Equal frequency binning for petal_length\")\n",
        "equi = equifreq(df['petal_length'], 15)\n",
        "\n",
        "bin_means = []\n",
        "for i in range(len(equi)):\n",
        "    mean = np.mean(equi[i])\n",
        "    bin_means.append(mean)\n",
        "\n",
        "print(\"Means of each bin:\", bin_means)\n"
      ]
    },
    {
      "cell_type": "code",
      "execution_count": 10,
      "id": "VnrH8ZMDVhSi",
      "metadata": {
        "colab": {
          "base_uri": "https://localhost:8080/"
        },
        "id": "VnrH8ZMDVhSi",
        "outputId": "7ee23784-d605-4dc1-f846-74992ea59127"
      },
      "outputs": [
        {
          "output_type": "stream",
          "name": "stdout",
          "text": [
            "Equal frequency binning for petal_length\n",
            "Medians of each bin: [1.4, 1.45, 1.6, 1.5, 1.4, 4.55, 4.15, 4.6, 4.25, 4.2, 5.85, 5.3, 5.65, 5.6, 5.2]\n"
          ]
        }
      ],
      "source": [
        "import pandas as pd\n",
        "import numpy as np\n",
        "\n",
        "df = pd.read_excel('iris.xlsx')\n",
        "\n",
        "df_sorted = df.sort_values(by='petal_length')\n",
        "\n",
        "def equifreq(arr1, m):\n",
        "    a = len(arr1)\n",
        "    n = int(a / m)\n",
        "    bins = []\n",
        "    for i in range(0, m):\n",
        "        arr = []\n",
        "        for j in range(i * n, (i + 1) * n):\n",
        "            if j >= a:\n",
        "                break\n",
        "            arr.append(arr1[j])\n",
        "        bins.append(arr)\n",
        "    return bins\n",
        "\n",
        "print(\"Equal frequency binning for petal_length\")\n",
        "equi = equifreq(df_sorted['petal_length'], 15)\n",
        "\n",
        "bin_medians = []\n",
        "for i in range(len(equi)):\n",
        "    median = np.median(equi[i])\n",
        "    bin_medians.append(median)\n",
        "\n",
        "print(\"Medians of each bin:\", bin_medians)\n"
      ]
    },
    {
      "cell_type": "markdown",
      "id": "zrMfrN0XV_iz",
      "metadata": {
        "id": "zrMfrN0XV_iz"
      },
      "source": [
        "### Bin for Petal Width"
      ]
    },
    {
      "cell_type": "code",
      "execution_count": 11,
      "id": "j4o5O_BeVpPX",
      "metadata": {
        "colab": {
          "base_uri": "https://localhost:8080/"
        },
        "id": "j4o5O_BeVpPX",
        "outputId": "5c503b12-81cf-4fdb-9d34-fac3a2335761"
      },
      "outputs": [
        {
          "output_type": "stream",
          "name": "stdout",
          "text": [
            "Equal frequency binning for petal_width\n",
            "Means of each bin: [0.22000000000000003, 0.25, 0.27, 0.19, 0.29000000000000004, 1.3800000000000001, 1.27, 1.4100000000000001, 1.3400000000000003, 1.23, 2.04, 2.05, 1.9300000000000002, 1.9400000000000002, 2.17]\n"
          ]
        }
      ],
      "source": [
        "import pandas as pd\n",
        "import numpy as np\n",
        "\n",
        "df = pd.read_excel('iris.xlsx')\n",
        "\n",
        "df_sorted = df.sort_values(by='petal_width')\n",
        "\n",
        "def equifreq(arr1, m):\n",
        "    a = len(arr1)\n",
        "    n = int(a / m)\n",
        "    bins = []\n",
        "    for i in range(0, m):\n",
        "        arr = []\n",
        "        for j in range(i * n, (i + 1) * n):\n",
        "            if j >= a:\n",
        "                break\n",
        "            arr.append(arr1[j])\n",
        "        bins.append(arr)\n",
        "    return bins\n",
        "\n",
        "print(\"Equal frequency binning for petal_width\")\n",
        "equi = equifreq(df['petal_width'], 15)\n",
        "\n",
        "bin_means = []\n",
        "for i in range(len(equi)):\n",
        "    mean = np.mean(equi[i])\n",
        "    bin_means.append(mean)\n",
        "\n",
        "print(\"Means of each bin:\", bin_means)\n"
      ]
    },
    {
      "cell_type": "code",
      "execution_count": 12,
      "id": "eGd5StvcWVnW",
      "metadata": {
        "colab": {
          "base_uri": "https://localhost:8080/"
        },
        "id": "eGd5StvcWVnW",
        "outputId": "3d555750-33a2-4b45-8231-413bf22f13ad"
      },
      "outputs": [
        {
          "output_type": "stream",
          "name": "stdout",
          "text": [
            "Equal frequency binning for petal_width\n",
            "Medians of each bin: [0.2, 0.25, 0.2, 0.2, 0.25, 1.4, 1.35, 1.4, 1.3, 1.25, 2.0, 2.05, 1.9, 1.95, 2.3]\n"
          ]
        }
      ],
      "source": [
        "import pandas as pd\n",
        "import numpy as np\n",
        "\n",
        "df = pd.read_excel('iris.xlsx')\n",
        "\n",
        "df_sorted = df.sort_values(by='petal_width')\n",
        "\n",
        "def equifreq(arr1, m):\n",
        "    a = len(arr1)\n",
        "    n = int(a / m)\n",
        "    bins = []\n",
        "    for i in range(0, m):\n",
        "        arr = []\n",
        "        for j in range(i * n, (i + 1) * n):\n",
        "            if j >= a:\n",
        "                break\n",
        "            arr.append(arr1[j])\n",
        "        bins.append(arr)\n",
        "    return bins\n",
        "\n",
        "print(\"Equal frequency binning for petal_width\")\n",
        "equi = equifreq(df_sorted['petal_width'], 15)\n",
        "\n",
        "bin_medians = []\n",
        "for i in range(len(equi)):\n",
        "    median = np.median(equi[i])\n",
        "    bin_medians.append(median)\n",
        "\n",
        "print(\"Medians of each bin:\", bin_medians)\n"
      ]
    }
  ],
  "metadata": {
    "colab": {
      "collapsed_sections": [
        "jNk27lbbpRvM",
        "62o2btp2pjWZ",
        "hiKuJomt0TTS",
        "icr8vZ2KI0WL",
        "cvSP__z9I8x_",
        "vvZvzM1lNiPe",
        "5hWwB0iTN9uh"
      ],
      "provenance": [],
      "include_colab_link": true
    },
    "kernelspec": {
      "display_name": "Python 3",
      "name": "python3"
    },
    "language_info": {
      "codemirror_mode": {
        "name": "ipython",
        "version": 3
      },
      "file_extension": ".py",
      "mimetype": "text/x-python",
      "name": "python",
      "nbconvert_exporter": "python",
      "pygments_lexer": "ipython3",
      "version": "3.8.8"
    }
  },
  "nbformat": 4,
  "nbformat_minor": 5
}