{
  "cells": [
    {
      "cell_type": "markdown",
      "metadata": {
        "id": "view-in-github",
        "colab_type": "text"
      },
      "source": [
        "<a href=\"https://colab.research.google.com/github/DarshanSuresh/Data-Mining/blob/main/datamining_LAB.ipynb\" target=\"_parent\"><img src=\"https://colab.research.google.com/assets/colab-badge.svg\" alt=\"Open In Colab\"/></a>"
      ]
    },
    {
      "cell_type": "markdown",
      "source": [
        "# LAB 01 - 23 jan 2024"
      ],
      "metadata": {
        "id": "PXJ1C2hQoMG9"
      },
      "id": "PXJ1C2hQoMG9"
    },
    {
      "cell_type": "code",
      "source": [
        "!pwd"
      ],
      "metadata": {
        "colab": {
          "base_uri": "https://localhost:8080/"
        },
        "id": "t1o8E9wwon59",
        "outputId": "b0db6df1-f447-4195-da44-48733806186e"
      },
      "id": "t1o8E9wwon59",
      "execution_count": null,
      "outputs": [
        {
          "output_type": "stream",
          "name": "stdout",
          "text": [
            "/content\n"
          ]
        }
      ]
    },
    {
      "cell_type": "code",
      "source": [
        "import pandas as pd\n",
        "import numpy as np"
      ],
      "metadata": {
        "id": "sN6fg1lVo2ww"
      },
      "id": "sN6fg1lVo2ww",
      "execution_count": null,
      "outputs": []
    },
    {
      "cell_type": "markdown",
      "source": [
        "## Reading Excel"
      ],
      "metadata": {
        "id": "M4g6dI0FOysd"
      },
      "id": "M4g6dI0FOysd"
    },
    {
      "cell_type": "code",
      "source": [
        "df = pd.read_excel('age.xlsx')\n",
        "print(df)"
      ],
      "metadata": {
        "colab": {
          "base_uri": "https://localhost:8080/"
        },
        "id": "T4tr8rQLo3OI",
        "outputId": "f3d67f0e-e42e-495e-fa44-f6734f1f58b9"
      },
      "id": "T4tr8rQLo3OI",
      "execution_count": null,
      "outputs": [
        {
          "output_type": "stream",
          "name": "stdout",
          "text": [
            "    age\n",
            "0    33\n",
            "1    33\n",
            "2    13\n",
            "3    15\n",
            "4    35\n",
            "5    35\n",
            "6    35\n",
            "7    35\n",
            "8    16\n",
            "9    16\n",
            "10   19\n",
            "11   20\n",
            "12   20\n",
            "13   36\n",
            "14   40\n",
            "15   41\n",
            "16   22\n",
            "17   22\n",
            "18   45\n",
            "19   46\n",
            "20   25\n",
            "21   25\n",
            "22   25\n",
            "23   25\n",
            "24   52\n",
            "25   70\n",
            "26   30\n"
          ]
        }
      ]
    },
    {
      "cell_type": "markdown",
      "source": [
        "## Describing"
      ],
      "metadata": {
        "id": "TTMds7DHO2R1"
      },
      "id": "TTMds7DHO2R1"
    },
    {
      "cell_type": "code",
      "source": [
        "df.describe()"
      ],
      "metadata": {
        "colab": {
          "base_uri": "https://localhost:8080/",
          "height": 300
        },
        "id": "1lBevp09pLNz",
        "outputId": "0c051873-8900-4434-ee3a-4043b50935aa"
      },
      "id": "1lBevp09pLNz",
      "execution_count": null,
      "outputs": [
        {
          "output_type": "execute_result",
          "data": {
            "text/plain": [
              "             age\n",
              "count  27.000000\n",
              "mean   30.703704\n",
              "std    12.981688\n",
              "min    13.000000\n",
              "25%    21.000000\n",
              "50%    30.000000\n",
              "75%    35.500000\n",
              "max    70.000000"
            ],
            "text/html": [
              "\n",
              "  <div id=\"df-e3776720-87fe-4184-abb6-972b22b96205\" class=\"colab-df-container\">\n",
              "    <div>\n",
              "<style scoped>\n",
              "    .dataframe tbody tr th:only-of-type {\n",
              "        vertical-align: middle;\n",
              "    }\n",
              "\n",
              "    .dataframe tbody tr th {\n",
              "        vertical-align: top;\n",
              "    }\n",
              "\n",
              "    .dataframe thead th {\n",
              "        text-align: right;\n",
              "    }\n",
              "</style>\n",
              "<table border=\"1\" class=\"dataframe\">\n",
              "  <thead>\n",
              "    <tr style=\"text-align: right;\">\n",
              "      <th></th>\n",
              "      <th>age</th>\n",
              "    </tr>\n",
              "  </thead>\n",
              "  <tbody>\n",
              "    <tr>\n",
              "      <th>count</th>\n",
              "      <td>27.000000</td>\n",
              "    </tr>\n",
              "    <tr>\n",
              "      <th>mean</th>\n",
              "      <td>30.703704</td>\n",
              "    </tr>\n",
              "    <tr>\n",
              "      <th>std</th>\n",
              "      <td>12.981688</td>\n",
              "    </tr>\n",
              "    <tr>\n",
              "      <th>min</th>\n",
              "      <td>13.000000</td>\n",
              "    </tr>\n",
              "    <tr>\n",
              "      <th>25%</th>\n",
              "      <td>21.000000</td>\n",
              "    </tr>\n",
              "    <tr>\n",
              "      <th>50%</th>\n",
              "      <td>30.000000</td>\n",
              "    </tr>\n",
              "    <tr>\n",
              "      <th>75%</th>\n",
              "      <td>35.500000</td>\n",
              "    </tr>\n",
              "    <tr>\n",
              "      <th>max</th>\n",
              "      <td>70.000000</td>\n",
              "    </tr>\n",
              "  </tbody>\n",
              "</table>\n",
              "</div>\n",
              "    <div class=\"colab-df-buttons\">\n",
              "\n",
              "  <div class=\"colab-df-container\">\n",
              "    <button class=\"colab-df-convert\" onclick=\"convertToInteractive('df-e3776720-87fe-4184-abb6-972b22b96205')\"\n",
              "            title=\"Convert this dataframe to an interactive table.\"\n",
              "            style=\"display:none;\">\n",
              "\n",
              "  <svg xmlns=\"http://www.w3.org/2000/svg\" height=\"24px\" viewBox=\"0 -960 960 960\">\n",
              "    <path d=\"M120-120v-720h720v720H120Zm60-500h600v-160H180v160Zm220 220h160v-160H400v160Zm0 220h160v-160H400v160ZM180-400h160v-160H180v160Zm440 0h160v-160H620v160ZM180-180h160v-160H180v160Zm440 0h160v-160H620v160Z\"/>\n",
              "  </svg>\n",
              "    </button>\n",
              "\n",
              "  <style>\n",
              "    .colab-df-container {\n",
              "      display:flex;\n",
              "      gap: 12px;\n",
              "    }\n",
              "\n",
              "    .colab-df-convert {\n",
              "      background-color: #E8F0FE;\n",
              "      border: none;\n",
              "      border-radius: 50%;\n",
              "      cursor: pointer;\n",
              "      display: none;\n",
              "      fill: #1967D2;\n",
              "      height: 32px;\n",
              "      padding: 0 0 0 0;\n",
              "      width: 32px;\n",
              "    }\n",
              "\n",
              "    .colab-df-convert:hover {\n",
              "      background-color: #E2EBFA;\n",
              "      box-shadow: 0px 1px 2px rgba(60, 64, 67, 0.3), 0px 1px 3px 1px rgba(60, 64, 67, 0.15);\n",
              "      fill: #174EA6;\n",
              "    }\n",
              "\n",
              "    .colab-df-buttons div {\n",
              "      margin-bottom: 4px;\n",
              "    }\n",
              "\n",
              "    [theme=dark] .colab-df-convert {\n",
              "      background-color: #3B4455;\n",
              "      fill: #D2E3FC;\n",
              "    }\n",
              "\n",
              "    [theme=dark] .colab-df-convert:hover {\n",
              "      background-color: #434B5C;\n",
              "      box-shadow: 0px 1px 3px 1px rgba(0, 0, 0, 0.15);\n",
              "      filter: drop-shadow(0px 1px 2px rgba(0, 0, 0, 0.3));\n",
              "      fill: #FFFFFF;\n",
              "    }\n",
              "  </style>\n",
              "\n",
              "    <script>\n",
              "      const buttonEl =\n",
              "        document.querySelector('#df-e3776720-87fe-4184-abb6-972b22b96205 button.colab-df-convert');\n",
              "      buttonEl.style.display =\n",
              "        google.colab.kernel.accessAllowed ? 'block' : 'none';\n",
              "\n",
              "      async function convertToInteractive(key) {\n",
              "        const element = document.querySelector('#df-e3776720-87fe-4184-abb6-972b22b96205');\n",
              "        const dataTable =\n",
              "          await google.colab.kernel.invokeFunction('convertToInteractive',\n",
              "                                                    [key], {});\n",
              "        if (!dataTable) return;\n",
              "\n",
              "        const docLinkHtml = 'Like what you see? Visit the ' +\n",
              "          '<a target=\"_blank\" href=https://colab.research.google.com/notebooks/data_table.ipynb>data table notebook</a>'\n",
              "          + ' to learn more about interactive tables.';\n",
              "        element.innerHTML = '';\n",
              "        dataTable['output_type'] = 'display_data';\n",
              "        await google.colab.output.renderOutput(dataTable, element);\n",
              "        const docLink = document.createElement('div');\n",
              "        docLink.innerHTML = docLinkHtml;\n",
              "        element.appendChild(docLink);\n",
              "      }\n",
              "    </script>\n",
              "  </div>\n",
              "\n",
              "\n",
              "<div id=\"df-509f20cc-ddd0-4976-b7f1-df5d4638bbed\">\n",
              "  <button class=\"colab-df-quickchart\" onclick=\"quickchart('df-509f20cc-ddd0-4976-b7f1-df5d4638bbed')\"\n",
              "            title=\"Suggest charts\"\n",
              "            style=\"display:none;\">\n",
              "\n",
              "<svg xmlns=\"http://www.w3.org/2000/svg\" height=\"24px\"viewBox=\"0 0 24 24\"\n",
              "     width=\"24px\">\n",
              "    <g>\n",
              "        <path d=\"M19 3H5c-1.1 0-2 .9-2 2v14c0 1.1.9 2 2 2h14c1.1 0 2-.9 2-2V5c0-1.1-.9-2-2-2zM9 17H7v-7h2v7zm4 0h-2V7h2v10zm4 0h-2v-4h2v4z\"/>\n",
              "    </g>\n",
              "</svg>\n",
              "  </button>\n",
              "\n",
              "<style>\n",
              "  .colab-df-quickchart {\n",
              "      --bg-color: #E8F0FE;\n",
              "      --fill-color: #1967D2;\n",
              "      --hover-bg-color: #E2EBFA;\n",
              "      --hover-fill-color: #174EA6;\n",
              "      --disabled-fill-color: #AAA;\n",
              "      --disabled-bg-color: #DDD;\n",
              "  }\n",
              "\n",
              "  [theme=dark] .colab-df-quickchart {\n",
              "      --bg-color: #3B4455;\n",
              "      --fill-color: #D2E3FC;\n",
              "      --hover-bg-color: #434B5C;\n",
              "      --hover-fill-color: #FFFFFF;\n",
              "      --disabled-bg-color: #3B4455;\n",
              "      --disabled-fill-color: #666;\n",
              "  }\n",
              "\n",
              "  .colab-df-quickchart {\n",
              "    background-color: var(--bg-color);\n",
              "    border: none;\n",
              "    border-radius: 50%;\n",
              "    cursor: pointer;\n",
              "    display: none;\n",
              "    fill: var(--fill-color);\n",
              "    height: 32px;\n",
              "    padding: 0;\n",
              "    width: 32px;\n",
              "  }\n",
              "\n",
              "  .colab-df-quickchart:hover {\n",
              "    background-color: var(--hover-bg-color);\n",
              "    box-shadow: 0 1px 2px rgba(60, 64, 67, 0.3), 0 1px 3px 1px rgba(60, 64, 67, 0.15);\n",
              "    fill: var(--button-hover-fill-color);\n",
              "  }\n",
              "\n",
              "  .colab-df-quickchart-complete:disabled,\n",
              "  .colab-df-quickchart-complete:disabled:hover {\n",
              "    background-color: var(--disabled-bg-color);\n",
              "    fill: var(--disabled-fill-color);\n",
              "    box-shadow: none;\n",
              "  }\n",
              "\n",
              "  .colab-df-spinner {\n",
              "    border: 2px solid var(--fill-color);\n",
              "    border-color: transparent;\n",
              "    border-bottom-color: var(--fill-color);\n",
              "    animation:\n",
              "      spin 1s steps(1) infinite;\n",
              "  }\n",
              "\n",
              "  @keyframes spin {\n",
              "    0% {\n",
              "      border-color: transparent;\n",
              "      border-bottom-color: var(--fill-color);\n",
              "      border-left-color: var(--fill-color);\n",
              "    }\n",
              "    20% {\n",
              "      border-color: transparent;\n",
              "      border-left-color: var(--fill-color);\n",
              "      border-top-color: var(--fill-color);\n",
              "    }\n",
              "    30% {\n",
              "      border-color: transparent;\n",
              "      border-left-color: var(--fill-color);\n",
              "      border-top-color: var(--fill-color);\n",
              "      border-right-color: var(--fill-color);\n",
              "    }\n",
              "    40% {\n",
              "      border-color: transparent;\n",
              "      border-right-color: var(--fill-color);\n",
              "      border-top-color: var(--fill-color);\n",
              "    }\n",
              "    60% {\n",
              "      border-color: transparent;\n",
              "      border-right-color: var(--fill-color);\n",
              "    }\n",
              "    80% {\n",
              "      border-color: transparent;\n",
              "      border-right-color: var(--fill-color);\n",
              "      border-bottom-color: var(--fill-color);\n",
              "    }\n",
              "    90% {\n",
              "      border-color: transparent;\n",
              "      border-bottom-color: var(--fill-color);\n",
              "    }\n",
              "  }\n",
              "</style>\n",
              "\n",
              "  <script>\n",
              "    async function quickchart(key) {\n",
              "      const quickchartButtonEl =\n",
              "        document.querySelector('#' + key + ' button');\n",
              "      quickchartButtonEl.disabled = true;  // To prevent multiple clicks.\n",
              "      quickchartButtonEl.classList.add('colab-df-spinner');\n",
              "      try {\n",
              "        const charts = await google.colab.kernel.invokeFunction(\n",
              "            'suggestCharts', [key], {});\n",
              "      } catch (error) {\n",
              "        console.error('Error during call to suggestCharts:', error);\n",
              "      }\n",
              "      quickchartButtonEl.classList.remove('colab-df-spinner');\n",
              "      quickchartButtonEl.classList.add('colab-df-quickchart-complete');\n",
              "    }\n",
              "    (() => {\n",
              "      let quickchartButtonEl =\n",
              "        document.querySelector('#df-509f20cc-ddd0-4976-b7f1-df5d4638bbed button');\n",
              "      quickchartButtonEl.style.display =\n",
              "        google.colab.kernel.accessAllowed ? 'block' : 'none';\n",
              "    })();\n",
              "  </script>\n",
              "</div>\n",
              "\n",
              "    </div>\n",
              "  </div>\n"
            ],
            "application/vnd.google.colaboratory.intrinsic+json": {
              "type": "dataframe",
              "summary": "{\n  \"name\": \"df\",\n  \"rows\": 8,\n  \"fields\": [\n    {\n      \"column\": \"age\",\n      \"properties\": {\n        \"dtype\": \"number\",\n        \"std\": 18.12403240729513,\n        \"min\": 12.98168773789512,\n        \"max\": 70.0,\n        \"samples\": [\n          30.703703703703702,\n          30.0,\n          27.0\n        ],\n        \"num_unique_values\": 8,\n        \"semantic_type\": \"\",\n        \"description\": \"\"\n      }\n    }\n  ]\n}"
            }
          },
          "metadata": {},
          "execution_count": 110
        }
      ]
    },
    {
      "cell_type": "markdown",
      "source": [
        "## Display 5"
      ],
      "metadata": {
        "id": "UbtsrqFSO4w4"
      },
      "id": "UbtsrqFSO4w4"
    },
    {
      "cell_type": "code",
      "source": [
        "df.head()"
      ],
      "metadata": {
        "colab": {
          "base_uri": "https://localhost:8080/",
          "height": 206
        },
        "id": "Sgvv9axyqnRT",
        "outputId": "988bcac0-0b4e-465d-8bc7-4b66002891e3"
      },
      "id": "Sgvv9axyqnRT",
      "execution_count": null,
      "outputs": [
        {
          "output_type": "execute_result",
          "data": {
            "text/plain": [
              "   age\n",
              "0   33\n",
              "1   33\n",
              "2   13\n",
              "3   15\n",
              "4   35"
            ],
            "text/html": [
              "\n",
              "  <div id=\"df-78c92f23-39b8-427e-ab7c-44f19926230d\" class=\"colab-df-container\">\n",
              "    <div>\n",
              "<style scoped>\n",
              "    .dataframe tbody tr th:only-of-type {\n",
              "        vertical-align: middle;\n",
              "    }\n",
              "\n",
              "    .dataframe tbody tr th {\n",
              "        vertical-align: top;\n",
              "    }\n",
              "\n",
              "    .dataframe thead th {\n",
              "        text-align: right;\n",
              "    }\n",
              "</style>\n",
              "<table border=\"1\" class=\"dataframe\">\n",
              "  <thead>\n",
              "    <tr style=\"text-align: right;\">\n",
              "      <th></th>\n",
              "      <th>age</th>\n",
              "    </tr>\n",
              "  </thead>\n",
              "  <tbody>\n",
              "    <tr>\n",
              "      <th>0</th>\n",
              "      <td>33</td>\n",
              "    </tr>\n",
              "    <tr>\n",
              "      <th>1</th>\n",
              "      <td>33</td>\n",
              "    </tr>\n",
              "    <tr>\n",
              "      <th>2</th>\n",
              "      <td>13</td>\n",
              "    </tr>\n",
              "    <tr>\n",
              "      <th>3</th>\n",
              "      <td>15</td>\n",
              "    </tr>\n",
              "    <tr>\n",
              "      <th>4</th>\n",
              "      <td>35</td>\n",
              "    </tr>\n",
              "  </tbody>\n",
              "</table>\n",
              "</div>\n",
              "    <div class=\"colab-df-buttons\">\n",
              "\n",
              "  <div class=\"colab-df-container\">\n",
              "    <button class=\"colab-df-convert\" onclick=\"convertToInteractive('df-78c92f23-39b8-427e-ab7c-44f19926230d')\"\n",
              "            title=\"Convert this dataframe to an interactive table.\"\n",
              "            style=\"display:none;\">\n",
              "\n",
              "  <svg xmlns=\"http://www.w3.org/2000/svg\" height=\"24px\" viewBox=\"0 -960 960 960\">\n",
              "    <path d=\"M120-120v-720h720v720H120Zm60-500h600v-160H180v160Zm220 220h160v-160H400v160Zm0 220h160v-160H400v160ZM180-400h160v-160H180v160Zm440 0h160v-160H620v160ZM180-180h160v-160H180v160Zm440 0h160v-160H620v160Z\"/>\n",
              "  </svg>\n",
              "    </button>\n",
              "\n",
              "  <style>\n",
              "    .colab-df-container {\n",
              "      display:flex;\n",
              "      gap: 12px;\n",
              "    }\n",
              "\n",
              "    .colab-df-convert {\n",
              "      background-color: #E8F0FE;\n",
              "      border: none;\n",
              "      border-radius: 50%;\n",
              "      cursor: pointer;\n",
              "      display: none;\n",
              "      fill: #1967D2;\n",
              "      height: 32px;\n",
              "      padding: 0 0 0 0;\n",
              "      width: 32px;\n",
              "    }\n",
              "\n",
              "    .colab-df-convert:hover {\n",
              "      background-color: #E2EBFA;\n",
              "      box-shadow: 0px 1px 2px rgba(60, 64, 67, 0.3), 0px 1px 3px 1px rgba(60, 64, 67, 0.15);\n",
              "      fill: #174EA6;\n",
              "    }\n",
              "\n",
              "    .colab-df-buttons div {\n",
              "      margin-bottom: 4px;\n",
              "    }\n",
              "\n",
              "    [theme=dark] .colab-df-convert {\n",
              "      background-color: #3B4455;\n",
              "      fill: #D2E3FC;\n",
              "    }\n",
              "\n",
              "    [theme=dark] .colab-df-convert:hover {\n",
              "      background-color: #434B5C;\n",
              "      box-shadow: 0px 1px 3px 1px rgba(0, 0, 0, 0.15);\n",
              "      filter: drop-shadow(0px 1px 2px rgba(0, 0, 0, 0.3));\n",
              "      fill: #FFFFFF;\n",
              "    }\n",
              "  </style>\n",
              "\n",
              "    <script>\n",
              "      const buttonEl =\n",
              "        document.querySelector('#df-78c92f23-39b8-427e-ab7c-44f19926230d button.colab-df-convert');\n",
              "      buttonEl.style.display =\n",
              "        google.colab.kernel.accessAllowed ? 'block' : 'none';\n",
              "\n",
              "      async function convertToInteractive(key) {\n",
              "        const element = document.querySelector('#df-78c92f23-39b8-427e-ab7c-44f19926230d');\n",
              "        const dataTable =\n",
              "          await google.colab.kernel.invokeFunction('convertToInteractive',\n",
              "                                                    [key], {});\n",
              "        if (!dataTable) return;\n",
              "\n",
              "        const docLinkHtml = 'Like what you see? Visit the ' +\n",
              "          '<a target=\"_blank\" href=https://colab.research.google.com/notebooks/data_table.ipynb>data table notebook</a>'\n",
              "          + ' to learn more about interactive tables.';\n",
              "        element.innerHTML = '';\n",
              "        dataTable['output_type'] = 'display_data';\n",
              "        await google.colab.output.renderOutput(dataTable, element);\n",
              "        const docLink = document.createElement('div');\n",
              "        docLink.innerHTML = docLinkHtml;\n",
              "        element.appendChild(docLink);\n",
              "      }\n",
              "    </script>\n",
              "  </div>\n",
              "\n",
              "\n",
              "<div id=\"df-b32c883d-0cd7-4b32-8aa3-12592526a63b\">\n",
              "  <button class=\"colab-df-quickchart\" onclick=\"quickchart('df-b32c883d-0cd7-4b32-8aa3-12592526a63b')\"\n",
              "            title=\"Suggest charts\"\n",
              "            style=\"display:none;\">\n",
              "\n",
              "<svg xmlns=\"http://www.w3.org/2000/svg\" height=\"24px\"viewBox=\"0 0 24 24\"\n",
              "     width=\"24px\">\n",
              "    <g>\n",
              "        <path d=\"M19 3H5c-1.1 0-2 .9-2 2v14c0 1.1.9 2 2 2h14c1.1 0 2-.9 2-2V5c0-1.1-.9-2-2-2zM9 17H7v-7h2v7zm4 0h-2V7h2v10zm4 0h-2v-4h2v4z\"/>\n",
              "    </g>\n",
              "</svg>\n",
              "  </button>\n",
              "\n",
              "<style>\n",
              "  .colab-df-quickchart {\n",
              "      --bg-color: #E8F0FE;\n",
              "      --fill-color: #1967D2;\n",
              "      --hover-bg-color: #E2EBFA;\n",
              "      --hover-fill-color: #174EA6;\n",
              "      --disabled-fill-color: #AAA;\n",
              "      --disabled-bg-color: #DDD;\n",
              "  }\n",
              "\n",
              "  [theme=dark] .colab-df-quickchart {\n",
              "      --bg-color: #3B4455;\n",
              "      --fill-color: #D2E3FC;\n",
              "      --hover-bg-color: #434B5C;\n",
              "      --hover-fill-color: #FFFFFF;\n",
              "      --disabled-bg-color: #3B4455;\n",
              "      --disabled-fill-color: #666;\n",
              "  }\n",
              "\n",
              "  .colab-df-quickchart {\n",
              "    background-color: var(--bg-color);\n",
              "    border: none;\n",
              "    border-radius: 50%;\n",
              "    cursor: pointer;\n",
              "    display: none;\n",
              "    fill: var(--fill-color);\n",
              "    height: 32px;\n",
              "    padding: 0;\n",
              "    width: 32px;\n",
              "  }\n",
              "\n",
              "  .colab-df-quickchart:hover {\n",
              "    background-color: var(--hover-bg-color);\n",
              "    box-shadow: 0 1px 2px rgba(60, 64, 67, 0.3), 0 1px 3px 1px rgba(60, 64, 67, 0.15);\n",
              "    fill: var(--button-hover-fill-color);\n",
              "  }\n",
              "\n",
              "  .colab-df-quickchart-complete:disabled,\n",
              "  .colab-df-quickchart-complete:disabled:hover {\n",
              "    background-color: var(--disabled-bg-color);\n",
              "    fill: var(--disabled-fill-color);\n",
              "    box-shadow: none;\n",
              "  }\n",
              "\n",
              "  .colab-df-spinner {\n",
              "    border: 2px solid var(--fill-color);\n",
              "    border-color: transparent;\n",
              "    border-bottom-color: var(--fill-color);\n",
              "    animation:\n",
              "      spin 1s steps(1) infinite;\n",
              "  }\n",
              "\n",
              "  @keyframes spin {\n",
              "    0% {\n",
              "      border-color: transparent;\n",
              "      border-bottom-color: var(--fill-color);\n",
              "      border-left-color: var(--fill-color);\n",
              "    }\n",
              "    20% {\n",
              "      border-color: transparent;\n",
              "      border-left-color: var(--fill-color);\n",
              "      border-top-color: var(--fill-color);\n",
              "    }\n",
              "    30% {\n",
              "      border-color: transparent;\n",
              "      border-left-color: var(--fill-color);\n",
              "      border-top-color: var(--fill-color);\n",
              "      border-right-color: var(--fill-color);\n",
              "    }\n",
              "    40% {\n",
              "      border-color: transparent;\n",
              "      border-right-color: var(--fill-color);\n",
              "      border-top-color: var(--fill-color);\n",
              "    }\n",
              "    60% {\n",
              "      border-color: transparent;\n",
              "      border-right-color: var(--fill-color);\n",
              "    }\n",
              "    80% {\n",
              "      border-color: transparent;\n",
              "      border-right-color: var(--fill-color);\n",
              "      border-bottom-color: var(--fill-color);\n",
              "    }\n",
              "    90% {\n",
              "      border-color: transparent;\n",
              "      border-bottom-color: var(--fill-color);\n",
              "    }\n",
              "  }\n",
              "</style>\n",
              "\n",
              "  <script>\n",
              "    async function quickchart(key) {\n",
              "      const quickchartButtonEl =\n",
              "        document.querySelector('#' + key + ' button');\n",
              "      quickchartButtonEl.disabled = true;  // To prevent multiple clicks.\n",
              "      quickchartButtonEl.classList.add('colab-df-spinner');\n",
              "      try {\n",
              "        const charts = await google.colab.kernel.invokeFunction(\n",
              "            'suggestCharts', [key], {});\n",
              "      } catch (error) {\n",
              "        console.error('Error during call to suggestCharts:', error);\n",
              "      }\n",
              "      quickchartButtonEl.classList.remove('colab-df-spinner');\n",
              "      quickchartButtonEl.classList.add('colab-df-quickchart-complete');\n",
              "    }\n",
              "    (() => {\n",
              "      let quickchartButtonEl =\n",
              "        document.querySelector('#df-b32c883d-0cd7-4b32-8aa3-12592526a63b button');\n",
              "      quickchartButtonEl.style.display =\n",
              "        google.colab.kernel.accessAllowed ? 'block' : 'none';\n",
              "    })();\n",
              "  </script>\n",
              "</div>\n",
              "\n",
              "    </div>\n",
              "  </div>\n"
            ],
            "application/vnd.google.colaboratory.intrinsic+json": {
              "type": "dataframe",
              "variable_name": "df",
              "summary": "{\n  \"name\": \"df\",\n  \"rows\": 27,\n  \"fields\": [\n    {\n      \"column\": \"age\",\n      \"properties\": {\n        \"dtype\": \"number\",\n        \"std\": 12,\n        \"min\": 13,\n        \"max\": 70,\n        \"samples\": [\n          33,\n          13,\n          19\n        ],\n        \"num_unique_values\": 17,\n        \"semantic_type\": \"\",\n        \"description\": \"\"\n      }\n    }\n  ]\n}"
            }
          },
          "metadata": {},
          "execution_count": 111
        }
      ]
    },
    {
      "cell_type": "markdown",
      "source": [
        "# LAB 02 - 30 Jan 2024"
      ],
      "metadata": {
        "id": "jNk27lbbpRvM"
      },
      "id": "jNk27lbbpRvM"
    },
    {
      "cell_type": "markdown",
      "source": [
        "## Mean"
      ],
      "metadata": {
        "id": "nBLeo5UWOReG"
      },
      "id": "nBLeo5UWOReG"
    },
    {
      "cell_type": "code",
      "source": [
        "mean1= df.mean()\n",
        "print(mean1)"
      ],
      "metadata": {
        "colab": {
          "base_uri": "https://localhost:8080/"
        },
        "id": "kqfv81MjpPVl",
        "outputId": "325e5357-a596-423d-8a27-e124206f543c"
      },
      "id": "kqfv81MjpPVl",
      "execution_count": null,
      "outputs": [
        {
          "output_type": "stream",
          "name": "stdout",
          "text": [
            "age    30.703704\n",
            "dtype: float64\n"
          ]
        }
      ]
    },
    {
      "cell_type": "markdown",
      "source": [
        "## Median"
      ],
      "metadata": {
        "id": "upd5HNGcOUmt"
      },
      "id": "upd5HNGcOUmt"
    },
    {
      "cell_type": "code",
      "source": [
        "median1= df.median()\n",
        "print(median1)"
      ],
      "metadata": {
        "colab": {
          "base_uri": "https://localhost:8080/"
        },
        "id": "jBy67KuLrlLq",
        "outputId": "9a9b59a0-7c7e-4a94-fa2d-39a0a0a589c9"
      },
      "id": "jBy67KuLrlLq",
      "execution_count": null,
      "outputs": [
        {
          "output_type": "stream",
          "name": "stdout",
          "text": [
            "age    30.0\n",
            "dtype: float64\n"
          ]
        }
      ]
    },
    {
      "cell_type": "markdown",
      "source": [
        "## Mode"
      ],
      "metadata": {
        "id": "qb35T9KWOYY_"
      },
      "id": "qb35T9KWOYY_"
    },
    {
      "cell_type": "code",
      "source": [
        "mode1= df.mode()\n",
        "print(mode1)"
      ],
      "metadata": {
        "colab": {
          "base_uri": "https://localhost:8080/"
        },
        "id": "YWy875WBrpXB",
        "outputId": "f49e52dc-02ac-4f9c-d97a-5fca85df3e05"
      },
      "id": "YWy875WBrpXB",
      "execution_count": null,
      "outputs": [
        {
          "output_type": "stream",
          "name": "stdout",
          "text": [
            "   age\n",
            "0   25\n",
            "1   35\n"
          ]
        }
      ]
    },
    {
      "cell_type": "markdown",
      "source": [
        "## Minimum"
      ],
      "metadata": {
        "id": "Vh3EBTiOObr-"
      },
      "id": "Vh3EBTiOObr-"
    },
    {
      "cell_type": "code",
      "source": [
        "minimum=df.min()\n",
        "print(minimum)"
      ],
      "metadata": {
        "colab": {
          "base_uri": "https://localhost:8080/"
        },
        "id": "R9gqkr2Crtd0",
        "outputId": "3071761f-82cb-4c9b-869c-380b877652eb"
      },
      "id": "R9gqkr2Crtd0",
      "execution_count": null,
      "outputs": [
        {
          "output_type": "stream",
          "name": "stdout",
          "text": [
            "age    13\n",
            "dtype: int64\n"
          ]
        }
      ]
    },
    {
      "cell_type": "markdown",
      "source": [
        "## Maximum"
      ],
      "metadata": {
        "id": "qjniW1TBOdzG"
      },
      "id": "qjniW1TBOdzG"
    },
    {
      "cell_type": "code",
      "source": [
        "max= df.max()\n",
        "print(max)"
      ],
      "metadata": {
        "colab": {
          "base_uri": "https://localhost:8080/"
        },
        "id": "bNdBN4nUsOC_",
        "outputId": "d4b9b46a-841d-40d9-825a-dac61c9222c1"
      },
      "id": "bNdBN4nUsOC_",
      "execution_count": null,
      "outputs": [
        {
          "output_type": "stream",
          "name": "stdout",
          "text": [
            "age    70\n",
            "dtype: int64\n"
          ]
        }
      ]
    },
    {
      "cell_type": "markdown",
      "source": [
        "## Variance"
      ],
      "metadata": {
        "id": "gytt5l9gOf6e"
      },
      "id": "gytt5l9gOf6e"
    },
    {
      "cell_type": "code",
      "execution_count": null,
      "metadata": {
        "id": "5c7d85cb",
        "outputId": "ba005173-dd2e-466e-b572-a6381d1ac1e1",
        "colab": {
          "base_uri": "https://localhost:8080/"
        }
      },
      "outputs": [
        {
          "output_type": "stream",
          "name": "stdout",
          "text": [
            "age    168.524217\n",
            "dtype: float64\n"
          ]
        }
      ],
      "source": [
        "variance=df.var()\n",
        "print(variance)"
      ],
      "id": "5c7d85cb"
    },
    {
      "cell_type": "markdown",
      "source": [
        "## ST Deviation"
      ],
      "metadata": {
        "id": "5AktvqpAOidN"
      },
      "id": "5AktvqpAOidN"
    },
    {
      "cell_type": "code",
      "source": [
        "stdev=df.std()\n",
        "print(stdev)"
      ],
      "metadata": {
        "colab": {
          "base_uri": "https://localhost:8080/"
        },
        "id": "bEu6mNiusYZu",
        "outputId": "602455c1-d733-4989-f1df-966c87ea8b29"
      },
      "id": "bEu6mNiusYZu",
      "execution_count": null,
      "outputs": [
        {
          "output_type": "stream",
          "name": "stdout",
          "text": [
            "age    12.981688\n",
            "dtype: float64\n"
          ]
        }
      ]
    },
    {
      "cell_type": "markdown",
      "source": [
        "## Coeff Variance"
      ],
      "metadata": {
        "id": "tGOIlnfYOmp2"
      },
      "id": "tGOIlnfYOmp2"
    },
    {
      "cell_type": "code",
      "source": [
        "coeff_var = (stdev / mean1) * 100\n",
        "print(coeff_var)"
      ],
      "metadata": {
        "colab": {
          "base_uri": "https://localhost:8080/"
        },
        "id": "5o-EBna8sbFm",
        "outputId": "e7279982-3a52-4f5b-c50c-1b9ae8895f04"
      },
      "id": "5o-EBna8sbFm",
      "execution_count": null,
      "outputs": [
        {
          "output_type": "stream",
          "name": "stdout",
          "text": [
            "age    42.280527\n",
            "dtype: float64\n"
          ]
        }
      ]
    },
    {
      "cell_type": "markdown",
      "source": [
        "## Quantile"
      ],
      "metadata": {
        "id": "gkMNIPiwOqwn"
      },
      "id": "gkMNIPiwOqwn"
    },
    {
      "cell_type": "code",
      "source": [
        "df.quantile([.25,.5,.75])"
      ],
      "metadata": {
        "colab": {
          "base_uri": "https://localhost:8080/",
          "height": 143
        },
        "id": "eobE_FBdsenr",
        "outputId": "10aadf1e-951c-4670-e133-07fed84e49b2"
      },
      "id": "eobE_FBdsenr",
      "execution_count": null,
      "outputs": [
        {
          "output_type": "execute_result",
          "data": {
            "text/plain": [
              "       age\n",
              "0.25  21.0\n",
              "0.50  30.0\n",
              "0.75  35.5"
            ],
            "text/html": [
              "\n",
              "  <div id=\"df-a0c678fa-46bf-409c-a502-df715a91a977\" class=\"colab-df-container\">\n",
              "    <div>\n",
              "<style scoped>\n",
              "    .dataframe tbody tr th:only-of-type {\n",
              "        vertical-align: middle;\n",
              "    }\n",
              "\n",
              "    .dataframe tbody tr th {\n",
              "        vertical-align: top;\n",
              "    }\n",
              "\n",
              "    .dataframe thead th {\n",
              "        text-align: right;\n",
              "    }\n",
              "</style>\n",
              "<table border=\"1\" class=\"dataframe\">\n",
              "  <thead>\n",
              "    <tr style=\"text-align: right;\">\n",
              "      <th></th>\n",
              "      <th>age</th>\n",
              "    </tr>\n",
              "  </thead>\n",
              "  <tbody>\n",
              "    <tr>\n",
              "      <th>0.25</th>\n",
              "      <td>21.0</td>\n",
              "    </tr>\n",
              "    <tr>\n",
              "      <th>0.50</th>\n",
              "      <td>30.0</td>\n",
              "    </tr>\n",
              "    <tr>\n",
              "      <th>0.75</th>\n",
              "      <td>35.5</td>\n",
              "    </tr>\n",
              "  </tbody>\n",
              "</table>\n",
              "</div>\n",
              "    <div class=\"colab-df-buttons\">\n",
              "\n",
              "  <div class=\"colab-df-container\">\n",
              "    <button class=\"colab-df-convert\" onclick=\"convertToInteractive('df-a0c678fa-46bf-409c-a502-df715a91a977')\"\n",
              "            title=\"Convert this dataframe to an interactive table.\"\n",
              "            style=\"display:none;\">\n",
              "\n",
              "  <svg xmlns=\"http://www.w3.org/2000/svg\" height=\"24px\" viewBox=\"0 -960 960 960\">\n",
              "    <path d=\"M120-120v-720h720v720H120Zm60-500h600v-160H180v160Zm220 220h160v-160H400v160Zm0 220h160v-160H400v160ZM180-400h160v-160H180v160Zm440 0h160v-160H620v160ZM180-180h160v-160H180v160Zm440 0h160v-160H620v160Z\"/>\n",
              "  </svg>\n",
              "    </button>\n",
              "\n",
              "  <style>\n",
              "    .colab-df-container {\n",
              "      display:flex;\n",
              "      gap: 12px;\n",
              "    }\n",
              "\n",
              "    .colab-df-convert {\n",
              "      background-color: #E8F0FE;\n",
              "      border: none;\n",
              "      border-radius: 50%;\n",
              "      cursor: pointer;\n",
              "      display: none;\n",
              "      fill: #1967D2;\n",
              "      height: 32px;\n",
              "      padding: 0 0 0 0;\n",
              "      width: 32px;\n",
              "    }\n",
              "\n",
              "    .colab-df-convert:hover {\n",
              "      background-color: #E2EBFA;\n",
              "      box-shadow: 0px 1px 2px rgba(60, 64, 67, 0.3), 0px 1px 3px 1px rgba(60, 64, 67, 0.15);\n",
              "      fill: #174EA6;\n",
              "    }\n",
              "\n",
              "    .colab-df-buttons div {\n",
              "      margin-bottom: 4px;\n",
              "    }\n",
              "\n",
              "    [theme=dark] .colab-df-convert {\n",
              "      background-color: #3B4455;\n",
              "      fill: #D2E3FC;\n",
              "    }\n",
              "\n",
              "    [theme=dark] .colab-df-convert:hover {\n",
              "      background-color: #434B5C;\n",
              "      box-shadow: 0px 1px 3px 1px rgba(0, 0, 0, 0.15);\n",
              "      filter: drop-shadow(0px 1px 2px rgba(0, 0, 0, 0.3));\n",
              "      fill: #FFFFFF;\n",
              "    }\n",
              "  </style>\n",
              "\n",
              "    <script>\n",
              "      const buttonEl =\n",
              "        document.querySelector('#df-a0c678fa-46bf-409c-a502-df715a91a977 button.colab-df-convert');\n",
              "      buttonEl.style.display =\n",
              "        google.colab.kernel.accessAllowed ? 'block' : 'none';\n",
              "\n",
              "      async function convertToInteractive(key) {\n",
              "        const element = document.querySelector('#df-a0c678fa-46bf-409c-a502-df715a91a977');\n",
              "        const dataTable =\n",
              "          await google.colab.kernel.invokeFunction('convertToInteractive',\n",
              "                                                    [key], {});\n",
              "        if (!dataTable) return;\n",
              "\n",
              "        const docLinkHtml = 'Like what you see? Visit the ' +\n",
              "          '<a target=\"_blank\" href=https://colab.research.google.com/notebooks/data_table.ipynb>data table notebook</a>'\n",
              "          + ' to learn more about interactive tables.';\n",
              "        element.innerHTML = '';\n",
              "        dataTable['output_type'] = 'display_data';\n",
              "        await google.colab.output.renderOutput(dataTable, element);\n",
              "        const docLink = document.createElement('div');\n",
              "        docLink.innerHTML = docLinkHtml;\n",
              "        element.appendChild(docLink);\n",
              "      }\n",
              "    </script>\n",
              "  </div>\n",
              "\n",
              "\n",
              "<div id=\"df-1f412dbf-a281-4d8f-a954-b7691889d30d\">\n",
              "  <button class=\"colab-df-quickchart\" onclick=\"quickchart('df-1f412dbf-a281-4d8f-a954-b7691889d30d')\"\n",
              "            title=\"Suggest charts\"\n",
              "            style=\"display:none;\">\n",
              "\n",
              "<svg xmlns=\"http://www.w3.org/2000/svg\" height=\"24px\"viewBox=\"0 0 24 24\"\n",
              "     width=\"24px\">\n",
              "    <g>\n",
              "        <path d=\"M19 3H5c-1.1 0-2 .9-2 2v14c0 1.1.9 2 2 2h14c1.1 0 2-.9 2-2V5c0-1.1-.9-2-2-2zM9 17H7v-7h2v7zm4 0h-2V7h2v10zm4 0h-2v-4h2v4z\"/>\n",
              "    </g>\n",
              "</svg>\n",
              "  </button>\n",
              "\n",
              "<style>\n",
              "  .colab-df-quickchart {\n",
              "      --bg-color: #E8F0FE;\n",
              "      --fill-color: #1967D2;\n",
              "      --hover-bg-color: #E2EBFA;\n",
              "      --hover-fill-color: #174EA6;\n",
              "      --disabled-fill-color: #AAA;\n",
              "      --disabled-bg-color: #DDD;\n",
              "  }\n",
              "\n",
              "  [theme=dark] .colab-df-quickchart {\n",
              "      --bg-color: #3B4455;\n",
              "      --fill-color: #D2E3FC;\n",
              "      --hover-bg-color: #434B5C;\n",
              "      --hover-fill-color: #FFFFFF;\n",
              "      --disabled-bg-color: #3B4455;\n",
              "      --disabled-fill-color: #666;\n",
              "  }\n",
              "\n",
              "  .colab-df-quickchart {\n",
              "    background-color: var(--bg-color);\n",
              "    border: none;\n",
              "    border-radius: 50%;\n",
              "    cursor: pointer;\n",
              "    display: none;\n",
              "    fill: var(--fill-color);\n",
              "    height: 32px;\n",
              "    padding: 0;\n",
              "    width: 32px;\n",
              "  }\n",
              "\n",
              "  .colab-df-quickchart:hover {\n",
              "    background-color: var(--hover-bg-color);\n",
              "    box-shadow: 0 1px 2px rgba(60, 64, 67, 0.3), 0 1px 3px 1px rgba(60, 64, 67, 0.15);\n",
              "    fill: var(--button-hover-fill-color);\n",
              "  }\n",
              "\n",
              "  .colab-df-quickchart-complete:disabled,\n",
              "  .colab-df-quickchart-complete:disabled:hover {\n",
              "    background-color: var(--disabled-bg-color);\n",
              "    fill: var(--disabled-fill-color);\n",
              "    box-shadow: none;\n",
              "  }\n",
              "\n",
              "  .colab-df-spinner {\n",
              "    border: 2px solid var(--fill-color);\n",
              "    border-color: transparent;\n",
              "    border-bottom-color: var(--fill-color);\n",
              "    animation:\n",
              "      spin 1s steps(1) infinite;\n",
              "  }\n",
              "\n",
              "  @keyframes spin {\n",
              "    0% {\n",
              "      border-color: transparent;\n",
              "      border-bottom-color: var(--fill-color);\n",
              "      border-left-color: var(--fill-color);\n",
              "    }\n",
              "    20% {\n",
              "      border-color: transparent;\n",
              "      border-left-color: var(--fill-color);\n",
              "      border-top-color: var(--fill-color);\n",
              "    }\n",
              "    30% {\n",
              "      border-color: transparent;\n",
              "      border-left-color: var(--fill-color);\n",
              "      border-top-color: var(--fill-color);\n",
              "      border-right-color: var(--fill-color);\n",
              "    }\n",
              "    40% {\n",
              "      border-color: transparent;\n",
              "      border-right-color: var(--fill-color);\n",
              "      border-top-color: var(--fill-color);\n",
              "    }\n",
              "    60% {\n",
              "      border-color: transparent;\n",
              "      border-right-color: var(--fill-color);\n",
              "    }\n",
              "    80% {\n",
              "      border-color: transparent;\n",
              "      border-right-color: var(--fill-color);\n",
              "      border-bottom-color: var(--fill-color);\n",
              "    }\n",
              "    90% {\n",
              "      border-color: transparent;\n",
              "      border-bottom-color: var(--fill-color);\n",
              "    }\n",
              "  }\n",
              "</style>\n",
              "\n",
              "  <script>\n",
              "    async function quickchart(key) {\n",
              "      const quickchartButtonEl =\n",
              "        document.querySelector('#' + key + ' button');\n",
              "      quickchartButtonEl.disabled = true;  // To prevent multiple clicks.\n",
              "      quickchartButtonEl.classList.add('colab-df-spinner');\n",
              "      try {\n",
              "        const charts = await google.colab.kernel.invokeFunction(\n",
              "            'suggestCharts', [key], {});\n",
              "      } catch (error) {\n",
              "        console.error('Error during call to suggestCharts:', error);\n",
              "      }\n",
              "      quickchartButtonEl.classList.remove('colab-df-spinner');\n",
              "      quickchartButtonEl.classList.add('colab-df-quickchart-complete');\n",
              "    }\n",
              "    (() => {\n",
              "      let quickchartButtonEl =\n",
              "        document.querySelector('#df-1f412dbf-a281-4d8f-a954-b7691889d30d button');\n",
              "      quickchartButtonEl.style.display =\n",
              "        google.colab.kernel.accessAllowed ? 'block' : 'none';\n",
              "    })();\n",
              "  </script>\n",
              "</div>\n",
              "\n",
              "    </div>\n",
              "  </div>\n"
            ],
            "application/vnd.google.colaboratory.intrinsic+json": {
              "type": "dataframe",
              "summary": "{\n  \"name\": \"df\",\n  \"rows\": 3,\n  \"fields\": [\n    {\n      \"column\": \"age\",\n      \"properties\": {\n        \"dtype\": \"number\",\n        \"std\": 7.32006375199925,\n        \"min\": 21.0,\n        \"max\": 35.5,\n        \"samples\": [\n          21.0,\n          30.0,\n          35.5\n        ],\n        \"num_unique_values\": 3,\n        \"semantic_type\": \"\",\n        \"description\": \"\"\n      }\n    }\n  ]\n}"
            }
          },
          "metadata": {},
          "execution_count": 120
        }
      ]
    },
    {
      "cell_type": "code",
      "source": [
        "q1=df.quantile([.25])\n",
        "print(q1)"
      ],
      "metadata": {
        "colab": {
          "base_uri": "https://localhost:8080/"
        },
        "id": "yN52UyiEsh8p",
        "outputId": "1c311049-7210-448e-c85c-1f030d073310"
      },
      "id": "yN52UyiEsh8p",
      "execution_count": null,
      "outputs": [
        {
          "output_type": "stream",
          "name": "stdout",
          "text": [
            "       age\n",
            "0.25  21.0\n"
          ]
        }
      ]
    },
    {
      "cell_type": "code",
      "source": [
        "q2=df.quantile([.5])\n",
        "print(q2)"
      ],
      "metadata": {
        "colab": {
          "base_uri": "https://localhost:8080/"
        },
        "id": "_x-FkNB8sj22",
        "outputId": "80772cd1-fb03-4ae4-f5e0-0d7d45fb762a"
      },
      "id": "_x-FkNB8sj22",
      "execution_count": null,
      "outputs": [
        {
          "output_type": "stream",
          "name": "stdout",
          "text": [
            "      age\n",
            "0.5  30.0\n"
          ]
        }
      ]
    },
    {
      "cell_type": "code",
      "source": [
        "q3=df.quantile([.75])\n",
        "print(q3)"
      ],
      "metadata": {
        "colab": {
          "base_uri": "https://localhost:8080/"
        },
        "id": "dY7hmaLDsmDB",
        "outputId": "01c6a9aa-ed14-432c-8795-5278681e344f"
      },
      "id": "dY7hmaLDsmDB",
      "execution_count": null,
      "outputs": [
        {
          "output_type": "stream",
          "name": "stdout",
          "text": [
            "       age\n",
            "0.75  35.5\n"
          ]
        }
      ]
    },
    {
      "cell_type": "markdown",
      "source": [
        "## Boxplot"
      ],
      "metadata": {
        "id": "Q5Dtipx_OuNt"
      },
      "id": "Q5Dtipx_OuNt"
    },
    {
      "cell_type": "code",
      "source": [
        "import matplotlib.pyplot as plt\n",
        "plt.boxplot(df)"
      ],
      "metadata": {
        "colab": {
          "base_uri": "https://localhost:8080/",
          "height": 573
        },
        "id": "uU8Ck1r6soSK",
        "outputId": "ebdf2f4e-02cf-401e-b956-12eb6ad6ad3f"
      },
      "id": "uU8Ck1r6soSK",
      "execution_count": null,
      "outputs": [
        {
          "output_type": "execute_result",
          "data": {
            "text/plain": [
              "{'whiskers': [<matplotlib.lines.Line2D at 0x787c6dd0e380>,\n",
              "  <matplotlib.lines.Line2D at 0x787c6dd0c880>],\n",
              " 'caps': [<matplotlib.lines.Line2D at 0x787c6dd3d8a0>,\n",
              "  <matplotlib.lines.Line2D at 0x787c6dd3e5f0>],\n",
              " 'boxes': [<matplotlib.lines.Line2D at 0x787c6dd0f310>],\n",
              " 'medians': [<matplotlib.lines.Line2D at 0x787c6dd3e890>],\n",
              " 'fliers': [<matplotlib.lines.Line2D at 0x787c6dd3eb30>],\n",
              " 'means': []}"
            ]
          },
          "metadata": {},
          "execution_count": 124
        },
        {
          "output_type": "display_data",
          "data": {
            "text/plain": [
              "<Figure size 640x480 with 1 Axes>"
            ],
            "image/png": "[encoded data removed]"
          },
          "metadata": {}
        }
      ]
    },
    {
      "cell_type": "markdown",
      "source": [
        "# LAB 03 - 06 Feb 2024"
      ],
      "metadata": {
        "id": "62o2btp2pjWZ"
      },
      "id": "62o2btp2pjWZ"
    },
    {
      "cell_type": "markdown",
      "source": [
        "## Equal frequency binning"
      ],
      "metadata": {
        "id": "uxkDslxjCNws"
      },
      "id": "uxkDslxjCNws"
    },
    {
      "cell_type": "code",
      "execution_count": null,
      "id": "4e1c3447",
      "metadata": {
        "id": "4e1c3447",
        "outputId": "8ee068c6-d609-4c92-ca77-6c156ad85525",
        "colab": {
          "base_uri": "https://localhost:8080/"
        }
      },
      "outputs": [
        {
          "output_type": "stream",
          "name": "stdout",
          "text": [
            "Equal frequency binning\n",
            "Bin 1 : [5, 10, 11, 13]\n",
            "Bin 2 : [15, 35, 50, 55]\n",
            "Bin 3 : [72, 92, 204, 215]\n"
          ]
        }
      ],
      "source": [
        "def equifreq(arr1, m):\n",
        "    a = len(arr1)\n",
        "    n = int(a / m)\n",
        "    for i in range(0, m):\n",
        "        arr = []\n",
        "        for j in range(i * n, (i + 1) * n):\n",
        "            if j >= a:\n",
        "                break\n",
        "            arr = arr + [arr1[j]]\n",
        "        print(\"Bin\", i+1, \":\", arr)\n",
        "\n",
        "data = [5, 10, 11, 13, 15, 35, 50, 55, 72, 92, 204, 215]\n",
        "\n",
        "m = 3\n",
        "\n",
        "print(\"Equal frequency binning\")\n",
        "equifreq(data, m)"
      ]
    },
    {
      "cell_type": "markdown",
      "source": [
        "## Bin using cut"
      ],
      "metadata": {
        "id": "nmms0qnvCTnl"
      },
      "id": "nmms0qnvCTnl"
    },
    {
      "cell_type": "code",
      "source": [
        "import pandas as pd\n",
        "\n",
        "data = [5, 10, 11, 13, 15, 35, 50, 55, 72, 92, 204, 215]\n",
        "\n",
        "df = pd.DataFrame({'num': data})\n",
        "\n",
        "df['Example_Bin'] = pd.cut(df['num'],\n",
        "                       bins=[0, 25, 50, 75, 100, 125, 150, 175, 200, 225],\n",
        "                       labels=['0-25', '25-50', '50-75', '75-100', '100-125', '125-150', '150-175','175-200','200+'])\n",
        "\n",
        "print(df)\n"
      ],
      "metadata": {
        "colab": {
          "base_uri": "https://localhost:8080/"
        },
        "id": "wCUkVlhKBuUW",
        "outputId": "1e8ed974-a148-4fe7-e5a8-751336773074"
      },
      "id": "wCUkVlhKBuUW",
      "execution_count": null,
      "outputs": [
        {
          "output_type": "stream",
          "name": "stdout",
          "text": [
            "    num Example_Bin\n",
            "0     5        0-25\n",
            "1    10        0-25\n",
            "2    11        0-25\n",
            "3    13        0-25\n",
            "4    15        0-25\n",
            "5    35       25-50\n",
            "6    50       25-50\n",
            "7    55       50-75\n",
            "8    72       50-75\n",
            "9    92      75-100\n",
            "10  204        200+\n",
            "11  215        200+\n"
          ]
        }
      ]
    },
    {
      "cell_type": "markdown",
      "source": [
        "## Age DataSet - Equal frequency binning"
      ],
      "metadata": {
        "id": "KzJuEz70Bhr-"
      },
      "id": "KzJuEz70Bhr-"
    },
    {
      "cell_type": "code",
      "source": [
        "import pandas as pd\n",
        "\n",
        "def equifreq(arr1, m):\n",
        "    a = len(arr1)\n",
        "    n = int(a / m)\n",
        "    for i in range(0, m):\n",
        "        arr = []\n",
        "        for j in range(i * n, (i + 1) * n):\n",
        "            if j >= a:\n",
        "                break\n",
        "            arr = arr + [arr1[j]]\n",
        "        print(\"Bin\", i+1, \":\", arr)\n",
        "\n",
        "data = pd.read_excel('age.xlsx')\n",
        "\n",
        "print(\"Equal frequency binning for Age\")\n",
        "equifreq(data['age'], 5)\n"
      ],
      "metadata": {
        "colab": {
          "base_uri": "https://localhost:8080/"
        },
        "id": "dkjeXCWOwGhq",
        "outputId": "de957e30-1572-407d-9a66-1740529e9cc7"
      },
      "id": "dkjeXCWOwGhq",
      "execution_count": null,
      "outputs": [
        {
          "output_type": "stream",
          "name": "stdout",
          "text": [
            "Equal frequency binning for Age\n",
            "Bin 1 : [33, 33, 13, 15, 35]\n",
            "Bin 2 : [35, 35, 35, 16, 16]\n",
            "Bin 3 : [19, 20, 20, 36, 40]\n",
            "Bin 4 : [41, 22, 22, 45, 46]\n",
            "Bin 5 : [25, 25, 25, 25, 52]\n"
          ]
        }
      ]
    },
    {
      "cell_type": "markdown",
      "source": [
        "## Age DataSet - Bin using cut"
      ],
      "metadata": {
        "id": "b35hmfAgBdBB"
      },
      "id": "b35hmfAgBdBB"
    },
    {
      "cell_type": "code",
      "execution_count": null,
      "id": "b2a989f3",
      "metadata": {
        "id": "b2a989f3",
        "outputId": "2fb7682f-ea22-483c-c2b6-50e3bc07e8d8",
        "colab": {
          "base_uri": "https://localhost:8080/"
        }
      },
      "outputs": [
        {
          "output_type": "stream",
          "name": "stdout",
          "text": [
            "   age Age_Bin\n",
            "0   33   25-35\n",
            "1   33   25-35\n",
            "2   13    0-18\n",
            "3   15    0-18\n",
            "4   35   25-35\n"
          ]
        }
      ],
      "source": [
        "import pandas as pd\n",
        "\n",
        "data = pd.read_excel('age.xlsx')\n",
        "\n",
        "data['Age_Bin'] = pd.cut(data['age'],\n",
        "bins=[0, 18, 25, 35, 50, 65, 100],\n",
        "labels=['0-18','18-25','25-35','35-50','50-65','65+'])\n",
        "\n",
        "print(data.head())"
      ]
    },
    {
      "cell_type": "markdown",
      "source": [
        "## Iris DataSet - Equal frequency binning"
      ],
      "metadata": {
        "id": "NAlkqhinuihV"
      },
      "id": "NAlkqhinuihV"
    },
    {
      "cell_type": "code",
      "source": [
        "import pandas as pd\n",
        "\n",
        "def equifreq(arr1, m):\n",
        "    a = len(arr1)\n",
        "    n = int(a / m)\n",
        "    for i in range(0, m):\n",
        "        arr = []\n",
        "        for j in range(i * n, (i + 1) * n):\n",
        "            if j >= a:\n",
        "                break\n",
        "            arr = arr + [arr1[j]]\n",
        "        print(\"Bin\", i+1, \":\", arr)\n",
        "\n",
        "data = pd.read_excel('iris.xlsx')\n",
        "\n",
        "print(\"Equal frequency binning for sepal_length\")\n",
        "equifreq(data['sepal_length'], 15)\n"
      ],
      "metadata": {
        "colab": {
          "base_uri": "https://localhost:8080/"
        },
        "id": "oJ4NQd2uutWG",
        "outputId": "3e74b012-20ef-4021-bf35-c0325408c772"
      },
      "id": "oJ4NQd2uutWG",
      "execution_count": null,
      "outputs": [
        {
          "output_type": "stream",
          "name": "stdout",
          "text": [
            "Equal frequency binning for sepal_length\n",
            "Bin 1 : [5.1, 4.9, 4.7, 4.6, 5.0, 5.4, 4.6, 5.0, 4.4, 4.9]\n",
            "Bin 2 : [5.4, 4.8, 4.8, 4.3, 5.8, 5.7, 5.4, 5.1, 5.7, 5.1]\n",
            "Bin 3 : [5.4, 5.1, 4.6, 5.1, 4.8, 5.0, 5.0, 5.2, 5.2, 4.7]\n",
            "Bin 4 : [4.8, 5.4, 5.2, 5.5, 4.9, 5.0, 5.5, 4.9, 4.4, 5.1]\n",
            "Bin 5 : [5.0, 4.5, 4.4, 5.0, 5.1, 4.8, 5.1, 4.6, 5.3, 5.0]\n",
            "Bin 6 : [7.0, 6.4, 6.9, 5.5, 6.5, 5.7, 6.3, 4.9, 6.6, 5.2]\n",
            "Bin 7 : [5.0, 5.9, 6.0, 6.1, 5.6, 6.7, 5.6, 5.8, 6.2, 5.6]\n",
            "Bin 8 : [5.9, 6.1, 6.3, 6.1, 6.4, 6.6, 6.8, 6.7, 6.0, 5.7]\n",
            "Bin 9 : [5.5, 5.5, 5.8, 6.0, 5.4, 6.0, 6.7, 6.3, 5.6, 5.5]\n",
            "Bin 10 : [5.5, 6.1, 5.8, 5.0, 5.6, 5.7, 5.7, 6.2, 5.1, 5.7]\n",
            "Bin 11 : [6.3, 5.8, 7.1, 6.3, 6.5, 7.6, 4.9, 7.3, 6.7, 7.2]\n",
            "Bin 12 : [6.5, 6.4, 6.8, 5.7, 5.8, 6.4, 6.5, 7.7, 7.7, 6.0]\n",
            "Bin 13 : [6.9, 5.6, 7.7, 6.3, 6.7, 7.2, 6.2, 6.1, 6.4, 7.2]\n",
            "Bin 14 : [7.4, 7.9, 6.4, 6.3, 6.1, 7.7, 6.3, 6.4, 6.0, 6.9]\n",
            "Bin 15 : [6.7, 6.9, 5.8, 6.8, 6.7, 6.7, 6.3, 6.5, 6.2, 5.9]\n"
          ]
        }
      ]
    },
    {
      "cell_type": "code",
      "source": [
        "import pandas as pd\n",
        "\n",
        "def equifreq(arr1, m):\n",
        "    a = len(arr1)\n",
        "    n = int(a / m)\n",
        "    for i in range(0, m):\n",
        "        arr = []\n",
        "        for j in range(i * n, (i + 1) * n):\n",
        "            if j >= a:\n",
        "                break\n",
        "            arr = arr + [arr1[j]]\n",
        "        print(\"Bin\", i+1, \":\", arr)\n",
        "\n",
        "data = pd.read_excel('iris.xlsx')\n",
        "\n",
        "print(\"Equal frequency binning for sepal_width\")\n",
        "equifreq(data['sepal_width'], 15)\n"
      ],
      "metadata": {
        "colab": {
          "base_uri": "https://localhost:8080/"
        },
        "id": "L6GylUrZvOUR",
        "outputId": "37945168-1080-409d-87d9-b52f84d7baa0"
      },
      "id": "L6GylUrZvOUR",
      "execution_count": null,
      "outputs": [
        {
          "output_type": "stream",
          "name": "stdout",
          "text": [
            "Equal frequency binning for sepal_width\n",
            "Bin 1 : [3.5, 3.0, 3.2, 3.1, 3.6, 3.9, 3.4, 3.4, 2.9, 3.1]\n",
            "Bin 2 : [3.7, 3.4, 3.0, 3.0, 4.0, 4.4, 3.9, 3.5, 3.8, 3.8]\n",
            "Bin 3 : [3.4, 3.7, 3.6, 3.3, 3.4, 3.0, 3.4, 3.5, 3.4, 3.2]\n",
            "Bin 4 : [3.1, 3.4, 4.1, 4.2, 3.1, 3.2, 3.5, 3.1, 3.0, 3.4]\n",
            "Bin 5 : [3.5, 2.3, 3.2, 3.5, 3.8, 3.0, 3.8, 3.2, 3.7, 3.3]\n",
            "Bin 6 : [3.2, 3.2, 3.1, 2.3, 2.8, 2.8, 3.3, 2.4, 2.9, 2.7]\n",
            "Bin 7 : [2.0, 3.0, 2.2, 2.9, 2.9, 3.1, 3.0, 2.7, 2.2, 2.5]\n",
            "Bin 8 : [3.2, 2.8, 2.5, 2.8, 2.9, 3.0, 2.8, 3.0, 2.9, 2.6]\n",
            "Bin 9 : [2.4, 2.4, 2.7, 2.7, 3.0, 3.4, 3.1, 2.3, 3.0, 2.5]\n",
            "Bin 10 : [2.6, 3.0, 2.6, 2.3, 2.7, 3.0, 2.9, 2.9, 2.5, 2.8]\n",
            "Bin 11 : [3.3, 2.7, 3.0, 2.9, 3.0, 3.0, 2.5, 2.9, 2.5, 3.6]\n",
            "Bin 12 : [3.2, 2.7, 3.0, 2.5, 2.8, 3.2, 3.0, 3.8, 2.6, 2.2]\n",
            "Bin 13 : [3.2, 2.8, 2.8, 2.7, 3.3, 3.2, 2.8, 3.0, 2.8, 3.0]\n",
            "Bin 14 : [2.8, 3.8, 2.8, 2.8, 2.6, 3.0, 3.4, 3.1, 3.0, 3.1]\n",
            "Bin 15 : [3.1, 3.1, 2.7, 3.2, 3.3, 3.0, 2.5, 3.0, 3.4, 3.0]\n"
          ]
        }
      ]
    },
    {
      "cell_type": "code",
      "source": [
        "import pandas as pd\n",
        "\n",
        "def equifreq(arr1, m):\n",
        "    a = len(arr1)\n",
        "    n = int(a / m)\n",
        "    for i in range(0, m):\n",
        "        arr = []\n",
        "        for j in range(i * n, (i + 1) * n):\n",
        "            if j >= a:\n",
        "                break\n",
        "            arr = arr + [arr1[j]]\n",
        "            arr = arr + [arr1[j]]\n",
        "        print(\"Bin\", i+1, \":\", arr)\n",
        "\n",
        "data = pd.read_excel('iris.xlsx')\n",
        "\n",
        "print(\"Equal frequency binning for petal_length\")\n",
        "equifreq(data['petal_length'], 15)\n"
      ],
      "metadata": {
        "colab": {
          "base_uri": "https://localhost:8080/"
        },
        "id": "1KhSniyYvsDv",
        "outputId": "6d9b349a-8327-4027-8ad3-4e626e62f151"
      },
      "id": "1KhSniyYvsDv",
      "execution_count": null,
      "outputs": [
        {
          "output_type": "stream",
          "name": "stdout",
          "text": [
            "Equal frequency binning for petal_length\n",
            "Bin 1 : [1.4, 1.4, 1.4, 1.4, 1.3, 1.3, 1.5, 1.5, 1.4, 1.4, 1.7, 1.7, 1.4, 1.4, 1.5, 1.5, 1.4, 1.4, 1.5, 1.5]\n",
            "Bin 2 : [1.5, 1.5, 1.6, 1.6, 1.4, 1.4, 1.1, 1.1, 1.2, 1.2, 1.5, 1.5, 1.3, 1.3, 1.4, 1.4, 1.7, 1.7, 1.5, 1.5]\n",
            "Bin 3 : [1.7, 1.7, 1.5, 1.5, 1.0, 1.0, 1.7, 1.7, 1.9, 1.9, 1.6, 1.6, 1.6, 1.6, 1.5, 1.5, 1.4, 1.4, 1.6, 1.6]\n",
            "Bin 4 : [1.6, 1.6, 1.5, 1.5, 1.5, 1.5, 1.4, 1.4, 1.5, 1.5, 1.2, 1.2, 1.3, 1.3, 1.5, 1.5, 1.3, 1.3, 1.5, 1.5]\n",
            "Bin 5 : [1.3, 1.3, 1.3, 1.3, 1.3, 1.3, 1.6, 1.6, 1.9, 1.9, 1.4, 1.4, 1.6, 1.6, 1.4, 1.4, 1.5, 1.5, 1.4, 1.4]\n",
            "Bin 6 : [4.7, 4.7, 4.5, 4.5, 4.9, 4.9, 4.0, 4.0, 4.6, 4.6, 4.5, 4.5, 4.7, 4.7, 3.3, 3.3, 4.6, 4.6, 3.9, 3.9]\n",
            "Bin 7 : [3.5, 3.5, 4.2, 4.2, 4.0, 4.0, 4.7, 4.7, 3.6, 3.6, 4.4, 4.4, 4.5, 4.5, 4.1, 4.1, 4.5, 4.5, 3.9, 3.9]\n",
            "Bin 8 : [4.8, 4.8, 4.0, 4.0, 4.9, 4.9, 4.7, 4.7, 4.3, 4.3, 4.4, 4.4, 4.8, 4.8, 5.0, 5.0, 4.5, 4.5, 3.5, 3.5]\n",
            "Bin 9 : [3.8, 3.8, 3.7, 3.7, 3.9, 3.9, 5.1, 5.1, 4.5, 4.5, 4.5, 4.5, 4.7, 4.7, 4.4, 4.4, 4.1, 4.1, 4.0, 4.0]\n",
            "Bin 10 : [4.4, 4.4, 4.6, 4.6, 4.0, 4.0, 3.3, 3.3, 4.2, 4.2, 4.2, 4.2, 4.2, 4.2, 4.3, 4.3, 3.0, 3.0, 4.1, 4.1]\n",
            "Bin 11 : [6.0, 6.0, 5.1, 5.1, 5.9, 5.9, 5.6, 5.6, 5.8, 5.8, 6.6, 6.6, 4.5, 4.5, 6.3, 6.3, 5.8, 5.8, 6.1, 6.1]\n",
            "Bin 12 : [5.1, 5.1, 5.3, 5.3, 5.5, 5.5, 5.0, 5.0, 5.1, 5.1, 5.3, 5.3, 5.5, 5.5, 6.7, 6.7, 6.9, 6.9, 5.0, 5.0]\n",
            "Bin 13 : [5.7, 5.7, 4.9, 4.9, 6.7, 6.7, 4.9, 4.9, 5.7, 5.7, 6.0, 6.0, 4.8, 4.8, 4.9, 4.9, 5.6, 5.6, 5.8, 5.8]\n",
            "Bin 14 : [6.1, 6.1, 6.4, 6.4, 5.6, 5.6, 5.1, 5.1, 5.6, 5.6, 6.1, 6.1, 5.6, 5.6, 5.5, 5.5, 4.8, 4.8, 5.4, 5.4]\n",
            "Bin 15 : [5.6, 5.6, 5.1, 5.1, 5.1, 5.1, 5.9, 5.9, 5.7, 5.7, 5.2, 5.2, 5.0, 5.0, 5.2, 5.2, 5.4, 5.4, 5.1, 5.1]\n"
          ]
        }
      ]
    },
    {
      "cell_type": "code",
      "source": [
        "import pandas as pd\n",
        "\n",
        "def equifreq(arr1, m):\n",
        "    a = len(arr1)\n",
        "    n = int(a / m)\n",
        "    for i in range(0, m):\n",
        "        arr = []\n",
        "        for j in range(i * n, (i + 1) * n):\n",
        "            if j >= a:\n",
        "                break\n",
        "            arr = arr + [arr1[j]]\n",
        "        print(\"Bin\", i+1, \":\", arr)\n",
        "\n",
        "data = pd.read_excel('iris.xlsx')\n",
        "\n",
        "print(\"Equal frequency binning for petal_width\")\n",
        "equifreq(data['petal_width'], 15)\n"
      ],
      "metadata": {
        "colab": {
          "base_uri": "https://localhost:8080/"
        },
        "id": "9BKLTRpDvs_M",
        "outputId": "cadabca7-c6ed-4263-a6ef-164791048587"
      },
      "id": "9BKLTRpDvs_M",
      "execution_count": null,
      "outputs": [
        {
          "output_type": "stream",
          "name": "stdout",
          "text": [
            "Equal frequency binning for petal_width\n",
            "Bin 1 : [0.2, 0.2, 0.2, 0.2, 0.2, 0.4, 0.3, 0.2, 0.2, 0.1]\n",
            "Bin 2 : [0.2, 0.2, 0.1, 0.1, 0.2, 0.4, 0.4, 0.3, 0.3, 0.3]\n",
            "Bin 3 : [0.2, 0.4, 0.2, 0.5, 0.2, 0.2, 0.4, 0.2, 0.2, 0.2]\n",
            "Bin 4 : [0.2, 0.4, 0.1, 0.2, 0.1, 0.2, 0.2, 0.1, 0.2, 0.2]\n",
            "Bin 5 : [0.3, 0.3, 0.2, 0.6, 0.4, 0.3, 0.2, 0.2, 0.2, 0.2]\n",
            "Bin 6 : [1.4, 1.5, 1.5, 1.3, 1.5, 1.3, 1.6, 1.0, 1.3, 1.4]\n",
            "Bin 7 : [1.0, 1.5, 1.0, 1.4, 1.3, 1.4, 1.5, 1.0, 1.5, 1.1]\n",
            "Bin 8 : [1.8, 1.3, 1.5, 1.2, 1.3, 1.4, 1.4, 1.7, 1.5, 1.0]\n",
            "Bin 9 : [1.1, 1.0, 1.2, 1.6, 1.5, 1.6, 1.5, 1.3, 1.3, 1.3]\n",
            "Bin 10 : [1.2, 1.4, 1.2, 1.0, 1.3, 1.2, 1.3, 1.3, 1.1, 1.3]\n",
            "Bin 11 : [2.5, 1.9, 2.1, 1.8, 2.2, 2.1, 1.7, 1.8, 1.8, 2.5]\n",
            "Bin 12 : [2.0, 1.9, 2.1, 2.0, 2.4, 2.3, 1.8, 2.2, 2.3, 1.5]\n",
            "Bin 13 : [2.3, 2.0, 2.0, 1.8, 2.1, 1.8, 1.8, 1.8, 2.1, 1.6]\n",
            "Bin 14 : [1.9, 2.0, 2.2, 1.5, 1.4, 2.3, 2.4, 1.8, 1.8, 2.1]\n",
            "Bin 15 : [2.4, 2.3, 1.9, 2.3, 2.5, 2.3, 1.9, 2.0, 2.3, 1.8]\n"
          ]
        }
      ]
    },
    {
      "cell_type": "markdown",
      "source": [
        "## Iris DataSet - Bin using cut"
      ],
      "metadata": {
        "id": "xSjTasuduOFY"
      },
      "id": "xSjTasuduOFY"
    },
    {
      "cell_type": "code",
      "execution_count": null,
      "id": "a576a6a1",
      "metadata": {
        "id": "a576a6a1",
        "outputId": "8142f98b-5727-4b4f-c353-5e6880036742",
        "colab": {
          "base_uri": "https://localhost:8080/"
        }
      },
      "outputs": [
        {
          "output_type": "stream",
          "name": "stdout",
          "text": [
            "     sepal_length sepal_bin\n",
            "0             5.1   5.0-5.5\n",
            "1             4.9   4.5-5.0\n",
            "2             4.7   4.5-5.0\n",
            "3             4.6   4.5-5.0\n",
            "4             5.0   4.5-5.0\n",
            "..            ...       ...\n",
            "145           6.7  6.5S-7.0\n",
            "146           6.3   6.0-6.5\n",
            "147           6.5   6.0-6.5\n",
            "148           6.2   6.0-6.5\n",
            "149           5.9   5.5-6.0\n",
            "\n",
            "[150 rows x 2 columns]\n"
          ]
        }
      ],
      "source": [
        "import pandas as pd\n",
        "\n",
        "data = pd.read_excel('iris.xlsx')\n",
        "\n",
        "data['sepal_bin'] = pd.cut(data['sepal_length'],\n",
        "bins=[4.5, 5.0, 5.5, 6.0, 6.5, 7.0, 7.5],\n",
        "labels=['4.5-5.0','5.0-5.5','5.5-6.0','6.0-6.5','6.5S-7.0','7.0+'])\n",
        "\n",
        "print(data[['sepal_length', 'sepal_bin']])"
      ]
    },
    {
      "cell_type": "code",
      "execution_count": null,
      "id": "74ad0e99",
      "metadata": {
        "id": "74ad0e99",
        "outputId": "6bfd7b3a-e1bd-4946-e2ac-51b7ac49aaa4",
        "colab": {
          "base_uri": "https://localhost:8080/"
        }
      },
      "outputs": [
        {
          "output_type": "stream",
          "name": "stdout",
          "text": [
            "     sepal_width sepal_bin\n",
            "0            3.5   3.0-3.5\n",
            "1            3.0   2.5-3.0\n",
            "2            3.2   3.0-3.5\n",
            "3            3.1   3.0-3.5\n",
            "4            3.6   3.5-4.0\n",
            "..           ...       ...\n",
            "145          3.0   2.5-3.0\n",
            "146          2.5   2.0-2.5\n",
            "147          3.0   2.5-3.0\n",
            "148          3.4   3.0-3.5\n",
            "149          3.0   2.5-3.0\n",
            "\n",
            "[150 rows x 2 columns]\n"
          ]
        }
      ],
      "source": [
        "import pandas as pd\n",
        "\n",
        "data = pd.read_excel('iris.xlsx')\n",
        "\n",
        "data['sepal_bin'] = pd.cut(data['sepal_width'],\n",
        "bins=[1.5, 2.0, 2.5, 3.0, 3.5, 4.0, 4.5],\n",
        "labels=['1.5-2.0','2.0-2.5','2.5-3.0','3.0-3.5','3.5-4.0','4.0+'])\n",
        "\n",
        "print(data[['sepal_width', 'sepal_bin']])"
      ]
    },
    {
      "cell_type": "code",
      "execution_count": null,
      "id": "2c2c7390",
      "metadata": {
        "id": "2c2c7390",
        "outputId": "be9bb66e-29f2-4d21-ee32-10b97d43d08e",
        "colab": {
          "base_uri": "https://localhost:8080/"
        }
      },
      "outputs": [
        {
          "output_type": "stream",
          "name": "stdout",
          "text": [
            "     petal_length sepal_bin\n",
            "0             1.4   1.0-1.5\n",
            "1             1.4   1.0-1.5\n",
            "2             1.3   1.0-1.5\n",
            "3             1.5   1.0-1.5\n",
            "4             1.4   1.0-1.5\n",
            "..            ...       ...\n",
            "145           5.2   5.0-5.5\n",
            "146           5.0   4.5-5.0\n",
            "147           5.2   5.0-5.5\n",
            "148           5.4   5.0-5.5\n",
            "149           5.1   5.0-5.5\n",
            "\n",
            "[150 rows x 2 columns]\n"
          ]
        }
      ],
      "source": [
        "import pandas as pd\n",
        "\n",
        "data = pd.read_excel('iris.xlsx')\n",
        "\n",
        "data['sepal_bin'] = pd.cut(data['petal_length'],\n",
        "bins=[1.0, 1.5, 2.0, 2.5, 3.0, 3.5, 4.0, 4.5, 5.0, 5.5, 6.0],\n",
        "labels=['1.0-1.5','1.5-2.0','2.0-2.5','2.5-3.0','3.0-3.5','3.5-4.0','4.0-4.5','4.5-5.0','5.0-5.5','5.5+'])\n",
        "\n",
        "print(data[['petal_length', 'sepal_bin']])"
      ]
    },
    {
      "cell_type": "code",
      "execution_count": null,
      "id": "82dd7823",
      "metadata": {
        "id": "82dd7823",
        "outputId": "c25d2d3d-4e84-42e9-cb96-1b40ec31e660",
        "colab": {
          "base_uri": "https://localhost:8080/"
        }
      },
      "outputs": [
        {
          "output_type": "stream",
          "name": "stdout",
          "text": [
            "     petal_width sepal_bin\n",
            "0            0.2   0.0-0.5\n",
            "1            0.2   0.0-0.5\n",
            "2            0.2   0.0-0.5\n",
            "3            0.2   0.0-0.5\n",
            "4            0.2   0.0-0.5\n",
            "..           ...       ...\n",
            "145          2.3   2.0-2.5\n",
            "146          1.9   1.5-2.0\n",
            "147          2.0   1.5-2.0\n",
            "148          2.3   2.0-2.5\n",
            "149          1.8   1.5-2.0\n",
            "\n",
            "[150 rows x 2 columns]\n"
          ]
        }
      ],
      "source": [
        "import pandas as pd\n",
        "\n",
        "data = pd.read_excel('iris.xlsx')\n",
        "\n",
        "data['sepal_bin'] = pd.cut(data['petal_width'],\n",
        "bins = [0.0, 0.5, 1.0, 1.5, 2.0, 2.5, 3.0, 3.5],\n",
        "labels = ['0.0-0.5','0.5-1.0','1.0-1.5','1.5-2.0','2.0-2.5','2.5-3.0','3.0+'])\n",
        "\n",
        "print(data[['petal_width','sepal_bin']])"
      ]
    },
    {
      "cell_type": "markdown",
      "source": [
        "# LAB 04 - 13 Feb 2024"
      ],
      "metadata": {
        "id": "hiKuJomt0TTS"
      },
      "id": "hiKuJomt0TTS"
    },
    {
      "cell_type": "markdown",
      "source": [
        "## Sorting"
      ],
      "metadata": {
        "id": "MDX5cVwyb0NK"
      },
      "id": "MDX5cVwyb0NK"
    },
    {
      "cell_type": "code",
      "source": [
        "import pandas as pd\n",
        "\n",
        "d = pd.read_excel('iris.xlsx')\n",
        "\n",
        "print(\"Original DataFrame:\")\n",
        "print(d)\n",
        "\n",
        "for col in d.columns:\n",
        "    sorted_col = d[col].sort_values()\n",
        "\n",
        "    print(\"\\nSorted column\", col, \":\")\n",
        "    print(sorted_col)\n"
      ],
      "metadata": {
        "id": "pXzkuWRb_x85",
        "colab": {
          "base_uri": "https://localhost:8080/"
        },
        "outputId": "3afe81e0-a604-48d7-f519-8693da2d74d7"
      },
      "id": "pXzkuWRb_x85",
      "execution_count": null,
      "outputs": [
        {
          "output_type": "stream",
          "name": "stdout",
          "text": [
            "Original DataFrame:\n",
            "     sepal_length  sepal_width  petal_length  petal_width    species\n",
            "0             5.1          3.5           1.4          0.2     setosa\n",
            "1             4.9          3.0           1.4          0.2     setosa\n",
            "2             4.7          3.2           1.3          0.2     setosa\n",
            "3             4.6          3.1           1.5          0.2     setosa\n",
            "4             5.0          3.6           1.4          0.2     setosa\n",
            "..            ...          ...           ...          ...        ...\n",
            "145           6.7          3.0           5.2          2.3  virginica\n",
            "146           6.3          2.5           5.0          1.9  virginica\n",
            "147           6.5          3.0           5.2          2.0  virginica\n",
            "148           6.2          3.4           5.4          2.3  virginica\n",
            "149           5.9          3.0           5.1          1.8  virginica\n",
            "\n",
            "[150 rows x 5 columns]\n",
            "\n",
            "Sorted column sepal_length :\n",
            "13     4.3\n",
            "42     4.4\n",
            "38     4.4\n",
            "8      4.4\n",
            "41     4.5\n",
            "      ... \n",
            "122    7.7\n",
            "118    7.7\n",
            "117    7.7\n",
            "135    7.7\n",
            "131    7.9\n",
            "Name: sepal_length, Length: 150, dtype: float64\n",
            "\n",
            "Sorted column sepal_width :\n",
            "60     2.0\n",
            "62     2.2\n",
            "119    2.2\n",
            "68     2.2\n",
            "41     2.3\n",
            "      ... \n",
            "16     3.9\n",
            "14     4.0\n",
            "32     4.1\n",
            "33     4.2\n",
            "15     4.4\n",
            "Name: sepal_width, Length: 150, dtype: float64\n",
            "\n",
            "Sorted column petal_length :\n",
            "22     1.0\n",
            "13     1.1\n",
            "14     1.2\n",
            "35     1.2\n",
            "36     1.3\n",
            "      ... \n",
            "131    6.4\n",
            "105    6.6\n",
            "117    6.7\n",
            "122    6.7\n",
            "118    6.9\n",
            "Name: petal_length, Length: 150, dtype: float64\n",
            "\n",
            "Sorted column petal_width :\n",
            "32     0.1\n",
            "13     0.1\n",
            "37     0.1\n",
            "9      0.1\n",
            "12     0.1\n",
            "      ... \n",
            "140    2.4\n",
            "114    2.4\n",
            "100    2.5\n",
            "144    2.5\n",
            "109    2.5\n",
            "Name: petal_width, Length: 150, dtype: float64\n",
            "\n",
            "Sorted column species :\n",
            "0         setosa\n",
            "27        setosa\n",
            "28        setosa\n",
            "29        setosa\n",
            "30        setosa\n",
            "         ...    \n",
            "119    virginica\n",
            "120    virginica\n",
            "121    virginica\n",
            "111    virginica\n",
            "149    virginica\n",
            "Name: species, Length: 150, dtype: object\n"
          ]
        }
      ]
    },
    {
      "cell_type": "markdown",
      "source": [
        "## Bin Mean"
      ],
      "metadata": {
        "id": "pGsGOLbfNsGu"
      },
      "id": "pGsGOLbfNsGu"
    },
    {
      "cell_type": "code",
      "source": [
        "import numpy as np\n",
        "import pandas as pd\n",
        "\n",
        "df = pd.read_excel('age.xlsx')\n",
        "t = df.to_numpy()\n",
        "\n",
        "print(\"Length of array t:\", len(t))\n",
        "\n",
        "bin1 = np.zeros((3, 9))\n",
        "bin2 = np.zeros((3, 9))\n",
        "bin3 = np.zeros((3, 9))\n",
        "\n",
        "t_sorted = np.sort(t, axis=None)\n",
        "\n",
        "for i in range(0, len(t_sorted), 9):\n",
        "    k = int(i / 9)\n",
        "    mean = np.mean(t_sorted[i:i+9])\n",
        "    for j in range(9):\n",
        "        bin1[k, j] = mean\n",
        "\n",
        "print(\"bin mean=\", bin1)\n"
      ],
      "metadata": {
        "id": "vf633M8sC8Jc",
        "colab": {
          "base_uri": "https://localhost:8080/"
        },
        "outputId": "71af4912-8751-4483-9e4c-297bcbd59384"
      },
      "id": "vf633M8sC8Jc",
      "execution_count": null,
      "outputs": [
        {
          "output_type": "stream",
          "name": "stdout",
          "text": [
            "Length of array t: 27\n",
            "bin mean= [[18.11111111 18.11111111 18.11111111 18.11111111 18.11111111 18.11111111\n",
            "  18.11111111 18.11111111 18.11111111]\n",
            " [29.55555556 29.55555556 29.55555556 29.55555556 29.55555556 29.55555556\n",
            "  29.55555556 29.55555556 29.55555556]\n",
            " [44.44444444 44.44444444 44.44444444 44.44444444 44.44444444 44.44444444\n",
            "  44.44444444 44.44444444 44.44444444]]\n"
          ]
        }
      ]
    },
    {
      "cell_type": "markdown",
      "source": [
        "## Bin Mean Boundaries"
      ],
      "metadata": {
        "id": "VRjgNFB8NyzP"
      },
      "id": "VRjgNFB8NyzP"
    },
    {
      "cell_type": "code",
      "source": [
        "import numpy as np\n",
        "import pandas as pd\n",
        "\n",
        "df = pd.read_excel('age.xlsx')\n",
        "t = df.to_numpy()\n",
        "\n",
        "print(\"Length of array t:\", len(t))\n",
        "\n",
        "bin1 = np.zeros((3, 9))\n",
        "bin2 = np.zeros((3, 9))\n",
        "bin3 = np.zeros((3, 9))\n",
        "\n",
        "t_sorted = np.sort(t, axis=None)\n",
        "\n",
        "for i in range(0, len(t_sorted), 9):\n",
        "    k = int(i / 9)\n",
        "    median = np.median(t_sorted[i:i+9])\n",
        "    for j in range(9):\n",
        "        bin3[k, j] = median\n",
        "\n",
        "print(\"bin boundaries=\", bin3)\n"
      ],
      "metadata": {
        "id": "Uc44ZQNmGigW",
        "colab": {
          "base_uri": "https://localhost:8080/"
        },
        "outputId": "b277eafb-751c-4f11-aec0-65dddd8daf96"
      },
      "id": "Uc44ZQNmGigW",
      "execution_count": null,
      "outputs": [
        {
          "output_type": "stream",
          "name": "stdout",
          "text": [
            "Length of array t: 27\n",
            "bin boundaries= [[19. 19. 19. 19. 19. 19. 19. 19. 19.]\n",
            " [30. 30. 30. 30. 30. 30. 30. 30. 30.]\n",
            " [41. 41. 41. 41. 41. 41. 41. 41. 41.]]\n"
          ]
        }
      ]
    },
    {
      "cell_type": "markdown",
      "source": [
        "## Bin Median"
      ],
      "metadata": {
        "id": "IdGvHDCSOBQ_"
      },
      "id": "IdGvHDCSOBQ_"
    },
    {
      "cell_type": "code",
      "source": [
        "import numpy as np\n",
        "import pandas as pd\n",
        "\n",
        "df = pd.read_excel('age.xlsx')\n",
        "t = df.to_numpy()\n",
        "\n",
        "print(\"Length of array t:\", len(t))\n",
        "\n",
        "bin1 = np.zeros((3, 9))\n",
        "bin2 = np.zeros((3, 9))\n",
        "bin3 = np.zeros((3, 9))\n",
        "\n",
        "t_sorted = np.sort(t, axis=None)\n",
        "\n",
        "for i in range(0, len(t_sorted), 9):\n",
        "    k = int(i / 9)\n",
        "    median = np.median(t_sorted[i:i+9])\n",
        "    for j in range(9):\n",
        "        bin3[k, j] = median\n",
        "\n",
        "print(\"bin boundaries=\", bin3)\n"
      ],
      "metadata": {
        "colab": {
          "base_uri": "https://localhost:8080/"
        },
        "id": "_p21av3fLCyL",
        "outputId": "f529f668-f71e-435b-fdd5-5206d1bad67a"
      },
      "id": "_p21av3fLCyL",
      "execution_count": null,
      "outputs": [
        {
          "output_type": "stream",
          "name": "stdout",
          "text": [
            "Length of array t: 27\n",
            "bin boundaries= [[19. 19. 19. 19. 19. 19. 19. 19. 19.]\n",
            " [30. 30. 30. 30. 30. 30. 30. 30. 30.]\n",
            " [41. 41. 41. 41. 41. 41. 41. 41. 41.]]\n"
          ]
        }
      ]
    },
    {
      "cell_type": "markdown",
      "source": [
        "## Bin Mean for Iris"
      ],
      "metadata": {
        "id": "4kkLzYahPXLb"
      },
      "id": "4kkLzYahPXLb"
    },
    {
      "cell_type": "markdown",
      "source": [
        "### Bin for Sepal Length"
      ],
      "metadata": {
        "id": "EW63W4G-UUyq"
      },
      "id": "EW63W4G-UUyq"
    },
    {
      "cell_type": "code",
      "source": [
        "import pandas as pd\n",
        "import numpy as np\n",
        "\n",
        "df = pd.read_excel('iris.xlsx')\n",
        "\n",
        "df_sorted = df.sort_values(by='sepal_length')\n",
        "\n",
        "def equifreq(arr1, m):\n",
        "    a = len(arr1)\n",
        "    n = int(a / m)\n",
        "    bins = []\n",
        "    for i in range(0, m):\n",
        "        arr = []\n",
        "        for j in range(i * n, (i + 1) * n):\n",
        "            if j >= a:\n",
        "                break\n",
        "            arr.append(arr1[j])\n",
        "        bins.append(arr)\n",
        "    return bins\n",
        "\n",
        "print(\"Equal frequency binning for sepal_length\")\n",
        "equi = equifreq(df['sepal_length'], 15)\n",
        "\n",
        "bin_means = []\n",
        "for i in range(len(equi)):\n",
        "    mean = np.mean(equi[i])\n",
        "    bin_means.append(mean)\n",
        "\n",
        "print(\"Means of each bin:\", bin_means)\n"
      ],
      "metadata": {
        "colab": {
          "base_uri": "https://localhost:8080/"
        },
        "id": "7DZX_QkxPcRb",
        "outputId": "d1aea102-e5ea-46d7-9160-3915dbaf3107"
      },
      "id": "7DZX_QkxPcRb",
      "execution_count": null,
      "outputs": [
        {
          "output_type": "stream",
          "name": "stdout",
          "text": [
            "Equal frequency binning for sepal_length\n",
            "Means of each bin: [4.859999999999999, 5.21, 5.010000000000001, 5.07, 4.88, 6.1000000000000005, 5.8500000000000005, 6.26, 5.83, 5.640000000000001, 6.57, 6.55, 6.63, 6.74, 6.450000000000001]\n"
          ]
        }
      ]
    },
    {
      "cell_type": "code",
      "source": [
        "import pandas as pd\n",
        "import numpy as np\n",
        "\n",
        "df = pd.read_excel('iris.xlsx')\n",
        "\n",
        "df_sorted = df.sort_values(by='sepal_length')\n",
        "\n",
        "def equifreq(arr1, m):\n",
        "    a = len(arr1)\n",
        "    n = int(a / m)\n",
        "    bins = []\n",
        "    for i in range(0, m):\n",
        "        arr = []\n",
        "        for j in range(i * n, (i + 1) * n):\n",
        "            if j >= a:\n",
        "                break\n",
        "            arr.append(arr1[j])\n",
        "        bins.append(arr)\n",
        "    return bins\n",
        "\n",
        "print(\"Equal frequency binning for sepal_length\")\n",
        "equi = equifreq(df_sorted['sepal_length'], 15)\n",
        "\n",
        "bin_medians = []\n",
        "for i in range(len(equi)):\n",
        "    median = np.median(equi[i])\n",
        "    bin_medians.append(median)\n",
        "\n",
        "print(\"Medians of each bin:\", bin_medians)\n"
      ],
      "metadata": {
        "id": "uQqMPfZ-Pwly",
        "colab": {
          "base_uri": "https://localhost:8080/"
        },
        "outputId": "68d6a33f-8d84-4a4a-f852-95cd69d2eb96"
      },
      "id": "uQqMPfZ-Pwly",
      "execution_count": null,
      "outputs": [
        {
          "output_type": "stream",
          "name": "stdout",
          "text": [
            "Equal frequency binning for sepal_length\n",
            "Medians of each bin: [4.9, 5.25, 5.05, 5.05, 5.0, 6.35, 5.85, 6.199999999999999, 5.699999999999999, 5.7, 6.6, 6.45, 6.550000000000001, 6.4, 6.6]\n"
          ]
        }
      ]
    },
    {
      "cell_type": "markdown",
      "source": [
        "### Bin for Sepal width"
      ],
      "metadata": {
        "id": "xx8yb6EBVDr5"
      },
      "id": "xx8yb6EBVDr5"
    },
    {
      "cell_type": "code",
      "source": [
        "import pandas as pd\n",
        "import numpy as np\n",
        "\n",
        "df = pd.read_excel('iris.xlsx')\n",
        "\n",
        "df_sorted = df.sort_values(by='sepal_width')\n",
        "\n",
        "def equifreq(arr1, m):\n",
        "    a = len(arr1)\n",
        "    n = int(a / m)\n",
        "    bins = []\n",
        "    for i in range(0, m):\n",
        "        arr = []\n",
        "        for j in range(i * n, (i + 1) * n):\n",
        "            if j >= a:\n",
        "                break\n",
        "            arr.append(arr1[j])\n",
        "        bins.append(arr)\n",
        "    return bins\n",
        "\n",
        "print(\"Equal frequency binning for sepal_width\")\n",
        "equi = equifreq(df['sepal_width'], 15)\n",
        "\n",
        "bin_means = []\n",
        "for i in range(len(equi)):\n",
        "    mean = np.mean(equi[i])\n",
        "    bin_means.append(mean)\n",
        "\n",
        "print(\"Means of each bin:\", bin_means)\n"
      ],
      "metadata": {
        "colab": {
          "base_uri": "https://localhost:8080/"
        },
        "id": "aoePjdZKUPKJ",
        "outputId": "b611d9d2-8bec-4886-e03f-bf1bc3019263"
      },
      "id": "aoePjdZKUPKJ",
      "execution_count": null,
      "outputs": [
        {
          "output_type": "stream",
          "name": "stdout",
          "text": [
            "Equal frequency binning for sepal_width\n",
            "Means of each bin: [3.31, 3.6499999999999995, 3.3899999999999997, 3.41, 3.3299999999999996, 2.87, 2.6499999999999995, 2.85, 2.75, 2.73, 2.9400000000000004, 2.9000000000000004, 2.96, 3.04, 3.0300000000000002]\n"
          ]
        }
      ]
    },
    {
      "cell_type": "code",
      "source": [
        "import pandas as pd\n",
        "import numpy as np\n",
        "\n",
        "df = pd.read_excel('iris.xlsx')\n",
        "\n",
        "df_sorted = df.sort_values(by='sepal_width')\n",
        "\n",
        "def equifreq(arr1, m):\n",
        "    a = len(arr1)\n",
        "    n = int(a / m)\n",
        "    bins = []\n",
        "    for i in range(0, m):\n",
        "        arr = []\n",
        "        for j in range(i * n, (i + 1) * n):\n",
        "            if j >= a:\n",
        "                break\n",
        "            arr.append(arr1[j])\n",
        "        bins.append(arr)\n",
        "    return bins\n",
        "\n",
        "print(\"Equal frequency binning for sepal_width\")\n",
        "equi = equifreq(df_sorted['sepal_width'], 15)\n",
        "\n",
        "bin_medians = []\n",
        "for i in range(len(equi)):\n",
        "    median = np.median(equi[i])\n",
        "    bin_medians.append(median)\n",
        "\n",
        "print(\"Medians of each bin:\", bin_medians)\n"
      ],
      "metadata": {
        "colab": {
          "base_uri": "https://localhost:8080/"
        },
        "id": "yY9vTd2xVLk4",
        "outputId": "c607fdd0-a851-4410-e5d9-920eef4b6dc8"
      },
      "id": "yY9vTd2xVLk4",
      "execution_count": null,
      "outputs": [
        {
          "output_type": "stream",
          "name": "stdout",
          "text": [
            "Equal frequency binning for sepal_width\n",
            "Medians of each bin: [3.3, 3.75, 3.4, 3.3, 3.4, 2.8499999999999996, 2.8, 2.8499999999999996, 2.7, 2.75, 2.95, 2.9, 2.9, 3.0, 3.05]\n"
          ]
        }
      ]
    },
    {
      "cell_type": "markdown",
      "source": [
        "### Bin for Petal Length"
      ],
      "metadata": {
        "id": "FD65zK71VV_L"
      },
      "id": "FD65zK71VV_L"
    },
    {
      "cell_type": "code",
      "source": [
        "import pandas as pd\n",
        "import numpy as np\n",
        "\n",
        "df = pd.read_excel('iris.xlsx')\n",
        "\n",
        "df_sorted = df.sort_values(by='petal_length')\n",
        "\n",
        "def equifreq(arr1, m):\n",
        "    a = len(arr1)\n",
        "    n = int(a / m)\n",
        "    bins = []\n",
        "    for i in range(0, m):\n",
        "        arr = []\n",
        "        for j in range(i * n, (i + 1) * n):\n",
        "            if j >= a:\n",
        "                break\n",
        "            arr.append(arr1[j])\n",
        "        bins.append(arr)\n",
        "    return bins\n",
        "\n",
        "print(\"Equal frequency binning for petal_length\")\n",
        "equi = equifreq(df['petal_length'], 15)\n",
        "\n",
        "bin_means = []\n",
        "for i in range(len(equi)):\n",
        "    mean = np.mean(equi[i])\n",
        "    bin_means.append(mean)\n",
        "\n",
        "print(\"Means of each bin:\", bin_means)\n"
      ],
      "metadata": {
        "colab": {
          "base_uri": "https://localhost:8080/"
        },
        "id": "oCYRBJcoVShX",
        "outputId": "e05fd04d-4098-4b22-a902-23103c0cf2c7"
      },
      "id": "oCYRBJcoVShX",
      "execution_count": null,
      "outputs": [
        {
          "output_type": "stream",
          "name": "stdout",
          "text": [
            "Equal frequency binning for petal_length\n",
            "Means of each bin: [1.45, 1.42, 1.55, 1.4300000000000002, 1.4700000000000002, 4.37, 4.14, 4.49, 4.2700000000000005, 4.03, 5.77, 5.54, 5.5, 5.619999999999999, 5.33]\n"
          ]
        }
      ]
    },
    {
      "cell_type": "code",
      "source": [
        "import pandas as pd\n",
        "import numpy as np\n",
        "\n",
        "df = pd.read_excel('iris.xlsx')\n",
        "\n",
        "df_sorted = df.sort_values(by='petal_length')\n",
        "\n",
        "def equifreq(arr1, m):\n",
        "    a = len(arr1)\n",
        "    n = int(a / m)\n",
        "    bins = []\n",
        "    for i in range(0, m):\n",
        "        arr = []\n",
        "        for j in range(i * n, (i + 1) * n):\n",
        "            if j >= a:\n",
        "                break\n",
        "            arr.append(arr1[j])\n",
        "        bins.append(arr)\n",
        "    return bins\n",
        "\n",
        "print(\"Equal frequency binning for petal_length\")\n",
        "equi = equifreq(df_sorted['petal_length'], 15)\n",
        "\n",
        "bin_medians = []\n",
        "for i in range(len(equi)):\n",
        "    median = np.median(equi[i])\n",
        "    bin_medians.append(median)\n",
        "\n",
        "print(\"Medians of each bin:\", bin_medians)\n"
      ],
      "metadata": {
        "colab": {
          "base_uri": "https://localhost:8080/"
        },
        "id": "VnrH8ZMDVhSi",
        "outputId": "c2594cf0-8a9d-4f15-d951-23f046c5e648"
      },
      "id": "VnrH8ZMDVhSi",
      "execution_count": null,
      "outputs": [
        {
          "output_type": "stream",
          "name": "stdout",
          "text": [
            "Equal frequency binning for petal_length\n",
            "Medians of each bin: [1.4, 1.45, 1.6, 1.5, 1.4, 4.55, 4.15, 4.6, 4.25, 4.2, 5.85, 5.3, 5.65, 5.6, 5.2]\n"
          ]
        }
      ]
    },
    {
      "cell_type": "markdown",
      "source": [
        "### Bin for Petal Width"
      ],
      "metadata": {
        "id": "zrMfrN0XV_iz"
      },
      "id": "zrMfrN0XV_iz"
    },
    {
      "cell_type": "code",
      "source": [
        "import pandas as pd\n",
        "import numpy as np\n",
        "\n",
        "df = pd.read_excel('iris.xlsx')\n",
        "\n",
        "df_sorted = df.sort_values(by='petal_width')\n",
        "\n",
        "def equifreq(arr1, m):\n",
        "    a = len(arr1)\n",
        "    n = int(a / m)\n",
        "    bins = []\n",
        "    for i in range(0, m):\n",
        "        arr = []\n",
        "        for j in range(i * n, (i + 1) * n):\n",
        "            if j >= a:\n",
        "                break\n",
        "            arr.append(arr1[j])\n",
        "        bins.append(arr)\n",
        "    return bins\n",
        "\n",
        "print(\"Equal frequency binning for petal_width\")\n",
        "equi = equifreq(df['petal_width'], 15)\n",
        "\n",
        "bin_means = []\n",
        "for i in range(len(equi)):\n",
        "    mean = np.mean(equi[i])\n",
        "    bin_means.append(mean)\n",
        "\n",
        "print(\"Means of each bin:\", bin_means)\n"
      ],
      "metadata": {
        "colab": {
          "base_uri": "https://localhost:8080/"
        },
        "id": "j4o5O_BeVpPX",
        "outputId": "5b4f5eb9-7c34-4698-b84d-47b97dd3a119"
      },
      "id": "j4o5O_BeVpPX",
      "execution_count": null,
      "outputs": [
        {
          "output_type": "stream",
          "name": "stdout",
          "text": [
            "Equal frequency binning for petal_width\n",
            "Means of each bin: [0.22000000000000003, 0.25, 0.27, 0.19, 0.29000000000000004, 1.3800000000000001, 1.27, 1.4100000000000001, 1.3400000000000003, 1.23, 2.04, 2.05, 1.9300000000000002, 1.9400000000000002, 2.17]\n"
          ]
        }
      ]
    },
    {
      "cell_type": "code",
      "source": [
        "import pandas as pd\n",
        "import numpy as np\n",
        "\n",
        "df = pd.read_excel('iris.xlsx')\n",
        "\n",
        "df_sorted = df.sort_values(by='petal_width')\n",
        "\n",
        "def equifreq(arr1, m):\n",
        "    a = len(arr1)\n",
        "    n = int(a / m)\n",
        "    bins = []\n",
        "    for i in range(0, m):\n",
        "        arr = []\n",
        "        for j in range(i * n, (i + 1) * n):\n",
        "            if j >= a:\n",
        "                break\n",
        "            arr.append(arr1[j])\n",
        "        bins.append(arr)\n",
        "    return bins\n",
        "\n",
        "print(\"Equal frequency binning for petal_width\")\n",
        "equi = equifreq(df_sorted['petal_width'], 15)\n",
        "\n",
        "bin_medians = []\n",
        "for i in range(len(equi)):\n",
        "    median = np.median(equi[i])\n",
        "    bin_medians.append(median)\n",
        "\n",
        "print(\"Medians of each bin:\", bin_medians)\n"
      ],
      "metadata": {
        "colab": {
          "base_uri": "https://localhost:8080/"
        },
        "id": "eGd5StvcWVnW",
        "outputId": "ae13adc5-08e7-45bd-98a2-aea052d4b1c0"
      },
      "id": "eGd5StvcWVnW",
      "execution_count": null,
      "outputs": [
        {
          "output_type": "stream",
          "name": "stdout",
          "text": [
            "Equal frequency binning for petal_width\n",
            "Medians of each bin: [0.2, 0.25, 0.2, 0.2, 0.25, 1.4, 1.35, 1.4, 1.3, 1.25, 2.0, 2.05, 1.9, 1.95, 2.3]\n"
          ]
        }
      ]
    },
    {
      "cell_type": "markdown",
      "source": [
        "# LAB 05 - 20 Feb 2024"
      ],
      "metadata": {
        "id": "icr8vZ2KI0WL"
      },
      "id": "icr8vZ2KI0WL"
    },
    {
      "cell_type": "markdown",
      "source": [
        "## Normalization"
      ],
      "metadata": {
        "id": "RNf8QIVsI8mI"
      },
      "id": "RNf8QIVsI8mI"
    },
    {
      "cell_type": "markdown",
      "source": [
        "### Min Max"
      ],
      "metadata": {
        "id": "y71I0WPDI_5P"
      },
      "id": "y71I0WPDI_5P"
    },
    {
      "cell_type": "markdown",
      "source": [
        "#### Min Max for age"
      ],
      "metadata": {
        "id": "T095lrk6Kbs-"
      },
      "id": "T095lrk6Kbs-"
    },
    {
      "cell_type": "code",
      "source": [
        "import pandas as pd\n",
        "\n",
        "data = pd.read_excel('age.xlsx')\n",
        "df = pd.DataFrame(data)\n",
        "\n",
        "min_age = df['age'].min()\n",
        "max_age = df['age'].max()\n",
        "df['age_normalized'] = (df['age'] - min_age) / (max_age - min_age)\n",
        "\n",
        "print(df)\n"
      ],
      "metadata": {
        "colab": {
          "base_uri": "https://localhost:8080/"
        },
        "id": "xyDIjBMyI_gH",
        "outputId": "9ed0023e-5033-4754-a546-2d5f00945b5b"
      },
      "id": "xyDIjBMyI_gH",
      "execution_count": null,
      "outputs": [
        {
          "output_type": "stream",
          "name": "stdout",
          "text": [
            "    age  age_normalized\n",
            "0    33        0.350877\n",
            "1    33        0.350877\n",
            "2    13        0.000000\n",
            "3    15        0.035088\n",
            "4    35        0.385965\n",
            "5    35        0.385965\n",
            "6    35        0.385965\n",
            "7    35        0.385965\n",
            "8    16        0.052632\n",
            "9    16        0.052632\n",
            "10   19        0.105263\n",
            "11   20        0.122807\n",
            "12   20        0.122807\n",
            "13   36        0.403509\n",
            "14   40        0.473684\n",
            "15   41        0.491228\n",
            "16   22        0.157895\n",
            "17   22        0.157895\n",
            "18   45        0.561404\n",
            "19   46        0.578947\n",
            "20   25        0.210526\n",
            "21   25        0.210526\n",
            "22   25        0.210526\n",
            "23   25        0.210526\n",
            "24   52        0.684211\n",
            "25   70        1.000000\n",
            "26   30        0.298246\n"
          ]
        }
      ]
    },
    {
      "cell_type": "markdown",
      "source": [
        "#### Min Max for iris"
      ],
      "metadata": {
        "id": "7D5GoYR0Kj-O"
      },
      "id": "7D5GoYR0Kj-O"
    },
    {
      "cell_type": "code",
      "source": [
        "import pandas as pd\n",
        "\n",
        "data = pd.read_excel('iris.xlsx')\n",
        "df = pd.DataFrame(data)\n",
        "\n",
        "min_sepal_length = df['sepal_length'].min()\n",
        "max_sepal_length = df['sepal_length'].max()\n",
        "df['sepal_length_normalized'] = (df['sepal_length'] - min_sepal_length) / (max_sepal_length - min_sepal_length)\n",
        "\n",
        "print(df[['sepal_length', 'sepal_length_normalized']])\n"
      ],
      "metadata": {
        "colab": {
          "base_uri": "https://localhost:8080/"
        },
        "id": "GERJOxOuJfBY",
        "outputId": "0a3ae7a3-871e-48e1-c37c-8d855f456e32"
      },
      "id": "GERJOxOuJfBY",
      "execution_count": null,
      "outputs": [
        {
          "output_type": "stream",
          "name": "stdout",
          "text": [
            "     sepal_length  sepal_length_normalized\n",
            "0             5.1                 0.222222\n",
            "1             4.9                 0.166667\n",
            "2             4.7                 0.111111\n",
            "3             4.6                 0.083333\n",
            "4             5.0                 0.194444\n",
            "..            ...                      ...\n",
            "145           6.7                 0.666667\n",
            "146           6.3                 0.555556\n",
            "147           6.5                 0.611111\n",
            "148           6.2                 0.527778\n",
            "149           5.9                 0.444444\n",
            "\n",
            "[150 rows x 2 columns]\n"
          ]
        }
      ]
    },
    {
      "cell_type": "code",
      "source": [
        "import pandas as pd\n",
        "\n",
        "data = pd.read_excel('iris.xlsx')\n",
        "df = pd.DataFrame(data)\n",
        "\n",
        "min_sepal_width = df['sepal_width'].min()\n",
        "max_sepal_width = df['sepal_width'].max()\n",
        "df['sepal_width_normalized'] = (df['sepal_width'] - min_sepal_width) / (max_sepal_width - min_sepal_width)\n",
        "\n",
        "print(df[['sepal_width', 'sepal_width_normalized']])\n"
      ],
      "metadata": {
        "colab": {
          "base_uri": "https://localhost:8080/"
        },
        "id": "lw4d3spkK3Dg",
        "outputId": "1c887651-459b-42f6-cd6f-2d17183cdfc9"
      },
      "id": "lw4d3spkK3Dg",
      "execution_count": null,
      "outputs": [
        {
          "output_type": "stream",
          "name": "stdout",
          "text": [
            "     sepal_width  sepal_width_normalized\n",
            "0            3.5                0.625000\n",
            "1            3.0                0.416667\n",
            "2            3.2                0.500000\n",
            "3            3.1                0.458333\n",
            "4            3.6                0.666667\n",
            "..           ...                     ...\n",
            "145          3.0                0.416667\n",
            "146          2.5                0.208333\n",
            "147          3.0                0.416667\n",
            "148          3.4                0.583333\n",
            "149          3.0                0.416667\n",
            "\n",
            "[150 rows x 2 columns]\n"
          ]
        }
      ]
    },
    {
      "cell_type": "code",
      "source": [
        "import pandas as pd\n",
        "\n",
        "data = pd.read_excel('iris.xlsx')\n",
        "df = pd.DataFrame(data)\n",
        "\n",
        "min_petal_length = df['petal_length'].min()\n",
        "max_petal_length = df['petal_length'].max()\n",
        "df['petal_length_normalized'] = (df['petal_length'] - min_petal_length) / (max_petal_length - min_petal_length)\n",
        "\n",
        "print(df[['petal_length', 'petal_length_normalized']])\n"
      ],
      "metadata": {
        "colab": {
          "base_uri": "https://localhost:8080/"
        },
        "id": "KmJCF4fhLM4k",
        "outputId": "72ea9801-f7fa-4b33-d6e5-f36ed3fc63c9"
      },
      "id": "KmJCF4fhLM4k",
      "execution_count": null,
      "outputs": [
        {
          "output_type": "stream",
          "name": "stdout",
          "text": [
            "     petal_length  petal_length_normalized\n",
            "0             1.4                 0.067797\n",
            "1             1.4                 0.067797\n",
            "2             1.3                 0.050847\n",
            "3             1.5                 0.084746\n",
            "4             1.4                 0.067797\n",
            "..            ...                      ...\n",
            "145           5.2                 0.711864\n",
            "146           5.0                 0.677966\n",
            "147           5.2                 0.711864\n",
            "148           5.4                 0.745763\n",
            "149           5.1                 0.694915\n",
            "\n",
            "[150 rows x 2 columns]\n"
          ]
        }
      ]
    },
    {
      "cell_type": "code",
      "source": [
        "import pandas as pd\n",
        "\n",
        "data = pd.read_excel('iris.xlsx')\n",
        "df = pd.DataFrame(data)\n",
        "\n",
        "min_petal_width = df['petal_width'].min()\n",
        "max_petal_width = df['petal_width'].max()\n",
        "df['petal_width_normalized'] = (df['petal_width'] - min_petal_width) / (max_petal_width - min_petal_width)\n",
        "\n",
        "print(df[['petal_width', 'petal_width_normalized']])\n"
      ],
      "metadata": {
        "colab": {
          "base_uri": "https://localhost:8080/"
        },
        "id": "NnEedOcuL-w6",
        "outputId": "a8a0d94a-0682-4877-8142-e282cfd72114"
      },
      "id": "NnEedOcuL-w6",
      "execution_count": null,
      "outputs": [
        {
          "output_type": "stream",
          "name": "stdout",
          "text": [
            "     petal_width  petal_width_normalized\n",
            "0            0.2                0.041667\n",
            "1            0.2                0.041667\n",
            "2            0.2                0.041667\n",
            "3            0.2                0.041667\n",
            "4            0.2                0.041667\n",
            "..           ...                     ...\n",
            "145          2.3                0.916667\n",
            "146          1.9                0.750000\n",
            "147          2.0                0.791667\n",
            "148          2.3                0.916667\n",
            "149          1.8                0.708333\n",
            "\n",
            "[150 rows x 2 columns]\n"
          ]
        }
      ]
    },
    {
      "cell_type": "markdown",
      "source": [
        "### ZScore"
      ],
      "metadata": {
        "id": "wk8UrHhjWB_m"
      },
      "id": "wk8UrHhjWB_m"
    },
    {
      "cell_type": "markdown",
      "source": [
        "#### ZScore for age"
      ],
      "metadata": {
        "id": "0opQkNbGMVgp"
      },
      "id": "0opQkNbGMVgp"
    },
    {
      "cell_type": "code",
      "source": [
        "import pandas as pd\n",
        "\n",
        "data = pd.read_excel('age.xlsx')\n",
        "df = pd.DataFrame(data)\n",
        "\n",
        "mean_age = df['age'].mean()\n",
        "std_age = df['age'].std()\n",
        "df['Z_score'] = (df['age'] - mean_age) / std_age\n",
        "\n",
        "print(df[['age', 'Z_score']])\n"
      ],
      "metadata": {
        "colab": {
          "base_uri": "https://localhost:8080/"
        },
        "id": "JLLT2nPyMNY4",
        "outputId": "294119f7-e84b-440e-adea-d5ce4fa2cbae"
      },
      "id": "JLLT2nPyMNY4",
      "execution_count": null,
      "outputs": [
        {
          "output_type": "stream",
          "name": "stdout",
          "text": [
            "    age   Z_score\n",
            "0    33  0.176887\n",
            "1    33  0.176887\n",
            "2    13 -1.363744\n",
            "3    15 -1.209681\n",
            "4    35  0.330951\n",
            "5    35  0.330951\n",
            "6    35  0.330951\n",
            "7    35  0.330951\n",
            "8    16 -1.132650\n",
            "9    16 -1.132650\n",
            "10   19 -0.901555\n",
            "11   20 -0.824523\n",
            "12   20 -0.824523\n",
            "13   36  0.407982\n",
            "14   40  0.716108\n",
            "15   41  0.793140\n",
            "16   22 -0.670460\n",
            "17   22 -0.670460\n",
            "18   45  1.101266\n",
            "19   46  1.178298\n",
            "20   25 -0.439365\n",
            "21   25 -0.439365\n",
            "22   25 -0.439365\n",
            "23   25 -0.439365\n",
            "24   52  1.640487\n",
            "25   70  3.027056\n",
            "26   30 -0.054207\n"
          ]
        }
      ]
    },
    {
      "cell_type": "markdown",
      "source": [
        "#### ZScore for iris"
      ],
      "metadata": {
        "id": "DgqArZi5QH__"
      },
      "id": "DgqArZi5QH__"
    },
    {
      "cell_type": "code",
      "source": [
        "import pandas as pd\n",
        "\n",
        "data = pd.read_excel('iris.xlsx')\n",
        "df = pd.DataFrame(data)\n",
        "\n",
        "mean_sepal_length = df['sepal_length'].mean()\n",
        "std_sepal_length = df['sepal_length'].std()\n",
        "df['Z_score'] = (df['sepal_length'] - mean_sepal_length) / std_sepal_length\n",
        "\n",
        "print(df[['sepal_length', 'Z_score']])\n"
      ],
      "metadata": {
        "colab": {
          "base_uri": "https://localhost:8080/"
        },
        "id": "3BBAPka2NfTr",
        "outputId": "9d33fcbe-c63e-4600-93ab-f34232d07f2f"
      },
      "id": "3BBAPka2NfTr",
      "execution_count": null,
      "outputs": [
        {
          "output_type": "stream",
          "name": "stdout",
          "text": [
            "     sepal_length   Z_score\n",
            "0             5.1 -0.897674\n",
            "1             4.9 -1.139200\n",
            "2             4.7 -1.380727\n",
            "3             4.6 -1.501490\n",
            "4             5.0 -1.018437\n",
            "..            ...       ...\n",
            "145           6.7  1.034539\n",
            "146           6.3  0.551486\n",
            "147           6.5  0.793012\n",
            "148           6.2  0.430722\n",
            "149           5.9  0.068433\n",
            "\n",
            "[150 rows x 2 columns]\n"
          ]
        }
      ]
    },
    {
      "cell_type": "code",
      "source": [
        "import pandas as pd\n",
        "\n",
        "data = pd.read_excel('iris.xlsx')\n",
        "df = pd.DataFrame(data)\n",
        "\n",
        "mean_sepal_width = df['sepal_width'].mean()\n",
        "std_sepal_width = df['sepal_width'].std()\n",
        "df['Z_score'] = (df['sepal_width'] - mean_sepal_width) / std_sepal_width\n",
        "\n",
        "print(df[['sepal_length', 'Z_score']])\n"
      ],
      "metadata": {
        "colab": {
          "base_uri": "https://localhost:8080/"
        },
        "id": "vjI-zurVN9Tn",
        "outputId": "d6adb062-458f-41f8-be1a-cb6994a2c59d"
      },
      "id": "vjI-zurVN9Tn",
      "execution_count": null,
      "outputs": [
        {
          "output_type": "stream",
          "name": "stdout",
          "text": [
            "     sepal_length   Z_score\n",
            "0             5.1  1.028611\n",
            "1             4.9 -0.124540\n",
            "2             4.7  0.336720\n",
            "3             4.6  0.106090\n",
            "4             5.0  1.259242\n",
            "..            ...       ...\n",
            "145           6.7 -0.124540\n",
            "146           6.3 -1.277692\n",
            "147           6.5 -0.124540\n",
            "148           6.2  0.797981\n",
            "149           5.9 -0.124540\n",
            "\n",
            "[150 rows x 2 columns]\n"
          ]
        }
      ]
    },
    {
      "cell_type": "code",
      "source": [
        "import pandas as pd\n",
        "\n",
        "data = pd.read_excel('iris.xlsx')\n",
        "df = pd.DataFrame(data)\n",
        "\n",
        "mean_petal_length = df['petal_length'].mean()\n",
        "std_petal_length = df['petal_length'].std()\n",
        "df['Z_score'] = (df['petal_length'] - mean_petal_length) / std_petal_length\n",
        "\n",
        "print(df[['petal_length', 'Z_score']])\n"
      ],
      "metadata": {
        "colab": {
          "base_uri": "https://localhost:8080/"
        },
        "id": "S-vGatdmPAA3",
        "outputId": "5617a047-71f3-44ea-c26f-e525f4444bb6"
      },
      "id": "S-vGatdmPAA3",
      "execution_count": null,
      "outputs": [
        {
          "output_type": "stream",
          "name": "stdout",
          "text": [
            "     petal_length   Z_score\n",
            "0             1.4 -1.336794\n",
            "1             1.4 -1.336794\n",
            "2             1.3 -1.393470\n",
            "3             1.5 -1.280118\n",
            "4             1.4 -1.336794\n",
            "..            ...       ...\n",
            "145           5.2  0.816888\n",
            "146           5.0  0.703536\n",
            "147           5.2  0.816888\n",
            "148           5.4  0.930239\n",
            "149           5.1  0.760212\n",
            "\n",
            "[150 rows x 2 columns]\n"
          ]
        }
      ]
    },
    {
      "cell_type": "code",
      "source": [
        "import pandas as pd\n",
        "\n",
        "data = pd.read_excel('iris.xlsx')\n",
        "df = pd.DataFrame(data)\n",
        "\n",
        "mean_petal_width = df['petal_width'].mean()\n",
        "std_petal_width = df['petal_width'].std()\n",
        "df['Z_score'] = (df['petal_width'] - mean_petal_width) / std_petal_width\n",
        "\n",
        "print(df[['petal_width', 'Z_score']])\n"
      ],
      "metadata": {
        "colab": {
          "base_uri": "https://localhost:8080/"
        },
        "id": "xMSj4Q3DPYg1",
        "outputId": "8ce59c25-e26f-4369-cfc4-d28d819ede3b"
      },
      "id": "xMSj4Q3DPYg1",
      "execution_count": null,
      "outputs": [
        {
          "output_type": "stream",
          "name": "stdout",
          "text": [
            "     petal_width   Z_score\n",
            "0            0.2 -1.308593\n",
            "1            0.2 -1.308593\n",
            "2            0.2 -1.308593\n",
            "3            0.2 -1.308593\n",
            "4            0.2 -1.308593\n",
            "..           ...       ...\n",
            "145          2.3  1.443121\n",
            "146          1.9  0.918985\n",
            "147          2.0  1.050019\n",
            "148          2.3  1.443121\n",
            "149          1.8  0.787951\n",
            "\n",
            "[150 rows x 2 columns]\n"
          ]
        }
      ]
    },
    {
      "cell_type": "markdown",
      "source": [
        "### Decimal Scaling"
      ],
      "metadata": {
        "id": "sfL84H_8WG4h"
      },
      "id": "sfL84H_8WG4h"
    },
    {
      "cell_type": "markdown",
      "source": [
        "#### Decimal Scaling for age"
      ],
      "metadata": {
        "id": "qYB5nsSzQNHp"
      },
      "id": "qYB5nsSzQNHp"
    },
    {
      "cell_type": "code",
      "source": [
        "\n",
        "import pandas as pd\n",
        "from decimal import Decimal\n",
        "\n",
        "data = pd.read_excel('age.xlsx')\n",
        "df = pd.DataFrame(data)\n",
        "\n",
        "# scaling_factor = Decimal(10)\n",
        "# df['scale_results'] = df['age'] / scaling_factor\n",
        "\n",
        "df['scale_results'] = df['age'] / Decimal(10)\n",
        "\n",
        "print(df[['age', 'scale_results']])\n"
      ],
      "metadata": {
        "colab": {
          "base_uri": "https://localhost:8080/"
        },
        "id": "i2bLl2K2Sis4",
        "outputId": "b2bcc319-ac0a-4f87-e27d-ef90aa33462e"
      },
      "id": "i2bLl2K2Sis4",
      "execution_count": null,
      "outputs": [
        {
          "output_type": "stream",
          "name": "stdout",
          "text": [
            "    age scale_results\n",
            "0    33           3.3\n",
            "1    33           3.3\n",
            "2    13           1.3\n",
            "3    15           1.5\n",
            "4    35           3.5\n",
            "5    35           3.5\n",
            "6    35           3.5\n",
            "7    35           3.5\n",
            "8    16           1.6\n",
            "9    16           1.6\n",
            "10   19           1.9\n",
            "11   20             2\n",
            "12   20             2\n",
            "13   36           3.6\n",
            "14   40             4\n",
            "15   41           4.1\n",
            "16   22           2.2\n",
            "17   22           2.2\n",
            "18   45           4.5\n",
            "19   46           4.6\n",
            "20   25           2.5\n",
            "21   25           2.5\n",
            "22   25           2.5\n",
            "23   25           2.5\n",
            "24   52           5.2\n",
            "25   70             7\n",
            "26   30             3\n"
          ]
        }
      ]
    },
    {
      "cell_type": "markdown",
      "source": [
        "#### Decimal Scaling for iris"
      ],
      "metadata": {
        "id": "YGvGKZEATYik"
      },
      "id": "YGvGKZEATYik"
    },
    {
      "cell_type": "markdown",
      "source": [
        "### Max Absolute Scaling"
      ],
      "metadata": {
        "id": "C7VbmFwHWLGg"
      },
      "id": "C7VbmFwHWLGg"
    },
    {
      "cell_type": "markdown",
      "source": [
        "#### Max Absolute Scaling for age"
      ],
      "metadata": {
        "id": "66b8bi-aVDYw"
      },
      "id": "66b8bi-aVDYw"
    },
    {
      "cell_type": "code",
      "source": [
        "import seaborn as sns\n",
        "\n",
        "data = pd.read_excel('age.xlsx')\n",
        "df = pd.DataFrame(data)\n",
        "\n",
        "sns.distplot(df['age'])"
      ],
      "metadata": {
        "colab": {
          "base_uri": "https://localhost:8080/",
          "height": 663
        },
        "id": "EOrxDG9rTm8v",
        "outputId": "b2a76f6b-bfac-43a7-b93c-f41a3a8cbf9a"
      },
      "id": "EOrxDG9rTm8v",
      "execution_count": null,
      "outputs": [
        {
          "output_type": "stream",
          "name": "stderr",
          "text": [
            "<ipython-input-160-aafb7ab6c659>:6: UserWarning: \n",
            "\n",
            "`distplot` is a deprecated function and will be removed in seaborn v0.14.0.\n",
            "\n",
            "Please adapt your code to use either `displot` (a figure-level function with\n",
            "similar flexibility) or `histplot` (an axes-level function for histograms).\n",
            "\n",
            "For a guide to updating your code to use the new functions, please see\n",
            "https://gist.github.com/mwaskom/de44147ed2974457ad6372750bbe5751\n",
            "\n",
            "  sns.distplot(df['age'])\n"
          ]
        },
        {
          "output_type": "execute_result",
          "data": {
            "text/plain": [
              "<Axes: xlabel='age', ylabel='Density'>"
            ]
          },
          "metadata": {},
          "execution_count": 160
        },
        {
          "output_type": "display_data",
          "data": {
            "text/plain": [
              "<Figure size 640x480 with 1 Axes>"
            ],
            "image/png": "[encoded data removed]"
          },
          "metadata": {}
        }
      ]
    },
    {
      "cell_type": "code",
      "source": [
        "import seaborn as sns\n",
        "import pandas as pd\n",
        "\n",
        "data = pd.read_excel('age.xlsx')\n",
        "df = pd.DataFrame(data)\n",
        "\n",
        "df['scale'] = df['age'] / df['age'].abs().max()\n",
        "\n",
        "print(df[['age', 'scale']])\n",
        "\n",
        "sns.distplot(df['scale'])\n"
      ],
      "metadata": {
        "colab": {
          "base_uri": "https://localhost:8080/",
          "height": 1000
        },
        "id": "_gC7Ifp7VT1p",
        "outputId": "dc04590c-b766-4523-bf56-455252625a91"
      },
      "id": "_gC7Ifp7VT1p",
      "execution_count": null,
      "outputs": [
        {
          "output_type": "stream",
          "name": "stdout",
          "text": [
            "    age     scale\n",
            "0    33  0.471429\n",
            "1    33  0.471429\n",
            "2    13  0.185714\n",
            "3    15  0.214286\n",
            "4    35  0.500000\n",
            "5    35  0.500000\n",
            "6    35  0.500000\n",
            "7    35  0.500000\n",
            "8    16  0.228571\n",
            "9    16  0.228571\n",
            "10   19  0.271429\n",
            "11   20  0.285714\n",
            "12   20  0.285714\n",
            "13   36  0.514286\n",
            "14   40  0.571429\n",
            "15   41  0.585714\n",
            "16   22  0.314286\n",
            "17   22  0.314286\n",
            "18   45  0.642857\n",
            "19   46  0.657143\n",
            "20   25  0.357143\n",
            "21   25  0.357143\n",
            "22   25  0.357143\n",
            "23   25  0.357143\n",
            "24   52  0.742857\n",
            "25   70  1.000000\n",
            "26   30  0.428571\n"
          ]
        },
        {
          "output_type": "stream",
          "name": "stderr",
          "text": [
            "<ipython-input-161-5be15cd50070>:11: UserWarning: \n",
            "\n",
            "`distplot` is a deprecated function and will be removed in seaborn v0.14.0.\n",
            "\n",
            "Please adapt your code to use either `displot` (a figure-level function with\n",
            "similar flexibility) or `histplot` (an axes-level function for histograms).\n",
            "\n",
            "For a guide to updating your code to use the new functions, please see\n",
            "https://gist.github.com/mwaskom/de44147ed2974457ad6372750bbe5751\n",
            "\n",
            "  sns.distplot(df['scale'])\n"
          ]
        },
        {
          "output_type": "execute_result",
          "data": {
            "text/plain": [
              "<Axes: xlabel='scale', ylabel='Density'>"
            ]
          },
          "metadata": {},
          "execution_count": 161
        },
        {
          "output_type": "display_data",
          "data": {
            "text/plain": [
              "<Figure size 640x480 with 1 Axes>"
            ],
            "image/png": "[encoded data removed]"
          },
          "metadata": {}
        }
      ]
    },
    {
      "cell_type": "markdown",
      "source": [
        "#### Max Absolute Scaling for iris"
      ],
      "metadata": {
        "id": "Ue4YsqvuW5mt"
      },
      "id": "Ue4YsqvuW5mt"
    },
    {
      "cell_type": "code",
      "source": [
        "import seaborn as sns\n",
        "import pandas as pd\n",
        "\n",
        "data = pd.read_excel('iris.xlsx')\n",
        "df = pd.DataFrame(data)\n",
        "\n",
        "df['scale'] = df['sepal_length'] / df['sepal_length'].abs().max()\n",
        "\n",
        "print(df[['sepal_length', 'scale']])\n",
        "\n",
        "sns.distplot(df['scale'])\n"
      ],
      "metadata": {
        "colab": {
          "base_uri": "https://localhost:8080/",
          "height": 913
        },
        "id": "3kfoolh_V3UX",
        "outputId": "83b9127c-3a6f-4323-be63-460d8b45bfa3"
      },
      "id": "3kfoolh_V3UX",
      "execution_count": null,
      "outputs": [
        {
          "output_type": "stream",
          "name": "stdout",
          "text": [
            "     sepal_length     scale\n",
            "0             5.1  0.645570\n",
            "1             4.9  0.620253\n",
            "2             4.7  0.594937\n",
            "3             4.6  0.582278\n",
            "4             5.0  0.632911\n",
            "..            ...       ...\n",
            "145           6.7  0.848101\n",
            "146           6.3  0.797468\n",
            "147           6.5  0.822785\n",
            "148           6.2  0.784810\n",
            "149           5.9  0.746835\n",
            "\n",
            "[150 rows x 2 columns]\n"
          ]
        },
        {
          "output_type": "stream",
          "name": "stderr",
          "text": [
            "<ipython-input-162-c50117413f67>:11: UserWarning: \n",
            "\n",
            "`distplot` is a deprecated function and will be removed in seaborn v0.14.0.\n",
            "\n",
            "Please adapt your code to use either `displot` (a figure-level function with\n",
            "similar flexibility) or `histplot` (an axes-level function for histograms).\n",
            "\n",
            "For a guide to updating your code to use the new functions, please see\n",
            "https://gist.github.com/mwaskom/de44147ed2974457ad6372750bbe5751\n",
            "\n",
            "  sns.distplot(df['scale'])\n"
          ]
        },
        {
          "output_type": "execute_result",
          "data": {
            "text/plain": [
              "<Axes: xlabel='scale', ylabel='Density'>"
            ]
          },
          "metadata": {},
          "execution_count": 162
        },
        {
          "output_type": "display_data",
          "data": {
            "text/plain": [
              "<Figure size 640x480 with 1 Axes>"
            ],
            "image/png": "[encoded data removed]"
          },
          "metadata": {}
        }
      ]
    },
    {
      "cell_type": "code",
      "source": [
        "import seaborn as sns\n",
        "import pandas as pd\n",
        "\n",
        "data = pd.read_excel('iris.xlsx')\n",
        "df = pd.DataFrame(data)\n",
        "\n",
        "df['scale'] = df['sepal_width'] / df['sepal_width'].abs().max()\n",
        "\n",
        "print(df[['sepal_width', 'scale']])\n",
        "\n",
        "sns.distplot(df['scale'])\n"
      ],
      "metadata": {
        "colab": {
          "base_uri": "https://localhost:8080/",
          "height": 913
        },
        "id": "5sBIHs7rWziG",
        "outputId": "18581980-4628-4963-c21b-ed0d37f1adf6"
      },
      "id": "5sBIHs7rWziG",
      "execution_count": null,
      "outputs": [
        {
          "output_type": "stream",
          "name": "stdout",
          "text": [
            "     sepal_width     scale\n",
            "0            3.5  0.795455\n",
            "1            3.0  0.681818\n",
            "2            3.2  0.727273\n",
            "3            3.1  0.704545\n",
            "4            3.6  0.818182\n",
            "..           ...       ...\n",
            "145          3.0  0.681818\n",
            "146          2.5  0.568182\n",
            "147          3.0  0.681818\n",
            "148          3.4  0.772727\n",
            "149          3.0  0.681818\n",
            "\n",
            "[150 rows x 2 columns]\n"
          ]
        },
        {
          "output_type": "stream",
          "name": "stderr",
          "text": [
            "<ipython-input-163-934e56644c0d>:11: UserWarning: \n",
            "\n",
            "`distplot` is a deprecated function and will be removed in seaborn v0.14.0.\n",
            "\n",
            "Please adapt your code to use either `displot` (a figure-level function with\n",
            "similar flexibility) or `histplot` (an axes-level function for histograms).\n",
            "\n",
            "For a guide to updating your code to use the new functions, please see\n",
            "https://gist.github.com/mwaskom/de44147ed2974457ad6372750bbe5751\n",
            "\n",
            "  sns.distplot(df['scale'])\n"
          ]
        },
        {
          "output_type": "execute_result",
          "data": {
            "text/plain": [
              "<Axes: xlabel='scale', ylabel='Density'>"
            ]
          },
          "metadata": {},
          "execution_count": 163
        },
        {
          "output_type": "display_data",
          "data": {
            "text/plain": [
              "<Figure size 640x480 with 1 Axes>"
            ],
            "image/png": "[encoded data removed]"
          },
          "metadata": {}
        }
      ]
    },
    {
      "cell_type": "code",
      "source": [
        "import seaborn as sns\n",
        "import pandas as pd\n",
        "\n",
        "data = pd.read_excel('iris.xlsx')\n",
        "df = pd.DataFrame(data)\n",
        "\n",
        "df['scale'] = df['petal_length'] / df['petal_length'].abs().max()\n",
        "\n",
        "print(df[['petal_length', 'scale']])\n",
        "\n",
        "sns.distplot(df['scale'])\n"
      ],
      "metadata": {
        "colab": {
          "base_uri": "https://localhost:8080/",
          "height": 913
        },
        "id": "S-5qodzsXA9m",
        "outputId": "19a8e85c-d3d7-4ce3-bbe3-62de396b03d9"
      },
      "id": "S-5qodzsXA9m",
      "execution_count": null,
      "outputs": [
        {
          "output_type": "stream",
          "name": "stdout",
          "text": [
            "     petal_length     scale\n",
            "0             1.4  0.202899\n",
            "1             1.4  0.202899\n",
            "2             1.3  0.188406\n",
            "3             1.5  0.217391\n",
            "4             1.4  0.202899\n",
            "..            ...       ...\n",
            "145           5.2  0.753623\n",
            "146           5.0  0.724638\n",
            "147           5.2  0.753623\n",
            "148           5.4  0.782609\n",
            "149           5.1  0.739130\n",
            "\n",
            "[150 rows x 2 columns]\n"
          ]
        },
        {
          "output_type": "stream",
          "name": "stderr",
          "text": [
            "<ipython-input-164-98dd5fa5fb08>:11: UserWarning: \n",
            "\n",
            "`distplot` is a deprecated function and will be removed in seaborn v0.14.0.\n",
            "\n",
            "Please adapt your code to use either `displot` (a figure-level function with\n",
            "similar flexibility) or `histplot` (an axes-level function for histograms).\n",
            "\n",
            "For a guide to updating your code to use the new functions, please see\n",
            "https://gist.github.com/mwaskom/de44147ed2974457ad6372750bbe5751\n",
            "\n",
            "  sns.distplot(df['scale'])\n"
          ]
        },
        {
          "output_type": "execute_result",
          "data": {
            "text/plain": [
              "<Axes: xlabel='scale', ylabel='Density'>"
            ]
          },
          "metadata": {},
          "execution_count": 164
        },
        {
          "output_type": "display_data",
          "data": {
            "text/plain": [
              "<Figure size 640x480 with 1 Axes>"
            ],
            "image/png": "[encoded data removed]"
          },
          "metadata": {}
        }
      ]
    },
    {
      "cell_type": "code",
      "source": [
        "import seaborn as sns\n",
        "import pandas as pd\n",
        "\n",
        "data = pd.read_excel('iris.xlsx')\n",
        "df = pd.DataFrame(data)\n",
        "\n",
        "df['scale'] = df['petal_width'] / df['petal_width'].abs().max()\n",
        "\n",
        "print(df[['petal_width', 'scale']])\n",
        "\n",
        "sns.distplot(df['scale'])\n"
      ],
      "metadata": {
        "colab": {
          "base_uri": "https://localhost:8080/",
          "height": 913
        },
        "id": "nGznDENjXH6F",
        "outputId": "2954c55c-103a-4ab6-9e4d-0a096351da0a"
      },
      "id": "nGznDENjXH6F",
      "execution_count": null,
      "outputs": [
        {
          "output_type": "stream",
          "name": "stdout",
          "text": [
            "     petal_width  scale\n",
            "0            0.2   0.08\n",
            "1            0.2   0.08\n",
            "2            0.2   0.08\n",
            "3            0.2   0.08\n",
            "4            0.2   0.08\n",
            "..           ...    ...\n",
            "145          2.3   0.92\n",
            "146          1.9   0.76\n",
            "147          2.0   0.80\n",
            "148          2.3   0.92\n",
            "149          1.8   0.72\n",
            "\n",
            "[150 rows x 2 columns]\n"
          ]
        },
        {
          "output_type": "stream",
          "name": "stderr",
          "text": [
            "<ipython-input-165-97e8d9411986>:11: UserWarning: \n",
            "\n",
            "`distplot` is a deprecated function and will be removed in seaborn v0.14.0.\n",
            "\n",
            "Please adapt your code to use either `displot` (a figure-level function with\n",
            "similar flexibility) or `histplot` (an axes-level function for histograms).\n",
            "\n",
            "For a guide to updating your code to use the new functions, please see\n",
            "https://gist.github.com/mwaskom/de44147ed2974457ad6372750bbe5751\n",
            "\n",
            "  sns.distplot(df['scale'])\n"
          ]
        },
        {
          "output_type": "execute_result",
          "data": {
            "text/plain": [
              "<Axes: xlabel='scale', ylabel='Density'>"
            ]
          },
          "metadata": {},
          "execution_count": 165
        },
        {
          "output_type": "display_data",
          "data": {
            "text/plain": [
              "<Figure size 640x480 with 1 Axes>"
            ],
            "image/png": "[encoded data removed]"
          },
          "metadata": {}
        }
      ]
    },
    {
      "cell_type": "markdown",
      "source": [
        "### Min Max (Given Range)"
      ],
      "metadata": {
        "id": "Fb8dnbSiWPPt"
      },
      "id": "Fb8dnbSiWPPt"
    },
    {
      "cell_type": "markdown",
      "source": [
        "#### Min Max for age (Given range)"
      ],
      "metadata": {
        "id": "AiA58tYbcilf"
      },
      "id": "AiA58tYbcilf"
    },
    {
      "cell_type": "code",
      "source": [
        "import pandas as pd\n",
        "\n",
        "data = pd.read_excel('age.xlsx')\n",
        "df = pd.DataFrame(data)\n",
        "\n",
        "min_age = df['age'].min()\n",
        "max_age = df['age'].max()\n",
        "new_max = 2\n",
        "new_min = -2\n",
        "\n",
        "df['age_normalized'] = (df['age'] - min_age) / (max_age - min_age)\n",
        "df['age_normalized_in_range'] = (df['age'] - min_age) / (max_age - min_age) * ((new_max - (new_min)) +  (new_min))\n",
        "\n",
        "print(df[['age','age_normalized','age_normalized_in_range']])\n"
      ],
      "metadata": {
        "colab": {
          "base_uri": "https://localhost:8080/"
        },
        "id": "rU7NDmEcaZCO",
        "outputId": "0090fcd9-4bef-4ec0-f438-aea84e0fdcd8"
      },
      "id": "rU7NDmEcaZCO",
      "execution_count": null,
      "outputs": [
        {
          "output_type": "stream",
          "name": "stdout",
          "text": [
            "    age  age_normalized  age_normalized_in_range\n",
            "0    33        0.350877                 0.701754\n",
            "1    33        0.350877                 0.701754\n",
            "2    13        0.000000                 0.000000\n",
            "3    15        0.035088                 0.070175\n",
            "4    35        0.385965                 0.771930\n",
            "5    35        0.385965                 0.771930\n",
            "6    35        0.385965                 0.771930\n",
            "7    35        0.385965                 0.771930\n",
            "8    16        0.052632                 0.105263\n",
            "9    16        0.052632                 0.105263\n",
            "10   19        0.105263                 0.210526\n",
            "11   20        0.122807                 0.245614\n",
            "12   20        0.122807                 0.245614\n",
            "13   36        0.403509                 0.807018\n",
            "14   40        0.473684                 0.947368\n",
            "15   41        0.491228                 0.982456\n",
            "16   22        0.157895                 0.315789\n",
            "17   22        0.157895                 0.315789\n",
            "18   45        0.561404                 1.122807\n",
            "19   46        0.578947                 1.157895\n",
            "20   25        0.210526                 0.421053\n",
            "21   25        0.210526                 0.421053\n",
            "22   25        0.210526                 0.421053\n",
            "23   25        0.210526                 0.421053\n",
            "24   52        0.684211                 1.368421\n",
            "25   70        1.000000                 2.000000\n",
            "26   30        0.298246                 0.596491\n"
          ]
        }
      ]
    },
    {
      "cell_type": "markdown",
      "source": [
        "#### Min Max for iris (Given range)"
      ],
      "metadata": {
        "id": "7K0mIc4-cogJ"
      },
      "id": "7K0mIc4-cogJ"
    },
    {
      "cell_type": "code",
      "source": [
        "import pandas as pd\n",
        "\n",
        "data = pd.read_excel('iris.xlsx')\n",
        "df = pd.DataFrame(data)\n",
        "\n",
        "min_sepal_length = df['sepal_length'].min()\n",
        "max_sepal_length = df['sepal_length'].max()\n",
        "new_max = 2\n",
        "new_min = -2\n",
        "\n",
        "df['normalized'] = (df['sepal_length'] - min_sepal_length) / (max_sepal_length - min_sepal_length)\n",
        "df['normalized_in_range'] = (df['sepal_length'] - min_sepal_length) / (max_sepal_length - min_sepal_length) * ((new_max - (new_min)) +  (new_min))\n",
        "\n",
        "print(df[['sepal_length','normalized','normalized_in_range']])\n"
      ],
      "metadata": {
        "colab": {
          "base_uri": "https://localhost:8080/"
        },
        "id": "vVlonr0TankP",
        "outputId": "4a44111b-f63e-4fc8-9ff1-1e8978f1ce1e"
      },
      "id": "vVlonr0TankP",
      "execution_count": null,
      "outputs": [
        {
          "output_type": "stream",
          "name": "stdout",
          "text": [
            "     sepal_length  normalized  normalized_in_range\n",
            "0             5.1    0.222222             0.444444\n",
            "1             4.9    0.166667             0.333333\n",
            "2             4.7    0.111111             0.222222\n",
            "3             4.6    0.083333             0.166667\n",
            "4             5.0    0.194444             0.388889\n",
            "..            ...         ...                  ...\n",
            "145           6.7    0.666667             1.333333\n",
            "146           6.3    0.555556             1.111111\n",
            "147           6.5    0.611111             1.222222\n",
            "148           6.2    0.527778             1.055556\n",
            "149           5.9    0.444444             0.888889\n",
            "\n",
            "[150 rows x 3 columns]\n"
          ]
        }
      ]
    },
    {
      "cell_type": "code",
      "source": [
        "import pandas as pd\n",
        "\n",
        "data = pd.read_excel('iris.xlsx')\n",
        "df = pd.DataFrame(data)\n",
        "\n",
        "min_sepal_length = df['sepal_width'].min()\n",
        "max_sepal_length = df['sepal_width'].max()\n",
        "new_max = 2\n",
        "new_min = -2\n",
        "\n",
        "df['normalized'] = (df['sepal_width'] - min_sepal_width) / (max_sepal_width - min_sepal_width)\n",
        "df['normalized_in_range'] = (df['sepal_width'] - min_sepal_width) / (max_sepal_width - min_sepal_width) * ((new_max - (new_min)) +  (new_min))\n",
        "\n",
        "print(df[['sepal_width','normalized','normalized_in_range']])"
      ],
      "metadata": {
        "colab": {
          "base_uri": "https://localhost:8080/"
        },
        "id": "cgWuWcCwb_Ei",
        "outputId": "3899f342-d2a1-4fd4-958c-f3c05c64b4af"
      },
      "id": "cgWuWcCwb_Ei",
      "execution_count": null,
      "outputs": [
        {
          "output_type": "stream",
          "name": "stdout",
          "text": [
            "     sepal_width  normalized  normalized_in_range\n",
            "0            3.5    0.625000             1.250000\n",
            "1            3.0    0.416667             0.833333\n",
            "2            3.2    0.500000             1.000000\n",
            "3            3.1    0.458333             0.916667\n",
            "4            3.6    0.666667             1.333333\n",
            "..           ...         ...                  ...\n",
            "145          3.0    0.416667             0.833333\n",
            "146          2.5    0.208333             0.416667\n",
            "147          3.0    0.416667             0.833333\n",
            "148          3.4    0.583333             1.166667\n",
            "149          3.0    0.416667             0.833333\n",
            "\n",
            "[150 rows x 3 columns]\n"
          ]
        }
      ]
    },
    {
      "cell_type": "code",
      "source": [
        "import pandas as pd\n",
        "\n",
        "data = pd.read_excel('iris.xlsx')\n",
        "df = pd.DataFrame(data)\n",
        "\n",
        "min_sepal_length = df['petal_length'].min()\n",
        "max_sepal_length = df['petal_length'].max()\n",
        "new_max = 2\n",
        "new_min = -2\n",
        "\n",
        "df['normalized'] = (df['petal_length'] - min_petal_length) / (max_petal_length - min_petal_length)\n",
        "df['normalized_in_range'] = (df['petal_length'] - min_petal_length) / (max_petal_length - min_petal_length) * ((new_max - (new_min)) +  (new_min))\n",
        "\n",
        "print(df[['petal_length','normalized','normalized_in_range']])"
      ],
      "metadata": {
        "colab": {
          "base_uri": "https://localhost:8080/"
        },
        "id": "wBpsmpRGdHdv",
        "outputId": "d0598632-cecb-47f4-dbf9-11ed643c49b1"
      },
      "id": "wBpsmpRGdHdv",
      "execution_count": null,
      "outputs": [
        {
          "output_type": "stream",
          "name": "stdout",
          "text": [
            "     petal_length  normalized  normalized_in_range\n",
            "0             1.4    0.067797             0.135593\n",
            "1             1.4    0.067797             0.135593\n",
            "2             1.3    0.050847             0.101695\n",
            "3             1.5    0.084746             0.169492\n",
            "4             1.4    0.067797             0.135593\n",
            "..            ...         ...                  ...\n",
            "145           5.2    0.711864             1.423729\n",
            "146           5.0    0.677966             1.355932\n",
            "147           5.2    0.711864             1.423729\n",
            "148           5.4    0.745763             1.491525\n",
            "149           5.1    0.694915             1.389831\n",
            "\n",
            "[150 rows x 3 columns]\n"
          ]
        }
      ]
    },
    {
      "cell_type": "code",
      "source": [
        "import pandas as pd\n",
        "\n",
        "data = pd.read_excel('iris.xlsx')\n",
        "df = pd.DataFrame(data)\n",
        "\n",
        "min_sepal_length = df['petal_width'].min()\n",
        "max_sepal_length = df['petal_width'].max()\n",
        "new_max = 2\n",
        "new_min = -2\n",
        "\n",
        "df['normalized'] = (df['petal_width'] - min_petal_width) / (max_petal_width - min_petal_width)\n",
        "df['normalized_in_range'] = (df['petal_width'] - min_petal_width) / (max_petal_width - min_petal_width) * ((new_max - (new_min)) +  (new_min))\n",
        "\n",
        "print(df[['petal_width','normalized','normalized_in_range']])"
      ],
      "metadata": {
        "colab": {
          "base_uri": "https://localhost:8080/"
        },
        "id": "QxDqg7xsdlso",
        "outputId": "c87af3c9-38ee-4ec2-b6ae-44516a13de10"
      },
      "id": "QxDqg7xsdlso",
      "execution_count": null,
      "outputs": [
        {
          "output_type": "stream",
          "name": "stdout",
          "text": [
            "     petal_width  normalized  normalized_in_range\n",
            "0            0.2    0.041667             0.083333\n",
            "1            0.2    0.041667             0.083333\n",
            "2            0.2    0.041667             0.083333\n",
            "3            0.2    0.041667             0.083333\n",
            "4            0.2    0.041667             0.083333\n",
            "..           ...         ...                  ...\n",
            "145          2.3    0.916667             1.833333\n",
            "146          1.9    0.750000             1.500000\n",
            "147          2.0    0.791667             1.583333\n",
            "148          2.3    0.916667             1.833333\n",
            "149          1.8    0.708333             1.416667\n",
            "\n",
            "[150 rows x 3 columns]\n"
          ]
        }
      ]
    },
    {
      "cell_type": "markdown",
      "source": [
        "# LAB 06 - 27 feb 2023"
      ],
      "metadata": {
        "id": "cvSP__z9I8x_"
      },
      "id": "cvSP__z9I8x_"
    },
    {
      "cell_type": "markdown",
      "source": [
        "## Cars DataSet"
      ],
      "metadata": {
        "id": "Y8Dn-GRwMKT3"
      },
      "id": "Y8Dn-GRwMKT3"
    },
    {
      "cell_type": "markdown",
      "source": [
        "### Reading CSV"
      ],
      "metadata": {
        "id": "g6F9lwNeJLMm"
      },
      "id": "g6F9lwNeJLMm"
    },
    {
      "cell_type": "code",
      "source": [
        "import pandas as pd\n",
        "df = pd.read_csv('/cars.csv')\n",
        "print(df)"
      ],
      "metadata": {
        "colab": {
          "base_uri": "https://localhost:8080/"
        },
        "id": "ExLI58jZJP9W",
        "outputId": "9f89f7fd-c4a2-48bb-af59-e2241dda862a"
      },
      "id": "ExLI58jZJP9W",
      "execution_count": 5,
      "outputs": [
        {
          "output_type": "stream",
          "name": "stdout",
          "text": [
            "            dateCrawled                                               name  \\\n",
            "0      30-03-2016 13:51                                       Zu_verkaufen   \n",
            "1      07-03-2016 09:54                             Volvo_XC90_2.4D_Summum   \n",
            "2      01-04-2016 00:57                                  Volkswagen_Touran   \n",
            "3      19-03-2016 17:50                       Seat_Ibiza_1.4_16V_Reference   \n",
            "4      16-03-2016 14:51  Volvo_XC90_D5_Aut._RDesign_R_Design_AWD_GSHD_S...   \n",
            "...                 ...                                                ...   \n",
            "49996  03-04-2016 15:48                               Suche_VW_T5_Multivan   \n",
            "49997  27-03-2016 14:55  Suche_einen_originalen_VW_Golf_2_Fire_and_Ice_G60   \n",
            "49998  14-03-2016 18:51  [SUCHE]_BMW_e46_Coupe_330ci_M_Paket_Facelift__...   \n",
            "49999  15-03-2016 18:06        Verkaufe_mehrere_Fahrzeuge_zum_Verschrotten   \n",
            "50000  22-03-2016 09:54                    Chevrolet_Matiz_1.Hd_TÜV11/2017   \n",
            "\n",
            "       price  yearOfRegistration  powerPS  kilometer  monthOfRegistration  \\\n",
            "0       4450                2003      150     150000                    3   \n",
            "1      13299                2005      163     150000                    6   \n",
            "2       3200                2003      101     150000                   11   \n",
            "3       4500                2006       86      60000                   12   \n",
            "4      18750                2008      185     150000                   11   \n",
            "...      ...                 ...      ...        ...                  ...   \n",
            "49996      0                2005        0     150000                    0   \n",
            "49997  19999                1990        0       5000                    0   \n",
            "49998      0                2004        0     150000                    1   \n",
            "49999    100                2000        0     150000                    8   \n",
            "50000   1100                2006       38     150000                   10   \n",
            "\n",
            "       postalCode          lastSeen  \n",
            "0           20257  07-04-2016 04:44  \n",
            "1           88045  26-03-2016 13:17  \n",
            "2           27449  01-04-2016 08:40  \n",
            "3           34537  07-04-2016 04:44  \n",
            "4           55270  01-04-2016 23:18  \n",
            "...           ...               ...  \n",
            "49996       29690  05-04-2016 15:16  \n",
            "49997       50181  07-04-2016 11:45  \n",
            "49998       86956  25-03-2016 06:17  \n",
            "49999       65232  06-04-2016 17:15  \n",
            "50000        7973  05-04-2016 21:15  \n",
            "\n",
            "[50001 rows x 9 columns]\n"
          ]
        }
      ]
    },
    {
      "cell_type": "markdown",
      "source": [
        "### Describing"
      ],
      "metadata": {
        "id": "3wL8zJfuKFh4"
      },
      "id": "3wL8zJfuKFh4"
    },
    {
      "cell_type": "code",
      "source": [
        "df.describe()"
      ],
      "metadata": {
        "colab": {
          "base_uri": "https://localhost:8080/",
          "height": 300
        },
        "id": "3uceLixsJtxs",
        "outputId": "d95aafeb-b169-405a-b7c0-574f9cb51b5c"
      },
      "id": "3uceLixsJtxs",
      "execution_count": 6,
      "outputs": [
        {
          "output_type": "execute_result",
          "data": {
            "text/plain": [
              "              price  yearOfRegistration       powerPS      kilometer  \\\n",
              "count  5.000100e+04        50001.000000  50001.000000   50001.000000   \n",
              "mean   6.559865e+03         2005.544229    116.496130  125613.687726   \n",
              "std    8.581847e+04          122.991832    230.567709   40205.234483   \n",
              "min    0.000000e+00         1000.000000      0.000000    5000.000000   \n",
              "25%    1.150000e+03         1999.000000     69.000000  125000.000000   \n",
              "50%    2.950000e+03         2003.000000    105.000000  150000.000000   \n",
              "75%    7.190000e+03         2008.000000    150.000000  150000.000000   \n",
              "max    1.234568e+07         9999.000000  19312.000000  150000.000000   \n",
              "\n",
              "       monthOfRegistration    postalCode  \n",
              "count         50001.000000  50001.000000  \n",
              "mean              5.743725  50775.216696  \n",
              "std               3.711345  25743.701933  \n",
              "min               0.000000   1067.000000  \n",
              "25%               3.000000  30559.000000  \n",
              "50%               6.000000  49504.000000  \n",
              "75%               9.000000  71404.000000  \n",
              "max              12.000000  99998.000000  "
            ],
            "text/html": [
              "\n",
              "  <div id=\"df-dff9ee2e-1ce6-4e8f-a6d9-0eac39d9111f\" class=\"colab-df-container\">\n",
              "    <div>\n",
              "<style scoped>\n",
              "    .dataframe tbody tr th:only-of-type {\n",
              "        vertical-align: middle;\n",
              "    }\n",
              "\n",
              "    .dataframe tbody tr th {\n",
              "        vertical-align: top;\n",
              "    }\n",
              "\n",
              "    .dataframe thead th {\n",
              "        text-align: right;\n",
              "    }\n",
              "</style>\n",
              "<table border=\"1\" class=\"dataframe\">\n",
              "  <thead>\n",
              "    <tr style=\"text-align: right;\">\n",
              "      <th></th>\n",
              "      <th>price</th>\n",
              "      <th>yearOfRegistration</th>\n",
              "      <th>powerPS</th>\n",
              "      <th>kilometer</th>\n",
              "      <th>monthOfRegistration</th>\n",
              "      <th>postalCode</th>\n",
              "    </tr>\n",
              "  </thead>\n",
              "  <tbody>\n",
              "    <tr>\n",
              "      <th>count</th>\n",
              "      <td>5.000100e+04</td>\n",
              "      <td>50001.000000</td>\n",
              "      <td>50001.000000</td>\n",
              "      <td>50001.000000</td>\n",
              "      <td>50001.000000</td>\n",
              "      <td>50001.000000</td>\n",
              "    </tr>\n",
              "    <tr>\n",
              "      <th>mean</th>\n",
              "      <td>6.559865e+03</td>\n",
              "      <td>2005.544229</td>\n",
              "      <td>116.496130</td>\n",
              "      <td>125613.687726</td>\n",
              "      <td>5.743725</td>\n",
              "      <td>50775.216696</td>\n",
              "    </tr>\n",
              "    <tr>\n",
              "      <th>std</th>\n",
              "      <td>8.581847e+04</td>\n",
              "      <td>122.991832</td>\n",
              "      <td>230.567709</td>\n",
              "      <td>40205.234483</td>\n",
              "      <td>3.711345</td>\n",
              "      <td>25743.701933</td>\n",
              "    </tr>\n",
              "    <tr>\n",
              "      <th>min</th>\n",
              "      <td>0.000000e+00</td>\n",
              "      <td>1000.000000</td>\n",
              "      <td>0.000000</td>\n",
              "      <td>5000.000000</td>\n",
              "      <td>0.000000</td>\n",
              "      <td>1067.000000</td>\n",
              "    </tr>\n",
              "    <tr>\n",
              "      <th>25%</th>\n",
              "      <td>1.150000e+03</td>\n",
              "      <td>1999.000000</td>\n",
              "      <td>69.000000</td>\n",
              "      <td>125000.000000</td>\n",
              "      <td>3.000000</td>\n",
              "      <td>30559.000000</td>\n",
              "    </tr>\n",
              "    <tr>\n",
              "      <th>50%</th>\n",
              "      <td>2.950000e+03</td>\n",
              "      <td>2003.000000</td>\n",
              "      <td>105.000000</td>\n",
              "      <td>150000.000000</td>\n",
              "      <td>6.000000</td>\n",
              "      <td>49504.000000</td>\n",
              "    </tr>\n",
              "    <tr>\n",
              "      <th>75%</th>\n",
              "      <td>7.190000e+03</td>\n",
              "      <td>2008.000000</td>\n",
              "      <td>150.000000</td>\n",
              "      <td>150000.000000</td>\n",
              "      <td>9.000000</td>\n",
              "      <td>71404.000000</td>\n",
              "    </tr>\n",
              "    <tr>\n",
              "      <th>max</th>\n",
              "      <td>1.234568e+07</td>\n",
              "      <td>9999.000000</td>\n",
              "      <td>19312.000000</td>\n",
              "      <td>150000.000000</td>\n",
              "      <td>12.000000</td>\n",
              "      <td>99998.000000</td>\n",
              "    </tr>\n",
              "  </tbody>\n",
              "</table>\n",
              "</div>\n",
              "    <div class=\"colab-df-buttons\">\n",
              "\n",
              "  <div class=\"colab-df-container\">\n",
              "    <button class=\"colab-df-convert\" onclick=\"convertToInteractive('df-dff9ee2e-1ce6-4e8f-a6d9-0eac39d9111f')\"\n",
              "            title=\"Convert this dataframe to an interactive table.\"\n",
              "            style=\"display:none;\">\n",
              "\n",
              "  <svg xmlns=\"http://www.w3.org/2000/svg\" height=\"24px\" viewBox=\"0 -960 960 960\">\n",
              "    <path d=\"M120-120v-720h720v720H120Zm60-500h600v-160H180v160Zm220 220h160v-160H400v160Zm0 220h160v-160H400v160ZM180-400h160v-160H180v160Zm440 0h160v-160H620v160ZM180-180h160v-160H180v160Zm440 0h160v-160H620v160Z\"/>\n",
              "  </svg>\n",
              "    </button>\n",
              "\n",
              "  <style>\n",
              "    .colab-df-container {\n",
              "      display:flex;\n",
              "      gap: 12px;\n",
              "    }\n",
              "\n",
              "    .colab-df-convert {\n",
              "      background-color: #E8F0FE;\n",
              "      border: none;\n",
              "      border-radius: 50%;\n",
              "      cursor: pointer;\n",
              "      display: none;\n",
              "      fill: #1967D2;\n",
              "      height: 32px;\n",
              "      padding: 0 0 0 0;\n",
              "      width: 32px;\n",
              "    }\n",
              "\n",
              "    .colab-df-convert:hover {\n",
              "      background-color: #E2EBFA;\n",
              "      box-shadow: 0px 1px 2px rgba(60, 64, 67, 0.3), 0px 1px 3px 1px rgba(60, 64, 67, 0.15);\n",
              "      fill: #174EA6;\n",
              "    }\n",
              "\n",
              "    .colab-df-buttons div {\n",
              "      margin-bottom: 4px;\n",
              "    }\n",
              "\n",
              "    [theme=dark] .colab-df-convert {\n",
              "      background-color: #3B4455;\n",
              "      fill: #D2E3FC;\n",
              "    }\n",
              "\n",
              "    [theme=dark] .colab-df-convert:hover {\n",
              "      background-color: #434B5C;\n",
              "      box-shadow: 0px 1px 3px 1px rgba(0, 0, 0, 0.15);\n",
              "      filter: drop-shadow(0px 1px 2px rgba(0, 0, 0, 0.3));\n",
              "      fill: #FFFFFF;\n",
              "    }\n",
              "  </style>\n",
              "\n",
              "    <script>\n",
              "      const buttonEl =\n",
              "        document.querySelector('#df-dff9ee2e-1ce6-4e8f-a6d9-0eac39d9111f button.colab-df-convert');\n",
              "      buttonEl.style.display =\n",
              "        google.colab.kernel.accessAllowed ? 'block' : 'none';\n",
              "\n",
              "      async function convertToInteractive(key) {\n",
              "        const element = document.querySelector('#df-dff9ee2e-1ce6-4e8f-a6d9-0eac39d9111f');\n",
              "        const dataTable =\n",
              "          await google.colab.kernel.invokeFunction('convertToInteractive',\n",
              "                                                    [key], {});\n",
              "        if (!dataTable) return;\n",
              "\n",
              "        const docLinkHtml = 'Like what you see? Visit the ' +\n",
              "          '<a target=\"_blank\" href=https://colab.research.google.com/notebooks/data_table.ipynb>data table notebook</a>'\n",
              "          + ' to learn more about interactive tables.';\n",
              "        element.innerHTML = '';\n",
              "        dataTable['output_type'] = 'display_data';\n",
              "        await google.colab.output.renderOutput(dataTable, element);\n",
              "        const docLink = document.createElement('div');\n",
              "        docLink.innerHTML = docLinkHtml;\n",
              "        element.appendChild(docLink);\n",
              "      }\n",
              "    </script>\n",
              "  </div>\n",
              "\n",
              "\n",
              "<div id=\"df-99005183-f226-4edf-a23a-98a4985470e6\">\n",
              "  <button class=\"colab-df-quickchart\" onclick=\"quickchart('df-99005183-f226-4edf-a23a-98a4985470e6')\"\n",
              "            title=\"Suggest charts\"\n",
              "            style=\"display:none;\">\n",
              "\n",
              "<svg xmlns=\"http://www.w3.org/2000/svg\" height=\"24px\"viewBox=\"0 0 24 24\"\n",
              "     width=\"24px\">\n",
              "    <g>\n",
              "        <path d=\"M19 3H5c-1.1 0-2 .9-2 2v14c0 1.1.9 2 2 2h14c1.1 0 2-.9 2-2V5c0-1.1-.9-2-2-2zM9 17H7v-7h2v7zm4 0h-2V7h2v10zm4 0h-2v-4h2v4z\"/>\n",
              "    </g>\n",
              "</svg>\n",
              "  </button>\n",
              "\n",
              "<style>\n",
              "  .colab-df-quickchart {\n",
              "      --bg-color: #E8F0FE;\n",
              "      --fill-color: #1967D2;\n",
              "      --hover-bg-color: #E2EBFA;\n",
              "      --hover-fill-color: #174EA6;\n",
              "      --disabled-fill-color: #AAA;\n",
              "      --disabled-bg-color: #DDD;\n",
              "  }\n",
              "\n",
              "  [theme=dark] .colab-df-quickchart {\n",
              "      --bg-color: #3B4455;\n",
              "      --fill-color: #D2E3FC;\n",
              "      --hover-bg-color: #434B5C;\n",
              "      --hover-fill-color: #FFFFFF;\n",
              "      --disabled-bg-color: #3B4455;\n",
              "      --disabled-fill-color: #666;\n",
              "  }\n",
              "\n",
              "  .colab-df-quickchart {\n",
              "    background-color: var(--bg-color);\n",
              "    border: none;\n",
              "    border-radius: 50%;\n",
              "    cursor: pointer;\n",
              "    display: none;\n",
              "    fill: var(--fill-color);\n",
              "    height: 32px;\n",
              "    padding: 0;\n",
              "    width: 32px;\n",
              "  }\n",
              "\n",
              "  .colab-df-quickchart:hover {\n",
              "    background-color: var(--hover-bg-color);\n",
              "    box-shadow: 0 1px 2px rgba(60, 64, 67, 0.3), 0 1px 3px 1px rgba(60, 64, 67, 0.15);\n",
              "    fill: var(--button-hover-fill-color);\n",
              "  }\n",
              "\n",
              "  .colab-df-quickchart-complete:disabled,\n",
              "  .colab-df-quickchart-complete:disabled:hover {\n",
              "    background-color: var(--disabled-bg-color);\n",
              "    fill: var(--disabled-fill-color);\n",
              "    box-shadow: none;\n",
              "  }\n",
              "\n",
              "  .colab-df-spinner {\n",
              "    border: 2px solid var(--fill-color);\n",
              "    border-color: transparent;\n",
              "    border-bottom-color: var(--fill-color);\n",
              "    animation:\n",
              "      spin 1s steps(1) infinite;\n",
              "  }\n",
              "\n",
              "  @keyframes spin {\n",
              "    0% {\n",
              "      border-color: transparent;\n",
              "      border-bottom-color: var(--fill-color);\n",
              "      border-left-color: var(--fill-color);\n",
              "    }\n",
              "    20% {\n",
              "      border-color: transparent;\n",
              "      border-left-color: var(--fill-color);\n",
              "      border-top-color: var(--fill-color);\n",
              "    }\n",
              "    30% {\n",
              "      border-color: transparent;\n",
              "      border-left-color: var(--fill-color);\n",
              "      border-top-color: var(--fill-color);\n",
              "      border-right-color: var(--fill-color);\n",
              "    }\n",
              "    40% {\n",
              "      border-color: transparent;\n",
              "      border-right-color: var(--fill-color);\n",
              "      border-top-color: var(--fill-color);\n",
              "    }\n",
              "    60% {\n",
              "      border-color: transparent;\n",
              "      border-right-color: var(--fill-color);\n",
              "    }\n",
              "    80% {\n",
              "      border-color: transparent;\n",
              "      border-right-color: var(--fill-color);\n",
              "      border-bottom-color: var(--fill-color);\n",
              "    }\n",
              "    90% {\n",
              "      border-color: transparent;\n",
              "      border-bottom-color: var(--fill-color);\n",
              "    }\n",
              "  }\n",
              "</style>\n",
              "\n",
              "  <script>\n",
              "    async function quickchart(key) {\n",
              "      const quickchartButtonEl =\n",
              "        document.querySelector('#' + key + ' button');\n",
              "      quickchartButtonEl.disabled = true;  // To prevent multiple clicks.\n",
              "      quickchartButtonEl.classList.add('colab-df-spinner');\n",
              "      try {\n",
              "        const charts = await google.colab.kernel.invokeFunction(\n",
              "            'suggestCharts', [key], {});\n",
              "      } catch (error) {\n",
              "        console.error('Error during call to suggestCharts:', error);\n",
              "      }\n",
              "      quickchartButtonEl.classList.remove('colab-df-spinner');\n",
              "      quickchartButtonEl.classList.add('colab-df-quickchart-complete');\n",
              "    }\n",
              "    (() => {\n",
              "      let quickchartButtonEl =\n",
              "        document.querySelector('#df-99005183-f226-4edf-a23a-98a4985470e6 button');\n",
              "      quickchartButtonEl.style.display =\n",
              "        google.colab.kernel.accessAllowed ? 'block' : 'none';\n",
              "    })();\n",
              "  </script>\n",
              "</div>\n",
              "\n",
              "    </div>\n",
              "  </div>\n"
            ],
            "application/vnd.google.colaboratory.intrinsic+json": {
              "type": "dataframe",
              "summary": "{\n  \"name\": \"df\",\n  \"rows\": 8,\n  \"fields\": [\n    {\n      \"column\": \"price\",\n      \"properties\": {\n        \"dtype\": \"number\",\n        \"std\": 4357202.976772409,\n        \"min\": 0.0,\n        \"max\": 12345678.0,\n        \"num_unique_values\": 8,\n        \"samples\": [\n          6559.865462690746,\n          2950.0,\n          50001.0\n        ],\n        \"semantic_type\": \"\",\n        \"description\": \"\"\n      }\n    },\n    {\n      \"column\": \"yearOfRegistration\",\n      \"properties\": {\n        \"dtype\": \"number\",\n        \"std\": 16985.877598610594,\n        \"min\": 122.99183179685643,\n        \"max\": 50001.0,\n        \"num_unique_values\": 8,\n        \"samples\": [\n          2005.5442291154177,\n          2003.0,\n          50001.0\n        ],\n        \"semantic_type\": \"\",\n        \"description\": \"\"\n      }\n    },\n    {\n      \"column\": \"powerPS\",\n      \"properties\": {\n        \"dtype\": \"number\",\n        \"std\": 17971.95122125343,\n        \"min\": 0.0,\n        \"max\": 50001.0,\n        \"num_unique_values\": 8,\n        \"samples\": [\n          116.49613007739845,\n          105.0,\n          50001.0\n        ],\n        \"semantic_type\": \"\",\n        \"description\": \"\"\n      }\n    },\n    {\n      \"column\": \"kilometer\",\n      \"properties\": {\n        \"dtype\": \"number\",\n        \"std\": 58406.446380838934,\n        \"min\": 5000.0,\n        \"max\": 150000.0,\n        \"num_unique_values\": 6,\n        \"samples\": [\n          50001.0,\n          125613.68772624548,\n          150000.0\n        ],\n        \"semantic_type\": \"\",\n        \"description\": \"\"\n      }\n    },\n    {\n      \"column\": \"monthOfRegistration\",\n      \"properties\": {\n        \"dtype\": \"number\",\n        \"std\": 17676.03068246062,\n        \"min\": 0.0,\n        \"max\": 50001.0,\n        \"num_unique_values\": 8,\n        \"samples\": [\n          5.74372512549749,\n          6.0,\n          50001.0\n        ],\n        \"semantic_type\": \"\",\n        \"description\": \"\"\n      }\n    },\n    {\n      \"column\": \"postalCode\",\n      \"properties\": {\n        \"dtype\": \"number\",\n        \"std\": 29915.797068495933,\n        \"min\": 1067.0,\n        \"max\": 99998.0,\n        \"num_unique_values\": 8,\n        \"samples\": [\n          50775.21669566609,\n          49504.0,\n          50001.0\n        ],\n        \"semantic_type\": \"\",\n        \"description\": \"\"\n      }\n    }\n  ]\n}"
            }
          },
          "metadata": {},
          "execution_count": 6
        }
      ]
    },
    {
      "cell_type": "markdown",
      "source": [
        "### Head()"
      ],
      "metadata": {
        "id": "x_ySv8xhKKUA"
      },
      "id": "x_ySv8xhKKUA"
    },
    {
      "cell_type": "code",
      "source": [
        "df.head()"
      ],
      "metadata": {
        "colab": {
          "base_uri": "https://localhost:8080/",
          "height": 399
        },
        "id": "V-uIy4e0J949",
        "outputId": "a14ffa88-9fd5-40e3-9d08-80c2edf30487"
      },
      "id": "V-uIy4e0J949",
      "execution_count": 7,
      "outputs": [
        {
          "output_type": "execute_result",
          "data": {
            "text/plain": [
              "        dateCrawled                                               name  price  \\\n",
              "0  30-03-2016 13:51                                       Zu_verkaufen   4450   \n",
              "1  07-03-2016 09:54                             Volvo_XC90_2.4D_Summum  13299   \n",
              "2  01-04-2016 00:57                                  Volkswagen_Touran   3200   \n",
              "3  19-03-2016 17:50                       Seat_Ibiza_1.4_16V_Reference   4500   \n",
              "4  16-03-2016 14:51  Volvo_XC90_D5_Aut._RDesign_R_Design_AWD_GSHD_S...  18750   \n",
              "\n",
              "   yearOfRegistration  powerPS  kilometer  monthOfRegistration  postalCode  \\\n",
              "0                2003      150     150000                    3       20257   \n",
              "1                2005      163     150000                    6       88045   \n",
              "2                2003      101     150000                   11       27449   \n",
              "3                2006       86      60000                   12       34537   \n",
              "4                2008      185     150000                   11       55270   \n",
              "\n",
              "           lastSeen  \n",
              "0  07-04-2016 04:44  \n",
              "1  26-03-2016 13:17  \n",
              "2  01-04-2016 08:40  \n",
              "3  07-04-2016 04:44  \n",
              "4  01-04-2016 23:18  "
            ],
            "text/html": [
              "\n",
              "  <div id=\"df-4e3e9d0c-52d2-456b-8180-c13e02eb6480\" class=\"colab-df-container\">\n",
              "    <div>\n",
              "<style scoped>\n",
              "    .dataframe tbody tr th:only-of-type {\n",
              "        vertical-align: middle;\n",
              "    }\n",
              "\n",
              "    .dataframe tbody tr th {\n",
              "        vertical-align: top;\n",
              "    }\n",
              "\n",
              "    .dataframe thead th {\n",
              "        text-align: right;\n",
              "    }\n",
              "</style>\n",
              "<table border=\"1\" class=\"dataframe\">\n",
              "  <thead>\n",
              "    <tr style=\"text-align: right;\">\n",
              "      <th></th>\n",
              "      <th>dateCrawled</th>\n",
              "      <th>name</th>\n",
              "      <th>price</th>\n",
              "      <th>yearOfRegistration</th>\n",
              "      <th>powerPS</th>\n",
              "      <th>kilometer</th>\n",
              "      <th>monthOfRegistration</th>\n",
              "      <th>postalCode</th>\n",
              "      <th>lastSeen</th>\n",
              "    </tr>\n",
              "  </thead>\n",
              "  <tbody>\n",
              "    <tr>\n",
              "      <th>0</th>\n",
              "      <td>30-03-2016 13:51</td>\n",
              "      <td>Zu_verkaufen</td>\n",
              "      <td>4450</td>\n",
              "      <td>2003</td>\n",
              "      <td>150</td>\n",
              "      <td>150000</td>\n",
              "      <td>3</td>\n",
              "      <td>20257</td>\n",
              "      <td>07-04-2016 04:44</td>\n",
              "    </tr>\n",
              "    <tr>\n",
              "      <th>1</th>\n",
              "      <td>07-03-2016 09:54</td>\n",
              "      <td>Volvo_XC90_2.4D_Summum</td>\n",
              "      <td>13299</td>\n",
              "      <td>2005</td>\n",
              "      <td>163</td>\n",
              "      <td>150000</td>\n",
              "      <td>6</td>\n",
              "      <td>88045</td>\n",
              "      <td>26-03-2016 13:17</td>\n",
              "    </tr>\n",
              "    <tr>\n",
              "      <th>2</th>\n",
              "      <td>01-04-2016 00:57</td>\n",
              "      <td>Volkswagen_Touran</td>\n",
              "      <td>3200</td>\n",
              "      <td>2003</td>\n",
              "      <td>101</td>\n",
              "      <td>150000</td>\n",
              "      <td>11</td>\n",
              "      <td>27449</td>\n",
              "      <td>01-04-2016 08:40</td>\n",
              "    </tr>\n",
              "    <tr>\n",
              "      <th>3</th>\n",
              "      <td>19-03-2016 17:50</td>\n",
              "      <td>Seat_Ibiza_1.4_16V_Reference</td>\n",
              "      <td>4500</td>\n",
              "      <td>2006</td>\n",
              "      <td>86</td>\n",
              "      <td>60000</td>\n",
              "      <td>12</td>\n",
              "      <td>34537</td>\n",
              "      <td>07-04-2016 04:44</td>\n",
              "    </tr>\n",
              "    <tr>\n",
              "      <th>4</th>\n",
              "      <td>16-03-2016 14:51</td>\n",
              "      <td>Volvo_XC90_D5_Aut._RDesign_R_Design_AWD_GSHD_S...</td>\n",
              "      <td>18750</td>\n",
              "      <td>2008</td>\n",
              "      <td>185</td>\n",
              "      <td>150000</td>\n",
              "      <td>11</td>\n",
              "      <td>55270</td>\n",
              "      <td>01-04-2016 23:18</td>\n",
              "    </tr>\n",
              "  </tbody>\n",
              "</table>\n",
              "</div>\n",
              "    <div class=\"colab-df-buttons\">\n",
              "\n",
              "  <div class=\"colab-df-container\">\n",
              "    <button class=\"colab-df-convert\" onclick=\"convertToInteractive('df-4e3e9d0c-52d2-456b-8180-c13e02eb6480')\"\n",
              "            title=\"Convert this dataframe to an interactive table.\"\n",
              "            style=\"display:none;\">\n",
              "\n",
              "  <svg xmlns=\"http://www.w3.org/2000/svg\" height=\"24px\" viewBox=\"0 -960 960 960\">\n",
              "    <path d=\"M120-120v-720h720v720H120Zm60-500h600v-160H180v160Zm220 220h160v-160H400v160Zm0 220h160v-160H400v160ZM180-400h160v-160H180v160Zm440 0h160v-160H620v160ZM180-180h160v-160H180v160Zm440 0h160v-160H620v160Z\"/>\n",
              "  </svg>\n",
              "    </button>\n",
              "\n",
              "  <style>\n",
              "    .colab-df-container {\n",
              "      display:flex;\n",
              "      gap: 12px;\n",
              "    }\n",
              "\n",
              "    .colab-df-convert {\n",
              "      background-color: #E8F0FE;\n",
              "      border: none;\n",
              "      border-radius: 50%;\n",
              "      cursor: pointer;\n",
              "      display: none;\n",
              "      fill: #1967D2;\n",
              "      height: 32px;\n",
              "      padding: 0 0 0 0;\n",
              "      width: 32px;\n",
              "    }\n",
              "\n",
              "    .colab-df-convert:hover {\n",
              "      background-color: #E2EBFA;\n",
              "      box-shadow: 0px 1px 2px rgba(60, 64, 67, 0.3), 0px 1px 3px 1px rgba(60, 64, 67, 0.15);\n",
              "      fill: #174EA6;\n",
              "    }\n",
              "\n",
              "    .colab-df-buttons div {\n",
              "      margin-bottom: 4px;\n",
              "    }\n",
              "\n",
              "    [theme=dark] .colab-df-convert {\n",
              "      background-color: #3B4455;\n",
              "      fill: #D2E3FC;\n",
              "    }\n",
              "\n",
              "    [theme=dark] .colab-df-convert:hover {\n",
              "      background-color: #434B5C;\n",
              "      box-shadow: 0px 1px 3px 1px rgba(0, 0, 0, 0.15);\n",
              "      filter: drop-shadow(0px 1px 2px rgba(0, 0, 0, 0.3));\n",
              "      fill: #FFFFFF;\n",
              "    }\n",
              "  </style>\n",
              "\n",
              "    <script>\n",
              "      const buttonEl =\n",
              "        document.querySelector('#df-4e3e9d0c-52d2-456b-8180-c13e02eb6480 button.colab-df-convert');\n",
              "      buttonEl.style.display =\n",
              "        google.colab.kernel.accessAllowed ? 'block' : 'none';\n",
              "\n",
              "      async function convertToInteractive(key) {\n",
              "        const element = document.querySelector('#df-4e3e9d0c-52d2-456b-8180-c13e02eb6480');\n",
              "        const dataTable =\n",
              "          await google.colab.kernel.invokeFunction('convertToInteractive',\n",
              "                                                    [key], {});\n",
              "        if (!dataTable) return;\n",
              "\n",
              "        const docLinkHtml = 'Like what you see? Visit the ' +\n",
              "          '<a target=\"_blank\" href=https://colab.research.google.com/notebooks/data_table.ipynb>data table notebook</a>'\n",
              "          + ' to learn more about interactive tables.';\n",
              "        element.innerHTML = '';\n",
              "        dataTable['output_type'] = 'display_data';\n",
              "        await google.colab.output.renderOutput(dataTable, element);\n",
              "        const docLink = document.createElement('div');\n",
              "        docLink.innerHTML = docLinkHtml;\n",
              "        element.appendChild(docLink);\n",
              "      }\n",
              "    </script>\n",
              "  </div>\n",
              "\n",
              "\n",
              "<div id=\"df-55764829-90b0-4343-9555-2fbd32cb03f1\">\n",
              "  <button class=\"colab-df-quickchart\" onclick=\"quickchart('df-55764829-90b0-4343-9555-2fbd32cb03f1')\"\n",
              "            title=\"Suggest charts\"\n",
              "            style=\"display:none;\">\n",
              "\n",
              "<svg xmlns=\"http://www.w3.org/2000/svg\" height=\"24px\"viewBox=\"0 0 24 24\"\n",
              "     width=\"24px\">\n",
              "    <g>\n",
              "        <path d=\"M19 3H5c-1.1 0-2 .9-2 2v14c0 1.1.9 2 2 2h14c1.1 0 2-.9 2-2V5c0-1.1-.9-2-2-2zM9 17H7v-7h2v7zm4 0h-2V7h2v10zm4 0h-2v-4h2v4z\"/>\n",
              "    </g>\n",
              "</svg>\n",
              "  </button>\n",
              "\n",
              "<style>\n",
              "  .colab-df-quickchart {\n",
              "      --bg-color: #E8F0FE;\n",
              "      --fill-color: #1967D2;\n",
              "      --hover-bg-color: #E2EBFA;\n",
              "      --hover-fill-color: #174EA6;\n",
              "      --disabled-fill-color: #AAA;\n",
              "      --disabled-bg-color: #DDD;\n",
              "  }\n",
              "\n",
              "  [theme=dark] .colab-df-quickchart {\n",
              "      --bg-color: #3B4455;\n",
              "      --fill-color: #D2E3FC;\n",
              "      --hover-bg-color: #434B5C;\n",
              "      --hover-fill-color: #FFFFFF;\n",
              "      --disabled-bg-color: #3B4455;\n",
              "      --disabled-fill-color: #666;\n",
              "  }\n",
              "\n",
              "  .colab-df-quickchart {\n",
              "    background-color: var(--bg-color);\n",
              "    border: none;\n",
              "    border-radius: 50%;\n",
              "    cursor: pointer;\n",
              "    display: none;\n",
              "    fill: var(--fill-color);\n",
              "    height: 32px;\n",
              "    padding: 0;\n",
              "    width: 32px;\n",
              "  }\n",
              "\n",
              "  .colab-df-quickchart:hover {\n",
              "    background-color: var(--hover-bg-color);\n",
              "    box-shadow: 0 1px 2px rgba(60, 64, 67, 0.3), 0 1px 3px 1px rgba(60, 64, 67, 0.15);\n",
              "    fill: var(--button-hover-fill-color);\n",
              "  }\n",
              "\n",
              "  .colab-df-quickchart-complete:disabled,\n",
              "  .colab-df-quickchart-complete:disabled:hover {\n",
              "    background-color: var(--disabled-bg-color);\n",
              "    fill: var(--disabled-fill-color);\n",
              "    box-shadow: none;\n",
              "  }\n",
              "\n",
              "  .colab-df-spinner {\n",
              "    border: 2px solid var(--fill-color);\n",
              "    border-color: transparent;\n",
              "    border-bottom-color: var(--fill-color);\n",
              "    animation:\n",
              "      spin 1s steps(1) infinite;\n",
              "  }\n",
              "\n",
              "  @keyframes spin {\n",
              "    0% {\n",
              "      border-color: transparent;\n",
              "      border-bottom-color: var(--fill-color);\n",
              "      border-left-color: var(--fill-color);\n",
              "    }\n",
              "    20% {\n",
              "      border-color: transparent;\n",
              "      border-left-color: var(--fill-color);\n",
              "      border-top-color: var(--fill-color);\n",
              "    }\n",
              "    30% {\n",
              "      border-color: transparent;\n",
              "      border-left-color: var(--fill-color);\n",
              "      border-top-color: var(--fill-color);\n",
              "      border-right-color: var(--fill-color);\n",
              "    }\n",
              "    40% {\n",
              "      border-color: transparent;\n",
              "      border-right-color: var(--fill-color);\n",
              "      border-top-color: var(--fill-color);\n",
              "    }\n",
              "    60% {\n",
              "      border-color: transparent;\n",
              "      border-right-color: var(--fill-color);\n",
              "    }\n",
              "    80% {\n",
              "      border-color: transparent;\n",
              "      border-right-color: var(--fill-color);\n",
              "      border-bottom-color: var(--fill-color);\n",
              "    }\n",
              "    90% {\n",
              "      border-color: transparent;\n",
              "      border-bottom-color: var(--fill-color);\n",
              "    }\n",
              "  }\n",
              "</style>\n",
              "\n",
              "  <script>\n",
              "    async function quickchart(key) {\n",
              "      const quickchartButtonEl =\n",
              "        document.querySelector('#' + key + ' button');\n",
              "      quickchartButtonEl.disabled = true;  // To prevent multiple clicks.\n",
              "      quickchartButtonEl.classList.add('colab-df-spinner');\n",
              "      try {\n",
              "        const charts = await google.colab.kernel.invokeFunction(\n",
              "            'suggestCharts', [key], {});\n",
              "      } catch (error) {\n",
              "        console.error('Error during call to suggestCharts:', error);\n",
              "      }\n",
              "      quickchartButtonEl.classList.remove('colab-df-spinner');\n",
              "      quickchartButtonEl.classList.add('colab-df-quickchart-complete');\n",
              "    }\n",
              "    (() => {\n",
              "      let quickchartButtonEl =\n",
              "        document.querySelector('#df-55764829-90b0-4343-9555-2fbd32cb03f1 button');\n",
              "      quickchartButtonEl.style.display =\n",
              "        google.colab.kernel.accessAllowed ? 'block' : 'none';\n",
              "    })();\n",
              "  </script>\n",
              "</div>\n",
              "\n",
              "    </div>\n",
              "  </div>\n"
            ],
            "application/vnd.google.colaboratory.intrinsic+json": {
              "type": "dataframe",
              "variable_name": "df",
              "repr_error": "'str' object has no attribute 'empty'"
            }
          },
          "metadata": {},
          "execution_count": 7
        }
      ]
    },
    {
      "cell_type": "markdown",
      "source": [
        "### Mean"
      ],
      "metadata": {
        "id": "SuCcrsZrKOQ4"
      },
      "id": "SuCcrsZrKOQ4"
    },
    {
      "cell_type": "code",
      "source": [
        "mean1= df.mean()\n",
        "print(mean1)"
      ],
      "metadata": {
        "colab": {
          "base_uri": "https://localhost:8080/"
        },
        "id": "g2nxtKEBKAPd",
        "outputId": "cb52afe8-5cb9-4c77-ca3c-cd826a27cba4"
      },
      "id": "g2nxtKEBKAPd",
      "execution_count": 17,
      "outputs": [
        {
          "output_type": "stream",
          "name": "stdout",
          "text": [
            "price                    6559.865463\n",
            "yearOfRegistration       2005.544229\n",
            "powerPS                   116.496130\n",
            "kilometer              125613.687726\n",
            "monthOfRegistration         5.743725\n",
            "postalCode              50775.216696\n",
            "dtype: float64\n"
          ]
        },
        {
          "output_type": "stream",
          "name": "stderr",
          "text": [
            "<ipython-input-17-2855d0f7dc80>:1: FutureWarning: The default value of numeric_only in DataFrame.mean is deprecated. In a future version, it will default to False. In addition, specifying 'numeric_only=None' is deprecated. Select only valid columns or specify the value of numeric_only to silence this warning.\n",
            "  mean1= df.mean()\n"
          ]
        }
      ]
    },
    {
      "cell_type": "markdown",
      "source": [
        "### Median"
      ],
      "metadata": {
        "id": "f0OhEYf-L7Sy"
      },
      "id": "f0OhEYf-L7Sy"
    },
    {
      "cell_type": "code",
      "source": [
        "median1= df.median()\n",
        "print(median1)"
      ],
      "metadata": {
        "colab": {
          "base_uri": "https://localhost:8080/"
        },
        "id": "kyXp9EneKQow",
        "outputId": "d5543fe5-0b1c-4af4-c882-d470adfcd06a"
      },
      "id": "kyXp9EneKQow",
      "execution_count": 12,
      "outputs": [
        {
          "output_type": "stream",
          "name": "stdout",
          "text": [
            "price                    2950.0\n",
            "yearOfRegistration       2003.0\n",
            "powerPS                   105.0\n",
            "kilometer              150000.0\n",
            "monthOfRegistration         6.0\n",
            "postalCode              49504.0\n",
            "dtype: float64\n"
          ]
        },
        {
          "output_type": "stream",
          "name": "stderr",
          "text": [
            "<ipython-input-12-0fc240b1fac5>:1: FutureWarning: The default value of numeric_only in DataFrame.median is deprecated. In a future version, it will default to False. In addition, specifying 'numeric_only=None' is deprecated. Select only valid columns or specify the value of numeric_only to silence this warning.\n",
            "  median1= df.median()\n"
          ]
        }
      ]
    },
    {
      "cell_type": "markdown",
      "source": [
        "### Mode"
      ],
      "metadata": {
        "id": "2Ao7K2-pL5gB"
      },
      "id": "2Ao7K2-pL5gB"
    },
    {
      "cell_type": "code",
      "source": [
        "mode1= df.mode()\n",
        "print(mode1)"
      ],
      "metadata": {
        "colab": {
          "base_uri": "https://localhost:8080/"
        },
        "id": "mpBLWU-uKlif",
        "outputId": "f2e72b5f-9fd8-4a1d-b454-afe6d15a9c7a"
      },
      "id": "mpBLWU-uKlif",
      "execution_count": 13,
      "outputs": [
        {
          "output_type": "stream",
          "name": "stdout",
          "text": [
            "        dateCrawled      name  price  yearOfRegistration  powerPS  kilometer  \\\n",
            "0  03-04-2016 16:57  BMW_318i      0                2000        0     150000   \n",
            "\n",
            "   monthOfRegistration  postalCode          lastSeen  \n",
            "0                    0       10115  06-04-2016 05:46  \n"
          ]
        }
      ]
    },
    {
      "cell_type": "markdown",
      "source": [
        "### Minimum"
      ],
      "metadata": {
        "id": "iAB6YV0sL2LG"
      },
      "id": "iAB6YV0sL2LG"
    },
    {
      "cell_type": "code",
      "source": [
        "minimum= df.min()\n",
        "print(minimum)"
      ],
      "metadata": {
        "colab": {
          "base_uri": "https://localhost:8080/"
        },
        "id": "_igXwEhUKpvg",
        "outputId": "e9784cbd-077f-4534-e8fb-91f1ac86f2d2"
      },
      "id": "_igXwEhUKpvg",
      "execution_count": 14,
      "outputs": [
        {
          "output_type": "stream",
          "name": "stdout",
          "text": [
            "dateCrawled                                             01-04-2016 00:25\n",
            "name                   !!!!!!!!__Skoda_Superb_2.0_TDI_DSG__Elegance__...\n",
            "price                                                                  0\n",
            "yearOfRegistration                                                  1000\n",
            "powerPS                                                                0\n",
            "kilometer                                                           5000\n",
            "monthOfRegistration                                                    0\n",
            "postalCode                                                          1067\n",
            "lastSeen                                                01-04-2016 00:15\n",
            "dtype: object\n"
          ]
        }
      ]
    },
    {
      "cell_type": "markdown",
      "source": [
        "### Maximum"
      ],
      "metadata": {
        "id": "iBJfmizKLze2"
      },
      "id": "iBJfmizKLze2"
    },
    {
      "cell_type": "code",
      "source": [
        "max= df.max()\n",
        "print(max)"
      ],
      "metadata": {
        "colab": {
          "base_uri": "https://localhost:8080/"
        },
        "id": "HCdkoFPTKxev",
        "outputId": "a1dbc7a7-77f4-475d-9409-e34da3fae4c4"
      },
      "id": "HCdkoFPTKxev",
      "execution_count": 18,
      "outputs": [
        {
          "output_type": "stream",
          "name": "stdout",
          "text": [
            "dateCrawled                                      31-03-2016 23:58\n",
            "name                   ğ_gepflegter_VW_Passat_3c_TDI_abzugeben__!\n",
            "price                                                    12345678\n",
            "yearOfRegistration                                           9999\n",
            "powerPS                                                     19312\n",
            "kilometer                                                  150000\n",
            "monthOfRegistration                                            12\n",
            "postalCode                                                  99998\n",
            "lastSeen                                         31-03-2016 23:47\n",
            "dtype: object\n"
          ]
        }
      ]
    },
    {
      "cell_type": "code",
      "source": [],
      "metadata": {
        "id": "A4hGOThhLxae"
      },
      "id": "A4hGOThhLxae",
      "execution_count": null,
      "outputs": []
    }
  ],
  "metadata": {
    "kernelspec": {
      "display_name": "Python 3",
      "language": "python",
      "name": "python3"
    },
    "language_info": {
      "codemirror_mode": {
        "name": "ipython",
        "version": 3
      },
      "file_extension": ".py",
      "mimetype": "text/x-python",
      "name": "python",
      "nbconvert_exporter": "python",
      "pygments_lexer": "ipython3",
      "version": "3.8.8"
    },
    "colab": {
      "provenance": [],
      "toc_visible": true,
      "include_colab_link": true
    }
  },
  "nbformat": 4,
  "nbformat_minor": 5
}