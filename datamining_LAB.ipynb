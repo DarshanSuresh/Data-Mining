{
  "cells": [
    {
      "cell_type": "markdown",
      "metadata": {
        "id": "view-in-github",
        "colab_type": "text"
      },
      "source": [
        "<a href=\"https://colab.research.google.com/github/DarshanSuresh/Data-Mining/blob/main/datamining_LAB.ipynb\" target=\"_parent\"><img src=\"https://colab.research.google.com/assets/colab-badge.svg\" alt=\"Open In Colab\"/></a>"
      ]
    },
    {
      "cell_type": "markdown",
      "source": [
        "# LAB 01 - 23 jan 2024"
      ],
      "metadata": {
        "id": "PXJ1C2hQoMG9"
      },
      "id": "PXJ1C2hQoMG9"
    },
    {
      "cell_type": "code",
      "source": [
        "!pwd"
      ],
      "metadata": {
        "colab": {
          "base_uri": "https://localhost:8080/"
        },
        "id": "t1o8E9wwon59",
        "outputId": "744ff770-2d89-431c-ea08-e8a3d209032b"
      },
      "id": "t1o8E9wwon59",
      "execution_count": 62,
      "outputs": [
        {
          "output_type": "stream",
          "name": "stdout",
          "text": [
            "/content\n"
          ]
        }
      ]
    },
    {
      "cell_type": "code",
      "source": [
        "import pandas as pd\n",
        "import numpy as np"
      ],
      "metadata": {
        "id": "sN6fg1lVo2ww"
      },
      "id": "sN6fg1lVo2ww",
      "execution_count": 63,
      "outputs": []
    },
    {
      "cell_type": "markdown",
      "source": [
        "## Reading Excel"
      ],
      "metadata": {
        "id": "M4g6dI0FOysd"
      },
      "id": "M4g6dI0FOysd"
    },
    {
      "cell_type": "code",
      "source": [
        "df = pd.read_excel('/age.xlsx')\n",
        "print(df)"
      ],
      "metadata": {
        "colab": {
          "base_uri": "https://localhost:8080/"
        },
        "id": "T4tr8rQLo3OI",
        "outputId": "fcf362ea-794b-429f-dd8f-b11a4b1c748d"
      },
      "id": "T4tr8rQLo3OI",
      "execution_count": 64,
      "outputs": [
        {
          "output_type": "stream",
          "name": "stdout",
          "text": [
            "    age\n",
            "0    33\n",
            "1    33\n",
            "2    13\n",
            "3    15\n",
            "4    35\n",
            "5    35\n",
            "6    35\n",
            "7    35\n",
            "8    16\n",
            "9    16\n",
            "10   19\n",
            "11   20\n",
            "12   20\n",
            "13   36\n",
            "14   40\n",
            "15   41\n",
            "16   22\n",
            "17   22\n",
            "18   45\n",
            "19   46\n",
            "20   25\n",
            "21   25\n",
            "22   25\n",
            "23   25\n",
            "24   52\n",
            "25   70\n",
            "26   30\n"
          ]
        }
      ]
    },
    {
      "cell_type": "markdown",
      "source": [
        "## Describing"
      ],
      "metadata": {
        "id": "TTMds7DHO2R1"
      },
      "id": "TTMds7DHO2R1"
    },
    {
      "cell_type": "code",
      "source": [
        "df.describe()"
      ],
      "metadata": {
        "colab": {
          "base_uri": "https://localhost:8080/",
          "height": 300
        },
        "id": "1lBevp09pLNz",
        "outputId": "f2d40462-ee1c-48c1-9eaf-ff3f159ea5ca"
      },
      "id": "1lBevp09pLNz",
      "execution_count": 65,
      "outputs": [
        {
          "output_type": "execute_result",
          "data": {
            "text/plain": [
              "             age\n",
              "count  27.000000\n",
              "mean   30.703704\n",
              "std    12.981688\n",
              "min    13.000000\n",
              "25%    21.000000\n",
              "50%    30.000000\n",
              "75%    35.500000\n",
              "max    70.000000"
            ],
            "text/html": [
              "\n",
              "  <div id=\"df-dad16c7a-45e7-4abf-8c14-5488c7599223\" class=\"colab-df-container\">\n",
              "    <div>\n",
              "<style scoped>\n",
              "    .dataframe tbody tr th:only-of-type {\n",
              "        vertical-align: middle;\n",
              "    }\n",
              "\n",
              "    .dataframe tbody tr th {\n",
              "        vertical-align: top;\n",
              "    }\n",
              "\n",
              "    .dataframe thead th {\n",
              "        text-align: right;\n",
              "    }\n",
              "</style>\n",
              "<table border=\"1\" class=\"dataframe\">\n",
              "  <thead>\n",
              "    <tr style=\"text-align: right;\">\n",
              "      <th></th>\n",
              "      <th>age</th>\n",
              "    </tr>\n",
              "  </thead>\n",
              "  <tbody>\n",
              "    <tr>\n",
              "      <th>count</th>\n",
              "      <td>27.000000</td>\n",
              "    </tr>\n",
              "    <tr>\n",
              "      <th>mean</th>\n",
              "      <td>30.703704</td>\n",
              "    </tr>\n",
              "    <tr>\n",
              "      <th>std</th>\n",
              "      <td>12.981688</td>\n",
              "    </tr>\n",
              "    <tr>\n",
              "      <th>min</th>\n",
              "      <td>13.000000</td>\n",
              "    </tr>\n",
              "    <tr>\n",
              "      <th>25%</th>\n",
              "      <td>21.000000</td>\n",
              "    </tr>\n",
              "    <tr>\n",
              "      <th>50%</th>\n",
              "      <td>30.000000</td>\n",
              "    </tr>\n",
              "    <tr>\n",
              "      <th>75%</th>\n",
              "      <td>35.500000</td>\n",
              "    </tr>\n",
              "    <tr>\n",
              "      <th>max</th>\n",
              "      <td>70.000000</td>\n",
              "    </tr>\n",
              "  </tbody>\n",
              "</table>\n",
              "</div>\n",
              "    <div class=\"colab-df-buttons\">\n",
              "\n",
              "  <div class=\"colab-df-container\">\n",
              "    <button class=\"colab-df-convert\" onclick=\"convertToInteractive('df-dad16c7a-45e7-4abf-8c14-5488c7599223')\"\n",
              "            title=\"Convert this dataframe to an interactive table.\"\n",
              "            style=\"display:none;\">\n",
              "\n",
              "  <svg xmlns=\"http://www.w3.org/2000/svg\" height=\"24px\" viewBox=\"0 -960 960 960\">\n",
              "    <path d=\"M120-120v-720h720v720H120Zm60-500h600v-160H180v160Zm220 220h160v-160H400v160Zm0 220h160v-160H400v160ZM180-400h160v-160H180v160Zm440 0h160v-160H620v160ZM180-180h160v-160H180v160Zm440 0h160v-160H620v160Z\"/>\n",
              "  </svg>\n",
              "    </button>\n",
              "\n",
              "  <style>\n",
              "    .colab-df-container {\n",
              "      display:flex;\n",
              "      gap: 12px;\n",
              "    }\n",
              "\n",
              "    .colab-df-convert {\n",
              "      background-color: #E8F0FE;\n",
              "      border: none;\n",
              "      border-radius: 50%;\n",
              "      cursor: pointer;\n",
              "      display: none;\n",
              "      fill: #1967D2;\n",
              "      height: 32px;\n",
              "      padding: 0 0 0 0;\n",
              "      width: 32px;\n",
              "    }\n",
              "\n",
              "    .colab-df-convert:hover {\n",
              "      background-color: #E2EBFA;\n",
              "      box-shadow: 0px 1px 2px rgba(60, 64, 67, 0.3), 0px 1px 3px 1px rgba(60, 64, 67, 0.15);\n",
              "      fill: #174EA6;\n",
              "    }\n",
              "\n",
              "    .colab-df-buttons div {\n",
              "      margin-bottom: 4px;\n",
              "    }\n",
              "\n",
              "    [theme=dark] .colab-df-convert {\n",
              "      background-color: #3B4455;\n",
              "      fill: #D2E3FC;\n",
              "    }\n",
              "\n",
              "    [theme=dark] .colab-df-convert:hover {\n",
              "      background-color: #434B5C;\n",
              "      box-shadow: 0px 1px 3px 1px rgba(0, 0, 0, 0.15);\n",
              "      filter: drop-shadow(0px 1px 2px rgba(0, 0, 0, 0.3));\n",
              "      fill: #FFFFFF;\n",
              "    }\n",
              "  </style>\n",
              "\n",
              "    <script>\n",
              "      const buttonEl =\n",
              "        document.querySelector('#df-dad16c7a-45e7-4abf-8c14-5488c7599223 button.colab-df-convert');\n",
              "      buttonEl.style.display =\n",
              "        google.colab.kernel.accessAllowed ? 'block' : 'none';\n",
              "\n",
              "      async function convertToInteractive(key) {\n",
              "        const element = document.querySelector('#df-dad16c7a-45e7-4abf-8c14-5488c7599223');\n",
              "        const dataTable =\n",
              "          await google.colab.kernel.invokeFunction('convertToInteractive',\n",
              "                                                    [key], {});\n",
              "        if (!dataTable) return;\n",
              "\n",
              "        const docLinkHtml = 'Like what you see? Visit the ' +\n",
              "          '<a target=\"_blank\" href=https://colab.research.google.com/notebooks/data_table.ipynb>data table notebook</a>'\n",
              "          + ' to learn more about interactive tables.';\n",
              "        element.innerHTML = '';\n",
              "        dataTable['output_type'] = 'display_data';\n",
              "        await google.colab.output.renderOutput(dataTable, element);\n",
              "        const docLink = document.createElement('div');\n",
              "        docLink.innerHTML = docLinkHtml;\n",
              "        element.appendChild(docLink);\n",
              "      }\n",
              "    </script>\n",
              "  </div>\n",
              "\n",
              "\n",
              "<div id=\"df-d0d29d70-a13e-4282-aee7-c485e140e540\">\n",
              "  <button class=\"colab-df-quickchart\" onclick=\"quickchart('df-d0d29d70-a13e-4282-aee7-c485e140e540')\"\n",
              "            title=\"Suggest charts\"\n",
              "            style=\"display:none;\">\n",
              "\n",
              "<svg xmlns=\"http://www.w3.org/2000/svg\" height=\"24px\"viewBox=\"0 0 24 24\"\n",
              "     width=\"24px\">\n",
              "    <g>\n",
              "        <path d=\"M19 3H5c-1.1 0-2 .9-2 2v14c0 1.1.9 2 2 2h14c1.1 0 2-.9 2-2V5c0-1.1-.9-2-2-2zM9 17H7v-7h2v7zm4 0h-2V7h2v10zm4 0h-2v-4h2v4z\"/>\n",
              "    </g>\n",
              "</svg>\n",
              "  </button>\n",
              "\n",
              "<style>\n",
              "  .colab-df-quickchart {\n",
              "      --bg-color: #E8F0FE;\n",
              "      --fill-color: #1967D2;\n",
              "      --hover-bg-color: #E2EBFA;\n",
              "      --hover-fill-color: #174EA6;\n",
              "      --disabled-fill-color: #AAA;\n",
              "      --disabled-bg-color: #DDD;\n",
              "  }\n",
              "\n",
              "  [theme=dark] .colab-df-quickchart {\n",
              "      --bg-color: #3B4455;\n",
              "      --fill-color: #D2E3FC;\n",
              "      --hover-bg-color: #434B5C;\n",
              "      --hover-fill-color: #FFFFFF;\n",
              "      --disabled-bg-color: #3B4455;\n",
              "      --disabled-fill-color: #666;\n",
              "  }\n",
              "\n",
              "  .colab-df-quickchart {\n",
              "    background-color: var(--bg-color);\n",
              "    border: none;\n",
              "    border-radius: 50%;\n",
              "    cursor: pointer;\n",
              "    display: none;\n",
              "    fill: var(--fill-color);\n",
              "    height: 32px;\n",
              "    padding: 0;\n",
              "    width: 32px;\n",
              "  }\n",
              "\n",
              "  .colab-df-quickchart:hover {\n",
              "    background-color: var(--hover-bg-color);\n",
              "    box-shadow: 0 1px 2px rgba(60, 64, 67, 0.3), 0 1px 3px 1px rgba(60, 64, 67, 0.15);\n",
              "    fill: var(--button-hover-fill-color);\n",
              "  }\n",
              "\n",
              "  .colab-df-quickchart-complete:disabled,\n",
              "  .colab-df-quickchart-complete:disabled:hover {\n",
              "    background-color: var(--disabled-bg-color);\n",
              "    fill: var(--disabled-fill-color);\n",
              "    box-shadow: none;\n",
              "  }\n",
              "\n",
              "  .colab-df-spinner {\n",
              "    border: 2px solid var(--fill-color);\n",
              "    border-color: transparent;\n",
              "    border-bottom-color: var(--fill-color);\n",
              "    animation:\n",
              "      spin 1s steps(1) infinite;\n",
              "  }\n",
              "\n",
              "  @keyframes spin {\n",
              "    0% {\n",
              "      border-color: transparent;\n",
              "      border-bottom-color: var(--fill-color);\n",
              "      border-left-color: var(--fill-color);\n",
              "    }\n",
              "    20% {\n",
              "      border-color: transparent;\n",
              "      border-left-color: var(--fill-color);\n",
              "      border-top-color: var(--fill-color);\n",
              "    }\n",
              "    30% {\n",
              "      border-color: transparent;\n",
              "      border-left-color: var(--fill-color);\n",
              "      border-top-color: var(--fill-color);\n",
              "      border-right-color: var(--fill-color);\n",
              "    }\n",
              "    40% {\n",
              "      border-color: transparent;\n",
              "      border-right-color: var(--fill-color);\n",
              "      border-top-color: var(--fill-color);\n",
              "    }\n",
              "    60% {\n",
              "      border-color: transparent;\n",
              "      border-right-color: var(--fill-color);\n",
              "    }\n",
              "    80% {\n",
              "      border-color: transparent;\n",
              "      border-right-color: var(--fill-color);\n",
              "      border-bottom-color: var(--fill-color);\n",
              "    }\n",
              "    90% {\n",
              "      border-color: transparent;\n",
              "      border-bottom-color: var(--fill-color);\n",
              "    }\n",
              "  }\n",
              "</style>\n",
              "\n",
              "  <script>\n",
              "    async function quickchart(key) {\n",
              "      const quickchartButtonEl =\n",
              "        document.querySelector('#' + key + ' button');\n",
              "      quickchartButtonEl.disabled = true;  // To prevent multiple clicks.\n",
              "      quickchartButtonEl.classList.add('colab-df-spinner');\n",
              "      try {\n",
              "        const charts = await google.colab.kernel.invokeFunction(\n",
              "            'suggestCharts', [key], {});\n",
              "      } catch (error) {\n",
              "        console.error('Error during call to suggestCharts:', error);\n",
              "      }\n",
              "      quickchartButtonEl.classList.remove('colab-df-spinner');\n",
              "      quickchartButtonEl.classList.add('colab-df-quickchart-complete');\n",
              "    }\n",
              "    (() => {\n",
              "      let quickchartButtonEl =\n",
              "        document.querySelector('#df-d0d29d70-a13e-4282-aee7-c485e140e540 button');\n",
              "      quickchartButtonEl.style.display =\n",
              "        google.colab.kernel.accessAllowed ? 'block' : 'none';\n",
              "    })();\n",
              "  </script>\n",
              "</div>\n",
              "\n",
              "    </div>\n",
              "  </div>\n"
            ],
            "application/vnd.google.colaboratory.intrinsic+json": {
              "type": "dataframe",
              "summary": "{\n  \"name\": \"df\",\n  \"rows\": 8,\n  \"fields\": [\n    {\n      \"column\": \"age\",\n      \"properties\": {\n        \"dtype\": \"number\",\n        \"std\": 18.12403240729513,\n        \"min\": 12.98168773789512,\n        \"max\": 70.0,\n        \"samples\": [\n          30.703703703703702,\n          30.0,\n          27.0\n        ],\n        \"num_unique_values\": 8,\n        \"semantic_type\": \"\",\n        \"description\": \"\"\n      }\n    }\n  ]\n}"
            }
          },
          "metadata": {},
          "execution_count": 65
        }
      ]
    },
    {
      "cell_type": "markdown",
      "source": [
        "## Display 5"
      ],
      "metadata": {
        "id": "UbtsrqFSO4w4"
      },
      "id": "UbtsrqFSO4w4"
    },
    {
      "cell_type": "code",
      "source": [
        "df.head()"
      ],
      "metadata": {
        "colab": {
          "base_uri": "https://localhost:8080/",
          "height": 206
        },
        "id": "Sgvv9axyqnRT",
        "outputId": "6d25209a-3e2f-492e-9518-c247d00c4c95"
      },
      "id": "Sgvv9axyqnRT",
      "execution_count": 66,
      "outputs": [
        {
          "output_type": "execute_result",
          "data": {
            "text/plain": [
              "   age\n",
              "0   33\n",
              "1   33\n",
              "2   13\n",
              "3   15\n",
              "4   35"
            ],
            "text/html": [
              "\n",
              "  <div id=\"df-96608a1c-6f8e-4eac-b36d-5d186c46b51e\" class=\"colab-df-container\">\n",
              "    <div>\n",
              "<style scoped>\n",
              "    .dataframe tbody tr th:only-of-type {\n",
              "        vertical-align: middle;\n",
              "    }\n",
              "\n",
              "    .dataframe tbody tr th {\n",
              "        vertical-align: top;\n",
              "    }\n",
              "\n",
              "    .dataframe thead th {\n",
              "        text-align: right;\n",
              "    }\n",
              "</style>\n",
              "<table border=\"1\" class=\"dataframe\">\n",
              "  <thead>\n",
              "    <tr style=\"text-align: right;\">\n",
              "      <th></th>\n",
              "      <th>age</th>\n",
              "    </tr>\n",
              "  </thead>\n",
              "  <tbody>\n",
              "    <tr>\n",
              "      <th>0</th>\n",
              "      <td>33</td>\n",
              "    </tr>\n",
              "    <tr>\n",
              "      <th>1</th>\n",
              "      <td>33</td>\n",
              "    </tr>\n",
              "    <tr>\n",
              "      <th>2</th>\n",
              "      <td>13</td>\n",
              "    </tr>\n",
              "    <tr>\n",
              "      <th>3</th>\n",
              "      <td>15</td>\n",
              "    </tr>\n",
              "    <tr>\n",
              "      <th>4</th>\n",
              "      <td>35</td>\n",
              "    </tr>\n",
              "  </tbody>\n",
              "</table>\n",
              "</div>\n",
              "    <div class=\"colab-df-buttons\">\n",
              "\n",
              "  <div class=\"colab-df-container\">\n",
              "    <button class=\"colab-df-convert\" onclick=\"convertToInteractive('df-96608a1c-6f8e-4eac-b36d-5d186c46b51e')\"\n",
              "            title=\"Convert this dataframe to an interactive table.\"\n",
              "            style=\"display:none;\">\n",
              "\n",
              "  <svg xmlns=\"http://www.w3.org/2000/svg\" height=\"24px\" viewBox=\"0 -960 960 960\">\n",
              "    <path d=\"M120-120v-720h720v720H120Zm60-500h600v-160H180v160Zm220 220h160v-160H400v160Zm0 220h160v-160H400v160ZM180-400h160v-160H180v160Zm440 0h160v-160H620v160ZM180-180h160v-160H180v160Zm440 0h160v-160H620v160Z\"/>\n",
              "  </svg>\n",
              "    </button>\n",
              "\n",
              "  <style>\n",
              "    .colab-df-container {\n",
              "      display:flex;\n",
              "      gap: 12px;\n",
              "    }\n",
              "\n",
              "    .colab-df-convert {\n",
              "      background-color: #E8F0FE;\n",
              "      border: none;\n",
              "      border-radius: 50%;\n",
              "      cursor: pointer;\n",
              "      display: none;\n",
              "      fill: #1967D2;\n",
              "      height: 32px;\n",
              "      padding: 0 0 0 0;\n",
              "      width: 32px;\n",
              "    }\n",
              "\n",
              "    .colab-df-convert:hover {\n",
              "      background-color: #E2EBFA;\n",
              "      box-shadow: 0px 1px 2px rgba(60, 64, 67, 0.3), 0px 1px 3px 1px rgba(60, 64, 67, 0.15);\n",
              "      fill: #174EA6;\n",
              "    }\n",
              "\n",
              "    .colab-df-buttons div {\n",
              "      margin-bottom: 4px;\n",
              "    }\n",
              "\n",
              "    [theme=dark] .colab-df-convert {\n",
              "      background-color: #3B4455;\n",
              "      fill: #D2E3FC;\n",
              "    }\n",
              "\n",
              "    [theme=dark] .colab-df-convert:hover {\n",
              "      background-color: #434B5C;\n",
              "      box-shadow: 0px 1px 3px 1px rgba(0, 0, 0, 0.15);\n",
              "      filter: drop-shadow(0px 1px 2px rgba(0, 0, 0, 0.3));\n",
              "      fill: #FFFFFF;\n",
              "    }\n",
              "  </style>\n",
              "\n",
              "    <script>\n",
              "      const buttonEl =\n",
              "        document.querySelector('#df-96608a1c-6f8e-4eac-b36d-5d186c46b51e button.colab-df-convert');\n",
              "      buttonEl.style.display =\n",
              "        google.colab.kernel.accessAllowed ? 'block' : 'none';\n",
              "\n",
              "      async function convertToInteractive(key) {\n",
              "        const element = document.querySelector('#df-96608a1c-6f8e-4eac-b36d-5d186c46b51e');\n",
              "        const dataTable =\n",
              "          await google.colab.kernel.invokeFunction('convertToInteractive',\n",
              "                                                    [key], {});\n",
              "        if (!dataTable) return;\n",
              "\n",
              "        const docLinkHtml = 'Like what you see? Visit the ' +\n",
              "          '<a target=\"_blank\" href=https://colab.research.google.com/notebooks/data_table.ipynb>data table notebook</a>'\n",
              "          + ' to learn more about interactive tables.';\n",
              "        element.innerHTML = '';\n",
              "        dataTable['output_type'] = 'display_data';\n",
              "        await google.colab.output.renderOutput(dataTable, element);\n",
              "        const docLink = document.createElement('div');\n",
              "        docLink.innerHTML = docLinkHtml;\n",
              "        element.appendChild(docLink);\n",
              "      }\n",
              "    </script>\n",
              "  </div>\n",
              "\n",
              "\n",
              "<div id=\"df-14bdbde0-ac83-4463-b0a2-54cfabc127d5\">\n",
              "  <button class=\"colab-df-quickchart\" onclick=\"quickchart('df-14bdbde0-ac83-4463-b0a2-54cfabc127d5')\"\n",
              "            title=\"Suggest charts\"\n",
              "            style=\"display:none;\">\n",
              "\n",
              "<svg xmlns=\"http://www.w3.org/2000/svg\" height=\"24px\"viewBox=\"0 0 24 24\"\n",
              "     width=\"24px\">\n",
              "    <g>\n",
              "        <path d=\"M19 3H5c-1.1 0-2 .9-2 2v14c0 1.1.9 2 2 2h14c1.1 0 2-.9 2-2V5c0-1.1-.9-2-2-2zM9 17H7v-7h2v7zm4 0h-2V7h2v10zm4 0h-2v-4h2v4z\"/>\n",
              "    </g>\n",
              "</svg>\n",
              "  </button>\n",
              "\n",
              "<style>\n",
              "  .colab-df-quickchart {\n",
              "      --bg-color: #E8F0FE;\n",
              "      --fill-color: #1967D2;\n",
              "      --hover-bg-color: #E2EBFA;\n",
              "      --hover-fill-color: #174EA6;\n",
              "      --disabled-fill-color: #AAA;\n",
              "      --disabled-bg-color: #DDD;\n",
              "  }\n",
              "\n",
              "  [theme=dark] .colab-df-quickchart {\n",
              "      --bg-color: #3B4455;\n",
              "      --fill-color: #D2E3FC;\n",
              "      --hover-bg-color: #434B5C;\n",
              "      --hover-fill-color: #FFFFFF;\n",
              "      --disabled-bg-color: #3B4455;\n",
              "      --disabled-fill-color: #666;\n",
              "  }\n",
              "\n",
              "  .colab-df-quickchart {\n",
              "    background-color: var(--bg-color);\n",
              "    border: none;\n",
              "    border-radius: 50%;\n",
              "    cursor: pointer;\n",
              "    display: none;\n",
              "    fill: var(--fill-color);\n",
              "    height: 32px;\n",
              "    padding: 0;\n",
              "    width: 32px;\n",
              "  }\n",
              "\n",
              "  .colab-df-quickchart:hover {\n",
              "    background-color: var(--hover-bg-color);\n",
              "    box-shadow: 0 1px 2px rgba(60, 64, 67, 0.3), 0 1px 3px 1px rgba(60, 64, 67, 0.15);\n",
              "    fill: var(--button-hover-fill-color);\n",
              "  }\n",
              "\n",
              "  .colab-df-quickchart-complete:disabled,\n",
              "  .colab-df-quickchart-complete:disabled:hover {\n",
              "    background-color: var(--disabled-bg-color);\n",
              "    fill: var(--disabled-fill-color);\n",
              "    box-shadow: none;\n",
              "  }\n",
              "\n",
              "  .colab-df-spinner {\n",
              "    border: 2px solid var(--fill-color);\n",
              "    border-color: transparent;\n",
              "    border-bottom-color: var(--fill-color);\n",
              "    animation:\n",
              "      spin 1s steps(1) infinite;\n",
              "  }\n",
              "\n",
              "  @keyframes spin {\n",
              "    0% {\n",
              "      border-color: transparent;\n",
              "      border-bottom-color: var(--fill-color);\n",
              "      border-left-color: var(--fill-color);\n",
              "    }\n",
              "    20% {\n",
              "      border-color: transparent;\n",
              "      border-left-color: var(--fill-color);\n",
              "      border-top-color: var(--fill-color);\n",
              "    }\n",
              "    30% {\n",
              "      border-color: transparent;\n",
              "      border-left-color: var(--fill-color);\n",
              "      border-top-color: var(--fill-color);\n",
              "      border-right-color: var(--fill-color);\n",
              "    }\n",
              "    40% {\n",
              "      border-color: transparent;\n",
              "      border-right-color: var(--fill-color);\n",
              "      border-top-color: var(--fill-color);\n",
              "    }\n",
              "    60% {\n",
              "      border-color: transparent;\n",
              "      border-right-color: var(--fill-color);\n",
              "    }\n",
              "    80% {\n",
              "      border-color: transparent;\n",
              "      border-right-color: var(--fill-color);\n",
              "      border-bottom-color: var(--fill-color);\n",
              "    }\n",
              "    90% {\n",
              "      border-color: transparent;\n",
              "      border-bottom-color: var(--fill-color);\n",
              "    }\n",
              "  }\n",
              "</style>\n",
              "\n",
              "  <script>\n",
              "    async function quickchart(key) {\n",
              "      const quickchartButtonEl =\n",
              "        document.querySelector('#' + key + ' button');\n",
              "      quickchartButtonEl.disabled = true;  // To prevent multiple clicks.\n",
              "      quickchartButtonEl.classList.add('colab-df-spinner');\n",
              "      try {\n",
              "        const charts = await google.colab.kernel.invokeFunction(\n",
              "            'suggestCharts', [key], {});\n",
              "      } catch (error) {\n",
              "        console.error('Error during call to suggestCharts:', error);\n",
              "      }\n",
              "      quickchartButtonEl.classList.remove('colab-df-spinner');\n",
              "      quickchartButtonEl.classList.add('colab-df-quickchart-complete');\n",
              "    }\n",
              "    (() => {\n",
              "      let quickchartButtonEl =\n",
              "        document.querySelector('#df-14bdbde0-ac83-4463-b0a2-54cfabc127d5 button');\n",
              "      quickchartButtonEl.style.display =\n",
              "        google.colab.kernel.accessAllowed ? 'block' : 'none';\n",
              "    })();\n",
              "  </script>\n",
              "</div>\n",
              "\n",
              "    </div>\n",
              "  </div>\n"
            ],
            "application/vnd.google.colaboratory.intrinsic+json": {
              "type": "dataframe",
              "variable_name": "df",
              "summary": "{\n  \"name\": \"df\",\n  \"rows\": 27,\n  \"fields\": [\n    {\n      \"column\": \"age\",\n      \"properties\": {\n        \"dtype\": \"number\",\n        \"std\": 12,\n        \"min\": 13,\n        \"max\": 70,\n        \"samples\": [\n          33,\n          13,\n          19\n        ],\n        \"num_unique_values\": 17,\n        \"semantic_type\": \"\",\n        \"description\": \"\"\n      }\n    }\n  ]\n}"
            }
          },
          "metadata": {},
          "execution_count": 66
        }
      ]
    },
    {
      "cell_type": "markdown",
      "source": [
        "# LAB 02 - 30 Jan 2024"
      ],
      "metadata": {
        "id": "jNk27lbbpRvM"
      },
      "id": "jNk27lbbpRvM"
    },
    {
      "cell_type": "markdown",
      "source": [
        "## Mean"
      ],
      "metadata": {
        "id": "nBLeo5UWOReG"
      },
      "id": "nBLeo5UWOReG"
    },
    {
      "cell_type": "code",
      "source": [
        "mean1= df.mean()\n",
        "print(mean1)"
      ],
      "metadata": {
        "colab": {
          "base_uri": "https://localhost:8080/"
        },
        "id": "kqfv81MjpPVl",
        "outputId": "5ce6cad1-6978-4d3a-eb00-a57e9749588a"
      },
      "id": "kqfv81MjpPVl",
      "execution_count": 58,
      "outputs": [
        {
          "output_type": "stream",
          "name": "stdout",
          "text": [
            "age    30.703704\n",
            "dtype: float64\n"
          ]
        }
      ]
    },
    {
      "cell_type": "markdown",
      "source": [
        "## Median"
      ],
      "metadata": {
        "id": "upd5HNGcOUmt"
      },
      "id": "upd5HNGcOUmt"
    },
    {
      "cell_type": "code",
      "source": [
        "median1= df.median()\n",
        "print(median1)"
      ],
      "metadata": {
        "colab": {
          "base_uri": "https://localhost:8080/"
        },
        "id": "jBy67KuLrlLq",
        "outputId": "3ba218fc-c795-47c1-cac9-70b1678470f0"
      },
      "id": "jBy67KuLrlLq",
      "execution_count": 56,
      "outputs": [
        {
          "output_type": "stream",
          "name": "stdout",
          "text": [
            "age    30.0\n",
            "dtype: float64\n"
          ]
        }
      ]
    },
    {
      "cell_type": "markdown",
      "source": [
        "## Mode"
      ],
      "metadata": {
        "id": "qb35T9KWOYY_"
      },
      "id": "qb35T9KWOYY_"
    },
    {
      "cell_type": "code",
      "source": [
        "mode1= df.mode()\n",
        "print(mode1)"
      ],
      "metadata": {
        "colab": {
          "base_uri": "https://localhost:8080/"
        },
        "id": "YWy875WBrpXB",
        "outputId": "694448e7-0d2b-4ea9-9ca3-3cd5054f312a"
      },
      "id": "YWy875WBrpXB",
      "execution_count": 57,
      "outputs": [
        {
          "output_type": "stream",
          "name": "stdout",
          "text": [
            "   age\n",
            "0   25\n",
            "1   35\n"
          ]
        }
      ]
    },
    {
      "cell_type": "markdown",
      "source": [
        "## Minimum"
      ],
      "metadata": {
        "id": "Vh3EBTiOObr-"
      },
      "id": "Vh3EBTiOObr-"
    },
    {
      "cell_type": "code",
      "source": [
        "minimum=df.min()\n",
        "print(minimum)"
      ],
      "metadata": {
        "colab": {
          "base_uri": "https://localhost:8080/"
        },
        "id": "R9gqkr2Crtd0",
        "outputId": "e676356f-e20b-4825-b524-16b126e9fda3"
      },
      "id": "R9gqkr2Crtd0",
      "execution_count": 55,
      "outputs": [
        {
          "output_type": "stream",
          "name": "stdout",
          "text": [
            "age    13\n",
            "dtype: int64\n"
          ]
        }
      ]
    },
    {
      "cell_type": "markdown",
      "source": [
        "## Maximum"
      ],
      "metadata": {
        "id": "qjniW1TBOdzG"
      },
      "id": "qjniW1TBOdzG"
    },
    {
      "cell_type": "code",
      "source": [
        "max= df.max()\n",
        "print(max)"
      ],
      "metadata": {
        "colab": {
          "base_uri": "https://localhost:8080/"
        },
        "id": "bNdBN4nUsOC_",
        "outputId": "1579c956-efad-4f17-c394-227834799264"
      },
      "id": "bNdBN4nUsOC_",
      "execution_count": 54,
      "outputs": [
        {
          "output_type": "stream",
          "name": "stdout",
          "text": [
            "age    70\n",
            "dtype: int64\n"
          ]
        }
      ]
    },
    {
      "cell_type": "markdown",
      "source": [
        "## Variance"
      ],
      "metadata": {
        "id": "gytt5l9gOf6e"
      },
      "id": "gytt5l9gOf6e"
    },
    {
      "cell_type": "code",
      "execution_count": 59,
      "metadata": {
        "id": "5c7d85cb",
        "outputId": "957f5f77-5dcd-4e02-b665-c12d31495dcd",
        "colab": {
          "base_uri": "https://localhost:8080/"
        }
      },
      "outputs": [
        {
          "output_type": "stream",
          "name": "stdout",
          "text": [
            "age    168.524217\n",
            "dtype: float64\n"
          ]
        }
      ],
      "source": [
        "variance=df.var()\n",
        "print(variance)"
      ],
      "id": "5c7d85cb"
    },
    {
      "cell_type": "markdown",
      "source": [
        "## ST Deviation"
      ],
      "metadata": {
        "id": "5AktvqpAOidN"
      },
      "id": "5AktvqpAOidN"
    },
    {
      "cell_type": "code",
      "source": [
        "stdev=df.std()\n",
        "print(stdev)"
      ],
      "metadata": {
        "colab": {
          "base_uri": "https://localhost:8080/"
        },
        "id": "bEu6mNiusYZu",
        "outputId": "d83e8bff-9706-4f00-b9b8-e5201dab315c"
      },
      "id": "bEu6mNiusYZu",
      "execution_count": 51,
      "outputs": [
        {
          "output_type": "stream",
          "name": "stdout",
          "text": [
            "age    12.981688\n",
            "dtype: float64\n"
          ]
        }
      ]
    },
    {
      "cell_type": "markdown",
      "source": [
        "## Coeff Variance"
      ],
      "metadata": {
        "id": "tGOIlnfYOmp2"
      },
      "id": "tGOIlnfYOmp2"
    },
    {
      "cell_type": "code",
      "source": [
        "coeff_var = (stdev / mean1) * 100\n",
        "print(coeff_var)"
      ],
      "metadata": {
        "colab": {
          "base_uri": "https://localhost:8080/"
        },
        "id": "5o-EBna8sbFm",
        "outputId": "73aef769-77d1-433a-df95-e601cba82029"
      },
      "id": "5o-EBna8sbFm",
      "execution_count": 61,
      "outputs": [
        {
          "output_type": "stream",
          "name": "stdout",
          "text": [
            "age    42.280527\n",
            "dtype: float64\n"
          ]
        }
      ]
    },
    {
      "cell_type": "markdown",
      "source": [
        "## Quantile"
      ],
      "metadata": {
        "id": "gkMNIPiwOqwn"
      },
      "id": "gkMNIPiwOqwn"
    },
    {
      "cell_type": "code",
      "source": [
        "df.quantile([.25,.5,.75])"
      ],
      "metadata": {
        "colab": {
          "base_uri": "https://localhost:8080/",
          "height": 143
        },
        "id": "eobE_FBdsenr",
        "outputId": "96324ac3-d842-4dec-f9f2-175d545c5348"
      },
      "id": "eobE_FBdsenr",
      "execution_count": 49,
      "outputs": [
        {
          "output_type": "execute_result",
          "data": {
            "text/plain": [
              "       age\n",
              "0.25  21.0\n",
              "0.50  30.0\n",
              "0.75  35.5"
            ],
            "text/html": [
              "\n",
              "  <div id=\"df-18de1de7-f588-4de3-ad0f-0440071bfceb\" class=\"colab-df-container\">\n",
              "    <div>\n",
              "<style scoped>\n",
              "    .dataframe tbody tr th:only-of-type {\n",
              "        vertical-align: middle;\n",
              "    }\n",
              "\n",
              "    .dataframe tbody tr th {\n",
              "        vertical-align: top;\n",
              "    }\n",
              "\n",
              "    .dataframe thead th {\n",
              "        text-align: right;\n",
              "    }\n",
              "</style>\n",
              "<table border=\"1\" class=\"dataframe\">\n",
              "  <thead>\n",
              "    <tr style=\"text-align: right;\">\n",
              "      <th></th>\n",
              "      <th>age</th>\n",
              "    </tr>\n",
              "  </thead>\n",
              "  <tbody>\n",
              "    <tr>\n",
              "      <th>0.25</th>\n",
              "      <td>21.0</td>\n",
              "    </tr>\n",
              "    <tr>\n",
              "      <th>0.50</th>\n",
              "      <td>30.0</td>\n",
              "    </tr>\n",
              "    <tr>\n",
              "      <th>0.75</th>\n",
              "      <td>35.5</td>\n",
              "    </tr>\n",
              "  </tbody>\n",
              "</table>\n",
              "</div>\n",
              "    <div class=\"colab-df-buttons\">\n",
              "\n",
              "  <div class=\"colab-df-container\">\n",
              "    <button class=\"colab-df-convert\" onclick=\"convertToInteractive('df-18de1de7-f588-4de3-ad0f-0440071bfceb')\"\n",
              "            title=\"Convert this dataframe to an interactive table.\"\n",
              "            style=\"display:none;\">\n",
              "\n",
              "  <svg xmlns=\"http://www.w3.org/2000/svg\" height=\"24px\" viewBox=\"0 -960 960 960\">\n",
              "    <path d=\"M120-120v-720h720v720H120Zm60-500h600v-160H180v160Zm220 220h160v-160H400v160Zm0 220h160v-160H400v160ZM180-400h160v-160H180v160Zm440 0h160v-160H620v160ZM180-180h160v-160H180v160Zm440 0h160v-160H620v160Z\"/>\n",
              "  </svg>\n",
              "    </button>\n",
              "\n",
              "  <style>\n",
              "    .colab-df-container {\n",
              "      display:flex;\n",
              "      gap: 12px;\n",
              "    }\n",
              "\n",
              "    .colab-df-convert {\n",
              "      background-color: #E8F0FE;\n",
              "      border: none;\n",
              "      border-radius: 50%;\n",
              "      cursor: pointer;\n",
              "      display: none;\n",
              "      fill: #1967D2;\n",
              "      height: 32px;\n",
              "      padding: 0 0 0 0;\n",
              "      width: 32px;\n",
              "    }\n",
              "\n",
              "    .colab-df-convert:hover {\n",
              "      background-color: #E2EBFA;\n",
              "      box-shadow: 0px 1px 2px rgba(60, 64, 67, 0.3), 0px 1px 3px 1px rgba(60, 64, 67, 0.15);\n",
              "      fill: #174EA6;\n",
              "    }\n",
              "\n",
              "    .colab-df-buttons div {\n",
              "      margin-bottom: 4px;\n",
              "    }\n",
              "\n",
              "    [theme=dark] .colab-df-convert {\n",
              "      background-color: #3B4455;\n",
              "      fill: #D2E3FC;\n",
              "    }\n",
              "\n",
              "    [theme=dark] .colab-df-convert:hover {\n",
              "      background-color: #434B5C;\n",
              "      box-shadow: 0px 1px 3px 1px rgba(0, 0, 0, 0.15);\n",
              "      filter: drop-shadow(0px 1px 2px rgba(0, 0, 0, 0.3));\n",
              "      fill: #FFFFFF;\n",
              "    }\n",
              "  </style>\n",
              "\n",
              "    <script>\n",
              "      const buttonEl =\n",
              "        document.querySelector('#df-18de1de7-f588-4de3-ad0f-0440071bfceb button.colab-df-convert');\n",
              "      buttonEl.style.display =\n",
              "        google.colab.kernel.accessAllowed ? 'block' : 'none';\n",
              "\n",
              "      async function convertToInteractive(key) {\n",
              "        const element = document.querySelector('#df-18de1de7-f588-4de3-ad0f-0440071bfceb');\n",
              "        const dataTable =\n",
              "          await google.colab.kernel.invokeFunction('convertToInteractive',\n",
              "                                                    [key], {});\n",
              "        if (!dataTable) return;\n",
              "\n",
              "        const docLinkHtml = 'Like what you see? Visit the ' +\n",
              "          '<a target=\"_blank\" href=https://colab.research.google.com/notebooks/data_table.ipynb>data table notebook</a>'\n",
              "          + ' to learn more about interactive tables.';\n",
              "        element.innerHTML = '';\n",
              "        dataTable['output_type'] = 'display_data';\n",
              "        await google.colab.output.renderOutput(dataTable, element);\n",
              "        const docLink = document.createElement('div');\n",
              "        docLink.innerHTML = docLinkHtml;\n",
              "        element.appendChild(docLink);\n",
              "      }\n",
              "    </script>\n",
              "  </div>\n",
              "\n",
              "\n",
              "<div id=\"df-0dfaf9e2-f365-4ec4-84ea-705e0672c25b\">\n",
              "  <button class=\"colab-df-quickchart\" onclick=\"quickchart('df-0dfaf9e2-f365-4ec4-84ea-705e0672c25b')\"\n",
              "            title=\"Suggest charts\"\n",
              "            style=\"display:none;\">\n",
              "\n",
              "<svg xmlns=\"http://www.w3.org/2000/svg\" height=\"24px\"viewBox=\"0 0 24 24\"\n",
              "     width=\"24px\">\n",
              "    <g>\n",
              "        <path d=\"M19 3H5c-1.1 0-2 .9-2 2v14c0 1.1.9 2 2 2h14c1.1 0 2-.9 2-2V5c0-1.1-.9-2-2-2zM9 17H7v-7h2v7zm4 0h-2V7h2v10zm4 0h-2v-4h2v4z\"/>\n",
              "    </g>\n",
              "</svg>\n",
              "  </button>\n",
              "\n",
              "<style>\n",
              "  .colab-df-quickchart {\n",
              "      --bg-color: #E8F0FE;\n",
              "      --fill-color: #1967D2;\n",
              "      --hover-bg-color: #E2EBFA;\n",
              "      --hover-fill-color: #174EA6;\n",
              "      --disabled-fill-color: #AAA;\n",
              "      --disabled-bg-color: #DDD;\n",
              "  }\n",
              "\n",
              "  [theme=dark] .colab-df-quickchart {\n",
              "      --bg-color: #3B4455;\n",
              "      --fill-color: #D2E3FC;\n",
              "      --hover-bg-color: #434B5C;\n",
              "      --hover-fill-color: #FFFFFF;\n",
              "      --disabled-bg-color: #3B4455;\n",
              "      --disabled-fill-color: #666;\n",
              "  }\n",
              "\n",
              "  .colab-df-quickchart {\n",
              "    background-color: var(--bg-color);\n",
              "    border: none;\n",
              "    border-radius: 50%;\n",
              "    cursor: pointer;\n",
              "    display: none;\n",
              "    fill: var(--fill-color);\n",
              "    height: 32px;\n",
              "    padding: 0;\n",
              "    width: 32px;\n",
              "  }\n",
              "\n",
              "  .colab-df-quickchart:hover {\n",
              "    background-color: var(--hover-bg-color);\n",
              "    box-shadow: 0 1px 2px rgba(60, 64, 67, 0.3), 0 1px 3px 1px rgba(60, 64, 67, 0.15);\n",
              "    fill: var(--button-hover-fill-color);\n",
              "  }\n",
              "\n",
              "  .colab-df-quickchart-complete:disabled,\n",
              "  .colab-df-quickchart-complete:disabled:hover {\n",
              "    background-color: var(--disabled-bg-color);\n",
              "    fill: var(--disabled-fill-color);\n",
              "    box-shadow: none;\n",
              "  }\n",
              "\n",
              "  .colab-df-spinner {\n",
              "    border: 2px solid var(--fill-color);\n",
              "    border-color: transparent;\n",
              "    border-bottom-color: var(--fill-color);\n",
              "    animation:\n",
              "      spin 1s steps(1) infinite;\n",
              "  }\n",
              "\n",
              "  @keyframes spin {\n",
              "    0% {\n",
              "      border-color: transparent;\n",
              "      border-bottom-color: var(--fill-color);\n",
              "      border-left-color: var(--fill-color);\n",
              "    }\n",
              "    20% {\n",
              "      border-color: transparent;\n",
              "      border-left-color: var(--fill-color);\n",
              "      border-top-color: var(--fill-color);\n",
              "    }\n",
              "    30% {\n",
              "      border-color: transparent;\n",
              "      border-left-color: var(--fill-color);\n",
              "      border-top-color: var(--fill-color);\n",
              "      border-right-color: var(--fill-color);\n",
              "    }\n",
              "    40% {\n",
              "      border-color: transparent;\n",
              "      border-right-color: var(--fill-color);\n",
              "      border-top-color: var(--fill-color);\n",
              "    }\n",
              "    60% {\n",
              "      border-color: transparent;\n",
              "      border-right-color: var(--fill-color);\n",
              "    }\n",
              "    80% {\n",
              "      border-color: transparent;\n",
              "      border-right-color: var(--fill-color);\n",
              "      border-bottom-color: var(--fill-color);\n",
              "    }\n",
              "    90% {\n",
              "      border-color: transparent;\n",
              "      border-bottom-color: var(--fill-color);\n",
              "    }\n",
              "  }\n",
              "</style>\n",
              "\n",
              "  <script>\n",
              "    async function quickchart(key) {\n",
              "      const quickchartButtonEl =\n",
              "        document.querySelector('#' + key + ' button');\n",
              "      quickchartButtonEl.disabled = true;  // To prevent multiple clicks.\n",
              "      quickchartButtonEl.classList.add('colab-df-spinner');\n",
              "      try {\n",
              "        const charts = await google.colab.kernel.invokeFunction(\n",
              "            'suggestCharts', [key], {});\n",
              "      } catch (error) {\n",
              "        console.error('Error during call to suggestCharts:', error);\n",
              "      }\n",
              "      quickchartButtonEl.classList.remove('colab-df-spinner');\n",
              "      quickchartButtonEl.classList.add('colab-df-quickchart-complete');\n",
              "    }\n",
              "    (() => {\n",
              "      let quickchartButtonEl =\n",
              "        document.querySelector('#df-0dfaf9e2-f365-4ec4-84ea-705e0672c25b button');\n",
              "      quickchartButtonEl.style.display =\n",
              "        google.colab.kernel.accessAllowed ? 'block' : 'none';\n",
              "    })();\n",
              "  </script>\n",
              "</div>\n",
              "\n",
              "    </div>\n",
              "  </div>\n"
            ],
            "application/vnd.google.colaboratory.intrinsic+json": {
              "type": "dataframe",
              "summary": "{\n  \"name\": \"df\",\n  \"rows\": 3,\n  \"fields\": [\n    {\n      \"column\": \"age\",\n      \"properties\": {\n        \"dtype\": \"number\",\n        \"std\": 7.32006375199925,\n        \"min\": 21.0,\n        \"max\": 35.5,\n        \"samples\": [\n          21.0,\n          30.0,\n          35.5\n        ],\n        \"num_unique_values\": 3,\n        \"semantic_type\": \"\",\n        \"description\": \"\"\n      }\n    }\n  ]\n}"
            }
          },
          "metadata": {},
          "execution_count": 49
        }
      ]
    },
    {
      "cell_type": "code",
      "source": [
        "q1=df.quantile([.25])\n",
        "print(q1)"
      ],
      "metadata": {
        "colab": {
          "base_uri": "https://localhost:8080/"
        },
        "id": "yN52UyiEsh8p",
        "outputId": "6d50e4c2-4ee5-46ea-effe-183c45c802eb"
      },
      "id": "yN52UyiEsh8p",
      "execution_count": 48,
      "outputs": [
        {
          "output_type": "stream",
          "name": "stdout",
          "text": [
            "       age\n",
            "0.25  21.0\n"
          ]
        }
      ]
    },
    {
      "cell_type": "code",
      "source": [
        "q2=df.quantile([.5])\n",
        "print(q2)"
      ],
      "metadata": {
        "colab": {
          "base_uri": "https://localhost:8080/"
        },
        "id": "_x-FkNB8sj22",
        "outputId": "a3dafcf4-a3e5-40db-b80e-b5911fb14356"
      },
      "id": "_x-FkNB8sj22",
      "execution_count": 47,
      "outputs": [
        {
          "output_type": "stream",
          "name": "stdout",
          "text": [
            "      age\n",
            "0.5  30.0\n"
          ]
        }
      ]
    },
    {
      "cell_type": "code",
      "source": [
        "q3=df.quantile([.75])\n",
        "print(q3)"
      ],
      "metadata": {
        "colab": {
          "base_uri": "https://localhost:8080/"
        },
        "id": "dY7hmaLDsmDB",
        "outputId": "eeaa95b8-002b-4e80-9170-5f19afa43cc4"
      },
      "id": "dY7hmaLDsmDB",
      "execution_count": 46,
      "outputs": [
        {
          "output_type": "stream",
          "name": "stdout",
          "text": [
            "       age\n",
            "0.75  35.5\n"
          ]
        }
      ]
    },
    {
      "cell_type": "markdown",
      "source": [
        "## Boxplot"
      ],
      "metadata": {
        "id": "Q5Dtipx_OuNt"
      },
      "id": "Q5Dtipx_OuNt"
    },
    {
      "cell_type": "code",
      "source": [
        "import matplotlib.pyplot as plt\n",
        "plt.boxplot(df)"
      ],
      "metadata": {
        "colab": {
          "base_uri": "https://localhost:8080/",
          "height": 573
        },
        "id": "uU8Ck1r6soSK",
        "outputId": "01cedfbc-5f47-4fee-ef40-0d60c9d8bf68"
      },
      "id": "uU8Ck1r6soSK",
      "execution_count": 45,
      "outputs": [
        {
          "output_type": "execute_result",
          "data": {
            "text/plain": [
              "{'whiskers': [<matplotlib.lines.Line2D at 0x7e0a16549780>,\n",
              "  <matplotlib.lines.Line2D at 0x7e0a16548eb0>],\n",
              " 'caps': [<matplotlib.lines.Line2D at 0x7e0a16549360>,\n",
              "  <matplotlib.lines.Line2D at 0x7e0a165483d0>],\n",
              " 'boxes': [<matplotlib.lines.Line2D at 0x7e0a45c1ea40>],\n",
              " 'medians': [<matplotlib.lines.Line2D at 0x7e0a16548160>],\n",
              " 'fliers': [<matplotlib.lines.Line2D at 0x7e0a16549d80>],\n",
              " 'means': []}"
            ]
          },
          "metadata": {},
          "execution_count": 45
        },
        {
          "output_type": "display_data",
          "data": {
            "text/plain": [
              "<Figure size 640x480 with 1 Axes>"
            ],
            "image/png": "[encoded data removed]"
          },
          "metadata": {}
        }
      ]
    },
    {
      "cell_type": "markdown",
      "source": [
        "# LAB 03 - 06 Feb 2024"
      ],
      "metadata": {
        "id": "62o2btp2pjWZ"
      },
      "id": "62o2btp2pjWZ"
    },
    {
      "cell_type": "markdown",
      "source": [
        "## Equal frequency binning"
      ],
      "metadata": {
        "id": "uxkDslxjCNws"
      },
      "id": "uxkDslxjCNws"
    },
    {
      "cell_type": "code",
      "execution_count": 36,
      "id": "4e1c3447",
      "metadata": {
        "id": "4e1c3447",
        "outputId": "9f709a50-02d6-4b73-bafe-a400a82cda2c",
        "colab": {
          "base_uri": "https://localhost:8080/"
        }
      },
      "outputs": [
        {
          "output_type": "stream",
          "name": "stdout",
          "text": [
            "Equal frequency binning\n",
            "Bin 1 : [5, 10, 11, 13]\n",
            "Bin 2 : [15, 35, 50, 55]\n",
            "Bin 3 : [72, 92, 204, 215]\n"
          ]
        }
      ],
      "source": [
        "def equifreq(arr1, m):\n",
        "    a = len(arr1)\n",
        "    n = int(a / m)\n",
        "    for i in range(0, m):\n",
        "        arr = []\n",
        "        for j in range(i * n, (i + 1) * n):\n",
        "            if j >= a:\n",
        "                break\n",
        "            arr = arr + [arr1[j]]\n",
        "        print(\"Bin\", i+1, \":\", arr)\n",
        "\n",
        "data = [5, 10, 11, 13, 15, 35, 50, 55, 72, 92, 204, 215]\n",
        "\n",
        "m = 3\n",
        "\n",
        "print(\"Equal frequency binning\")\n",
        "equifreq(data, m)"
      ]
    },
    {
      "cell_type": "markdown",
      "source": [
        "## Bin using cut"
      ],
      "metadata": {
        "id": "nmms0qnvCTnl"
      },
      "id": "nmms0qnvCTnl"
    },
    {
      "cell_type": "code",
      "source": [
        "import pandas as pd\n",
        "\n",
        "data = [5, 10, 11, 13, 15, 35, 50, 55, 72, 92, 204, 215]\n",
        "\n",
        "df = pd.DataFrame({'num': data})\n",
        "\n",
        "df['Example_Bin'] = pd.cut(df['num'],\n",
        "                       bins=[0, 25, 50, 75, 100, 125, 150, 175, 200, 225],\n",
        "                       labels=['0-25', '25-50', '50-75', '75-100', '100-125', '125-150', '150-175','175-200','200+'])\n",
        "\n",
        "print(df)\n"
      ],
      "metadata": {
        "colab": {
          "base_uri": "https://localhost:8080/"
        },
        "id": "wCUkVlhKBuUW",
        "outputId": "42ca2926-b900-4466-ae22-6783cccd7361"
      },
      "id": "wCUkVlhKBuUW",
      "execution_count": 87,
      "outputs": [
        {
          "output_type": "stream",
          "name": "stdout",
          "text": [
            "    num Example_Bin\n",
            "0     5        0-25\n",
            "1    10        0-25\n",
            "2    11        0-25\n",
            "3    13        0-25\n",
            "4    15        0-25\n",
            "5    35       25-50\n",
            "6    50       25-50\n",
            "7    55       50-75\n",
            "8    72       50-75\n",
            "9    92      75-100\n",
            "10  204        200+\n",
            "11  215        200+\n"
          ]
        }
      ]
    },
    {
      "cell_type": "markdown",
      "source": [
        "## Age DataSet - Equal frequency binning"
      ],
      "metadata": {
        "id": "KzJuEz70Bhr-"
      },
      "id": "KzJuEz70Bhr-"
    },
    {
      "cell_type": "code",
      "source": [
        "import pandas as pd\n",
        "\n",
        "def equifreq(arr1, m):\n",
        "    a = len(arr1)\n",
        "    n = int(a / m)\n",
        "    for i in range(0, m):\n",
        "        arr = []\n",
        "        for j in range(i * n, (i + 1) * n):\n",
        "            if j >= a:\n",
        "                break\n",
        "            arr = arr + [arr1[j]]\n",
        "        print(\"Bin\", i+1, \":\", arr)\n",
        "\n",
        "data = pd.read_excel('/age.xlsx')\n",
        "\n",
        "print(\"Equal frequency binning for Age\")\n",
        "equifreq(data['age'], 5)\n"
      ],
      "metadata": {
        "colab": {
          "base_uri": "https://localhost:8080/"
        },
        "id": "dkjeXCWOwGhq",
        "outputId": "71ddd6e9-24d7-4538-eba5-88ffc49a9bfa"
      },
      "id": "dkjeXCWOwGhq",
      "execution_count": 37,
      "outputs": [
        {
          "output_type": "stream",
          "name": "stdout",
          "text": [
            "Equal frequency binning for Age\n",
            "Bin 1 : [33, 33, 13, 15, 35]\n",
            "Bin 2 : [35, 35, 35, 16, 16]\n",
            "Bin 3 : [19, 20, 20, 36, 40]\n",
            "Bin 4 : [41, 22, 22, 45, 46]\n",
            "Bin 5 : [25, 25, 25, 25, 52]\n"
          ]
        }
      ]
    },
    {
      "cell_type": "markdown",
      "source": [
        "## Age DataSet - Bin using cut"
      ],
      "metadata": {
        "id": "b35hmfAgBdBB"
      },
      "id": "b35hmfAgBdBB"
    },
    {
      "cell_type": "code",
      "execution_count": 41,
      "id": "b2a989f3",
      "metadata": {
        "id": "b2a989f3",
        "outputId": "7af2581f-b83a-4116-9742-97e473e53d02",
        "colab": {
          "base_uri": "https://localhost:8080/"
        }
      },
      "outputs": [
        {
          "output_type": "stream",
          "name": "stdout",
          "text": [
            "   age Age_Bin\n",
            "0   33   25-35\n",
            "1   33   25-35\n",
            "2   13    0-18\n",
            "3   15    0-18\n",
            "4   35   25-35\n"
          ]
        }
      ],
      "source": [
        "import pandas as pd\n",
        "\n",
        "data = pd.read_excel('/age.xlsx')\n",
        "\n",
        "data['Age_Bin'] = pd.cut(data['age'],\n",
        "bins=[0, 18, 25, 35, 50, 65, 100],\n",
        "labels=['0-18','18-25','25-35','35-50','50-65','65+'])\n",
        "\n",
        "print(data.head())"
      ]
    },
    {
      "cell_type": "markdown",
      "source": [
        "## Iris DataSet - Equal frequency binning"
      ],
      "metadata": {
        "id": "NAlkqhinuihV"
      },
      "id": "NAlkqhinuihV"
    },
    {
      "cell_type": "code",
      "source": [
        "import pandas as pd\n",
        "\n",
        "def equifreq(arr1, m):\n",
        "    a = len(arr1)\n",
        "    n = int(a / m)\n",
        "    for i in range(0, m):\n",
        "        arr = []\n",
        "        for j in range(i * n, (i + 1) * n):\n",
        "            if j >= a:\n",
        "                break\n",
        "            arr = arr + [arr1[j]]\n",
        "        print(\"Bin\", i+1, \":\", arr)\n",
        "\n",
        "data = pd.read_excel('/iris.xlsx')\n",
        "\n",
        "print(\"Equal frequency binning for sepal_length\")\n",
        "equifreq(data['sepal_length'], 15)\n"
      ],
      "metadata": {
        "colab": {
          "base_uri": "https://localhost:8080/"
        },
        "id": "oJ4NQd2uutWG",
        "outputId": "2cfd4ef0-fc0c-4482-d0f1-e2bc5252453e"
      },
      "id": "oJ4NQd2uutWG",
      "execution_count": 30,
      "outputs": [
        {
          "output_type": "stream",
          "name": "stdout",
          "text": [
            "Equal frequency binning for sepal_length\n",
            "Bin 1 : [5.1, 4.9, 4.7, 4.6, 5.0, 5.4, 4.6, 5.0, 4.4, 4.9]\n",
            "Bin 2 : [5.4, 4.8, 4.8, 4.3, 5.8, 5.7, 5.4, 5.1, 5.7, 5.1]\n",
            "Bin 3 : [5.4, 5.1, 4.6, 5.1, 4.8, 5.0, 5.0, 5.2, 5.2, 4.7]\n",
            "Bin 4 : [4.8, 5.4, 5.2, 5.5, 4.9, 5.0, 5.5, 4.9, 4.4, 5.1]\n",
            "Bin 5 : [5.0, 4.5, 4.4, 5.0, 5.1, 4.8, 5.1, 4.6, 5.3, 5.0]\n",
            "Bin 6 : [7.0, 6.4, 6.9, 5.5, 6.5, 5.7, 6.3, 4.9, 6.6, 5.2]\n",
            "Bin 7 : [5.0, 5.9, 6.0, 6.1, 5.6, 6.7, 5.6, 5.8, 6.2, 5.6]\n",
            "Bin 8 : [5.9, 6.1, 6.3, 6.1, 6.4, 6.6, 6.8, 6.7, 6.0, 5.7]\n",
            "Bin 9 : [5.5, 5.5, 5.8, 6.0, 5.4, 6.0, 6.7, 6.3, 5.6, 5.5]\n",
            "Bin 10 : [5.5, 6.1, 5.8, 5.0, 5.6, 5.7, 5.7, 6.2, 5.1, 5.7]\n",
            "Bin 11 : [6.3, 5.8, 7.1, 6.3, 6.5, 7.6, 4.9, 7.3, 6.7, 7.2]\n",
            "Bin 12 : [6.5, 6.4, 6.8, 5.7, 5.8, 6.4, 6.5, 7.7, 7.7, 6.0]\n",
            "Bin 13 : [6.9, 5.6, 7.7, 6.3, 6.7, 7.2, 6.2, 6.1, 6.4, 7.2]\n",
            "Bin 14 : [7.4, 7.9, 6.4, 6.3, 6.1, 7.7, 6.3, 6.4, 6.0, 6.9]\n",
            "Bin 15 : [6.7, 6.9, 5.8, 6.8, 6.7, 6.7, 6.3, 6.5, 6.2, 5.9]\n"
          ]
        }
      ]
    },
    {
      "cell_type": "code",
      "source": [
        "import pandas as pd\n",
        "\n",
        "def equifreq(arr1, m):\n",
        "    a = len(arr1)\n",
        "    n = int(a / m)\n",
        "    for i in range(0, m):\n",
        "        arr = []\n",
        "        for j in range(i * n, (i + 1) * n):\n",
        "            if j >= a:\n",
        "                break\n",
        "            arr = arr + [arr1[j]]\n",
        "        print(\"Bin\", i+1, \":\", arr)\n",
        "\n",
        "data = pd.read_excel('/iris.xlsx')\n",
        "\n",
        "print(\"Equal frequency binning for sepal_width\")\n",
        "equifreq(data['sepal_width'], 15)\n"
      ],
      "metadata": {
        "colab": {
          "base_uri": "https://localhost:8080/"
        },
        "id": "L6GylUrZvOUR",
        "outputId": "0495f804-72c1-4bf4-c3ee-e2cb7030bdb8"
      },
      "id": "L6GylUrZvOUR",
      "execution_count": 29,
      "outputs": [
        {
          "output_type": "stream",
          "name": "stdout",
          "text": [
            "Equal frequency binning for sepal_width\n",
            "Bin 1 : [3.5, 3.0, 3.2, 3.1, 3.6, 3.9, 3.4, 3.4, 2.9, 3.1]\n",
            "Bin 2 : [3.7, 3.4, 3.0, 3.0, 4.0, 4.4, 3.9, 3.5, 3.8, 3.8]\n",
            "Bin 3 : [3.4, 3.7, 3.6, 3.3, 3.4, 3.0, 3.4, 3.5, 3.4, 3.2]\n",
            "Bin 4 : [3.1, 3.4, 4.1, 4.2, 3.1, 3.2, 3.5, 3.1, 3.0, 3.4]\n",
            "Bin 5 : [3.5, 2.3, 3.2, 3.5, 3.8, 3.0, 3.8, 3.2, 3.7, 3.3]\n",
            "Bin 6 : [3.2, 3.2, 3.1, 2.3, 2.8, 2.8, 3.3, 2.4, 2.9, 2.7]\n",
            "Bin 7 : [2.0, 3.0, 2.2, 2.9, 2.9, 3.1, 3.0, 2.7, 2.2, 2.5]\n",
            "Bin 8 : [3.2, 2.8, 2.5, 2.8, 2.9, 3.0, 2.8, 3.0, 2.9, 2.6]\n",
            "Bin 9 : [2.4, 2.4, 2.7, 2.7, 3.0, 3.4, 3.1, 2.3, 3.0, 2.5]\n",
            "Bin 10 : [2.6, 3.0, 2.6, 2.3, 2.7, 3.0, 2.9, 2.9, 2.5, 2.8]\n",
            "Bin 11 : [3.3, 2.7, 3.0, 2.9, 3.0, 3.0, 2.5, 2.9, 2.5, 3.6]\n",
            "Bin 12 : [3.2, 2.7, 3.0, 2.5, 2.8, 3.2, 3.0, 3.8, 2.6, 2.2]\n",
            "Bin 13 : [3.2, 2.8, 2.8, 2.7, 3.3, 3.2, 2.8, 3.0, 2.8, 3.0]\n",
            "Bin 14 : [2.8, 3.8, 2.8, 2.8, 2.6, 3.0, 3.4, 3.1, 3.0, 3.1]\n",
            "Bin 15 : [3.1, 3.1, 2.7, 3.2, 3.3, 3.0, 2.5, 3.0, 3.4, 3.0]\n"
          ]
        }
      ]
    },
    {
      "cell_type": "code",
      "source": [
        "import pandas as pd\n",
        "\n",
        "def equifreq(arr1, m):\n",
        "    a = len(arr1)\n",
        "    n = int(a / m)\n",
        "    for i in range(0, m):\n",
        "        arr = []\n",
        "        for j in range(i * n, (i + 1) * n):\n",
        "            if j >= a:\n",
        "                break\n",
        "            arr = arr + [arr1[j]]\n",
        "            arr = arr + [arr1[j]]\n",
        "        print(\"Bin\", i+1, \":\", arr)\n",
        "\n",
        "data = pd.read_excel('/iris.xlsx')\n",
        "\n",
        "print(\"Equal frequency binning for petal_length\")\n",
        "equifreq(data['petal_length'], 15)\n"
      ],
      "metadata": {
        "colab": {
          "base_uri": "https://localhost:8080/"
        },
        "id": "1KhSniyYvsDv",
        "outputId": "16432443-fbac-4ab8-ff4d-b2e372bcc668"
      },
      "id": "1KhSniyYvsDv",
      "execution_count": 27,
      "outputs": [
        {
          "output_type": "stream",
          "name": "stdout",
          "text": [
            "Equal frequency binning for petal_length\n",
            "Bin 1 : [1.4, 1.4, 1.4, 1.4, 1.3, 1.3, 1.5, 1.5, 1.4, 1.4, 1.7, 1.7, 1.4, 1.4, 1.5, 1.5, 1.4, 1.4, 1.5, 1.5]\n",
            "Bin 2 : [1.5, 1.5, 1.6, 1.6, 1.4, 1.4, 1.1, 1.1, 1.2, 1.2, 1.5, 1.5, 1.3, 1.3, 1.4, 1.4, 1.7, 1.7, 1.5, 1.5]\n",
            "Bin 3 : [1.7, 1.7, 1.5, 1.5, 1.0, 1.0, 1.7, 1.7, 1.9, 1.9, 1.6, 1.6, 1.6, 1.6, 1.5, 1.5, 1.4, 1.4, 1.6, 1.6]\n",
            "Bin 4 : [1.6, 1.6, 1.5, 1.5, 1.5, 1.5, 1.4, 1.4, 1.5, 1.5, 1.2, 1.2, 1.3, 1.3, 1.5, 1.5, 1.3, 1.3, 1.5, 1.5]\n",
            "Bin 5 : [1.3, 1.3, 1.3, 1.3, 1.3, 1.3, 1.6, 1.6, 1.9, 1.9, 1.4, 1.4, 1.6, 1.6, 1.4, 1.4, 1.5, 1.5, 1.4, 1.4]\n",
            "Bin 6 : [4.7, 4.7, 4.5, 4.5, 4.9, 4.9, 4.0, 4.0, 4.6, 4.6, 4.5, 4.5, 4.7, 4.7, 3.3, 3.3, 4.6, 4.6, 3.9, 3.9]\n",
            "Bin 7 : [3.5, 3.5, 4.2, 4.2, 4.0, 4.0, 4.7, 4.7, 3.6, 3.6, 4.4, 4.4, 4.5, 4.5, 4.1, 4.1, 4.5, 4.5, 3.9, 3.9]\n",
            "Bin 8 : [4.8, 4.8, 4.0, 4.0, 4.9, 4.9, 4.7, 4.7, 4.3, 4.3, 4.4, 4.4, 4.8, 4.8, 5.0, 5.0, 4.5, 4.5, 3.5, 3.5]\n",
            "Bin 9 : [3.8, 3.8, 3.7, 3.7, 3.9, 3.9, 5.1, 5.1, 4.5, 4.5, 4.5, 4.5, 4.7, 4.7, 4.4, 4.4, 4.1, 4.1, 4.0, 4.0]\n",
            "Bin 10 : [4.4, 4.4, 4.6, 4.6, 4.0, 4.0, 3.3, 3.3, 4.2, 4.2, 4.2, 4.2, 4.2, 4.2, 4.3, 4.3, 3.0, 3.0, 4.1, 4.1]\n",
            "Bin 11 : [6.0, 6.0, 5.1, 5.1, 5.9, 5.9, 5.6, 5.6, 5.8, 5.8, 6.6, 6.6, 4.5, 4.5, 6.3, 6.3, 5.8, 5.8, 6.1, 6.1]\n",
            "Bin 12 : [5.1, 5.1, 5.3, 5.3, 5.5, 5.5, 5.0, 5.0, 5.1, 5.1, 5.3, 5.3, 5.5, 5.5, 6.7, 6.7, 6.9, 6.9, 5.0, 5.0]\n",
            "Bin 13 : [5.7, 5.7, 4.9, 4.9, 6.7, 6.7, 4.9, 4.9, 5.7, 5.7, 6.0, 6.0, 4.8, 4.8, 4.9, 4.9, 5.6, 5.6, 5.8, 5.8]\n",
            "Bin 14 : [6.1, 6.1, 6.4, 6.4, 5.6, 5.6, 5.1, 5.1, 5.6, 5.6, 6.1, 6.1, 5.6, 5.6, 5.5, 5.5, 4.8, 4.8, 5.4, 5.4]\n",
            "Bin 15 : [5.6, 5.6, 5.1, 5.1, 5.1, 5.1, 5.9, 5.9, 5.7, 5.7, 5.2, 5.2, 5.0, 5.0, 5.2, 5.2, 5.4, 5.4, 5.1, 5.1]\n"
          ]
        }
      ]
    },
    {
      "cell_type": "code",
      "source": [
        "import pandas as pd\n",
        "\n",
        "def equifreq(arr1, m):\n",
        "    a = len(arr1)\n",
        "    n = int(a / m)\n",
        "    for i in range(0, m):\n",
        "        arr = []\n",
        "        for j in range(i * n, (i + 1) * n):\n",
        "            if j >= a:\n",
        "                break\n",
        "            arr = arr + [arr1[j]]\n",
        "        print(\"Bin\", i+1, \":\", arr)\n",
        "\n",
        "data = pd.read_excel('/iris.xlsx')\n",
        "\n",
        "print(\"Equal frequency binning for petal_width\")\n",
        "equifreq(data['petal_width'], 15)\n"
      ],
      "metadata": {
        "colab": {
          "base_uri": "https://localhost:8080/"
        },
        "id": "9BKLTRpDvs_M",
        "outputId": "4cd519fd-3d12-448a-de49-49da87cfdedf"
      },
      "id": "9BKLTRpDvs_M",
      "execution_count": 28,
      "outputs": [
        {
          "output_type": "stream",
          "name": "stdout",
          "text": [
            "Equal frequency binning for petal_width\n",
            "Bin 1 : [0.2, 0.2, 0.2, 0.2, 0.2, 0.4, 0.3, 0.2, 0.2, 0.1]\n",
            "Bin 2 : [0.2, 0.2, 0.1, 0.1, 0.2, 0.4, 0.4, 0.3, 0.3, 0.3]\n",
            "Bin 3 : [0.2, 0.4, 0.2, 0.5, 0.2, 0.2, 0.4, 0.2, 0.2, 0.2]\n",
            "Bin 4 : [0.2, 0.4, 0.1, 0.2, 0.1, 0.2, 0.2, 0.1, 0.2, 0.2]\n",
            "Bin 5 : [0.3, 0.3, 0.2, 0.6, 0.4, 0.3, 0.2, 0.2, 0.2, 0.2]\n",
            "Bin 6 : [1.4, 1.5, 1.5, 1.3, 1.5, 1.3, 1.6, 1.0, 1.3, 1.4]\n",
            "Bin 7 : [1.0, 1.5, 1.0, 1.4, 1.3, 1.4, 1.5, 1.0, 1.5, 1.1]\n",
            "Bin 8 : [1.8, 1.3, 1.5, 1.2, 1.3, 1.4, 1.4, 1.7, 1.5, 1.0]\n",
            "Bin 9 : [1.1, 1.0, 1.2, 1.6, 1.5, 1.6, 1.5, 1.3, 1.3, 1.3]\n",
            "Bin 10 : [1.2, 1.4, 1.2, 1.0, 1.3, 1.2, 1.3, 1.3, 1.1, 1.3]\n",
            "Bin 11 : [2.5, 1.9, 2.1, 1.8, 2.2, 2.1, 1.7, 1.8, 1.8, 2.5]\n",
            "Bin 12 : [2.0, 1.9, 2.1, 2.0, 2.4, 2.3, 1.8, 2.2, 2.3, 1.5]\n",
            "Bin 13 : [2.3, 2.0, 2.0, 1.8, 2.1, 1.8, 1.8, 1.8, 2.1, 1.6]\n",
            "Bin 14 : [1.9, 2.0, 2.2, 1.5, 1.4, 2.3, 2.4, 1.8, 1.8, 2.1]\n",
            "Bin 15 : [2.4, 2.3, 1.9, 2.3, 2.5, 2.3, 1.9, 2.0, 2.3, 1.8]\n"
          ]
        }
      ]
    },
    {
      "cell_type": "markdown",
      "source": [
        "## Iris DataSet - Bin using cut"
      ],
      "metadata": {
        "id": "xSjTasuduOFY"
      },
      "id": "xSjTasuduOFY"
    },
    {
      "cell_type": "code",
      "execution_count": 24,
      "id": "a576a6a1",
      "metadata": {
        "id": "a576a6a1",
        "outputId": "1e91673a-b055-4b66-9e3b-d18ebfb2813e",
        "colab": {
          "base_uri": "https://localhost:8080/"
        }
      },
      "outputs": [
        {
          "output_type": "stream",
          "name": "stdout",
          "text": [
            "     sepal_length sepal_bin\n",
            "0             5.1   5.0-5.5\n",
            "1             4.9   4.5-5.0\n",
            "2             4.7   4.5-5.0\n",
            "3             4.6   4.5-5.0\n",
            "4             5.0   4.5-5.0\n",
            "..            ...       ...\n",
            "145           6.7  6.5S-7.0\n",
            "146           6.3   6.0-6.5\n",
            "147           6.5   6.0-6.5\n",
            "148           6.2   6.0-6.5\n",
            "149           5.9   5.5-6.0\n",
            "\n",
            "[150 rows x 2 columns]\n"
          ]
        }
      ],
      "source": [
        "import pandas as pd\n",
        "\n",
        "data = pd.read_excel('/iris.xlsx')\n",
        "\n",
        "data['sepal_bin'] = pd.cut(data['sepal_length'],\n",
        "bins=[4.5, 5.0, 5.5, 6.0, 6.5, 7.0, 7.5],\n",
        "labels=['4.5-5.0','5.0-5.5','5.5-6.0','6.0-6.5','6.5S-7.0','7.0+'])\n",
        "\n",
        "print(data[['sepal_length', 'sepal_bin']])"
      ]
    },
    {
      "cell_type": "code",
      "execution_count": 23,
      "id": "74ad0e99",
      "metadata": {
        "id": "74ad0e99",
        "outputId": "b846d8f6-ef2f-4c24-fd15-e1e4b0d596be",
        "colab": {
          "base_uri": "https://localhost:8080/"
        }
      },
      "outputs": [
        {
          "output_type": "stream",
          "name": "stdout",
          "text": [
            "     sepal_width sepal_bin\n",
            "0            3.5   3.0-3.5\n",
            "1            3.0   2.5-3.0\n",
            "2            3.2   3.0-3.5\n",
            "3            3.1   3.0-3.5\n",
            "4            3.6   3.5-4.0\n",
            "..           ...       ...\n",
            "145          3.0   2.5-3.0\n",
            "146          2.5   2.0-2.5\n",
            "147          3.0   2.5-3.0\n",
            "148          3.4   3.0-3.5\n",
            "149          3.0   2.5-3.0\n",
            "\n",
            "[150 rows x 2 columns]\n"
          ]
        }
      ],
      "source": [
        "import pandas as pd\n",
        "\n",
        "data = pd.read_excel('/iris.xlsx')\n",
        "\n",
        "data['sepal_bin'] = pd.cut(data['sepal_width'],\n",
        "bins=[1.5, 2.0, 2.5, 3.0, 3.5, 4.0, 4.5],\n",
        "labels=['1.5-2.0','2.0-2.5','2.5-3.0','3.0-3.5','3.5-4.0','4.0+'])\n",
        "\n",
        "print(data[['sepal_width', 'sepal_bin']])"
      ]
    },
    {
      "cell_type": "code",
      "execution_count": 21,
      "id": "2c2c7390",
      "metadata": {
        "id": "2c2c7390",
        "outputId": "1c435fac-ceea-405c-87a5-969d36cfa436",
        "colab": {
          "base_uri": "https://localhost:8080/"
        }
      },
      "outputs": [
        {
          "output_type": "stream",
          "name": "stdout",
          "text": [
            "     petal_length sepal_bin\n",
            "0             1.4   1.0-1.5\n",
            "1             1.4   1.0-1.5\n",
            "2             1.3   1.0-1.5\n",
            "3             1.5   1.0-1.5\n",
            "4             1.4   1.0-1.5\n",
            "..            ...       ...\n",
            "145           5.2   5.0-5.5\n",
            "146           5.0   4.5-5.0\n",
            "147           5.2   5.0-5.5\n",
            "148           5.4   5.0-5.5\n",
            "149           5.1   5.0-5.5\n",
            "\n",
            "[150 rows x 2 columns]\n"
          ]
        }
      ],
      "source": [
        "import pandas as pd\n",
        "\n",
        "data = pd.read_excel('/iris.xlsx')\n",
        "\n",
        "data['sepal_bin'] = pd.cut(data['petal_length'],\n",
        "bins=[1.0, 1.5, 2.0, 2.5, 3.0, 3.5, 4.0, 4.5, 5.0, 5.5, 6.0],\n",
        "labels=['1.0-1.5','1.5-2.0','2.0-2.5','2.5-3.0','3.0-3.5','3.5-4.0','4.0-4.5','4.5-5.0','5.0-5.5','5.5+'])\n",
        "\n",
        "print(data[['petal_length', 'sepal_bin']])"
      ]
    },
    {
      "cell_type": "code",
      "execution_count": 20,
      "id": "82dd7823",
      "metadata": {
        "id": "82dd7823",
        "outputId": "0475de53-848b-4324-e52d-75a00be5485e",
        "colab": {
          "base_uri": "https://localhost:8080/"
        }
      },
      "outputs": [
        {
          "output_type": "stream",
          "name": "stdout",
          "text": [
            "     petal_width sepal_bin\n",
            "0            0.2   0.0-0.5\n",
            "1            0.2   0.0-0.5\n",
            "2            0.2   0.0-0.5\n",
            "3            0.2   0.0-0.5\n",
            "4            0.2   0.0-0.5\n",
            "..           ...       ...\n",
            "145          2.3   2.0-2.5\n",
            "146          1.9   1.5-2.0\n",
            "147          2.0   1.5-2.0\n",
            "148          2.3   2.0-2.5\n",
            "149          1.8   1.5-2.0\n",
            "\n",
            "[150 rows x 2 columns]\n"
          ]
        }
      ],
      "source": [
        "import pandas as pd\n",
        "\n",
        "data = pd.read_excel('/iris.xlsx')\n",
        "\n",
        "data['sepal_bin'] = pd.cut(data['petal_width'],\n",
        "bins = [0.0, 0.5, 1.0, 1.5, 2.0, 2.5, 3.0, 3.5],\n",
        "labels = ['0.0-0.5','0.5-1.0','1.0-1.5','1.5-2.0','2.0-2.5','2.5-3.0','3.0+'])\n",
        "\n",
        "print(data[['petal_width','sepal_bin']])"
      ]
    },
    {
      "cell_type": "markdown",
      "source": [
        "# LAB 04 - 13 Feb 2024"
      ],
      "metadata": {
        "id": "hiKuJomt0TTS"
      },
      "id": "hiKuJomt0TTS"
    },
    {
      "cell_type": "markdown",
      "source": [
        "## Sorting"
      ],
      "metadata": {
        "id": "MDX5cVwyb0NK"
      },
      "id": "MDX5cVwyb0NK"
    },
    {
      "cell_type": "code",
      "source": [
        "import pandas as pd\n",
        "\n",
        "d = pd.read_excel('/iris.xlsx')\n",
        "\n",
        "print(\"Original DataFrame:\")\n",
        "print(d)\n",
        "\n",
        "for col in d.columns:\n",
        "    sorted_col = d[col].sort_values()\n",
        "\n",
        "    print(\"\\nSorted column\", col, \":\")\n",
        "    print(sorted_col)\n"
      ],
      "metadata": {
        "id": "pXzkuWRb_x85",
        "colab": {
          "base_uri": "https://localhost:8080/"
        },
        "outputId": "073a90c9-de0f-4788-992a-97b4bd44372f"
      },
      "id": "pXzkuWRb_x85",
      "execution_count": 19,
      "outputs": [
        {
          "output_type": "stream",
          "name": "stdout",
          "text": [
            "Original DataFrame:\n",
            "     sepal_length  sepal_width  petal_length  petal_width    species\n",
            "0             5.1          3.5           1.4          0.2     setosa\n",
            "1             4.9          3.0           1.4          0.2     setosa\n",
            "2             4.7          3.2           1.3          0.2     setosa\n",
            "3             4.6          3.1           1.5          0.2     setosa\n",
            "4             5.0          3.6           1.4          0.2     setosa\n",
            "..            ...          ...           ...          ...        ...\n",
            "145           6.7          3.0           5.2          2.3  virginica\n",
            "146           6.3          2.5           5.0          1.9  virginica\n",
            "147           6.5          3.0           5.2          2.0  virginica\n",
            "148           6.2          3.4           5.4          2.3  virginica\n",
            "149           5.9          3.0           5.1          1.8  virginica\n",
            "\n",
            "[150 rows x 5 columns]\n",
            "\n",
            "Sorted column sepal_length :\n",
            "13     4.3\n",
            "42     4.4\n",
            "38     4.4\n",
            "8      4.4\n",
            "41     4.5\n",
            "      ... \n",
            "122    7.7\n",
            "118    7.7\n",
            "117    7.7\n",
            "135    7.7\n",
            "131    7.9\n",
            "Name: sepal_length, Length: 150, dtype: float64\n",
            "\n",
            "Sorted column sepal_width :\n",
            "60     2.0\n",
            "62     2.2\n",
            "119    2.2\n",
            "68     2.2\n",
            "41     2.3\n",
            "      ... \n",
            "16     3.9\n",
            "14     4.0\n",
            "32     4.1\n",
            "33     4.2\n",
            "15     4.4\n",
            "Name: sepal_width, Length: 150, dtype: float64\n",
            "\n",
            "Sorted column petal_length :\n",
            "22     1.0\n",
            "13     1.1\n",
            "14     1.2\n",
            "35     1.2\n",
            "36     1.3\n",
            "      ... \n",
            "131    6.4\n",
            "105    6.6\n",
            "117    6.7\n",
            "122    6.7\n",
            "118    6.9\n",
            "Name: petal_length, Length: 150, dtype: float64\n",
            "\n",
            "Sorted column petal_width :\n",
            "32     0.1\n",
            "13     0.1\n",
            "37     0.1\n",
            "9      0.1\n",
            "12     0.1\n",
            "      ... \n",
            "140    2.4\n",
            "114    2.4\n",
            "100    2.5\n",
            "144    2.5\n",
            "109    2.5\n",
            "Name: petal_width, Length: 150, dtype: float64\n",
            "\n",
            "Sorted column species :\n",
            "0         setosa\n",
            "27        setosa\n",
            "28        setosa\n",
            "29        setosa\n",
            "30        setosa\n",
            "         ...    \n",
            "119    virginica\n",
            "120    virginica\n",
            "121    virginica\n",
            "111    virginica\n",
            "149    virginica\n",
            "Name: species, Length: 150, dtype: object\n"
          ]
        }
      ]
    },
    {
      "cell_type": "markdown",
      "source": [
        "## Bin Mean"
      ],
      "metadata": {
        "id": "pGsGOLbfNsGu"
      },
      "id": "pGsGOLbfNsGu"
    },
    {
      "cell_type": "code",
      "source": [
        "import numpy as np\n",
        "import pandas as pd\n",
        "\n",
        "df = pd.read_excel('/age.xlsx')\n",
        "t = df.to_numpy()\n",
        "\n",
        "print(\"Length of array t:\", len(t))\n",
        "\n",
        "bin1 = np.zeros((3, 9))\n",
        "bin2 = np.zeros((3, 9))\n",
        "bin3 = np.zeros((3, 9))\n",
        "\n",
        "t_sorted = np.sort(t, axis=None)\n",
        "\n",
        "for i in range(0, len(t_sorted), 9):\n",
        "    k = int(i / 9)\n",
        "    mean = np.mean(t_sorted[i:i+9])\n",
        "    for j in range(9):\n",
        "        bin1[k, j] = mean\n",
        "\n",
        "print(\"bin mean=\", bin1)\n"
      ],
      "metadata": {
        "id": "vf633M8sC8Jc",
        "colab": {
          "base_uri": "https://localhost:8080/"
        },
        "outputId": "c913f0f9-1275-44ff-e7f2-eefc55c301a3"
      },
      "id": "vf633M8sC8Jc",
      "execution_count": 18,
      "outputs": [
        {
          "output_type": "stream",
          "name": "stdout",
          "text": [
            "Length of array t: 27\n",
            "bin mean= [[18.11111111 18.11111111 18.11111111 18.11111111 18.11111111 18.11111111\n",
            "  18.11111111 18.11111111 18.11111111]\n",
            " [29.55555556 29.55555556 29.55555556 29.55555556 29.55555556 29.55555556\n",
            "  29.55555556 29.55555556 29.55555556]\n",
            " [44.44444444 44.44444444 44.44444444 44.44444444 44.44444444 44.44444444\n",
            "  44.44444444 44.44444444 44.44444444]]\n"
          ]
        }
      ]
    },
    {
      "cell_type": "markdown",
      "source": [
        "## Bin Mean Boundaries"
      ],
      "metadata": {
        "id": "VRjgNFB8NyzP"
      },
      "id": "VRjgNFB8NyzP"
    },
    {
      "cell_type": "code",
      "source": [
        "import numpy as np\n",
        "import pandas as pd\n",
        "\n",
        "df = pd.read_excel('/age.xlsx')\n",
        "t = df.to_numpy()\n",
        "\n",
        "print(\"Length of array t:\", len(t))\n",
        "\n",
        "bin1 = np.zeros((3, 9))\n",
        "bin2 = np.zeros((3, 9))\n",
        "bin3 = np.zeros((3, 9))\n",
        "\n",
        "t_sorted = np.sort(t, axis=None)\n",
        "\n",
        "for i in range(0, len(t_sorted), 9):\n",
        "    k = int(i / 9)\n",
        "    median = np.median(t_sorted[i:i+9])\n",
        "    for j in range(9):\n",
        "        bin3[k, j] = median\n",
        "\n",
        "print(\"bin boundaries=\", bin3)\n"
      ],
      "metadata": {
        "id": "Uc44ZQNmGigW",
        "colab": {
          "base_uri": "https://localhost:8080/"
        },
        "outputId": "cf6870e8-8133-44c1-bef1-e7c90b0b511c"
      },
      "id": "Uc44ZQNmGigW",
      "execution_count": 16,
      "outputs": [
        {
          "output_type": "stream",
          "name": "stdout",
          "text": [
            "Length of array t: 27\n",
            "bin boundaries= [[19. 19. 19. 19. 19. 19. 19. 19. 19.]\n",
            " [30. 30. 30. 30. 30. 30. 30. 30. 30.]\n",
            " [41. 41. 41. 41. 41. 41. 41. 41. 41.]]\n"
          ]
        }
      ]
    },
    {
      "cell_type": "markdown",
      "source": [
        "## Bin Median"
      ],
      "metadata": {
        "id": "IdGvHDCSOBQ_"
      },
      "id": "IdGvHDCSOBQ_"
    },
    {
      "cell_type": "code",
      "source": [
        "import numpy as np\n",
        "import pandas as pd\n",
        "\n",
        "df = pd.read_excel('/age.xlsx')\n",
        "t = df.to_numpy()\n",
        "\n",
        "print(\"Length of array t:\", len(t))\n",
        "\n",
        "bin1 = np.zeros((3, 9))\n",
        "bin2 = np.zeros((3, 9))\n",
        "bin3 = np.zeros((3, 9))\n",
        "\n",
        "t_sorted = np.sort(t, axis=None)\n",
        "\n",
        "for i in range(0, len(t_sorted), 9):\n",
        "    k = int(i / 9)\n",
        "    median = np.median(t_sorted[i:i+9])\n",
        "    for j in range(9):\n",
        "        bin3[k, j] = median\n",
        "\n",
        "print(\"bin boundaries=\", bin3)\n"
      ],
      "metadata": {
        "colab": {
          "base_uri": "https://localhost:8080/"
        },
        "id": "_p21av3fLCyL",
        "outputId": "b50ab8c9-137f-403b-f31a-cb9ce6d8ffc3"
      },
      "id": "_p21av3fLCyL",
      "execution_count": 14,
      "outputs": [
        {
          "output_type": "stream",
          "name": "stdout",
          "text": [
            "Length of array t: 27\n",
            "bin boundaries= [[19. 19. 19. 19. 19. 19. 19. 19. 19.]\n",
            " [30. 30. 30. 30. 30. 30. 30. 30. 30.]\n",
            " [41. 41. 41. 41. 41. 41. 41. 41. 41.]]\n"
          ]
        }
      ]
    },
    {
      "cell_type": "markdown",
      "source": [
        "## Bin Mean for Iris"
      ],
      "metadata": {
        "id": "4kkLzYahPXLb"
      },
      "id": "4kkLzYahPXLb"
    },
    {
      "cell_type": "markdown",
      "source": [
        "### Bin for Sepal Length"
      ],
      "metadata": {
        "id": "EW63W4G-UUyq"
      },
      "id": "EW63W4G-UUyq"
    },
    {
      "cell_type": "code",
      "source": [
        "import pandas as pd\n",
        "import numpy as np\n",
        "\n",
        "df = pd.read_excel('/iris.xlsx')\n",
        "\n",
        "df_sorted = df.sort_values(by='sepal_length')\n",
        "\n",
        "def equifreq(arr1, m):\n",
        "    a = len(arr1)\n",
        "    n = int(a / m)\n",
        "    bins = []\n",
        "    for i in range(0, m):\n",
        "        arr = []\n",
        "        for j in range(i * n, (i + 1) * n):\n",
        "            if j >= a:\n",
        "                break\n",
        "            arr.append(arr1[j])\n",
        "        bins.append(arr)\n",
        "    return bins\n",
        "\n",
        "print(\"Equal frequency binning for sepal_length\")\n",
        "equi = equifreq(df['sepal_length'], 15)\n",
        "\n",
        "bin_means = []\n",
        "for i in range(len(equi)):\n",
        "    mean = np.mean(equi[i])\n",
        "    bin_means.append(mean)\n",
        "\n",
        "print(\"Means of each bin:\", bin_means)\n"
      ],
      "metadata": {
        "colab": {
          "base_uri": "https://localhost:8080/"
        },
        "id": "7DZX_QkxPcRb",
        "outputId": "9182722e-c3f5-41f0-bcd1-5657b89f4be0"
      },
      "id": "7DZX_QkxPcRb",
      "execution_count": 12,
      "outputs": [
        {
          "output_type": "stream",
          "name": "stdout",
          "text": [
            "Equal frequency binning for sepal_length\n",
            "Means of each bin: [4.859999999999999, 5.21, 5.010000000000001, 5.07, 4.88, 6.1000000000000005, 5.8500000000000005, 6.26, 5.83, 5.640000000000001, 6.57, 6.55, 6.63, 6.74, 6.450000000000001]\n"
          ]
        }
      ]
    },
    {
      "cell_type": "code",
      "source": [
        "import pandas as pd\n",
        "import numpy as np\n",
        "\n",
        "df = pd.read_excel('/iris.xlsx')\n",
        "\n",
        "df_sorted = df.sort_values(by='sepal_length')\n",
        "\n",
        "def equifreq(arr1, m):\n",
        "    a = len(arr1)\n",
        "    n = int(a / m)\n",
        "    bins = []\n",
        "    for i in range(0, m):\n",
        "        arr = []\n",
        "        for j in range(i * n, (i + 1) * n):\n",
        "            if j >= a:\n",
        "                break\n",
        "            arr.append(arr1[j])\n",
        "        bins.append(arr)\n",
        "    return bins\n",
        "\n",
        "print(\"Equal frequency binning for sepal_length\")\n",
        "equi = equifreq(df_sorted['sepal_length'], 15)\n",
        "\n",
        "bin_medians = []\n",
        "for i in range(len(equi)):\n",
        "    median = np.median(equi[i])\n",
        "    bin_medians.append(median)\n",
        "\n",
        "print(\"Medians of each bin:\", bin_medians)\n"
      ],
      "metadata": {
        "id": "uQqMPfZ-Pwly",
        "colab": {
          "base_uri": "https://localhost:8080/"
        },
        "outputId": "14109a87-16bf-48d0-fdb6-56bb2bd5ac89"
      },
      "id": "uQqMPfZ-Pwly",
      "execution_count": 13,
      "outputs": [
        {
          "output_type": "stream",
          "name": "stdout",
          "text": [
            "Equal frequency binning for sepal_length\n",
            "Medians of each bin: [4.9, 5.25, 5.05, 5.05, 5.0, 6.35, 5.85, 6.199999999999999, 5.699999999999999, 5.7, 6.6, 6.45, 6.550000000000001, 6.4, 6.6]\n"
          ]
        }
      ]
    },
    {
      "cell_type": "markdown",
      "source": [
        "### Bin for Sepal width"
      ],
      "metadata": {
        "id": "xx8yb6EBVDr5"
      },
      "id": "xx8yb6EBVDr5"
    },
    {
      "cell_type": "code",
      "source": [
        "import pandas as pd\n",
        "import numpy as np\n",
        "\n",
        "df = pd.read_excel('/iris.xlsx')\n",
        "\n",
        "df_sorted = df.sort_values(by='sepal_width')\n",
        "\n",
        "def equifreq(arr1, m):\n",
        "    a = len(arr1)\n",
        "    n = int(a / m)\n",
        "    bins = []\n",
        "    for i in range(0, m):\n",
        "        arr = []\n",
        "        for j in range(i * n, (i + 1) * n):\n",
        "            if j >= a:\n",
        "                break\n",
        "            arr.append(arr1[j])\n",
        "        bins.append(arr)\n",
        "    return bins\n",
        "\n",
        "print(\"Equal frequency binning for sepal_width\")\n",
        "equi = equifreq(df['sepal_width'], 15)\n",
        "\n",
        "bin_means = []\n",
        "for i in range(len(equi)):\n",
        "    mean = np.mean(equi[i])\n",
        "    bin_means.append(mean)\n",
        "\n",
        "print(\"Means of each bin:\", bin_means)\n"
      ],
      "metadata": {
        "colab": {
          "base_uri": "https://localhost:8080/"
        },
        "id": "aoePjdZKUPKJ",
        "outputId": "c3bf6242-3059-4dcd-a2f2-f3858753432a"
      },
      "id": "aoePjdZKUPKJ",
      "execution_count": 10,
      "outputs": [
        {
          "output_type": "stream",
          "name": "stdout",
          "text": [
            "Equal frequency binning for sepal_width\n",
            "Means of each bin: [3.31, 3.6499999999999995, 3.3899999999999997, 3.41, 3.3299999999999996, 2.87, 2.6499999999999995, 2.85, 2.75, 2.73, 2.9400000000000004, 2.9000000000000004, 2.96, 3.04, 3.0300000000000002]\n"
          ]
        }
      ]
    },
    {
      "cell_type": "code",
      "source": [
        "import pandas as pd\n",
        "import numpy as np\n",
        "\n",
        "df = pd.read_excel('/iris.xlsx')\n",
        "\n",
        "df_sorted = df.sort_values(by='sepal_width')\n",
        "\n",
        "def equifreq(arr1, m):\n",
        "    a = len(arr1)\n",
        "    n = int(a / m)\n",
        "    bins = []\n",
        "    for i in range(0, m):\n",
        "        arr = []\n",
        "        for j in range(i * n, (i + 1) * n):\n",
        "            if j >= a:\n",
        "                break\n",
        "            arr.append(arr1[j])\n",
        "        bins.append(arr)\n",
        "    return bins\n",
        "\n",
        "print(\"Equal frequency binning for sepal_width\")\n",
        "equi = equifreq(df_sorted['sepal_width'], 15)\n",
        "\n",
        "bin_medians = []\n",
        "for i in range(len(equi)):\n",
        "    median = np.median(equi[i])\n",
        "    bin_medians.append(median)\n",
        "\n",
        "print(\"Medians of each bin:\", bin_medians)\n"
      ],
      "metadata": {
        "colab": {
          "base_uri": "https://localhost:8080/"
        },
        "id": "yY9vTd2xVLk4",
        "outputId": "7870cdb2-df3e-493b-cf77-0d7a9fcf9c5a"
      },
      "id": "yY9vTd2xVLk4",
      "execution_count": 11,
      "outputs": [
        {
          "output_type": "stream",
          "name": "stdout",
          "text": [
            "Equal frequency binning for sepal_width\n",
            "Medians of each bin: [3.3, 3.75, 3.4, 3.3, 3.4, 2.8499999999999996, 2.8, 2.8499999999999996, 2.7, 2.75, 2.95, 2.9, 2.9, 3.0, 3.05]\n"
          ]
        }
      ]
    },
    {
      "cell_type": "markdown",
      "source": [
        "### Bin for Petal Length"
      ],
      "metadata": {
        "id": "FD65zK71VV_L"
      },
      "id": "FD65zK71VV_L"
    },
    {
      "cell_type": "code",
      "source": [
        "import pandas as pd\n",
        "import numpy as np\n",
        "\n",
        "df = pd.read_excel('/iris.xlsx')\n",
        "\n",
        "df_sorted = df.sort_values(by='petal_length')\n",
        "\n",
        "def equifreq(arr1, m):\n",
        "    a = len(arr1)\n",
        "    n = int(a / m)\n",
        "    bins = []\n",
        "    for i in range(0, m):\n",
        "        arr = []\n",
        "        for j in range(i * n, (i + 1) * n):\n",
        "            if j >= a:\n",
        "                break\n",
        "            arr.append(arr1[j])\n",
        "        bins.append(arr)\n",
        "    return bins\n",
        "\n",
        "print(\"Equal frequency binning for petal_length\")\n",
        "equi = equifreq(df['petal_length'], 15)\n",
        "\n",
        "bin_means = []\n",
        "for i in range(len(equi)):\n",
        "    mean = np.mean(equi[i])\n",
        "    bin_means.append(mean)\n",
        "\n",
        "print(\"Means of each bin:\", bin_means)\n"
      ],
      "metadata": {
        "colab": {
          "base_uri": "https://localhost:8080/"
        },
        "id": "oCYRBJcoVShX",
        "outputId": "13159449-4ee6-486d-81c7-789cd6d480b6"
      },
      "id": "oCYRBJcoVShX",
      "execution_count": 7,
      "outputs": [
        {
          "output_type": "stream",
          "name": "stdout",
          "text": [
            "Equal frequency binning for petal_length\n",
            "Means of each bin: [1.45, 1.42, 1.55, 1.4300000000000002, 1.4700000000000002, 4.37, 4.14, 4.49, 4.2700000000000005, 4.03, 5.77, 5.54, 5.5, 5.619999999999999, 5.33]\n"
          ]
        }
      ]
    },
    {
      "cell_type": "code",
      "source": [
        "import pandas as pd\n",
        "import numpy as np\n",
        "\n",
        "df = pd.read_excel('/iris.xlsx')\n",
        "\n",
        "df_sorted = df.sort_values(by='petal_length')\n",
        "\n",
        "def equifreq(arr1, m):\n",
        "    a = len(arr1)\n",
        "    n = int(a / m)\n",
        "    bins = []\n",
        "    for i in range(0, m):\n",
        "        arr = []\n",
        "        for j in range(i * n, (i + 1) * n):\n",
        "            if j >= a:\n",
        "                break\n",
        "            arr.append(arr1[j])\n",
        "        bins.append(arr)\n",
        "    return bins\n",
        "\n",
        "print(\"Equal frequency binning for petal_length\")\n",
        "equi = equifreq(df_sorted['petal_length'], 15)\n",
        "\n",
        "bin_medians = []\n",
        "for i in range(len(equi)):\n",
        "    median = np.median(equi[i])\n",
        "    bin_medians.append(median)\n",
        "\n",
        "print(\"Medians of each bin:\", bin_medians)\n"
      ],
      "metadata": {
        "colab": {
          "base_uri": "https://localhost:8080/"
        },
        "id": "VnrH8ZMDVhSi",
        "outputId": "154c07c0-5ca4-44bb-f1bd-20f06bbcf3d4"
      },
      "id": "VnrH8ZMDVhSi",
      "execution_count": 9,
      "outputs": [
        {
          "output_type": "stream",
          "name": "stdout",
          "text": [
            "Equal frequency binning for petal_length\n",
            "Medians of each bin: [1.4, 1.45, 1.6, 1.5, 1.4, 4.55, 4.15, 4.6, 4.25, 4.2, 5.85, 5.3, 5.65, 5.6, 5.2]\n"
          ]
        }
      ]
    },
    {
      "cell_type": "markdown",
      "source": [
        "### Bin for Petal Width"
      ],
      "metadata": {
        "id": "zrMfrN0XV_iz"
      },
      "id": "zrMfrN0XV_iz"
    },
    {
      "cell_type": "code",
      "source": [
        "import pandas as pd\n",
        "import numpy as np\n",
        "\n",
        "df = pd.read_excel('/iris.xlsx')\n",
        "\n",
        "df_sorted = df.sort_values(by='petal_width')\n",
        "\n",
        "def equifreq(arr1, m):\n",
        "    a = len(arr1)\n",
        "    n = int(a / m)\n",
        "    bins = []\n",
        "    for i in range(0, m):\n",
        "        arr = []\n",
        "        for j in range(i * n, (i + 1) * n):\n",
        "            if j >= a:\n",
        "                break\n",
        "            arr.append(arr1[j])\n",
        "        bins.append(arr)\n",
        "    return bins\n",
        "\n",
        "print(\"Equal frequency binning for petal_width\")\n",
        "equi = equifreq(df['petal_width'], 15)\n",
        "\n",
        "bin_means = []\n",
        "for i in range(len(equi)):\n",
        "    mean = np.mean(equi[i])\n",
        "    bin_means.append(mean)\n",
        "\n",
        "print(\"Means of each bin:\", bin_means)\n"
      ],
      "metadata": {
        "colab": {
          "base_uri": "https://localhost:8080/"
        },
        "id": "j4o5O_BeVpPX",
        "outputId": "28e14fb6-e867-4d29-bc59-080009562b72"
      },
      "id": "j4o5O_BeVpPX",
      "execution_count": 6,
      "outputs": [
        {
          "output_type": "stream",
          "name": "stdout",
          "text": [
            "Equal frequency binning for petal_width\n",
            "Means of each bin: [0.22000000000000003, 0.25, 0.27, 0.19, 0.29000000000000004, 1.3800000000000001, 1.27, 1.4100000000000001, 1.3400000000000003, 1.23, 2.04, 2.05, 1.9300000000000002, 1.9400000000000002, 2.17]\n"
          ]
        }
      ]
    },
    {
      "cell_type": "code",
      "source": [
        "import pandas as pd\n",
        "import numpy as np\n",
        "\n",
        "df = pd.read_excel('/iris.xlsx')\n",
        "\n",
        "df_sorted = df.sort_values(by='petal_width')\n",
        "\n",
        "def equifreq(arr1, m):\n",
        "    a = len(arr1)\n",
        "    n = int(a / m)\n",
        "    bins = []\n",
        "    for i in range(0, m):\n",
        "        arr = []\n",
        "        for j in range(i * n, (i + 1) * n):\n",
        "            if j >= a:\n",
        "                break\n",
        "            arr.append(arr1[j])\n",
        "        bins.append(arr)\n",
        "    return bins\n",
        "\n",
        "print(\"Equal frequency binning for petal_width\")\n",
        "equi = equifreq(df_sorted['petal_width'], 15)\n",
        "\n",
        "bin_medians = []\n",
        "for i in range(len(equi)):\n",
        "    median = np.median(equi[i])\n",
        "    bin_medians.append(median)\n",
        "\n",
        "print(\"Medians of each bin:\", bin_medians)\n"
      ],
      "metadata": {
        "colab": {
          "base_uri": "https://localhost:8080/"
        },
        "id": "eGd5StvcWVnW",
        "outputId": "c714a5a7-37dc-4794-bf31-5b5d90cad00e"
      },
      "id": "eGd5StvcWVnW",
      "execution_count": 5,
      "outputs": [
        {
          "output_type": "stream",
          "name": "stdout",
          "text": [
            "Equal frequency binning for petal_width\n",
            "Medians of each bin: [0.2, 0.25, 0.2, 0.2, 0.25, 1.4, 1.35, 1.4, 1.3, 1.25, 2.0, 2.05, 1.9, 1.95, 2.3]\n"
          ]
        }
      ]
    }
  ],
  "metadata": {
    "kernelspec": {
      "display_name": "Python 3",
      "language": "python",
      "name": "python3"
    },
    "language_info": {
      "codemirror_mode": {
        "name": "ipython",
        "version": 3
      },
      "file_extension": ".py",
      "mimetype": "text/x-python",
      "name": "python",
      "nbconvert_exporter": "python",
      "pygments_lexer": "ipython3",
      "version": "3.8.8"
    },
    "colab": {
      "provenance": [],
      "collapsed_sections": [
        "PXJ1C2hQoMG9",
        "nBLeo5UWOReG",
        "upd5HNGcOUmt",
        "qb35T9KWOYY_",
        "Vh3EBTiOObr-",
        "qjniW1TBOdzG",
        "gytt5l9gOf6e",
        "5AktvqpAOidN",
        "tGOIlnfYOmp2",
        "gkMNIPiwOqwn",
        "Q5Dtipx_OuNt",
        "uxkDslxjCNws",
        "KzJuEz70Bhr-",
        "NAlkqhinuihV",
        "xSjTasuduOFY",
        "hiKuJomt0TTS",
        "MDX5cVwyb0NK",
        "pGsGOLbfNsGu",
        "VRjgNFB8NyzP",
        "IdGvHDCSOBQ_",
        "EW63W4G-UUyq",
        "xx8yb6EBVDr5",
        "FD65zK71VV_L",
        "zrMfrN0XV_iz"
      ],
      "include_colab_link": true
    }
  },
  "nbformat": 4,
  "nbformat_minor": 5
}