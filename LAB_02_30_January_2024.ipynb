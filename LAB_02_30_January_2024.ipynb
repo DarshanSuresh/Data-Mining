{
  "cells": [
    {
      "cell_type": "markdown",
      "metadata": {
        "id": "view-in-github",
        "colab_type": "text"
      },
      "source": [
        "<a href=\"https://colab.research.google.com/github/DarshanSuresh/Data-Mining/blob/main/LAB_02_30_January_2024.ipynb\" target=\"_parent\"><img src=\"https://colab.research.google.com/assets/colab-badge.svg\" alt=\"Open In Colab\"/></a>"
      ]
    },
    {
      "cell_type": "markdown",
      "id": "jNk27lbbpRvM",
      "metadata": {
        "id": "jNk27lbbpRvM"
      },
      "source": [
        "# LAB 02 - 30 January 2024"
      ]
    },
    {
      "cell_type": "code",
      "source": [
        "import pandas as pd\n",
        "import numpy as np\n",
        "\n",
        "df = pd.read_excel('age.xlsx')\n",
        "print(df)"
      ],
      "metadata": {
        "id": "NjJf68T2yJp4"
      },
      "id": "NjJf68T2yJp4",
      "execution_count": null,
      "outputs": []
    },
    {
      "cell_type": "markdown",
      "id": "nBLeo5UWOReG",
      "metadata": {
        "id": "nBLeo5UWOReG"
      },
      "source": [
        "## Mean"
      ]
    },
    {
      "cell_type": "code",
      "execution_count": null,
      "id": "kqfv81MjpPVl",
      "metadata": {
        "colab": {
          "background_save": true,
          "base_uri": "https://localhost:8080/"
        },
        "id": "kqfv81MjpPVl",
        "outputId": "af354804-78fb-461b-a01e-7607477695ca"
      },
      "outputs": [
        {
          "name": "stdout",
          "output_type": "stream",
          "text": [
            "age    30.703704\n",
            "dtype: float64\n"
          ]
        }
      ],
      "source": [
        "mean1= df.mean()\n",
        "print(mean1)"
      ]
    },
    {
      "cell_type": "markdown",
      "id": "upd5HNGcOUmt",
      "metadata": {
        "id": "upd5HNGcOUmt"
      },
      "source": [
        "## Median"
      ]
    },
    {
      "cell_type": "code",
      "execution_count": null,
      "id": "jBy67KuLrlLq",
      "metadata": {
        "colab": {
          "background_save": true,
          "base_uri": "https://localhost:8080/"
        },
        "id": "jBy67KuLrlLq",
        "outputId": "c7e865b3-c50a-4b42-dced-e459da610963"
      },
      "outputs": [
        {
          "name": "stdout",
          "output_type": "stream",
          "text": [
            "age    30.0\n",
            "dtype: float64\n"
          ]
        }
      ],
      "source": [
        "median1= df.median()\n",
        "print(median1)"
      ]
    },
    {
      "cell_type": "markdown",
      "id": "qb35T9KWOYY_",
      "metadata": {
        "id": "qb35T9KWOYY_"
      },
      "source": [
        "## Mode"
      ]
    },
    {
      "cell_type": "code",
      "execution_count": null,
      "id": "YWy875WBrpXB",
      "metadata": {
        "colab": {
          "background_save": true,
          "base_uri": "https://localhost:8080/"
        },
        "id": "YWy875WBrpXB",
        "outputId": "c3f122e9-bb41-43f5-a383-c7d9c20c824f"
      },
      "outputs": [
        {
          "name": "stdout",
          "output_type": "stream",
          "text": [
            "   age\n",
            "0   25\n",
            "1   35\n"
          ]
        }
      ],
      "source": [
        "mode1= df.mode()\n",
        "print(mode1)"
      ]
    },
    {
      "cell_type": "markdown",
      "id": "Vh3EBTiOObr-",
      "metadata": {
        "id": "Vh3EBTiOObr-"
      },
      "source": [
        "## Minimum"
      ]
    },
    {
      "cell_type": "code",
      "execution_count": null,
      "id": "R9gqkr2Crtd0",
      "metadata": {
        "colab": {
          "background_save": true,
          "base_uri": "https://localhost:8080/"
        },
        "id": "R9gqkr2Crtd0",
        "outputId": "7c627d23-5b05-4323-a960-b73fb10b49d1"
      },
      "outputs": [
        {
          "name": "stdout",
          "output_type": "stream",
          "text": [
            "age    13\n",
            "dtype: int64\n"
          ]
        }
      ],
      "source": [
        "minimum=df.min()\n",
        "print(minimum)"
      ]
    },
    {
      "cell_type": "markdown",
      "id": "qjniW1TBOdzG",
      "metadata": {
        "id": "qjniW1TBOdzG"
      },
      "source": [
        "## Maximum"
      ]
    },
    {
      "cell_type": "code",
      "execution_count": null,
      "id": "bNdBN4nUsOC_",
      "metadata": {
        "colab": {
          "background_save": true,
          "base_uri": "https://localhost:8080/"
        },
        "id": "bNdBN4nUsOC_",
        "outputId": "fcd7c544-7c96-4bba-fb74-c813664c6050"
      },
      "outputs": [
        {
          "name": "stdout",
          "output_type": "stream",
          "text": [
            "age    70\n",
            "dtype: int64\n"
          ]
        }
      ],
      "source": [
        "max= df.max()\n",
        "print(max)"
      ]
    },
    {
      "cell_type": "markdown",
      "id": "gytt5l9gOf6e",
      "metadata": {
        "id": "gytt5l9gOf6e"
      },
      "source": [
        "## Variance"
      ]
    },
    {
      "cell_type": "code",
      "execution_count": null,
      "id": "5c7d85cb",
      "metadata": {
        "colab": {
          "background_save": true,
          "base_uri": "https://localhost:8080/"
        },
        "id": "5c7d85cb",
        "outputId": "ef8630a1-eec4-448f-de70-3096b45c5671"
      },
      "outputs": [
        {
          "name": "stdout",
          "output_type": "stream",
          "text": [
            "age    168.524217\n",
            "dtype: float64\n"
          ]
        }
      ],
      "source": [
        "variance=df.var()\n",
        "print(variance)"
      ]
    },
    {
      "cell_type": "markdown",
      "id": "5AktvqpAOidN",
      "metadata": {
        "id": "5AktvqpAOidN"
      },
      "source": [
        "## ST Deviation"
      ]
    },
    {
      "cell_type": "code",
      "execution_count": null,
      "id": "bEu6mNiusYZu",
      "metadata": {
        "colab": {
          "background_save": true,
          "base_uri": "https://localhost:8080/"
        },
        "id": "bEu6mNiusYZu",
        "outputId": "a2e46b4f-773f-4604-8492-d05d3a00049e"
      },
      "outputs": [
        {
          "name": "stdout",
          "output_type": "stream",
          "text": [
            "age    12.981688\n",
            "dtype: float64\n"
          ]
        }
      ],
      "source": [
        "stdev=df.std()\n",
        "print(stdev)"
      ]
    },
    {
      "cell_type": "markdown",
      "id": "tGOIlnfYOmp2",
      "metadata": {
        "id": "tGOIlnfYOmp2"
      },
      "source": [
        "## Coeff Variance"
      ]
    },
    {
      "cell_type": "code",
      "execution_count": null,
      "id": "5o-EBna8sbFm",
      "metadata": {
        "colab": {
          "background_save": true,
          "base_uri": "https://localhost:8080/"
        },
        "id": "5o-EBna8sbFm",
        "outputId": "adb58ef3-393c-4dc2-fe49-0f802def6283"
      },
      "outputs": [
        {
          "name": "stdout",
          "output_type": "stream",
          "text": [
            "age    42.280527\n",
            "dtype: float64\n"
          ]
        }
      ],
      "source": [
        "coeff_var = (stdev / mean1) * 100\n",
        "print(coeff_var)"
      ]
    },
    {
      "cell_type": "markdown",
      "id": "gkMNIPiwOqwn",
      "metadata": {
        "id": "gkMNIPiwOqwn"
      },
      "source": [
        "## Quantile"
      ]
    },
    {
      "cell_type": "code",
      "execution_count": null,
      "id": "eobE_FBdsenr",
      "metadata": {
        "colab": {
          "background_save": true,
          "base_uri": "https://localhost:8080/",
          "height": 143
        },
        "id": "eobE_FBdsenr",
        "outputId": "5cbff4fd-6e9e-4d28-f78d-7361501b3287"
      },
      "outputs": [
        {
          "data": {
            "application/vnd.google.colaboratory.intrinsic+json": {
              "summary": "{\n  \"name\": \"df\",\n  \"rows\": 3,\n  \"fields\": [\n    {\n      \"column\": \"age\",\n      \"properties\": {\n        \"dtype\": \"number\",\n        \"std\": 7.32006375199925,\n        \"min\": 21.0,\n        \"max\": 35.5,\n        \"num_unique_values\": 3,\n        \"samples\": [\n          21.0,\n          30.0,\n          35.5\n        ],\n        \"semantic_type\": \"\",\n        \"description\": \"\"\n      }\n    }\n  ]\n}",
              "type": "dataframe"
            },
            "text/html": [
              "\n",
              "  <div id=\"df-4e1b9ea9-d73e-4fd8-97f4-f3df9abe88f6\" class=\"colab-df-container\">\n",
              "    <div>\n",
              "<style scoped>\n",
              "    .dataframe tbody tr th:only-of-type {\n",
              "        vertical-align: middle;\n",
              "    }\n",
              "\n",
              "    .dataframe tbody tr th {\n",
              "        vertical-align: top;\n",
              "    }\n",
              "\n",
              "    .dataframe thead th {\n",
              "        text-align: right;\n",
              "    }\n",
              "</style>\n",
              "<table border=\"1\" class=\"dataframe\">\n",
              "  <thead>\n",
              "    <tr style=\"text-align: right;\">\n",
              "      <th></th>\n",
              "      <th>age</th>\n",
              "    </tr>\n",
              "  </thead>\n",
              "  <tbody>\n",
              "    <tr>\n",
              "      <th>0.25</th>\n",
              "      <td>21.0</td>\n",
              "    </tr>\n",
              "    <tr>\n",
              "      <th>0.50</th>\n",
              "      <td>30.0</td>\n",
              "    </tr>\n",
              "    <tr>\n",
              "      <th>0.75</th>\n",
              "      <td>35.5</td>\n",
              "    </tr>\n",
              "  </tbody>\n",
              "</table>\n",
              "</div>\n",
              "    <div class=\"colab-df-buttons\">\n",
              "\n",
              "  <div class=\"colab-df-container\">\n",
              "    <button class=\"colab-df-convert\" onclick=\"convertToInteractive('df-4e1b9ea9-d73e-4fd8-97f4-f3df9abe88f6')\"\n",
              "            title=\"Convert this dataframe to an interactive table.\"\n",
              "            style=\"display:none;\">\n",
              "\n",
              "  <svg xmlns=\"http://www.w3.org/2000/svg\" height=\"24px\" viewBox=\"0 -960 960 960\">\n",
              "    <path d=\"M120-120v-720h720v720H120Zm60-500h600v-160H180v160Zm220 220h160v-160H400v160Zm0 220h160v-160H400v160ZM180-400h160v-160H180v160Zm440 0h160v-160H620v160ZM180-180h160v-160H180v160Zm440 0h160v-160H620v160Z\"/>\n",
              "  </svg>\n",
              "    </button>\n",
              "\n",
              "  <style>\n",
              "    .colab-df-container {\n",
              "      display:flex;\n",
              "      gap: 12px;\n",
              "    }\n",
              "\n",
              "    .colab-df-convert {\n",
              "      background-color: #E8F0FE;\n",
              "      border: none;\n",
              "      border-radius: 50%;\n",
              "      cursor: pointer;\n",
              "      display: none;\n",
              "      fill: #1967D2;\n",
              "      height: 32px;\n",
              "      padding: 0 0 0 0;\n",
              "      width: 32px;\n",
              "    }\n",
              "\n",
              "    .colab-df-convert:hover {\n",
              "      background-color: #E2EBFA;\n",
              "      box-shadow: 0px 1px 2px rgba(60, 64, 67, 0.3), 0px 1px 3px 1px rgba(60, 64, 67, 0.15);\n",
              "      fill: #174EA6;\n",
              "    }\n",
              "\n",
              "    .colab-df-buttons div {\n",
              "      margin-bottom: 4px;\n",
              "    }\n",
              "\n",
              "    [theme=dark] .colab-df-convert {\n",
              "      background-color: #3B4455;\n",
              "      fill: #D2E3FC;\n",
              "    }\n",
              "\n",
              "    [theme=dark] .colab-df-convert:hover {\n",
              "      background-color: #434B5C;\n",
              "      box-shadow: 0px 1px 3px 1px rgba(0, 0, 0, 0.15);\n",
              "      filter: drop-shadow(0px 1px 2px rgba(0, 0, 0, 0.3));\n",
              "      fill: #FFFFFF;\n",
              "    }\n",
              "  </style>\n",
              "\n",
              "    <script>\n",
              "      const buttonEl =\n",
              "        document.querySelector('#df-4e1b9ea9-d73e-4fd8-97f4-f3df9abe88f6 button.colab-df-convert');\n",
              "      buttonEl.style.display =\n",
              "        google.colab.kernel.accessAllowed ? 'block' : 'none';\n",
              "\n",
              "      async function convertToInteractive(key) {\n",
              "        const element = document.querySelector('#df-4e1b9ea9-d73e-4fd8-97f4-f3df9abe88f6');\n",
              "        const dataTable =\n",
              "          await google.colab.kernel.invokeFunction('convertToInteractive',\n",
              "                                                    [key], {});\n",
              "        if (!dataTable) return;\n",
              "\n",
              "        const docLinkHtml = 'Like what you see? Visit the ' +\n",
              "          '<a target=\"_blank\" href=https://colab.research.google.com/notebooks/data_table.ipynb>data table notebook</a>'\n",
              "          + ' to learn more about interactive tables.';\n",
              "        element.innerHTML = '';\n",
              "        dataTable['output_type'] = 'display_data';\n",
              "        await google.colab.output.renderOutput(dataTable, element);\n",
              "        const docLink = document.createElement('div');\n",
              "        docLink.innerHTML = docLinkHtml;\n",
              "        element.appendChild(docLink);\n",
              "      }\n",
              "    </script>\n",
              "  </div>\n",
              "\n",
              "\n",
              "<div id=\"df-e715c757-5f73-48b4-b697-9c3fa6650960\">\n",
              "  <button class=\"colab-df-quickchart\" onclick=\"quickchart('df-e715c757-5f73-48b4-b697-9c3fa6650960')\"\n",
              "            title=\"Suggest charts\"\n",
              "            style=\"display:none;\">\n",
              "\n",
              "<svg xmlns=\"http://www.w3.org/2000/svg\" height=\"24px\"viewBox=\"0 0 24 24\"\n",
              "     width=\"24px\">\n",
              "    <g>\n",
              "        <path d=\"M19 3H5c-1.1 0-2 .9-2 2v14c0 1.1.9 2 2 2h14c1.1 0 2-.9 2-2V5c0-1.1-.9-2-2-2zM9 17H7v-7h2v7zm4 0h-2V7h2v10zm4 0h-2v-4h2v4z\"/>\n",
              "    </g>\n",
              "</svg>\n",
              "  </button>\n",
              "\n",
              "<style>\n",
              "  .colab-df-quickchart {\n",
              "      --bg-color: #E8F0FE;\n",
              "      --fill-color: #1967D2;\n",
              "      --hover-bg-color: #E2EBFA;\n",
              "      --hover-fill-color: #174EA6;\n",
              "      --disabled-fill-color: #AAA;\n",
              "      --disabled-bg-color: #DDD;\n",
              "  }\n",
              "\n",
              "  [theme=dark] .colab-df-quickchart {\n",
              "      --bg-color: #3B4455;\n",
              "      --fill-color: #D2E3FC;\n",
              "      --hover-bg-color: #434B5C;\n",
              "      --hover-fill-color: #FFFFFF;\n",
              "      --disabled-bg-color: #3B4455;\n",
              "      --disabled-fill-color: #666;\n",
              "  }\n",
              "\n",
              "  .colab-df-quickchart {\n",
              "    background-color: var(--bg-color);\n",
              "    border: none;\n",
              "    border-radius: 50%;\n",
              "    cursor: pointer;\n",
              "    display: none;\n",
              "    fill: var(--fill-color);\n",
              "    height: 32px;\n",
              "    padding: 0;\n",
              "    width: 32px;\n",
              "  }\n",
              "\n",
              "  .colab-df-quickchart:hover {\n",
              "    background-color: var(--hover-bg-color);\n",
              "    box-shadow: 0 1px 2px rgba(60, 64, 67, 0.3), 0 1px 3px 1px rgba(60, 64, 67, 0.15);\n",
              "    fill: var(--button-hover-fill-color);\n",
              "  }\n",
              "\n",
              "  .colab-df-quickchart-complete:disabled,\n",
              "  .colab-df-quickchart-complete:disabled:hover {\n",
              "    background-color: var(--disabled-bg-color);\n",
              "    fill: var(--disabled-fill-color);\n",
              "    box-shadow: none;\n",
              "  }\n",
              "\n",
              "  .colab-df-spinner {\n",
              "    border: 2px solid var(--fill-color);\n",
              "    border-color: transparent;\n",
              "    border-bottom-color: var(--fill-color);\n",
              "    animation:\n",
              "      spin 1s steps(1) infinite;\n",
              "  }\n",
              "\n",
              "  @keyframes spin {\n",
              "    0% {\n",
              "      border-color: transparent;\n",
              "      border-bottom-color: var(--fill-color);\n",
              "      border-left-color: var(--fill-color);\n",
              "    }\n",
              "    20% {\n",
              "      border-color: transparent;\n",
              "      border-left-color: var(--fill-color);\n",
              "      border-top-color: var(--fill-color);\n",
              "    }\n",
              "    30% {\n",
              "      border-color: transparent;\n",
              "      border-left-color: var(--fill-color);\n",
              "      border-top-color: var(--fill-color);\n",
              "      border-right-color: var(--fill-color);\n",
              "    }\n",
              "    40% {\n",
              "      border-color: transparent;\n",
              "      border-right-color: var(--fill-color);\n",
              "      border-top-color: var(--fill-color);\n",
              "    }\n",
              "    60% {\n",
              "      border-color: transparent;\n",
              "      border-right-color: var(--fill-color);\n",
              "    }\n",
              "    80% {\n",
              "      border-color: transparent;\n",
              "      border-right-color: var(--fill-color);\n",
              "      border-bottom-color: var(--fill-color);\n",
              "    }\n",
              "    90% {\n",
              "      border-color: transparent;\n",
              "      border-bottom-color: var(--fill-color);\n",
              "    }\n",
              "  }\n",
              "</style>\n",
              "\n",
              "  <script>\n",
              "    async function quickchart(key) {\n",
              "      const quickchartButtonEl =\n",
              "        document.querySelector('#' + key + ' button');\n",
              "      quickchartButtonEl.disabled = true;  // To prevent multiple clicks.\n",
              "      quickchartButtonEl.classList.add('colab-df-spinner');\n",
              "      try {\n",
              "        const charts = await google.colab.kernel.invokeFunction(\n",
              "            'suggestCharts', [key], {});\n",
              "      } catch (error) {\n",
              "        console.error('Error during call to suggestCharts:', error);\n",
              "      }\n",
              "      quickchartButtonEl.classList.remove('colab-df-spinner');\n",
              "      quickchartButtonEl.classList.add('colab-df-quickchart-complete');\n",
              "    }\n",
              "    (() => {\n",
              "      let quickchartButtonEl =\n",
              "        document.querySelector('#df-e715c757-5f73-48b4-b697-9c3fa6650960 button');\n",
              "      quickchartButtonEl.style.display =\n",
              "        google.colab.kernel.accessAllowed ? 'block' : 'none';\n",
              "    })();\n",
              "  </script>\n",
              "</div>\n",
              "\n",
              "    </div>\n",
              "  </div>\n"
            ],
            "text/plain": [
              "       age\n",
              "0.25  21.0\n",
              "0.50  30.0\n",
              "0.75  35.5"
            ]
          },
          "execution_count": 14,
          "metadata": {},
          "output_type": "execute_result"
        }
      ],
      "source": [
        "df.quantile([.25,.5,.75])"
      ]
    },
    {
      "cell_type": "code",
      "execution_count": null,
      "id": "yN52UyiEsh8p",
      "metadata": {
        "colab": {
          "background_save": true,
          "base_uri": "https://localhost:8080/"
        },
        "id": "yN52UyiEsh8p",
        "outputId": "31105027-e892-4095-f284-9c029111d023"
      },
      "outputs": [
        {
          "name": "stdout",
          "output_type": "stream",
          "text": [
            "       age\n",
            "0.25  21.0\n"
          ]
        }
      ],
      "source": [
        "q1=df.quantile([.25])\n",
        "print(q1)"
      ]
    },
    {
      "cell_type": "code",
      "execution_count": null,
      "id": "_x-FkNB8sj22",
      "metadata": {
        "colab": {
          "background_save": true,
          "base_uri": "https://localhost:8080/"
        },
        "id": "_x-FkNB8sj22",
        "outputId": "303eb045-9af1-4f7d-9fc6-3386ce4ed4c0"
      },
      "outputs": [
        {
          "name": "stdout",
          "output_type": "stream",
          "text": [
            "      age\n",
            "0.5  30.0\n"
          ]
        }
      ],
      "source": [
        "q2=df.quantile([.5])\n",
        "print(q2)"
      ]
    },
    {
      "cell_type": "code",
      "execution_count": null,
      "id": "dY7hmaLDsmDB",
      "metadata": {
        "colab": {
          "background_save": true,
          "base_uri": "https://localhost:8080/"
        },
        "id": "dY7hmaLDsmDB",
        "outputId": "6dc77b36-f8ca-4495-8553-28f6c358683d"
      },
      "outputs": [
        {
          "name": "stdout",
          "output_type": "stream",
          "text": [
            "       age\n",
            "0.75  35.5\n"
          ]
        }
      ],
      "source": [
        "q3=df.quantile([.75])\n",
        "print(q3)"
      ]
    },
    {
      "cell_type": "markdown",
      "id": "Q5Dtipx_OuNt",
      "metadata": {
        "id": "Q5Dtipx_OuNt"
      },
      "source": [
        "## Boxplot"
      ]
    },
    {
      "cell_type": "code",
      "execution_count": null,
      "id": "uU8Ck1r6soSK",
      "metadata": {
        "colab": {
          "background_save": true,
          "base_uri": "https://localhost:8080/",
          "height": 573
        },
        "id": "uU8Ck1r6soSK",
        "outputId": "2f6910ec-de54-429c-d13b-47bd7fc4984b"
      },
      "outputs": [
        {
          "data": {
            "text/plain": [
              "{'whiskers': [<matplotlib.lines.Line2D at 0x7fa1aa95abc0>,\n",
              "  <matplotlib.lines.Line2D at 0x7fa1aa95ae60>],\n",
              " 'caps': [<matplotlib.lines.Line2D at 0x7fa1aa95b100>,\n",
              "  <matplotlib.lines.Line2D at 0x7fa1aa95b3a0>],\n",
              " 'boxes': [<matplotlib.lines.Line2D at 0x7fa1aa95a920>],\n",
              " 'medians': [<matplotlib.lines.Line2D at 0x7fa1aa95b640>],\n",
              " 'fliers': [<matplotlib.lines.Line2D at 0x7fa1aa95b8e0>],\n",
              " 'means': []}"
            ]
          },
          "execution_count": 18,
          "metadata": {},
          "output_type": "execute_result"
        },
        {
          "data": {
            "image/png": "[encoded data removed]",
            "text/plain": [
              "<Figure size 640x480 with 1 Axes>"
            ]
          },
          "metadata": {},
          "output_type": "display_data"
        }
      ],
      "source": [
        "import matplotlib.pyplot as plt\n",
        "plt.boxplot(df)"
      ]
    }
  ],
  "metadata": {
    "colab": {
      "collapsed_sections": [
        "jNk27lbbpRvM",
        "62o2btp2pjWZ",
        "hiKuJomt0TTS",
        "icr8vZ2KI0WL",
        "cvSP__z9I8x_",
        "vvZvzM1lNiPe",
        "5hWwB0iTN9uh"
      ],
      "provenance": [],
      "include_colab_link": true
    },
    "kernelspec": {
      "display_name": "Python 3",
      "name": "python3"
    },
    "language_info": {
      "codemirror_mode": {
        "name": "ipython",
        "version": 3
      },
      "file_extension": ".py",
      "mimetype": "text/x-python",
      "name": "python",
      "nbconvert_exporter": "python",
      "pygments_lexer": "ipython3",
      "version": "3.8.8"
    }
  },
  "nbformat": 4,
  "nbformat_minor": 5
}