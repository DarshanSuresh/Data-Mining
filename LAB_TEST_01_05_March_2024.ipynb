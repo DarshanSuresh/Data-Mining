{
  "cells": [
    {
      "cell_type": "markdown",
      "metadata": {
        "id": "view-in-github",
        "colab_type": "text"
      },
      "source": [
        "<a href=\"https://colab.research.google.com/github/DarshanSuresh/Data-Mining/blob/main/LAB_TEST_01_05_March_2024.ipynb\" target=\"_parent\"><img src=\"https://colab.research.google.com/assets/colab-badge.svg\" alt=\"Open In Colab\"/></a>"
      ]
    },
    {
      "cell_type": "markdown",
      "id": "vvZvzM1lNiPe",
      "metadata": {
        "id": "vvZvzM1lNiPe"
      },
      "source": [
        "# LAB TEST 01 - 05 March 2024"
      ]
    },
    {
      "cell_type": "markdown",
      "id": "_nGrWKblOFnK",
      "metadata": {
        "id": "_nGrWKblOFnK"
      },
      "source": []
    }
  ],
  "metadata": {
    "colab": {
      "collapsed_sections": [
        "jNk27lbbpRvM",
        "62o2btp2pjWZ",
        "hiKuJomt0TTS",
        "icr8vZ2KI0WL",
        "cvSP__z9I8x_",
        "vvZvzM1lNiPe",
        "5hWwB0iTN9uh"
      ],
      "provenance": [],
      "toc_visible": true,
      "include_colab_link": true
    },
    "kernelspec": {
      "display_name": "Python 3",
      "name": "python3"
    },
    "language_info": {
      "codemirror_mode": {
        "name": "ipython",
        "version": 3
      },
      "file_extension": ".py",
      "mimetype": "text/x-python",
      "name": "python",
      "nbconvert_exporter": "python",
      "pygments_lexer": "ipython3",
      "version": "3.8.8"
    }
  },
  "nbformat": 4,
  "nbformat_minor": 5
}