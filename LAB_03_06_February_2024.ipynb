{
  "cells": [
    {
      "cell_type": "markdown",
      "metadata": {
        "id": "view-in-github",
        "colab_type": "text"
      },
      "source": [
        "<a href=\"https://colab.research.google.com/github/DarshanSuresh/Data-Mining/blob/main/LAB_03_06_February_2024.ipynb\" target=\"_parent\"><img src=\"https://colab.research.google.com/assets/colab-badge.svg\" alt=\"Open In Colab\"/></a>"
      ]
    },
    {
      "cell_type": "markdown",
      "id": "62o2btp2pjWZ",
      "metadata": {
        "id": "62o2btp2pjWZ"
      },
      "source": [
        "# LAB 03 - 06 February 2024"
      ]
    },
    {
      "cell_type": "markdown",
      "id": "uxkDslxjCNws",
      "metadata": {
        "id": "uxkDslxjCNws"
      },
      "source": [
        "## Equal frequency binning"
      ]
    },
    {
      "cell_type": "code",
      "execution_count": 2,
      "id": "4e1c3447",
      "metadata": {
        "colab": {
          "base_uri": "https://localhost:8080/"
        },
        "id": "4e1c3447",
        "outputId": "1a0af583-d7db-46b8-baf3-e9a5b8175f48"
      },
      "outputs": [
        {
          "output_type": "stream",
          "name": "stdout",
          "text": [
            "Equal frequency binning\n",
            "Bin 1 : [5, 10, 11, 13]\n",
            "Bin 2 : [15, 35, 50, 55]\n",
            "Bin 3 : [72, 92, 204, 215]\n"
          ]
        }
      ],
      "source": [
        "def equifreq(arr1, m):\n",
        "    a = len(arr1)\n",
        "    n = int(a / m)\n",
        "    for i in range(0, m):\n",
        "        arr = []\n",
        "        for j in range(i * n, (i + 1) * n):\n",
        "            if j >= a:\n",
        "                break\n",
        "            arr = arr + [arr1[j]]\n",
        "        print(\"Bin\", i+1, \":\", arr)\n",
        "\n",
        "data = [5, 10, 11, 13, 15, 35, 50, 55, 72, 92, 204, 215]\n",
        "\n",
        "m = 3\n",
        "\n",
        "print(\"Equal frequency binning\")\n",
        "equifreq(data, m)"
      ]
    },
    {
      "cell_type": "markdown",
      "id": "nmms0qnvCTnl",
      "metadata": {
        "id": "nmms0qnvCTnl"
      },
      "source": [
        "## Bin using cut"
      ]
    },
    {
      "cell_type": "code",
      "execution_count": 3,
      "id": "wCUkVlhKBuUW",
      "metadata": {
        "colab": {
          "base_uri": "https://localhost:8080/"
        },
        "id": "wCUkVlhKBuUW",
        "outputId": "15a13ad1-47b5-403f-b167-bed121bdfc78"
      },
      "outputs": [
        {
          "output_type": "stream",
          "name": "stdout",
          "text": [
            "    num Example_Bin\n",
            "0     5        0-25\n",
            "1    10        0-25\n",
            "2    11        0-25\n",
            "3    13        0-25\n",
            "4    15        0-25\n",
            "5    35       25-50\n",
            "6    50       25-50\n",
            "7    55       50-75\n",
            "8    72       50-75\n",
            "9    92      75-100\n",
            "10  204        200+\n",
            "11  215        200+\n"
          ]
        }
      ],
      "source": [
        "import pandas as pd\n",
        "\n",
        "data = [5, 10, 11, 13, 15, 35, 50, 55, 72, 92, 204, 215]\n",
        "\n",
        "df = pd.DataFrame({'num': data})\n",
        "\n",
        "df['Example_Bin'] = pd.cut(df['num'],\n",
        "                       bins=[0, 25, 50, 75, 100, 125, 150, 175, 200, 225],\n",
        "                       labels=['0-25', '25-50', '50-75', '75-100', '100-125', '125-150', '150-175','175-200','200+'])\n",
        "\n",
        "print(df)\n"
      ]
    },
    {
      "cell_type": "markdown",
      "id": "KzJuEz70Bhr-",
      "metadata": {
        "id": "KzJuEz70Bhr-"
      },
      "source": [
        "## Age DataSet - Equal frequency binning"
      ]
    },
    {
      "cell_type": "code",
      "execution_count": 5,
      "id": "dkjeXCWOwGhq",
      "metadata": {
        "colab": {
          "base_uri": "https://localhost:8080/"
        },
        "id": "dkjeXCWOwGhq",
        "outputId": "a34e98d9-6aaf-4bce-c37d-4f32690c7978"
      },
      "outputs": [
        {
          "output_type": "stream",
          "name": "stdout",
          "text": [
            "Equal frequency binning for Age\n",
            "Bin 1 : [33, 33, 13, 15, 35]\n",
            "Bin 2 : [35, 35, 35, 16, 16]\n",
            "Bin 3 : [19, 20, 20, 36, 40]\n",
            "Bin 4 : [41, 22, 22, 45, 46]\n",
            "Bin 5 : [25, 25, 25, 25, 52]\n"
          ]
        }
      ],
      "source": [
        "import pandas as pd\n",
        "\n",
        "def equifreq(arr1, m):\n",
        "    a = len(arr1)\n",
        "    n = int(a / m)\n",
        "    for i in range(0, m):\n",
        "        arr = []\n",
        "        for j in range(i * n, (i + 1) * n):\n",
        "            if j >= a:\n",
        "                break\n",
        "            arr = arr + [arr1[j]]\n",
        "        print(\"Bin\", i+1, \":\", arr)\n",
        "\n",
        "data = pd.read_excel('age.xlsx')\n",
        "\n",
        "print(\"Equal frequency binning for Age\")\n",
        "equifreq(data['age'], 5)"
      ]
    },
    {
      "cell_type": "markdown",
      "id": "b35hmfAgBdBB",
      "metadata": {
        "id": "b35hmfAgBdBB"
      },
      "source": [
        "## Age DataSet - Bin using cut"
      ]
    },
    {
      "cell_type": "code",
      "execution_count": 6,
      "id": "b2a989f3",
      "metadata": {
        "colab": {
          "base_uri": "https://localhost:8080/"
        },
        "id": "b2a989f3",
        "outputId": "7bfbabff-d4bf-4b5f-87c2-98e05ee91d1c"
      },
      "outputs": [
        {
          "output_type": "stream",
          "name": "stdout",
          "text": [
            "   age Age_Bin\n",
            "0   33   25-35\n",
            "1   33   25-35\n",
            "2   13    0-18\n",
            "3   15    0-18\n",
            "4   35   25-35\n"
          ]
        }
      ],
      "source": [
        "import pandas as pd\n",
        "\n",
        "data = pd.read_excel('age.xlsx')\n",
        "\n",
        "data['Age_Bin'] = pd.cut(data['age'],\n",
        "bins=[0, 18, 25, 35, 50, 65, 100],\n",
        "labels=['0-18','18-25','25-35','35-50','50-65','65+'])\n",
        "\n",
        "print(data.head())"
      ]
    },
    {
      "cell_type": "markdown",
      "id": "NAlkqhinuihV",
      "metadata": {
        "id": "NAlkqhinuihV"
      },
      "source": [
        "## Iris DataSet - Equal frequency binning"
      ]
    },
    {
      "cell_type": "code",
      "execution_count": 7,
      "id": "oJ4NQd2uutWG",
      "metadata": {
        "colab": {
          "base_uri": "https://localhost:8080/"
        },
        "id": "oJ4NQd2uutWG",
        "outputId": "54951c07-fb14-47aa-d26d-5938cacb54eb"
      },
      "outputs": [
        {
          "output_type": "stream",
          "name": "stdout",
          "text": [
            "Equal frequency binning for sepal_length\n",
            "Bin 1 : [5.1, 4.9, 4.7, 4.6, 5.0, 5.4, 4.6, 5.0, 4.4, 4.9]\n",
            "Bin 2 : [5.4, 4.8, 4.8, 4.3, 5.8, 5.7, 5.4, 5.1, 5.7, 5.1]\n",
            "Bin 3 : [5.4, 5.1, 4.6, 5.1, 4.8, 5.0, 5.0, 5.2, 5.2, 4.7]\n",
            "Bin 4 : [4.8, 5.4, 5.2, 5.5, 4.9, 5.0, 5.5, 4.9, 4.4, 5.1]\n",
            "Bin 5 : [5.0, 4.5, 4.4, 5.0, 5.1, 4.8, 5.1, 4.6, 5.3, 5.0]\n",
            "Bin 6 : [7.0, 6.4, 6.9, 5.5, 6.5, 5.7, 6.3, 4.9, 6.6, 5.2]\n",
            "Bin 7 : [5.0, 5.9, 6.0, 6.1, 5.6, 6.7, 5.6, 5.8, 6.2, 5.6]\n",
            "Bin 8 : [5.9, 6.1, 6.3, 6.1, 6.4, 6.6, 6.8, 6.7, 6.0, 5.7]\n",
            "Bin 9 : [5.5, 5.5, 5.8, 6.0, 5.4, 6.0, 6.7, 6.3, 5.6, 5.5]\n",
            "Bin 10 : [5.5, 6.1, 5.8, 5.0, 5.6, 5.7, 5.7, 6.2, 5.1, 5.7]\n",
            "Bin 11 : [6.3, 5.8, 7.1, 6.3, 6.5, 7.6, 4.9, 7.3, 6.7, 7.2]\n",
            "Bin 12 : [6.5, 6.4, 6.8, 5.7, 5.8, 6.4, 6.5, 7.7, 7.7, 6.0]\n",
            "Bin 13 : [6.9, 5.6, 7.7, 6.3, 6.7, 7.2, 6.2, 6.1, 6.4, 7.2]\n",
            "Bin 14 : [7.4, 7.9, 6.4, 6.3, 6.1, 7.7, 6.3, 6.4, 6.0, 6.9]\n",
            "Bin 15 : [6.7, 6.9, 5.8, 6.8, 6.7, 6.7, 6.3, 6.5, 6.2, 5.9]\n"
          ]
        }
      ],
      "source": [
        "import pandas as pd\n",
        "\n",
        "def equifreq(arr1, m):\n",
        "    a = len(arr1)\n",
        "    n = int(a / m)\n",
        "    for i in range(0, m):\n",
        "        arr = []\n",
        "        for j in range(i * n, (i + 1) * n):\n",
        "            if j >= a:\n",
        "                break\n",
        "            arr = arr + [arr1[j]]\n",
        "        print(\"Bin\", i+1, \":\", arr)\n",
        "\n",
        "data = pd.read_excel('iris.xlsx')\n",
        "\n",
        "print(\"Equal frequency binning for sepal_length\")\n",
        "equifreq(data['sepal_length'], 15)\n"
      ]
    },
    {
      "cell_type": "code",
      "execution_count": 8,
      "id": "L6GylUrZvOUR",
      "metadata": {
        "colab": {
          "base_uri": "https://localhost:8080/"
        },
        "id": "L6GylUrZvOUR",
        "outputId": "49d2e401-167d-4700-fa17-aeb9e06671b3"
      },
      "outputs": [
        {
          "output_type": "stream",
          "name": "stdout",
          "text": [
            "Equal frequency binning for sepal_width\n",
            "Bin 1 : [3.5, 3.0, 3.2, 3.1, 3.6, 3.9, 3.4, 3.4, 2.9, 3.1]\n",
            "Bin 2 : [3.7, 3.4, 3.0, 3.0, 4.0, 4.4, 3.9, 3.5, 3.8, 3.8]\n",
            "Bin 3 : [3.4, 3.7, 3.6, 3.3, 3.4, 3.0, 3.4, 3.5, 3.4, 3.2]\n",
            "Bin 4 : [3.1, 3.4, 4.1, 4.2, 3.1, 3.2, 3.5, 3.1, 3.0, 3.4]\n",
            "Bin 5 : [3.5, 2.3, 3.2, 3.5, 3.8, 3.0, 3.8, 3.2, 3.7, 3.3]\n",
            "Bin 6 : [3.2, 3.2, 3.1, 2.3, 2.8, 2.8, 3.3, 2.4, 2.9, 2.7]\n",
            "Bin 7 : [2.0, 3.0, 2.2, 2.9, 2.9, 3.1, 3.0, 2.7, 2.2, 2.5]\n",
            "Bin 8 : [3.2, 2.8, 2.5, 2.8, 2.9, 3.0, 2.8, 3.0, 2.9, 2.6]\n",
            "Bin 9 : [2.4, 2.4, 2.7, 2.7, 3.0, 3.4, 3.1, 2.3, 3.0, 2.5]\n",
            "Bin 10 : [2.6, 3.0, 2.6, 2.3, 2.7, 3.0, 2.9, 2.9, 2.5, 2.8]\n",
            "Bin 11 : [3.3, 2.7, 3.0, 2.9, 3.0, 3.0, 2.5, 2.9, 2.5, 3.6]\n",
            "Bin 12 : [3.2, 2.7, 3.0, 2.5, 2.8, 3.2, 3.0, 3.8, 2.6, 2.2]\n",
            "Bin 13 : [3.2, 2.8, 2.8, 2.7, 3.3, 3.2, 2.8, 3.0, 2.8, 3.0]\n",
            "Bin 14 : [2.8, 3.8, 2.8, 2.8, 2.6, 3.0, 3.4, 3.1, 3.0, 3.1]\n",
            "Bin 15 : [3.1, 3.1, 2.7, 3.2, 3.3, 3.0, 2.5, 3.0, 3.4, 3.0]\n"
          ]
        }
      ],
      "source": [
        "import pandas as pd\n",
        "\n",
        "def equifreq(arr1, m):\n",
        "    a = len(arr1)\n",
        "    n = int(a / m)\n",
        "    for i in range(0, m):\n",
        "        arr = []\n",
        "        for j in range(i * n, (i + 1) * n):\n",
        "            if j >= a:\n",
        "                break\n",
        "            arr = arr + [arr1[j]]\n",
        "        print(\"Bin\", i+1, \":\", arr)\n",
        "\n",
        "data = pd.read_excel('iris.xlsx')\n",
        "\n",
        "print(\"Equal frequency binning for sepal_width\")\n",
        "equifreq(data['sepal_width'], 15)\n"
      ]
    },
    {
      "cell_type": "code",
      "execution_count": 9,
      "id": "1KhSniyYvsDv",
      "metadata": {
        "colab": {
          "base_uri": "https://localhost:8080/"
        },
        "id": "1KhSniyYvsDv",
        "outputId": "48e8ad4b-e838-4049-9b3e-789e81a05cb5"
      },
      "outputs": [
        {
          "output_type": "stream",
          "name": "stdout",
          "text": [
            "Equal frequency binning for petal_length\n",
            "Bin 1 : [1.4, 1.4, 1.4, 1.4, 1.3, 1.3, 1.5, 1.5, 1.4, 1.4, 1.7, 1.7, 1.4, 1.4, 1.5, 1.5, 1.4, 1.4, 1.5, 1.5]\n",
            "Bin 2 : [1.5, 1.5, 1.6, 1.6, 1.4, 1.4, 1.1, 1.1, 1.2, 1.2, 1.5, 1.5, 1.3, 1.3, 1.4, 1.4, 1.7, 1.7, 1.5, 1.5]\n",
            "Bin 3 : [1.7, 1.7, 1.5, 1.5, 1.0, 1.0, 1.7, 1.7, 1.9, 1.9, 1.6, 1.6, 1.6, 1.6, 1.5, 1.5, 1.4, 1.4, 1.6, 1.6]\n",
            "Bin 4 : [1.6, 1.6, 1.5, 1.5, 1.5, 1.5, 1.4, 1.4, 1.5, 1.5, 1.2, 1.2, 1.3, 1.3, 1.5, 1.5, 1.3, 1.3, 1.5, 1.5]\n",
            "Bin 5 : [1.3, 1.3, 1.3, 1.3, 1.3, 1.3, 1.6, 1.6, 1.9, 1.9, 1.4, 1.4, 1.6, 1.6, 1.4, 1.4, 1.5, 1.5, 1.4, 1.4]\n",
            "Bin 6 : [4.7, 4.7, 4.5, 4.5, 4.9, 4.9, 4.0, 4.0, 4.6, 4.6, 4.5, 4.5, 4.7, 4.7, 3.3, 3.3, 4.6, 4.6, 3.9, 3.9]\n",
            "Bin 7 : [3.5, 3.5, 4.2, 4.2, 4.0, 4.0, 4.7, 4.7, 3.6, 3.6, 4.4, 4.4, 4.5, 4.5, 4.1, 4.1, 4.5, 4.5, 3.9, 3.9]\n",
            "Bin 8 : [4.8, 4.8, 4.0, 4.0, 4.9, 4.9, 4.7, 4.7, 4.3, 4.3, 4.4, 4.4, 4.8, 4.8, 5.0, 5.0, 4.5, 4.5, 3.5, 3.5]\n",
            "Bin 9 : [3.8, 3.8, 3.7, 3.7, 3.9, 3.9, 5.1, 5.1, 4.5, 4.5, 4.5, 4.5, 4.7, 4.7, 4.4, 4.4, 4.1, 4.1, 4.0, 4.0]\n",
            "Bin 10 : [4.4, 4.4, 4.6, 4.6, 4.0, 4.0, 3.3, 3.3, 4.2, 4.2, 4.2, 4.2, 4.2, 4.2, 4.3, 4.3, 3.0, 3.0, 4.1, 4.1]\n",
            "Bin 11 : [6.0, 6.0, 5.1, 5.1, 5.9, 5.9, 5.6, 5.6, 5.8, 5.8, 6.6, 6.6, 4.5, 4.5, 6.3, 6.3, 5.8, 5.8, 6.1, 6.1]\n",
            "Bin 12 : [5.1, 5.1, 5.3, 5.3, 5.5, 5.5, 5.0, 5.0, 5.1, 5.1, 5.3, 5.3, 5.5, 5.5, 6.7, 6.7, 6.9, 6.9, 5.0, 5.0]\n",
            "Bin 13 : [5.7, 5.7, 4.9, 4.9, 6.7, 6.7, 4.9, 4.9, 5.7, 5.7, 6.0, 6.0, 4.8, 4.8, 4.9, 4.9, 5.6, 5.6, 5.8, 5.8]\n",
            "Bin 14 : [6.1, 6.1, 6.4, 6.4, 5.6, 5.6, 5.1, 5.1, 5.6, 5.6, 6.1, 6.1, 5.6, 5.6, 5.5, 5.5, 4.8, 4.8, 5.4, 5.4]\n",
            "Bin 15 : [5.6, 5.6, 5.1, 5.1, 5.1, 5.1, 5.9, 5.9, 5.7, 5.7, 5.2, 5.2, 5.0, 5.0, 5.2, 5.2, 5.4, 5.4, 5.1, 5.1]\n"
          ]
        }
      ],
      "source": [
        "import pandas as pd\n",
        "\n",
        "def equifreq(arr1, m):\n",
        "    a = len(arr1)\n",
        "    n = int(a / m)\n",
        "    for i in range(0, m):\n",
        "        arr = []\n",
        "        for j in range(i * n, (i + 1) * n):\n",
        "            if j >= a:\n",
        "                break\n",
        "            arr = arr + [arr1[j]]\n",
        "            arr = arr + [arr1[j]]\n",
        "        print(\"Bin\", i+1, \":\", arr)\n",
        "\n",
        "data = pd.read_excel('iris.xlsx')\n",
        "\n",
        "print(\"Equal frequency binning for petal_length\")\n",
        "equifreq(data['petal_length'], 15)\n"
      ]
    },
    {
      "cell_type": "code",
      "execution_count": 10,
      "id": "9BKLTRpDvs_M",
      "metadata": {
        "colab": {
          "base_uri": "https://localhost:8080/"
        },
        "id": "9BKLTRpDvs_M",
        "outputId": "dcf64198-d1db-4d48-bc5e-324597cdd3c8"
      },
      "outputs": [
        {
          "output_type": "stream",
          "name": "stdout",
          "text": [
            "Equal frequency binning for petal_width\n",
            "Bin 1 : [0.2, 0.2, 0.2, 0.2, 0.2, 0.4, 0.3, 0.2, 0.2, 0.1]\n",
            "Bin 2 : [0.2, 0.2, 0.1, 0.1, 0.2, 0.4, 0.4, 0.3, 0.3, 0.3]\n",
            "Bin 3 : [0.2, 0.4, 0.2, 0.5, 0.2, 0.2, 0.4, 0.2, 0.2, 0.2]\n",
            "Bin 4 : [0.2, 0.4, 0.1, 0.2, 0.1, 0.2, 0.2, 0.1, 0.2, 0.2]\n",
            "Bin 5 : [0.3, 0.3, 0.2, 0.6, 0.4, 0.3, 0.2, 0.2, 0.2, 0.2]\n",
            "Bin 6 : [1.4, 1.5, 1.5, 1.3, 1.5, 1.3, 1.6, 1.0, 1.3, 1.4]\n",
            "Bin 7 : [1.0, 1.5, 1.0, 1.4, 1.3, 1.4, 1.5, 1.0, 1.5, 1.1]\n",
            "Bin 8 : [1.8, 1.3, 1.5, 1.2, 1.3, 1.4, 1.4, 1.7, 1.5, 1.0]\n",
            "Bin 9 : [1.1, 1.0, 1.2, 1.6, 1.5, 1.6, 1.5, 1.3, 1.3, 1.3]\n",
            "Bin 10 : [1.2, 1.4, 1.2, 1.0, 1.3, 1.2, 1.3, 1.3, 1.1, 1.3]\n",
            "Bin 11 : [2.5, 1.9, 2.1, 1.8, 2.2, 2.1, 1.7, 1.8, 1.8, 2.5]\n",
            "Bin 12 : [2.0, 1.9, 2.1, 2.0, 2.4, 2.3, 1.8, 2.2, 2.3, 1.5]\n",
            "Bin 13 : [2.3, 2.0, 2.0, 1.8, 2.1, 1.8, 1.8, 1.8, 2.1, 1.6]\n",
            "Bin 14 : [1.9, 2.0, 2.2, 1.5, 1.4, 2.3, 2.4, 1.8, 1.8, 2.1]\n",
            "Bin 15 : [2.4, 2.3, 1.9, 2.3, 2.5, 2.3, 1.9, 2.0, 2.3, 1.8]\n"
          ]
        }
      ],
      "source": [
        "import pandas as pd\n",
        "\n",
        "def equifreq(arr1, m):\n",
        "    a = len(arr1)\n",
        "    n = int(a / m)\n",
        "    for i in range(0, m):\n",
        "        arr = []\n",
        "        for j in range(i * n, (i + 1) * n):\n",
        "            if j >= a:\n",
        "                break\n",
        "            arr = arr + [arr1[j]]\n",
        "        print(\"Bin\", i+1, \":\", arr)\n",
        "\n",
        "data = pd.read_excel('iris.xlsx')\n",
        "\n",
        "print(\"Equal frequency binning for petal_width\")\n",
        "equifreq(data['petal_width'], 15)\n"
      ]
    },
    {
      "cell_type": "markdown",
      "id": "xSjTasuduOFY",
      "metadata": {
        "id": "xSjTasuduOFY"
      },
      "source": [
        "## Iris DataSet - Bin using cut"
      ]
    },
    {
      "cell_type": "code",
      "execution_count": 11,
      "id": "a576a6a1",
      "metadata": {
        "colab": {
          "base_uri": "https://localhost:8080/"
        },
        "id": "a576a6a1",
        "outputId": "60738e35-cfd5-4d50-97c0-787016368f9c"
      },
      "outputs": [
        {
          "output_type": "stream",
          "name": "stdout",
          "text": [
            "     sepal_length sepal_bin\n",
            "0             5.1   5.0-5.5\n",
            "1             4.9   4.5-5.0\n",
            "2             4.7   4.5-5.0\n",
            "3             4.6   4.5-5.0\n",
            "4             5.0   4.5-5.0\n",
            "..            ...       ...\n",
            "145           6.7  6.5S-7.0\n",
            "146           6.3   6.0-6.5\n",
            "147           6.5   6.0-6.5\n",
            "148           6.2   6.0-6.5\n",
            "149           5.9   5.5-6.0\n",
            "\n",
            "[150 rows x 2 columns]\n"
          ]
        }
      ],
      "source": [
        "import pandas as pd\n",
        "\n",
        "data = pd.read_excel('iris.xlsx')\n",
        "\n",
        "data['sepal_bin'] = pd.cut(data['sepal_length'],\n",
        "bins=[4.5, 5.0, 5.5, 6.0, 6.5, 7.0, 7.5],\n",
        "labels=['4.5-5.0','5.0-5.5','5.5-6.0','6.0-6.5','6.5S-7.0','7.0+'])\n",
        "\n",
        "print(data[['sepal_length', 'sepal_bin']])"
      ]
    },
    {
      "cell_type": "code",
      "execution_count": 12,
      "id": "74ad0e99",
      "metadata": {
        "colab": {
          "base_uri": "https://localhost:8080/"
        },
        "id": "74ad0e99",
        "outputId": "7c6f3f24-15f3-4b3c-8852-db788027b7b9"
      },
      "outputs": [
        {
          "output_type": "stream",
          "name": "stdout",
          "text": [
            "     sepal_width sepal_bin\n",
            "0            3.5   3.0-3.5\n",
            "1            3.0   2.5-3.0\n",
            "2            3.2   3.0-3.5\n",
            "3            3.1   3.0-3.5\n",
            "4            3.6   3.5-4.0\n",
            "..           ...       ...\n",
            "145          3.0   2.5-3.0\n",
            "146          2.5   2.0-2.5\n",
            "147          3.0   2.5-3.0\n",
            "148          3.4   3.0-3.5\n",
            "149          3.0   2.5-3.0\n",
            "\n",
            "[150 rows x 2 columns]\n"
          ]
        }
      ],
      "source": [
        "import pandas as pd\n",
        "\n",
        "data = pd.read_excel('iris.xlsx')\n",
        "\n",
        "data['sepal_bin'] = pd.cut(data['sepal_width'],\n",
        "bins=[1.5, 2.0, 2.5, 3.0, 3.5, 4.0, 4.5],\n",
        "labels=['1.5-2.0','2.0-2.5','2.5-3.0','3.0-3.5','3.5-4.0','4.0+'])\n",
        "\n",
        "print(data[['sepal_width', 'sepal_bin']])"
      ]
    },
    {
      "cell_type": "code",
      "execution_count": 13,
      "id": "2c2c7390",
      "metadata": {
        "colab": {
          "base_uri": "https://localhost:8080/"
        },
        "id": "2c2c7390",
        "outputId": "95707a0f-e049-4fd3-9303-2914fa7da31f"
      },
      "outputs": [
        {
          "output_type": "stream",
          "name": "stdout",
          "text": [
            "     petal_length sepal_bin\n",
            "0             1.4   1.0-1.5\n",
            "1             1.4   1.0-1.5\n",
            "2             1.3   1.0-1.5\n",
            "3             1.5   1.0-1.5\n",
            "4             1.4   1.0-1.5\n",
            "..            ...       ...\n",
            "145           5.2   5.0-5.5\n",
            "146           5.0   4.5-5.0\n",
            "147           5.2   5.0-5.5\n",
            "148           5.4   5.0-5.5\n",
            "149           5.1   5.0-5.5\n",
            "\n",
            "[150 rows x 2 columns]\n"
          ]
        }
      ],
      "source": [
        "import pandas as pd\n",
        "\n",
        "data = pd.read_excel('iris.xlsx')\n",
        "\n",
        "data['sepal_bin'] = pd.cut(data['petal_length'],\n",
        "bins=[1.0, 1.5, 2.0, 2.5, 3.0, 3.5, 4.0, 4.5, 5.0, 5.5, 6.0],\n",
        "labels=['1.0-1.5','1.5-2.0','2.0-2.5','2.5-3.0','3.0-3.5','3.5-4.0','4.0-4.5','4.5-5.0','5.0-5.5','5.5+'])\n",
        "\n",
        "print(data[['petal_length', 'sepal_bin']])"
      ]
    },
    {
      "cell_type": "code",
      "execution_count": 14,
      "id": "82dd7823",
      "metadata": {
        "colab": {
          "base_uri": "https://localhost:8080/"
        },
        "id": "82dd7823",
        "outputId": "97093bf1-f3be-47b3-8e28-a6c0796a8d27"
      },
      "outputs": [
        {
          "output_type": "stream",
          "name": "stdout",
          "text": [
            "     petal_width sepal_bin\n",
            "0            0.2   0.0-0.5\n",
            "1            0.2   0.0-0.5\n",
            "2            0.2   0.0-0.5\n",
            "3            0.2   0.0-0.5\n",
            "4            0.2   0.0-0.5\n",
            "..           ...       ...\n",
            "145          2.3   2.0-2.5\n",
            "146          1.9   1.5-2.0\n",
            "147          2.0   1.5-2.0\n",
            "148          2.3   2.0-2.5\n",
            "149          1.8   1.5-2.0\n",
            "\n",
            "[150 rows x 2 columns]\n"
          ]
        }
      ],
      "source": [
        "import pandas as pd\n",
        "\n",
        "data = pd.read_excel('iris.xlsx')\n",
        "\n",
        "data['sepal_bin'] = pd.cut(data['petal_width'],\n",
        "bins = [0.0, 0.5, 1.0, 1.5, 2.0, 2.5, 3.0, 3.5],\n",
        "labels = ['0.0-0.5','0.5-1.0','1.0-1.5','1.5-2.0','2.0-2.5','2.5-3.0','3.0+'])\n",
        "\n",
        "print(data[['petal_width','sepal_bin']])"
      ]
    }
  ],
  "metadata": {
    "colab": {
      "collapsed_sections": [
        "jNk27lbbpRvM",
        "62o2btp2pjWZ",
        "hiKuJomt0TTS",
        "icr8vZ2KI0WL",
        "cvSP__z9I8x_",
        "vvZvzM1lNiPe",
        "5hWwB0iTN9uh"
      ],
      "provenance": [],
      "include_colab_link": true
    },
    "kernelspec": {
      "display_name": "Python 3",
      "name": "python3"
    },
    "language_info": {
      "codemirror_mode": {
        "name": "ipython",
        "version": 3
      },
      "file_extension": ".py",
      "mimetype": "text/x-python",
      "name": "python",
      "nbconvert_exporter": "python",
      "pygments_lexer": "ipython3",
      "version": "3.8.8"
    }
  },
  "nbformat": 4,
  "nbformat_minor": 5
}